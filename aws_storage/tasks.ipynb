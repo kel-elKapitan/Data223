{
 "cells": [
  {
   "attachments": {},
   "cell_type": "markdown",
   "metadata": {},
   "source": [
    "# uploading to a AWS bucket, assumes already completed authentication"
   ]
  },
  {
   "cell_type": "code",
   "execution_count": 1,
   "metadata": {},
   "outputs": [],
   "source": [
    "import boto3\n",
    "import pprint\n"
   ]
  },
  {
   "cell_type": "code",
   "execution_count": 2,
   "metadata": {},
   "outputs": [],
   "source": [
    "# create a client object\n",
    "\n",
    "s3_client = boto3.client('s3')\n",
    "s3_resource = boto3.resource('s3')\n",
    "\n"
   ]
  },
  {
   "cell_type": "code",
   "execution_count": 3,
   "metadata": {},
   "outputs": [
    {
     "name": "stdout",
     "output_type": "stream",
     "text": [
      "['asif-s-bucket',\n",
      " 'assessmentbackup',\n",
      " 'aws-logs-135928476890-eu-central-1',\n",
      " 'belal-tech201-python2',\n",
      " 'belal-tech201-python3',\n",
      " 'cyber10x-group1-bucket',\n",
      " 'data-eng-204-final-project',\n",
      " 'data-eng-210-final-project',\n",
      " 'data-eng-30-final-project-files',\n",
      " 'data-eng-31-final-project',\n",
      " 'data-eng-37-final-project',\n",
      " 'data-eng-project-master',\n",
      " 'data-eng-resources',\n",
      " 'data32-final-project-files',\n",
      " 'devops-bootcamp-shahrukh',\n",
      " 'devops-content',\n",
      " 'elasticbeanstalk-eu-west-1-135928476890',\n",
      " 'eng130-videos',\n",
      " 'graduate-market-analysis',\n",
      " 'imc.spartaglobal.academy',\n",
      " 'iotdatajoy2023',\n",
      " 'jenkins-build-test',\n",
      " 'kaki-udemy',\n",
      " 'kaki-work-space',\n",
      " 'profiles.spartaglobal.academy',\n",
      " 'profilesapp2020',\n",
      " 'ramon-tech201-pyfiles',\n",
      " 'sparta-backups',\n",
      " 'sparta-cyber-bucket',\n",
      " 'sparta-data',\n",
      " 'sparta-example-state',\n",
      " 'sparta-marketing',\n",
      " 'sparta-media',\n",
      " 'sparta-profiles',\n",
      " 'sparta-terraform-state',\n",
      " 'tech230-james-bucket',\n",
      " 'tech230-ramon1',\n",
      " 'tech230-shaleka-boto',\n",
      " 'tech230-shaleka-bucket',\n",
      " 'tech230-yj-bucket']\n"
     ]
    }
   ],
   "source": [
    "# save bucket names to a list\n",
    "\n",
    "response = s3_client.list_buckets()\n",
    "\n",
    "bucket_list = []\n",
    "for bucket in response['Buckets']:\n",
    "    bucket_list.append(bucket['Name'])\n",
    "\n",
    "# print bucket names    \n",
    "pprint.pprint(bucket_list)\n"
   ]
  },
  {
   "cell_type": "code",
   "execution_count": 17,
   "metadata": {},
   "outputs": [
    {
     "data": {
      "text/plain": [
       "{'ResponseMetadata': {'RequestId': 'RJDTBDAE0ZACTQ0M',\n",
       "  'HostId': 'DNhwiK/eDKsxwm964vxayxGCgqiS+WoyFRoWY7RitTvqRWNeUY81a94PJoGT/ovLA1kT7OwvmCc=',\n",
       "  'HTTPStatusCode': 200,\n",
       "  'HTTPHeaders': {'x-amz-id-2': 'DNhwiK/eDKsxwm964vxayxGCgqiS+WoyFRoWY7RitTvqRWNeUY81a94PJoGT/ovLA1kT7OwvmCc=',\n",
       "   'x-amz-request-id': 'RJDTBDAE0ZACTQ0M',\n",
       "   'date': 'Fri, 26 May 2023 13:45:16 GMT',\n",
       "   'x-amz-version-id': 'L6ucOdwryofHIowLwNFh3_D_.GCtu.5j',\n",
       "   'x-amz-server-side-encryption': 'AES256',\n",
       "   'etag': '\"1765de00564299f092a97538cc51f712\"',\n",
       "   'server': 'AmazonS3',\n",
       "   'content-length': '0'},\n",
       "  'RetryAttempts': 0},\n",
       " 'ETag': '\"1765de00564299f092a97538cc51f712\"',\n",
       " 'ServerSideEncryption': 'AES256',\n",
       " 'VersionId': 'L6ucOdwryofHIowLwNFh3_D_.GCtu.5j'}"
      ]
     },
     "execution_count": 17,
     "metadata": {},
     "output_type": "execute_result"
    }
   ],
   "source": [
    "# send a file to data-eng-resources bucket\n",
    "\n",
    "s3_resource.Object('data-eng-resources', 'aws.ipynb').put(Body=open('aws.ipynb', 'rb'))\n",
    "\n"
   ]
  },
  {
   "cell_type": "code",
   "execution_count": null,
   "metadata": {},
   "outputs": [],
   "source": [
    "# read a file from data-eng-resources bucket\n",
    "\n",
    "obj = s3_client.get_object(Bucket='data-eng-resources', Key='aws.ipynb')"
   ]
  },
  {
   "cell_type": "code",
   "execution_count": 21,
   "metadata": {},
   "outputs": [
    {
     "data": {
      "text/plain": [
       "{'ResponseMetadata': {'RequestId': 'J5BHFKJVFXPBA577',\n",
       "  'HostId': 'LEoWgvY3ARPENkYTzqxWD6tHkNgoU0K9IVxx4qv2IfUDe8iRuLWqslD88WtydorooUUyprxZjj0BzZApX20EKQ==',\n",
       "  'HTTPStatusCode': 200,\n",
       "  'HTTPHeaders': {'x-amz-id-2': 'LEoWgvY3ARPENkYTzqxWD6tHkNgoU0K9IVxx4qv2IfUDe8iRuLWqslD88WtydorooUUyprxZjj0BzZApX20EKQ==',\n",
       "   'x-amz-request-id': 'J5BHFKJVFXPBA577',\n",
       "   'date': 'Fri, 26 May 2023 13:51:29 GMT',\n",
       "   'x-amz-copy-source-version-id': 'Pb3HwAfMYCtOMR0WipNTWpZ_YLWLzVKS',\n",
       "   'x-amz-version-id': 'z9CnClbp.8oeIMB_4zIrX8A6geUx9gax',\n",
       "   'x-amz-server-side-encryption': 'AES256',\n",
       "   'content-type': 'application/xml',\n",
       "   'server': 'AmazonS3',\n",
       "   'content-length': '224'},\n",
       "  'RetryAttempts': 0},\n",
       " 'CopySourceVersionId': 'Pb3HwAfMYCtOMR0WipNTWpZ_YLWLzVKS',\n",
       " 'VersionId': 'z9CnClbp.8oeIMB_4zIrX8A6geUx9gax',\n",
       " 'ServerSideEncryption': 'AES256',\n",
       " 'CopyObjectResult': {'ETag': '\"1765de00564299f092a97538cc51f712\"',\n",
       "  'LastModified': datetime.datetime(2023, 5, 26, 13, 51, 29, tzinfo=tzutc())}}"
      ]
     },
     "execution_count": 21,
     "metadata": {},
     "output_type": "execute_result"
    }
   ],
   "source": [
    "# change the name of a file and copy into the same directory\n",
    "\n",
    "s3_resource.Object('data-eng-resources', 'this_is_a_change_of_name').copy_from(CopySource='data-eng-resources/aws.ipynb')\n"
   ]
  },
  {
   "cell_type": "code",
   "execution_count": 22,
   "metadata": {},
   "outputs": [
    {
     "data": {
      "text/plain": [
       "{'ResponseMetadata': {'RequestId': 'PNEGN9XE7ZQ8EVTW',\n",
       "  'HostId': 'VqpT7s09zqPIeK8RJMCjwJw3yO19TnloAw1uf2lemg0UqDVFL9t2jQhOOi+COPvmG/fnH/SU6mb2Z2JJCR0DTg==',\n",
       "  'HTTPStatusCode': 204,\n",
       "  'HTTPHeaders': {'x-amz-id-2': 'VqpT7s09zqPIeK8RJMCjwJw3yO19TnloAw1uf2lemg0UqDVFL9t2jQhOOi+COPvmG/fnH/SU6mb2Z2JJCR0DTg==',\n",
       "   'x-amz-request-id': 'PNEGN9XE7ZQ8EVTW',\n",
       "   'date': 'Fri, 26 May 2023 13:51:32 GMT',\n",
       "   'x-amz-version-id': 'SgmB31M1D_r9OezGa9rrJh0yhTFrk7ru',\n",
       "   'x-amz-delete-marker': 'true',\n",
       "   'server': 'AmazonS3'},\n",
       "  'RetryAttempts': 0},\n",
       " 'DeleteMarker': True,\n",
       " 'VersionId': 'SgmB31M1D_r9OezGa9rrJh0yhTFrk7ru'}"
      ]
     },
     "execution_count": 22,
     "metadata": {},
     "output_type": "execute_result"
    }
   ],
   "source": [
    "# change the name of a file in the bucket and delete the original file\n",
    "\n",
    "s3_resource.Object('data-eng-resources', 'my_aws.ipynb').copy_from(CopySource='data-eng-resources/aws.ipynb')\n",
    "s3_resource.Object('data-eng-resources', 'aws.ipynb').delete()\n",
    "\n"
   ]
  },
  {
   "cell_type": "code",
   "execution_count": 23,
   "metadata": {},
   "outputs": [
    {
     "data": {
      "text/plain": [
       "{'ResponseMetadata': {'RequestId': 'Z0ZC3T1Y2YP1FW1R',\n",
       "  'HostId': 'em6KanEul0nudcxN8qh6fC4SFOktPnJdQMv9MlkRM0YYhnpb7EUN9MZUdCdcg5N88pbXlYc8Ds8=',\n",
       "  'HTTPStatusCode': 200,\n",
       "  'HTTPHeaders': {'x-amz-id-2': 'em6KanEul0nudcxN8qh6fC4SFOktPnJdQMv9MlkRM0YYhnpb7EUN9MZUdCdcg5N88pbXlYc8Ds8=',\n",
       "   'x-amz-request-id': 'Z0ZC3T1Y2YP1FW1R',\n",
       "   'date': 'Fri, 26 May 2023 13:51:46 GMT',\n",
       "   'x-amz-copy-source-version-id': 'xfqlUhzlqUrzzVxe4GXNIm82nHG1a19O',\n",
       "   'x-amz-version-id': 'az3fgxgFKIuhgSbiXHn_vAVzhrDdcIuK',\n",
       "   'x-amz-server-side-encryption': 'AES256',\n",
       "   'content-type': 'application/xml',\n",
       "   'server': 'AmazonS3',\n",
       "   'content-length': '224'},\n",
       "  'RetryAttempts': 0},\n",
       " 'CopySourceVersionId': 'xfqlUhzlqUrzzVxe4GXNIm82nHG1a19O',\n",
       " 'VersionId': 'az3fgxgFKIuhgSbiXHn_vAVzhrDdcIuK',\n",
       " 'ServerSideEncryption': 'AES256',\n",
       " 'CopyObjectResult': {'ETag': '\"1765de00564299f092a97538cc51f712\"',\n",
       "  'LastModified': datetime.datetime(2023, 5, 26, 13, 51, 46, tzinfo=tzutc())}}"
      ]
     },
     "execution_count": 23,
     "metadata": {},
     "output_type": "execute_result"
    }
   ],
   "source": [
    "# change the name back to the original name\n",
    "\n",
    "s3_resource.Object('data-eng-resources', 'aws.ipynb').copy_from(CopySource='data-eng-resources/my_aws.ipynb')\n",
    "\n",
    "# delete the file with the changed name\n",
    "s3_resource.Object('data-eng-resources', 'my_aws.ipynb').delete()"
   ]
  },
  {
   "cell_type": "code",
   "execution_count": 24,
   "metadata": {},
   "outputs": [
    {
     "data": {
      "text/plain": [
       "{'ResponseMetadata': {'RequestId': 'XTXPXE4Z1J51B0AT',\n",
       "  'HostId': 'ajTmbAxlVOm7EkMOg4qHYeeo45FqYSU5IhcfgApxTflISiukCnPxtzlJ++tgnzxLhNvdY+gIaz8=',\n",
       "  'HTTPStatusCode': 200,\n",
       "  'HTTPHeaders': {'x-amz-id-2': 'ajTmbAxlVOm7EkMOg4qHYeeo45FqYSU5IhcfgApxTflISiukCnPxtzlJ++tgnzxLhNvdY+gIaz8=',\n",
       "   'x-amz-request-id': 'XTXPXE4Z1J51B0AT',\n",
       "   'date': 'Fri, 26 May 2023 13:51:50 GMT',\n",
       "   'x-amz-copy-source-version-id': 'az3fgxgFKIuhgSbiXHn_vAVzhrDdcIuK',\n",
       "   'x-amz-server-side-encryption': 'AES256',\n",
       "   'content-type': 'application/xml',\n",
       "   'server': 'AmazonS3',\n",
       "   'content-length': '224'},\n",
       "  'RetryAttempts': 0},\n",
       " 'CopySourceVersionId': 'az3fgxgFKIuhgSbiXHn_vAVzhrDdcIuK',\n",
       " 'ServerSideEncryption': 'AES256',\n",
       " 'CopyObjectResult': {'ETag': '\"1765de00564299f092a97538cc51f712\"',\n",
       "  'LastModified': datetime.datetime(2023, 5, 26, 13, 51, 50, tzinfo=tzutc())}}"
      ]
     },
     "execution_count": 24,
     "metadata": {},
     "output_type": "execute_result"
    }
   ],
   "source": [
    "# change the name of a file and save it to a different bucket\n",
    "\n",
    "s3_resource.Object('data-eng-project-master', 'DELETE_ME_this_is_in_the_wrong_place').copy_from(CopySource='data-eng-resources/aws.ipynb')\n"
   ]
  },
  {
   "cell_type": "code",
   "execution_count": 25,
   "metadata": {},
   "outputs": [
    {
     "data": {
      "text/plain": [
       "{'ResponseMetadata': {'RequestId': 'YJBAAS093GCJX8N5',\n",
       "  'HostId': '6EI2XM1Jeyvsx5ril8JGU988DAePxm9jyJH9h+KvJDOZ/0iiMk2057UfT5ygTrYDmSu/GWOLgRs=',\n",
       "  'HTTPStatusCode': 204,\n",
       "  'HTTPHeaders': {'x-amz-id-2': '6EI2XM1Jeyvsx5ril8JGU988DAePxm9jyJH9h+KvJDOZ/0iiMk2057UfT5ygTrYDmSu/GWOLgRs=',\n",
       "   'x-amz-request-id': 'YJBAAS093GCJX8N5',\n",
       "   'date': 'Fri, 26 May 2023 13:51:53 GMT',\n",
       "   'server': 'AmazonS3'},\n",
       "  'RetryAttempts': 0}}"
      ]
     },
     "execution_count": 25,
     "metadata": {},
     "output_type": "execute_result"
    }
   ],
   "source": [
    "# delete a file\n",
    "\n",
    "s3_resource.Object('data-eng-project-master', 'DELETE_ME_this_is_in_the_wrong_place').delete()\n"
   ]
  },
  {
   "cell_type": "code",
   "execution_count": 26,
   "metadata": {},
   "outputs": [
    {
     "data": {
      "text/plain": [
       "b'{\\n \"cells\": [\\n  {\\n   \"cell_type\": \"code\",\\n   \"execution_count\": 3,\\n   \"metadata\": {},\\n   \"outputs\": [],\\n   \"source\": [\\n    \"#!pip install boto3 \\\\n\",\\n    \"## is an sdk you can connect to aws services\\\\n\",\\n    \"\\\\n\",\\n    \"import boto3\\\\n\",\\n    \"import pprint\\\\n\"\\n   ]\\n  },\\n  {\\n   \"cell_type\": \"code\",\\n   \"execution_count\": 4,\\n   \"metadata\": {},\\n   \"outputs\": [],\\n   \"source\": [\\n    \"# low level client access tto s3\\\\n\",\\n    \"\\\\n\",\\n    \"# creating a client\\\\n\",\\n    \"s3_client = boto3.client(\\'s3\\')\\\\n\",\\n    \"s3_resource = boto3.resource(\\'s3\\')\\\\n\",\\n    \"\\\\n\",\\n    \"\\\\n\",\\n    \"\\\\n\",\\n    \"\\\\n\"\\n   ]\\n  },\\n  {\\n   \"cell_type\": \"code\",\\n   \"execution_count\": 6,\\n   \"metadata\": {},\\n   \"outputs\": [\\n    {\\n     \"name\": \"stdout\",\\n     \"output_type\": \"stream\",\\n     \"text\": [\\n      \"{\\'Buckets\\': [{\\'CreationDate\\': datetime.datetime(2020, 5, 27, 15, 37, 16, tzinfo=tzutc()),\\\\n\",\\n      \"              \\'Name\\': \\'assessmentbackup\\'},\\\\n\",\\n      \"             {\\'CreationDate\\': datetime.datetime(2022, 7, 14, 14, 39, 38, tzinfo=tzutc()),\\\\n\",\\n      \"              \\'Name\\': \\'aws-logs-135928476890-eu-central-1\\'},\\\\n\",\\n      \"             {\\'CreationDate\\': datetime.datetime(2023, 2, 20, 16, 50, 37, tzinfo=tzutc()),\\\\n\",\\n      \"              \\'Name\\': \\'belal-tech201-python2\\'},\\\\n\",\\n      \"             {\\'CreationDate\\': datetime.datetime(2023, 2, 20, 17, 56, 51, tzinfo=tzutc()),\\\\n\",\\n      \"              \\'Name\\': \\'belal-tech201-python3\\'},\\\\n\",\\n      \"             {\\'CreationDate\\': datetime.datetime(2022, 1, 26, 12, 22, 52, tzinfo=tzutc()),\\\\n\",\\n      \"              \\'Name\\': \\'cyber10x-group1-bucket\\'},\\\\n\",\\n      \"             {\\'CreationDate\\': datetime.datetime(2023, 2, 27, 9, 4, 22, tzinfo=tzutc()),\\\\n\",\\n      \"              \\'Name\\': \\'data-eng-204-final-project\\'},\\\\n\",\\n      \"             {\\'CreationDate\\': datetime.datetime(2023, 4, 4, 12, 40, 31, tzinfo=tzutc()),\\\\n\",\\n      \"              \\'Name\\': \\'data-eng-210-final-project\\'},\\\\n\",\\n      \"             {\\'CreationDate\\': datetime.datetime(2022, 7, 25, 14, 48, 8, tzinfo=tzutc()),\\\\n\",\\n      \"              \\'Name\\': \\'data-eng-30-final-project-files\\'},\\\\n\",\\n      \"             {\\'CreationDate\\': datetime.datetime(2022, 8, 12, 11, 39, 17, tzinfo=tzutc()),\\\\n\",\\n      \"              \\'Name\\': \\'data-eng-31-final-project\\'},\\\\n\",\\n      \"             {\\'CreationDate\\': datetime.datetime(2022, 6, 22, 16, 11, 37, tzinfo=tzutc()),\\\\n\",\\n      \"              \\'Name\\': \\'data-eng-37-final-project\\'},\\\\n\",\\n      \"             {\\'CreationDate\\': datetime.datetime(2020, 8, 21, 10, 0, 40, tzinfo=tzutc()),\\\\n\",\\n      \"              \\'Name\\': \\'data-eng-project-master\\'},\\\\n\",\\n      \"             {\\'CreationDate\\': datetime.datetime(2021, 5, 29, 9, 20, 43, tzinfo=tzutc()),\\\\n\",\\n      \"              \\'Name\\': \\'data-eng-resources\\'},\\\\n\",\\n      \"             {\\'CreationDate\\': datetime.datetime(2022, 9, 30, 10, 19, 32, tzinfo=tzutc()),\\\\n\",\\n      \"              \\'Name\\': \\'data32-final-project-files\\'},\\\\n\",\\n      \"             {\\'CreationDate\\': datetime.datetime(2021, 6, 15, 15, 46, 21, tzinfo=tzutc()),\\\\n\",\\n      \"              \\'Name\\': \\'devops-bootcamp-shahrukh\\'},\\\\n\",\\n      \"             {\\'CreationDate\\': datetime.datetime(2022, 3, 25, 11, 13, 10, tzinfo=tzutc()),\\\\n\",\\n      \"              \\'Name\\': \\'devops-content\\'},\\\\n\",\\n      \"             {\\'CreationDate\\': datetime.datetime(2020, 6, 24, 4, 6, 16, tzinfo=tzutc()),\\\\n\",\\n      \"              \\'Name\\': \\'elasticbeanstalk-eu-west-1-135928476890\\'},\\\\n\",\\n      \"             {\\'CreationDate\\': datetime.datetime(2022, 12, 2, 16, 17, 53, tzinfo=tzutc()),\\\\n\",\\n      \"              \\'Name\\': \\'eng130-videos\\'},\\\\n\",\\n      \"             {\\'CreationDate\\': datetime.datetime(2023, 4, 20, 15, 44, 21, tzinfo=tzutc()),\\\\n\",\\n      \"              \\'Name\\': \\'graduate-market-analysis\\'},\\\\n\",\\n      \"             {\\'CreationDate\\': datetime.datetime(2020, 6, 12, 0, 50, tzinfo=tzutc()),\\\\n\",\\n      \"              \\'Name\\': \\'imc.spartaglobal.academy\\'},\\\\n\",\\n      \"             {\\'CreationDate\\': datetime.datetime(2023, 5, 16, 13, 38, 35, tzinfo=tzutc()),\\\\n\",\\n      \"              \\'Name\\': \\'iotdatajoy2023\\'},\\\\n\",\\n      \"             {\\'CreationDate\\': datetime.datetime(2020, 6, 12, 0, 56, 53, tzinfo=tzutc()),\\\\n\",\\n      \"              \\'Name\\': \\'jenkins-build-test\\'},\\\\n\",\\n      \"             {\\'CreationDate\\': datetime.datetime(2022, 8, 18, 16, 18, 20, tzinfo=tzutc()),\\\\n\",\\n      \"              \\'Name\\': \\'kaki-udemy\\'},\\\\n\",\\n      \"             {\\'CreationDate\\': datetime.datetime(2022, 8, 18, 16, 12, 9, tzinfo=tzutc()),\\\\n\",\\n      \"              \\'Name\\': \\'kaki-work-space\\'},\\\\n\",\\n      \"             {\\'CreationDate\\': datetime.datetime(2020, 6, 12, 2, 0, 23, tzinfo=tzutc()),\\\\n\",\\n      \"              \\'Name\\': \\'profiles.spartaglobal.academy\\'},\\\\n\",\\n      \"             {\\'CreationDate\\': datetime.datetime(2020, 9, 7, 9, 56, 2, tzinfo=tzutc()),\\\\n\",\\n      \"              \\'Name\\': \\'profilesapp2020\\'},\\\\n\",\\n      \"             {\\'CreationDate\\': datetime.datetime(2023, 2, 20, 17, 44, 39, tzinfo=tzutc()),\\\\n\",\\n      \"              \\'Name\\': \\'ramon-tech201-pyfiles\\'},\\\\n\",\\n      \"             {\\'CreationDate\\': datetime.datetime(2020, 6, 25, 0, 51, 40, tzinfo=tzutc()),\\\\n\",\\n      \"              \\'Name\\': \\'sparta-backups\\'},\\\\n\",\\n      \"             {\\'CreationDate\\': datetime.datetime(2021, 5, 6, 8, 6, 33, tzinfo=tzutc()),\\\\n\",\\n      \"              \\'Name\\': \\'sparta-cyber-bucket\\'},\\\\n\",\\n      \"             {\\'CreationDate\\': datetime.datetime(2021, 4, 1, 11, 3, 27, tzinfo=tzutc()),\\\\n\",\\n      \"              \\'Name\\': \\'sparta-data\\'},\\\\n\",\\n      \"             {\\'CreationDate\\': datetime.datetime(2020, 6, 25, 0, 51, 41, tzinfo=tzutc()),\\\\n\",\\n      \"              \\'Name\\': \\'sparta-example-state\\'},\\\\n\",\\n      \"             {\\'CreationDate\\': datetime.datetime(2020, 12, 1, 11, 27, 57, tzinfo=tzutc()),\\\\n\",\\n      \"              \\'Name\\': \\'sparta-marketing\\'},\\\\n\",\\n      \"             {\\'CreationDate\\': datetime.datetime(2021, 3, 23, 23, 8, 11, tzinfo=tzutc()),\\\\n\",\\n      \"              \\'Name\\': \\'sparta-media\\'},\\\\n\",\\n      \"             {\\'CreationDate\\': datetime.datetime(2022, 6, 22, 16, 33, 1, tzinfo=tzutc()),\\\\n\",\\n      \"              \\'Name\\': \\'sparta-profiles\\'},\\\\n\",\\n      \"             {\\'CreationDate\\': datetime.datetime(2020, 6, 12, 2, 30, 18, tzinfo=tzutc()),\\\\n\",\\n      \"              \\'Name\\': \\'sparta-terraform-state\\'},\\\\n\",\\n      \"             {\\'CreationDate\\': datetime.datetime(2023, 5, 25, 15, 36, 11, tzinfo=tzutc()),\\\\n\",\\n      \"              \\'Name\\': \\'tech230-james-bucket\\'},\\\\n\",\\n      \"             {\\'CreationDate\\': datetime.datetime(2023, 5, 19, 12, 27, 54, tzinfo=tzutc()),\\\\n\",\\n      \"              \\'Name\\': \\'tech230-ramon1\\'},\\\\n\",\\n      \"             {\\'CreationDate\\': datetime.datetime(2023, 5, 26, 10, 29, 53, tzinfo=tzutc()),\\\\n\",\\n      \"              \\'Name\\': \\'tech230-shaleka-boto\\'},\\\\n\",\\n      \"             {\\'CreationDate\\': datetime.datetime(2023, 5, 26, 10, 52, 13, tzinfo=tzutc()),\\\\n\",\\n      \"              \\'Name\\': \\'tech230-shaleka-bucket\\'}],\\\\n\",\\n      \" \\'Owner\\': {\\'ID\\': \\'21beecfeb5241d34bf1e52dca44fa8534c6be64dc3aa074ff430d8c6dd890040\\'},\\\\n\",\\n      \" \\'ResponseMetadata\\': {\\'HTTPHeaders\\': {\\'content-type\\': \\'application/xml\\',\\\\n\",\\n      \"                                      \\'date\\': \\'Fri, 26 May 2023 12:08:50 GMT\\',\\\\n\",\\n      \"                                      \\'server\\': \\'AmazonS3\\',\\\\n\",\\n      \"                                      \\'transfer-encoding\\': \\'chunked\\',\\\\n\",\\n      \"                                      \\'x-amz-id-2\\': \\'+ET/IxHyqKBxELOLaejJ8PLawh+vvrPiAYgHFRqx/GZ5Iqmw8y1gkwggMU8UenbefnrhsPgSBHI=\\',\\\\n\",\\n      \"                                      \\'x-amz-request-id\\': \\'00A5RKC40FY7SXZ4\\'},\\\\n\",\\n      \"                      \\'HTTPStatusCode\\': 200,\\\\n\",\\n      \"                      \\'HostId\\': \\'+ET/IxHyqKBxELOLaejJ8PLawh+vvrPiAYgHFRqx/GZ5Iqmw8y1gkwggMU8UenbefnrhsPgSBHI=\\',\\\\n\",\\n      \"                      \\'RequestId\\': \\'00A5RKC40FY7SXZ4\\',\\\\n\",\\n      \"                      \\'RetryAttempts\\': 0}}\\\\n\",\\n      \"assessmentbackup\\\\n\",\\n      \"aws-logs-135928476890-eu-central-1\\\\n\",\\n      \"belal-tech201-python2\\\\n\",\\n      \"belal-tech201-python3\\\\n\",\\n      \"cyber10x-group1-bucket\\\\n\",\\n      \"data-eng-204-final-project\\\\n\",\\n      \"data-eng-210-final-project\\\\n\",\\n      \"data-eng-30-final-project-files\\\\n\",\\n      \"data-eng-31-final-project\\\\n\",\\n      \"data-eng-37-final-project\\\\n\",\\n      \"data-eng-project-master\\\\n\",\\n      \"data-eng-resources\\\\n\",\\n      \"data32-final-project-files\\\\n\",\\n      \"devops-bootcamp-shahrukh\\\\n\",\\n      \"devops-content\\\\n\",\\n      \"elasticbeanstalk-eu-west-1-135928476890\\\\n\",\\n      \"eng130-videos\\\\n\",\\n      \"graduate-market-analysis\\\\n\",\\n      \"imc.spartaglobal.academy\\\\n\",\\n      \"iotdatajoy2023\\\\n\",\\n      \"jenkins-build-test\\\\n\",\\n      \"kaki-udemy\\\\n\",\\n      \"kaki-work-space\\\\n\",\\n      \"profiles.spartaglobal.academy\\\\n\",\\n      \"profilesapp2020\\\\n\",\\n      \"ramon-tech201-pyfiles\\\\n\",\\n      \"sparta-backups\\\\n\",\\n      \"sparta-cyber-bucket\\\\n\",\\n      \"sparta-data\\\\n\",\\n      \"sparta-example-state\\\\n\",\\n      \"sparta-marketing\\\\n\",\\n      \"sparta-media\\\\n\",\\n      \"sparta-profiles\\\\n\",\\n      \"sparta-terraform-state\\\\n\",\\n      \"tech230-james-bucket\\\\n\",\\n      \"tech230-ramon1\\\\n\",\\n      \"tech230-shaleka-boto\\\\n\",\\n      \"tech230-shaleka-bucket\\\\n\"\\n     ]\\n    }\\n   ],\\n   \"source\": [\\n    \"# lets explore some buckets\\\\n\",\\n    \"# list all buckets\\\\n\",\\n    \"response = s3_client.list_buckets()\\\\n\",\\n    \"pprint.pprint(response)\\\\n\",\\n    \"\\\\n\",\\n    \"\\\\n\",\\n    \"#output the bucket names\\\\n\",\\n    \"for bucket in response[\\'Buckets\\']:\\\\n\",\\n    \"    print(bucket[\\'Name\\'])\\\\n\"\\n   ]\\n  },\\n  {\\n   \"cell_type\": \"code\",\\n   \"execution_count\": null,\\n   \"metadata\": {},\\n   \"outputs\": [],\\n   \"source\": []\\n  },\\n  {\\n   \"cell_type\": \"code\",\\n   \"execution_count\": null,\\n   \"metadata\": {},\\n   \"outputs\": [],\\n   \"source\": []\\n  },\\n  {\\n   \"cell_type\": \"code\",\\n   \"execution_count\": null,\\n   \"metadata\": {},\\n   \"outputs\": [],\\n   \"source\": []\\n  },\\n  {\\n   \"cell_type\": \"code\",\\n   \"execution_count\": null,\\n   \"metadata\": {},\\n   \"outputs\": [],\\n   \"source\": []\\n  },\\n  {\\n   \"cell_type\": \"code\",\\n   \"execution_count\": null,\\n   \"metadata\": {},\\n   \"outputs\": [],\\n   \"source\": []\\n  },\\n  {\\n   \"cell_type\": \"code\",\\n   \"execution_count\": null,\\n   \"metadata\": {},\\n   \"outputs\": [],\\n   \"source\": []\\n  }\\n ],\\n \"metadata\": {\\n  \"kernelspec\": {\\n   \"display_name\": \".venv\",\\n   \"language\": \"python\",\\n   \"name\": \"python3\"\\n  },\\n  \"language_info\": {\\n   \"codemirror_mode\": {\\n    \"name\": \"ipython\",\\n    \"version\": 3\\n   },\\n   \"file_extension\": \".py\",\\n   \"mimetype\": \"text/x-python\",\\n   \"name\": \"python\",\\n   \"nbconvert_exporter\": \"python\",\\n   \"pygments_lexer\": \"ipython3\",\\n   \"version\": \"3.10.11\"\\n  },\\n  \"orig_nbformat\": 4\\n },\\n \"nbformat\": 4,\\n \"nbformat_minor\": 2\\n}\\n'"
      ]
     },
     "execution_count": 26,
     "metadata": {},
     "output_type": "execute_result"
    }
   ],
   "source": [
    "# read the contents of a file\n",
    "\n",
    "obj = s3_client.get_object(Bucket='data-eng-resources', Key='aws.ipynb')\n",
    "obj['Body'].read()\n",
    "\n"
   ]
  },
  {
   "cell_type": "code",
   "execution_count": 27,
   "metadata": {},
   "outputs": [
    {
     "data": {
      "text/plain": [
       "{'ResponseMetadata': {'RequestId': '88ZN63B8JYMTWXZ8',\n",
       "  'HostId': 'fHH5RHV2SPybVwGTOAQJAmcYSWm4C9M1RhljpOv4/FizG0ePACSPAV8yficxNNgNh+PXzGvpvN1EIlEMd5AexA==',\n",
       "  'HTTPStatusCode': 204,\n",
       "  'HTTPHeaders': {'x-amz-id-2': 'fHH5RHV2SPybVwGTOAQJAmcYSWm4C9M1RhljpOv4/FizG0ePACSPAV8yficxNNgNh+PXzGvpvN1EIlEMd5AexA==',\n",
       "   'x-amz-request-id': '88ZN63B8JYMTWXZ8',\n",
       "   'date': 'Fri, 26 May 2023 13:51:59 GMT',\n",
       "   'x-amz-version-id': 'pdh761YZH1faxMxvNZsJDZEfs36DzjtB',\n",
       "   'x-amz-delete-marker': 'true',\n",
       "   'server': 'AmazonS3'},\n",
       "  'RetryAttempts': 0},\n",
       " 'DeleteMarker': True,\n",
       " 'VersionId': 'pdh761YZH1faxMxvNZsJDZEfs36DzjtB'}"
      ]
     },
     "execution_count": 27,
     "metadata": {},
     "output_type": "execute_result"
    }
   ],
   "source": [
    "# delete all the files i have created\n",
    "\n",
    "s3_resource.Object('data-eng-resources', 'this_is_a_change_of_name').delete()\n",
    "s3_resource.Object('data-eng-resources', 'my_aws.ipynb').delete()\n",
    "s3_resource.Object('data-eng-resources', 'aws.ipynb').delete()\n",
    "\n",
    "\n"
   ]
  },
  {
   "cell_type": "code",
   "execution_count": null,
   "metadata": {},
   "outputs": [],
   "source": []
  },
  {
   "cell_type": "code",
   "execution_count": null,
   "metadata": {},
   "outputs": [],
   "source": []
  }
 ],
 "metadata": {
  "kernelspec": {
   "display_name": ".venv",
   "language": "python",
   "name": "python3"
  },
  "language_info": {
   "codemirror_mode": {
    "name": "ipython",
    "version": 3
   },
   "file_extension": ".py",
   "mimetype": "text/x-python",
   "name": "python",
   "nbconvert_exporter": "python",
   "pygments_lexer": "ipython3",
   "version": "3.10.11"
  },
  "orig_nbformat": 4
 },
 "nbformat": 4,
 "nbformat_minor": 2
}
