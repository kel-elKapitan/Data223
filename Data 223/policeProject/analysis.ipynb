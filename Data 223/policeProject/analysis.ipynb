{
 "cells": [
  {
   "cell_type": "code",
   "execution_count": 1,
   "metadata": {},
   "outputs": [],
   "source": [
    "# import modules\n",
    "\n",
    "from google.cloud import storage\n",
    "import os\n",
    "import requests\n"
   ]
  },
  {
   "cell_type": "code",
   "execution_count": 2,
   "metadata": {},
   "outputs": [
    {
     "name": "stdout",
     "output_type": "stream",
     "text": [
      "kels_sparta\n"
     ]
    }
   ],
   "source": [
    "# Create a bucket on AWS or have one available\n",
    "# create a key file on GCP and download it to your local machine\n",
    "\n",
    "\n",
    "# create credentials object using th key file\n",
    "os.environ[\"GOOGLE_APPLICATION_CREDENTIALS\"] = \"../../../sparta-kel-f6854b3d717d.json\"\n",
    "# name of the bucket in GCP\n",
    "bucket_name = \"kels_sparta\"\n",
    "# create a client object to access the storage\n",
    "storage_client = storage.Client()\n",
    "\n",
    "\n",
    "# List all buckets\n",
    "for bucket in storage_client.list_buckets():\n",
    "    print(bucket.name)"
   ]
  },
  {
   "cell_type": "code",
   "execution_count": 3,
   "metadata": {},
   "outputs": [
    {
     "name": "stdout",
     "output_type": "stream",
     "text": [
      "3dragons.jpg\n",
      "500_dragons.jpg\n",
      "image_desc.txt\n"
     ]
    }
   ],
   "source": [
    "# list all blobs/files in the bucket\n",
    "blobs = storage_client.list_blobs(bucket_name)\n",
    "for blob in blobs:\n",
    "    print(blob.name)"
   ]
  },
  {
   "cell_type": "code",
   "execution_count": 13,
   "metadata": {},
   "outputs": [
    {
     "ename": "AttributeError",
     "evalue": "'Bucket' object has no attribute 'Blob'",
     "output_type": "error",
     "traceback": [
      "\u001b[1;31m---------------------------------------------------------------------------\u001b[0m",
      "\u001b[1;31mAttributeError\u001b[0m                            Traceback (most recent call last)",
      "Cell \u001b[1;32mIn[13], line 5\u001b[0m\n\u001b[0;32m      2\u001b[0m url \u001b[39m=\u001b[39m \u001b[39m\"\u001b[39m\u001b[39mhttps://stacks.stanford.edu/file/druid:yg821jf8611/yg821jf8611_tn_nashville_2020_04_01.csv.zip\u001b[39m\u001b[39m\"\u001b[39m\n\u001b[0;32m      4\u001b[0m r \u001b[39m=\u001b[39m requests\u001b[39m.\u001b[39mget(url)\n\u001b[1;32m----> 5\u001b[0m blob \u001b[39m=\u001b[39m bucket\u001b[39m.\u001b[39;49mBlob(\u001b[39m\"\u001b[39m\u001b[39mnashville.csv.zip\u001b[39m\u001b[39m\"\u001b[39m, storage_client\u001b[39m.\u001b[39mbucket(bucket_name))\n\u001b[0;32m      6\u001b[0m blob\u001b[39m.\u001b[39mupload_from_filename(r)\n\u001b[0;32m      9\u001b[0m \u001b[39m# # get the second dataset and send to GCP bucket\u001b[39;00m\n\u001b[0;32m     10\u001b[0m \u001b[39m# url = \"https://stacks.stanford.edu/file/druid:yg821jf8611/yg821jf8611_tn_statewide_2020_04_01.csv.zip\"\u001b[39;00m\n\u001b[0;32m     11\u001b[0m \n\u001b[0;32m     12\u001b[0m \u001b[39m# #r = requests.get(url)\u001b[39;00m\n\u001b[0;32m     13\u001b[0m \u001b[39m# blob = storage.Blob(\"statewide.csv.zip\", storage_client.bucket(bucket_name))\u001b[39;00m\n\u001b[0;32m     14\u001b[0m \u001b[39m# blob.upload_from_filename(url)\u001b[39;00m\n",
      "\u001b[1;31mAttributeError\u001b[0m: 'Bucket' object has no attribute 'Blob'"
     ]
    }
   ],
   "source": [
    "# make a request to stanford open policing project and save directly to GCP bucket\n",
    "url = \"https://stacks.stanford.edu/file/druid:yg821jf8611/yg821jf8611_tn_nashville_2020_04_01.csv.zip\"\n",
    "\n"
   ]
  },
  {
   "cell_type": "code",
   "execution_count": 6,
   "metadata": {},
   "outputs": [
    {
     "ename": "NotFound",
     "evalue": "404 GET https://storage.googleapis.com/download/storage/v1/b/kels_sparta/o/https%3A%2F%2Fstacks.stanford.edu%2Ffile%2Fdruid%3Ayg821jf8611%2Fyg821jf8611_tn_nashville_2020_04_01.csv.zip?alt=media: No such object: kels_sparta/https://stacks.stanford.edu/file/druid:yg821jf8611/yg821jf8611_tn_nashville_2020_04_01.csv.zip: ('Request failed with status code', 404, 'Expected one of', <HTTPStatus.OK: 200>, <HTTPStatus.PARTIAL_CONTENT: 206>)",
     "output_type": "error",
     "traceback": [
      "\u001b[1;31m---------------------------------------------------------------------------\u001b[0m",
      "\u001b[1;31mInvalidResponse\u001b[0m                           Traceback (most recent call last)",
      "File \u001b[1;32mc:\\Users\\mrkel\\Documents\\git\\.venv\\lib\\site-packages\\google\\cloud\\storage\\client.py:1092\u001b[0m, in \u001b[0;36mClient.download_blob_to_file\u001b[1;34m(self, blob_or_uri, file_obj, start, end, raw_download, if_etag_match, if_etag_not_match, if_generation_match, if_generation_not_match, if_metageneration_match, if_metageneration_not_match, timeout, checksum, retry)\u001b[0m\n\u001b[0;32m   1091\u001b[0m \u001b[39mtry\u001b[39;00m:\n\u001b[1;32m-> 1092\u001b[0m     blob_or_uri\u001b[39m.\u001b[39;49m_do_download(\n\u001b[0;32m   1093\u001b[0m         transport,\n\u001b[0;32m   1094\u001b[0m         file_obj,\n\u001b[0;32m   1095\u001b[0m         download_url,\n\u001b[0;32m   1096\u001b[0m         headers,\n\u001b[0;32m   1097\u001b[0m         start,\n\u001b[0;32m   1098\u001b[0m         end,\n\u001b[0;32m   1099\u001b[0m         raw_download,\n\u001b[0;32m   1100\u001b[0m         timeout\u001b[39m=\u001b[39;49mtimeout,\n\u001b[0;32m   1101\u001b[0m         checksum\u001b[39m=\u001b[39;49mchecksum,\n\u001b[0;32m   1102\u001b[0m         retry\u001b[39m=\u001b[39;49mretry,\n\u001b[0;32m   1103\u001b[0m     )\n\u001b[0;32m   1104\u001b[0m \u001b[39mexcept\u001b[39;00m resumable_media\u001b[39m.\u001b[39mInvalidResponse \u001b[39mas\u001b[39;00m exc:\n",
      "File \u001b[1;32mc:\\Users\\mrkel\\Documents\\git\\.venv\\lib\\site-packages\\google\\cloud\\storage\\blob.py:984\u001b[0m, in \u001b[0;36mBlob._do_download\u001b[1;34m(self, transport, file_obj, download_url, headers, start, end, raw_download, timeout, checksum, retry)\u001b[0m\n\u001b[0;32m    983\u001b[0m download\u001b[39m.\u001b[39m_retry_strategy \u001b[39m=\u001b[39m retry_strategy\n\u001b[1;32m--> 984\u001b[0m response \u001b[39m=\u001b[39m download\u001b[39m.\u001b[39;49mconsume(transport, timeout\u001b[39m=\u001b[39;49mtimeout)\n\u001b[0;32m    985\u001b[0m \u001b[39mself\u001b[39m\u001b[39m.\u001b[39m_extract_headers_from_download(response)\n",
      "File \u001b[1;32mc:\\Users\\mrkel\\Documents\\git\\.venv\\lib\\site-packages\\google\\resumable_media\\requests\\download.py:237\u001b[0m, in \u001b[0;36mDownload.consume\u001b[1;34m(self, transport, timeout)\u001b[0m\n\u001b[0;32m    235\u001b[0m     \u001b[39mreturn\u001b[39;00m result\n\u001b[1;32m--> 237\u001b[0m \u001b[39mreturn\u001b[39;00m _request_helpers\u001b[39m.\u001b[39;49mwait_and_retry(\n\u001b[0;32m    238\u001b[0m     retriable_request, \u001b[39mself\u001b[39;49m\u001b[39m.\u001b[39;49m_get_status_code, \u001b[39mself\u001b[39;49m\u001b[39m.\u001b[39;49m_retry_strategy\n\u001b[0;32m    239\u001b[0m )\n",
      "File \u001b[1;32mc:\\Users\\mrkel\\Documents\\git\\.venv\\lib\\site-packages\\google\\resumable_media\\requests\\_request_helpers.py:155\u001b[0m, in \u001b[0;36mwait_and_retry\u001b[1;34m(func, get_status_code, retry_strategy)\u001b[0m\n\u001b[0;32m    154\u001b[0m \u001b[39mtry\u001b[39;00m:\n\u001b[1;32m--> 155\u001b[0m     response \u001b[39m=\u001b[39m func()\n\u001b[0;32m    156\u001b[0m \u001b[39mexcept\u001b[39;00m _CONNECTION_ERROR_CLASSES \u001b[39mas\u001b[39;00m e:\n",
      "File \u001b[1;32mc:\\Users\\mrkel\\Documents\\git\\.venv\\lib\\site-packages\\google\\resumable_media\\requests\\download.py:219\u001b[0m, in \u001b[0;36mDownload.consume.<locals>.retriable_request\u001b[1;34m()\u001b[0m\n\u001b[0;32m    215\u001b[0m     \u001b[39mself\u001b[39m\u001b[39m.\u001b[39m_object_generation \u001b[39m=\u001b[39m _helpers\u001b[39m.\u001b[39m_parse_generation_header(\n\u001b[0;32m    216\u001b[0m         result, \u001b[39mself\u001b[39m\u001b[39m.\u001b[39m_get_headers\n\u001b[0;32m    217\u001b[0m     )\n\u001b[1;32m--> 219\u001b[0m \u001b[39mself\u001b[39;49m\u001b[39m.\u001b[39;49m_process_response(result)\n\u001b[0;32m    221\u001b[0m \u001b[39m# With decompressive transcoding, GCS serves back the whole file regardless of the range request,\u001b[39;00m\n\u001b[0;32m    222\u001b[0m \u001b[39m# thus we reset the stream position to the start of the stream.\u001b[39;00m\n\u001b[0;32m    223\u001b[0m \u001b[39m# See: https://cloud.google.com/storage/docs/transcoding#range\u001b[39;00m\n",
      "File \u001b[1;32mc:\\Users\\mrkel\\Documents\\git\\.venv\\lib\\site-packages\\google\\resumable_media\\_download.py:188\u001b[0m, in \u001b[0;36mDownload._process_response\u001b[1;34m(self, response)\u001b[0m\n\u001b[0;32m    187\u001b[0m \u001b[39mself\u001b[39m\u001b[39m.\u001b[39m_finished \u001b[39m=\u001b[39m \u001b[39mTrue\u001b[39;00m\n\u001b[1;32m--> 188\u001b[0m _helpers\u001b[39m.\u001b[39;49mrequire_status_code(\n\u001b[0;32m    189\u001b[0m     response, _ACCEPTABLE_STATUS_CODES, \u001b[39mself\u001b[39;49m\u001b[39m.\u001b[39;49m_get_status_code\n\u001b[0;32m    190\u001b[0m )\n",
      "File \u001b[1;32mc:\\Users\\mrkel\\Documents\\git\\.venv\\lib\\site-packages\\google\\resumable_media\\_helpers.py:108\u001b[0m, in \u001b[0;36mrequire_status_code\u001b[1;34m(response, status_codes, get_status_code, callback)\u001b[0m\n\u001b[0;32m    107\u001b[0m         callback()\n\u001b[1;32m--> 108\u001b[0m     \u001b[39mraise\u001b[39;00m common\u001b[39m.\u001b[39mInvalidResponse(\n\u001b[0;32m    109\u001b[0m         response,\n\u001b[0;32m    110\u001b[0m         \u001b[39m\"\u001b[39m\u001b[39mRequest failed with status code\u001b[39m\u001b[39m\"\u001b[39m,\n\u001b[0;32m    111\u001b[0m         status_code,\n\u001b[0;32m    112\u001b[0m         \u001b[39m\"\u001b[39m\u001b[39mExpected one of\u001b[39m\u001b[39m\"\u001b[39m,\n\u001b[0;32m    113\u001b[0m         \u001b[39m*\u001b[39mstatus_codes\n\u001b[0;32m    114\u001b[0m     )\n\u001b[0;32m    115\u001b[0m \u001b[39mreturn\u001b[39;00m status_code\n",
      "\u001b[1;31mInvalidResponse\u001b[0m: ('Request failed with status code', 404, 'Expected one of', <HTTPStatus.OK: 200>, <HTTPStatus.PARTIAL_CONTENT: 206>)",
      "\nDuring handling of the above exception, another exception occurred:\n",
      "\u001b[1;31mNotFound\u001b[0m                                  Traceback (most recent call last)",
      "Cell \u001b[1;32mIn[6], line 13\u001b[0m\n\u001b[0;32m     10\u001b[0m         blob_content \u001b[39m=\u001b[39m blob\u001b[39m.\u001b[39mdownload_to_file(source_blob_name)\n\u001b[0;32m     12\u001b[0m         \u001b[39mreturn\u001b[39;00m blob_content\n\u001b[1;32m---> 13\u001b[0m my_print \u001b[39m=\u001b[39m download_blob_as_string(bucket_name, \u001b[39m\"\u001b[39;49m\u001b[39mhttps://stacks.stanford.edu/file/druid:yg821jf8611/yg821jf8611_tn_nashville_2020_04_01.csv.zip\u001b[39;49m\u001b[39m\"\u001b[39;49m)\n\u001b[0;32m     16\u001b[0m \u001b[39mprint\u001b[39m(my_print)\n",
      "Cell \u001b[1;32mIn[6], line 10\u001b[0m, in \u001b[0;36mdownload_blob_as_string\u001b[1;34m(bucket_name, source_blob_name)\u001b[0m\n\u001b[0;32m      7\u001b[0m bucket \u001b[39m=\u001b[39m storage_client\u001b[39m.\u001b[39mbucket(bucket_name)\n\u001b[0;32m      8\u001b[0m blob \u001b[39m=\u001b[39m bucket\u001b[39m.\u001b[39mblob(source_blob_name)\n\u001b[1;32m---> 10\u001b[0m blob_content \u001b[39m=\u001b[39m blob\u001b[39m.\u001b[39;49mdownload_to_file(source_blob_name)\n\u001b[0;32m     12\u001b[0m \u001b[39mreturn\u001b[39;00m blob_content\n",
      "File \u001b[1;32mc:\\Users\\mrkel\\Documents\\git\\.venv\\lib\\site-packages\\google\\cloud\\storage\\blob.py:1129\u001b[0m, in \u001b[0;36mBlob.download_to_file\u001b[1;34m(self, file_obj, client, start, end, raw_download, if_etag_match, if_etag_not_match, if_generation_match, if_generation_not_match, if_metageneration_match, if_metageneration_not_match, timeout, checksum, retry)\u001b[0m\n\u001b[0;32m   1027\u001b[0m \u001b[39m\u001b[39m\u001b[39m\"\"\"Download the contents of this blob into a file-like object.\u001b[39;00m\n\u001b[0;32m   1028\u001b[0m \n\u001b[0;32m   1029\u001b[0m \u001b[39m.. note::\u001b[39;00m\n\u001b[1;32m   (...)\u001b[0m\n\u001b[0;32m   1125\u001b[0m \u001b[39m:raises: :class:`google.cloud.exceptions.NotFound`\u001b[39;00m\n\u001b[0;32m   1126\u001b[0m \u001b[39m\"\"\"\u001b[39;00m\n\u001b[0;32m   1127\u001b[0m client \u001b[39m=\u001b[39m \u001b[39mself\u001b[39m\u001b[39m.\u001b[39m_require_client(client)\n\u001b[1;32m-> 1129\u001b[0m client\u001b[39m.\u001b[39;49mdownload_blob_to_file(\n\u001b[0;32m   1130\u001b[0m     \u001b[39mself\u001b[39;49m,\n\u001b[0;32m   1131\u001b[0m     file_obj\u001b[39m=\u001b[39;49mfile_obj,\n\u001b[0;32m   1132\u001b[0m     start\u001b[39m=\u001b[39;49mstart,\n\u001b[0;32m   1133\u001b[0m     end\u001b[39m=\u001b[39;49mend,\n\u001b[0;32m   1134\u001b[0m     raw_download\u001b[39m=\u001b[39;49mraw_download,\n\u001b[0;32m   1135\u001b[0m     if_etag_match\u001b[39m=\u001b[39;49mif_etag_match,\n\u001b[0;32m   1136\u001b[0m     if_etag_not_match\u001b[39m=\u001b[39;49mif_etag_not_match,\n\u001b[0;32m   1137\u001b[0m     if_generation_match\u001b[39m=\u001b[39;49mif_generation_match,\n\u001b[0;32m   1138\u001b[0m     if_generation_not_match\u001b[39m=\u001b[39;49mif_generation_not_match,\n\u001b[0;32m   1139\u001b[0m     if_metageneration_match\u001b[39m=\u001b[39;49mif_metageneration_match,\n\u001b[0;32m   1140\u001b[0m     if_metageneration_not_match\u001b[39m=\u001b[39;49mif_metageneration_not_match,\n\u001b[0;32m   1141\u001b[0m     timeout\u001b[39m=\u001b[39;49mtimeout,\n\u001b[0;32m   1142\u001b[0m     checksum\u001b[39m=\u001b[39;49mchecksum,\n\u001b[0;32m   1143\u001b[0m     retry\u001b[39m=\u001b[39;49mretry,\n\u001b[0;32m   1144\u001b[0m )\n",
      "File \u001b[1;32mc:\\Users\\mrkel\\Documents\\git\\.venv\\lib\\site-packages\\google\\cloud\\storage\\client.py:1105\u001b[0m, in \u001b[0;36mClient.download_blob_to_file\u001b[1;34m(self, blob_or_uri, file_obj, start, end, raw_download, if_etag_match, if_etag_not_match, if_generation_match, if_generation_not_match, if_metageneration_match, if_metageneration_not_match, timeout, checksum, retry)\u001b[0m\n\u001b[0;32m   1092\u001b[0m     blob_or_uri\u001b[39m.\u001b[39m_do_download(\n\u001b[0;32m   1093\u001b[0m         transport,\n\u001b[0;32m   1094\u001b[0m         file_obj,\n\u001b[1;32m   (...)\u001b[0m\n\u001b[0;32m   1102\u001b[0m         retry\u001b[39m=\u001b[39mretry,\n\u001b[0;32m   1103\u001b[0m     )\n\u001b[0;32m   1104\u001b[0m \u001b[39mexcept\u001b[39;00m resumable_media\u001b[39m.\u001b[39mInvalidResponse \u001b[39mas\u001b[39;00m exc:\n\u001b[1;32m-> 1105\u001b[0m     _raise_from_invalid_response(exc)\n",
      "File \u001b[1;32mc:\\Users\\mrkel\\Documents\\git\\.venv\\lib\\site-packages\\google\\cloud\\storage\\blob.py:4369\u001b[0m, in \u001b[0;36m_raise_from_invalid_response\u001b[1;34m(error)\u001b[0m\n\u001b[0;32m   4365\u001b[0m     error_message \u001b[39m=\u001b[39m \u001b[39mstr\u001b[39m(error)\n\u001b[0;32m   4367\u001b[0m message \u001b[39m=\u001b[39m \u001b[39mf\u001b[39m\u001b[39m\"\u001b[39m\u001b[39m{\u001b[39;00mresponse\u001b[39m.\u001b[39mrequest\u001b[39m.\u001b[39mmethod\u001b[39m}\u001b[39;00m\u001b[39m \u001b[39m\u001b[39m{\u001b[39;00mresponse\u001b[39m.\u001b[39mrequest\u001b[39m.\u001b[39murl\u001b[39m}\u001b[39;00m\u001b[39m: \u001b[39m\u001b[39m{\u001b[39;00merror_message\u001b[39m}\u001b[39;00m\u001b[39m\"\u001b[39m\n\u001b[1;32m-> 4369\u001b[0m \u001b[39mraise\u001b[39;00m exceptions\u001b[39m.\u001b[39mfrom_http_status(response\u001b[39m.\u001b[39mstatus_code, message, response\u001b[39m=\u001b[39mresponse)\n",
      "\u001b[1;31mNotFound\u001b[0m: 404 GET https://storage.googleapis.com/download/storage/v1/b/kels_sparta/o/https%3A%2F%2Fstacks.stanford.edu%2Ffile%2Fdruid%3Ayg821jf8611%2Fyg821jf8611_tn_nashville_2020_04_01.csv.zip?alt=media: No such object: kels_sparta/https://stacks.stanford.edu/file/druid:yg821jf8611/yg821jf8611_tn_nashville_2020_04_01.csv.zip: ('Request failed with status code', 404, 'Expected one of', <HTTPStatus.OK: 200>, <HTTPStatus.PARTIAL_CONTENT: 206>)"
     ]
    }
   ],
   "source": [
    "# PREFERED METHOD in data pipelineUse this method\n",
    "\n",
    "\n",
    "\n",
    "# download blob content\n",
    "def download_blob_as_string(bucket_name, source_blob_name):\n",
    "        bucket = storage_client.bucket(bucket_name)\n",
    "        blob = bucket.blob(source_blob_name)\n",
    "        \n",
    "        blob_content = blob.download_to_file(source_blob_name)\n",
    "\n",
    "        return blob_content\n",
    "my_print = download_blob_as_string(bucket_name, \"nashville.csv.gz\")\n",
    "\n",
    "\n",
    "print(my_print)"
   ]
  },
  {
   "cell_type": "code",
   "execution_count": null,
   "metadata": {},
   "outputs": [],
   "source": [
    "\n",
    "\n",
    "\n",
    "\n",
    "\n",
    "\n",
    "\n",
    "\n",
    "\n",
    "\n",
    "\n"
   ]
  },
  {
   "cell_type": "code",
   "execution_count": 19,
   "metadata": {},
   "outputs": [
    {
     "ename": "SSLError",
     "evalue": "HTTPSConnectionPool(host='storage.googleapis.com', port=443): Max retries exceeded with url: /upload/storage/v1/b/kels_sparta/o?uploadType=resumable&upload_id=ADPycds2ZBvwhgIJ8U_dJSvRS6h8YuBIX6v19Tjfz-260wXhgc50_9ta7fhezFsBswYpM0e3CEaxMTjjI6aV85xQ76OvFA (Caused by SSLError(SSLWantWriteError(3, 'The operation did not complete (write) (_ssl.c:2426)')))",
     "output_type": "error",
     "traceback": [
      "\u001b[1;31m---------------------------------------------------------------------------\u001b[0m",
      "\u001b[1;31mSSLWantWriteError\u001b[0m                         Traceback (most recent call last)",
      "File \u001b[1;32mc:\\Users\\mrkel\\Documents\\git\\.venv\\lib\\site-packages\\urllib3\\connectionpool.py:703\u001b[0m, in \u001b[0;36mHTTPConnectionPool.urlopen\u001b[1;34m(self, method, url, body, headers, retries, redirect, assert_same_host, timeout, pool_timeout, release_conn, chunked, body_pos, **response_kw)\u001b[0m\n\u001b[0;32m    702\u001b[0m \u001b[39m# Make the request on the httplib connection object.\u001b[39;00m\n\u001b[1;32m--> 703\u001b[0m httplib_response \u001b[39m=\u001b[39m \u001b[39mself\u001b[39;49m\u001b[39m.\u001b[39;49m_make_request(\n\u001b[0;32m    704\u001b[0m     conn,\n\u001b[0;32m    705\u001b[0m     method,\n\u001b[0;32m    706\u001b[0m     url,\n\u001b[0;32m    707\u001b[0m     timeout\u001b[39m=\u001b[39;49mtimeout_obj,\n\u001b[0;32m    708\u001b[0m     body\u001b[39m=\u001b[39;49mbody,\n\u001b[0;32m    709\u001b[0m     headers\u001b[39m=\u001b[39;49mheaders,\n\u001b[0;32m    710\u001b[0m     chunked\u001b[39m=\u001b[39;49mchunked,\n\u001b[0;32m    711\u001b[0m )\n\u001b[0;32m    713\u001b[0m \u001b[39m# If we're going to release the connection in ``finally:``, then\u001b[39;00m\n\u001b[0;32m    714\u001b[0m \u001b[39m# the response doesn't need to know about the connection. Otherwise\u001b[39;00m\n\u001b[0;32m    715\u001b[0m \u001b[39m# it will also try to release it and we'll have a double-release\u001b[39;00m\n\u001b[0;32m    716\u001b[0m \u001b[39m# mess.\u001b[39;00m\n",
      "File \u001b[1;32mc:\\Users\\mrkel\\Documents\\git\\.venv\\lib\\site-packages\\urllib3\\connectionpool.py:398\u001b[0m, in \u001b[0;36mHTTPConnectionPool._make_request\u001b[1;34m(self, conn, method, url, timeout, chunked, **httplib_request_kw)\u001b[0m\n\u001b[0;32m    397\u001b[0m     \u001b[39melse\u001b[39;00m:\n\u001b[1;32m--> 398\u001b[0m         conn\u001b[39m.\u001b[39mrequest(method, url, \u001b[39m*\u001b[39m\u001b[39m*\u001b[39mhttplib_request_kw)\n\u001b[0;32m    400\u001b[0m \u001b[39m# We are swallowing BrokenPipeError (errno.EPIPE) since the server is\u001b[39;00m\n\u001b[0;32m    401\u001b[0m \u001b[39m# legitimately able to close the connection after sending a valid response.\u001b[39;00m\n\u001b[0;32m    402\u001b[0m \u001b[39m# With this behaviour, the received response is still readable.\u001b[39;00m\n",
      "File \u001b[1;32mc:\\Users\\mrkel\\Documents\\git\\.venv\\lib\\site-packages\\urllib3\\connection.py:244\u001b[0m, in \u001b[0;36mHTTPConnection.request\u001b[1;34m(self, method, url, body, headers)\u001b[0m\n\u001b[0;32m    243\u001b[0m     headers[\u001b[39m\"\u001b[39m\u001b[39mUser-Agent\u001b[39m\u001b[39m\"\u001b[39m] \u001b[39m=\u001b[39m _get_default_user_agent()\n\u001b[1;32m--> 244\u001b[0m \u001b[39msuper\u001b[39;49m(HTTPConnection, \u001b[39mself\u001b[39;49m)\u001b[39m.\u001b[39;49mrequest(method, url, body\u001b[39m=\u001b[39;49mbody, headers\u001b[39m=\u001b[39;49mheaders)\n",
      "File \u001b[1;32m~\\AppData\\Local\\Programs\\Python\\Python310\\lib\\http\\client.py:1283\u001b[0m, in \u001b[0;36mHTTPConnection.request\u001b[1;34m(self, method, url, body, headers, encode_chunked)\u001b[0m\n\u001b[0;32m   1282\u001b[0m \u001b[39m\u001b[39m\u001b[39m\"\"\"Send a complete request to the server.\"\"\"\u001b[39;00m\n\u001b[1;32m-> 1283\u001b[0m \u001b[39mself\u001b[39;49m\u001b[39m.\u001b[39;49m_send_request(method, url, body, headers, encode_chunked)\n",
      "File \u001b[1;32m~\\AppData\\Local\\Programs\\Python\\Python310\\lib\\http\\client.py:1329\u001b[0m, in \u001b[0;36mHTTPConnection._send_request\u001b[1;34m(self, method, url, body, headers, encode_chunked)\u001b[0m\n\u001b[0;32m   1328\u001b[0m     body \u001b[39m=\u001b[39m _encode(body, \u001b[39m'\u001b[39m\u001b[39mbody\u001b[39m\u001b[39m'\u001b[39m)\n\u001b[1;32m-> 1329\u001b[0m \u001b[39mself\u001b[39;49m\u001b[39m.\u001b[39;49mendheaders(body, encode_chunked\u001b[39m=\u001b[39;49mencode_chunked)\n",
      "File \u001b[1;32m~\\AppData\\Local\\Programs\\Python\\Python310\\lib\\http\\client.py:1278\u001b[0m, in \u001b[0;36mHTTPConnection.endheaders\u001b[1;34m(self, message_body, encode_chunked)\u001b[0m\n\u001b[0;32m   1277\u001b[0m     \u001b[39mraise\u001b[39;00m CannotSendHeader()\n\u001b[1;32m-> 1278\u001b[0m \u001b[39mself\u001b[39;49m\u001b[39m.\u001b[39;49m_send_output(message_body, encode_chunked\u001b[39m=\u001b[39;49mencode_chunked)\n",
      "File \u001b[1;32m~\\AppData\\Local\\Programs\\Python\\Python310\\lib\\http\\client.py:1077\u001b[0m, in \u001b[0;36mHTTPConnection._send_output\u001b[1;34m(self, message_body, encode_chunked)\u001b[0m\n\u001b[0;32m   1075\u001b[0m         chunk \u001b[39m=\u001b[39m \u001b[39mf\u001b[39m\u001b[39m'\u001b[39m\u001b[39m{\u001b[39;00m\u001b[39mlen\u001b[39m(chunk)\u001b[39m:\u001b[39;00m\u001b[39mX\u001b[39m\u001b[39m}\u001b[39;00m\u001b[39m\\r\u001b[39;00m\u001b[39m\\n\u001b[39;00m\u001b[39m'\u001b[39m\u001b[39m.\u001b[39mencode(\u001b[39m'\u001b[39m\u001b[39mascii\u001b[39m\u001b[39m'\u001b[39m) \u001b[39m+\u001b[39m chunk \\\n\u001b[0;32m   1076\u001b[0m             \u001b[39m+\u001b[39m \u001b[39mb\u001b[39m\u001b[39m'\u001b[39m\u001b[39m\\r\u001b[39;00m\u001b[39m\\n\u001b[39;00m\u001b[39m'\u001b[39m\n\u001b[1;32m-> 1077\u001b[0m     \u001b[39mself\u001b[39;49m\u001b[39m.\u001b[39;49msend(chunk)\n\u001b[0;32m   1079\u001b[0m \u001b[39mif\u001b[39;00m encode_chunked \u001b[39mand\u001b[39;00m \u001b[39mself\u001b[39m\u001b[39m.\u001b[39m_http_vsn \u001b[39m==\u001b[39m \u001b[39m11\u001b[39m:\n\u001b[0;32m   1080\u001b[0m     \u001b[39m# end chunked transfer\u001b[39;00m\n",
      "File \u001b[1;32m~\\AppData\\Local\\Programs\\Python\\Python310\\lib\\http\\client.py:999\u001b[0m, in \u001b[0;36mHTTPConnection.send\u001b[1;34m(self, data)\u001b[0m\n\u001b[0;32m    998\u001b[0m \u001b[39mtry\u001b[39;00m:\n\u001b[1;32m--> 999\u001b[0m     \u001b[39mself\u001b[39;49m\u001b[39m.\u001b[39;49msock\u001b[39m.\u001b[39;49msendall(data)\n\u001b[0;32m   1000\u001b[0m \u001b[39mexcept\u001b[39;00m \u001b[39mTypeError\u001b[39;00m:\n",
      "File \u001b[1;32m~\\AppData\\Local\\Programs\\Python\\Python310\\lib\\ssl.py:1237\u001b[0m, in \u001b[0;36mSSLSocket.sendall\u001b[1;34m(self, data, flags)\u001b[0m\n\u001b[0;32m   1236\u001b[0m \u001b[39mwhile\u001b[39;00m count \u001b[39m<\u001b[39m amount:\n\u001b[1;32m-> 1237\u001b[0m     v \u001b[39m=\u001b[39m \u001b[39mself\u001b[39;49m\u001b[39m.\u001b[39;49msend(byte_view[count:])\n\u001b[0;32m   1238\u001b[0m     count \u001b[39m+\u001b[39m\u001b[39m=\u001b[39m v\n",
      "File \u001b[1;32m~\\AppData\\Local\\Programs\\Python\\Python310\\lib\\ssl.py:1206\u001b[0m, in \u001b[0;36mSSLSocket.send\u001b[1;34m(self, data, flags)\u001b[0m\n\u001b[0;32m   1203\u001b[0m         \u001b[39mraise\u001b[39;00m \u001b[39mValueError\u001b[39;00m(\n\u001b[0;32m   1204\u001b[0m             \u001b[39m\"\u001b[39m\u001b[39mnon-zero flags not allowed in calls to send() on \u001b[39m\u001b[39m%s\u001b[39;00m\u001b[39m\"\u001b[39m \u001b[39m%\u001b[39m\n\u001b[0;32m   1205\u001b[0m             \u001b[39mself\u001b[39m\u001b[39m.\u001b[39m\u001b[39m__class__\u001b[39m)\n\u001b[1;32m-> 1206\u001b[0m     \u001b[39mreturn\u001b[39;00m \u001b[39mself\u001b[39;49m\u001b[39m.\u001b[39;49m_sslobj\u001b[39m.\u001b[39;49mwrite(data)\n\u001b[0;32m   1207\u001b[0m \u001b[39melse\u001b[39;00m:\n",
      "\u001b[1;31mSSLWantWriteError\u001b[0m: The operation did not complete (write) (_ssl.c:2426)",
      "\nDuring handling of the above exception, another exception occurred:\n",
      "\u001b[1;31mMaxRetryError\u001b[0m                             Traceback (most recent call last)",
      "File \u001b[1;32mc:\\Users\\mrkel\\Documents\\git\\.venv\\lib\\site-packages\\requests\\adapters.py:486\u001b[0m, in \u001b[0;36mHTTPAdapter.send\u001b[1;34m(self, request, stream, timeout, verify, cert, proxies)\u001b[0m\n\u001b[0;32m    485\u001b[0m \u001b[39mtry\u001b[39;00m:\n\u001b[1;32m--> 486\u001b[0m     resp \u001b[39m=\u001b[39m conn\u001b[39m.\u001b[39;49murlopen(\n\u001b[0;32m    487\u001b[0m         method\u001b[39m=\u001b[39;49mrequest\u001b[39m.\u001b[39;49mmethod,\n\u001b[0;32m    488\u001b[0m         url\u001b[39m=\u001b[39;49murl,\n\u001b[0;32m    489\u001b[0m         body\u001b[39m=\u001b[39;49mrequest\u001b[39m.\u001b[39;49mbody,\n\u001b[0;32m    490\u001b[0m         headers\u001b[39m=\u001b[39;49mrequest\u001b[39m.\u001b[39;49mheaders,\n\u001b[0;32m    491\u001b[0m         redirect\u001b[39m=\u001b[39;49m\u001b[39mFalse\u001b[39;49;00m,\n\u001b[0;32m    492\u001b[0m         assert_same_host\u001b[39m=\u001b[39;49m\u001b[39mFalse\u001b[39;49;00m,\n\u001b[0;32m    493\u001b[0m         preload_content\u001b[39m=\u001b[39;49m\u001b[39mFalse\u001b[39;49;00m,\n\u001b[0;32m    494\u001b[0m         decode_content\u001b[39m=\u001b[39;49m\u001b[39mFalse\u001b[39;49;00m,\n\u001b[0;32m    495\u001b[0m         retries\u001b[39m=\u001b[39;49m\u001b[39mself\u001b[39;49m\u001b[39m.\u001b[39;49mmax_retries,\n\u001b[0;32m    496\u001b[0m         timeout\u001b[39m=\u001b[39;49mtimeout,\n\u001b[0;32m    497\u001b[0m         chunked\u001b[39m=\u001b[39;49mchunked,\n\u001b[0;32m    498\u001b[0m     )\n\u001b[0;32m    500\u001b[0m \u001b[39mexcept\u001b[39;00m (ProtocolError, \u001b[39mOSError\u001b[39;00m) \u001b[39mas\u001b[39;00m err:\n",
      "File \u001b[1;32mc:\\Users\\mrkel\\Documents\\git\\.venv\\lib\\site-packages\\urllib3\\connectionpool.py:787\u001b[0m, in \u001b[0;36mHTTPConnectionPool.urlopen\u001b[1;34m(self, method, url, body, headers, retries, redirect, assert_same_host, timeout, pool_timeout, release_conn, chunked, body_pos, **response_kw)\u001b[0m\n\u001b[0;32m    785\u001b[0m     e \u001b[39m=\u001b[39m ProtocolError(\u001b[39m\"\u001b[39m\u001b[39mConnection aborted.\u001b[39m\u001b[39m\"\u001b[39m, e)\n\u001b[1;32m--> 787\u001b[0m retries \u001b[39m=\u001b[39m retries\u001b[39m.\u001b[39;49mincrement(\n\u001b[0;32m    788\u001b[0m     method, url, error\u001b[39m=\u001b[39;49me, _pool\u001b[39m=\u001b[39;49m\u001b[39mself\u001b[39;49m, _stacktrace\u001b[39m=\u001b[39;49msys\u001b[39m.\u001b[39;49mexc_info()[\u001b[39m2\u001b[39;49m]\n\u001b[0;32m    789\u001b[0m )\n\u001b[0;32m    790\u001b[0m retries\u001b[39m.\u001b[39msleep()\n",
      "File \u001b[1;32mc:\\Users\\mrkel\\Documents\\git\\.venv\\lib\\site-packages\\urllib3\\util\\retry.py:592\u001b[0m, in \u001b[0;36mRetry.increment\u001b[1;34m(self, method, url, response, error, _pool, _stacktrace)\u001b[0m\n\u001b[0;32m    591\u001b[0m \u001b[39mif\u001b[39;00m new_retry\u001b[39m.\u001b[39mis_exhausted():\n\u001b[1;32m--> 592\u001b[0m     \u001b[39mraise\u001b[39;00m MaxRetryError(_pool, url, error \u001b[39mor\u001b[39;00m ResponseError(cause))\n\u001b[0;32m    594\u001b[0m log\u001b[39m.\u001b[39mdebug(\u001b[39m\"\u001b[39m\u001b[39mIncremented Retry for (url=\u001b[39m\u001b[39m'\u001b[39m\u001b[39m%s\u001b[39;00m\u001b[39m'\u001b[39m\u001b[39m): \u001b[39m\u001b[39m%r\u001b[39;00m\u001b[39m\"\u001b[39m, url, new_retry)\n",
      "\u001b[1;31mMaxRetryError\u001b[0m: HTTPSConnectionPool(host='storage.googleapis.com', port=443): Max retries exceeded with url: /upload/storage/v1/b/kels_sparta/o?uploadType=resumable&upload_id=ADPycds2ZBvwhgIJ8U_dJSvRS6h8YuBIX6v19Tjfz-260wXhgc50_9ta7fhezFsBswYpM0e3CEaxMTjjI6aV85xQ76OvFA (Caused by SSLError(SSLWantWriteError(3, 'The operation did not complete (write) (_ssl.c:2426)')))",
      "\nDuring handling of the above exception, another exception occurred:\n",
      "\u001b[1;31mSSLError\u001b[0m                                  Traceback (most recent call last)",
      "Cell \u001b[1;32mIn[19], line 11\u001b[0m\n\u001b[0;32m      7\u001b[0m     blob\u001b[39m.\u001b[39mupload_from_filename(content)\n\u001b[0;32m      9\u001b[0m     \u001b[39mreturn\u001b[39;00m\n\u001b[1;32m---> 11\u001b[0m upload_blob_from_api(bucket_name, \u001b[39m\"\u001b[39;49m\u001b[39mnashville.csv.zip\u001b[39;49m\u001b[39m\"\u001b[39;49m, \u001b[39m\"\u001b[39;49m\u001b[39myg821jf8611_tn_nashville_2020_04_01.csv.zip\u001b[39;49m\u001b[39m\"\u001b[39;49m, )\n",
      "Cell \u001b[1;32mIn[19], line 7\u001b[0m, in \u001b[0;36mupload_blob_from_api\u001b[1;34m(bucket_name, destination_blob_name, content)\u001b[0m\n\u001b[0;32m      4\u001b[0m bucket \u001b[39m=\u001b[39m storage_client\u001b[39m.\u001b[39mbucket(bucket_name)\n\u001b[0;32m      5\u001b[0m blob \u001b[39m=\u001b[39m bucket\u001b[39m.\u001b[39mblob(destination_blob_name)\n\u001b[1;32m----> 7\u001b[0m blob\u001b[39m.\u001b[39;49mupload_from_filename(content)\n\u001b[0;32m      9\u001b[0m \u001b[39mreturn\u001b[39;00m\n",
      "File \u001b[1;32mc:\\Users\\mrkel\\Documents\\git\\.venv\\lib\\site-packages\\google\\cloud\\storage\\blob.py:2684\u001b[0m, in \u001b[0;36mBlob.upload_from_filename\u001b[1;34m(self, filename, content_type, num_retries, client, predefined_acl, if_generation_match, if_generation_not_match, if_metageneration_match, if_metageneration_not_match, timeout, checksum, retry)\u001b[0m\n\u001b[0;32m   2682\u001b[0m \u001b[39mwith\u001b[39;00m \u001b[39mopen\u001b[39m(filename, \u001b[39m\"\u001b[39m\u001b[39mrb\u001b[39m\u001b[39m\"\u001b[39m) \u001b[39mas\u001b[39;00m file_obj:\n\u001b[0;32m   2683\u001b[0m     total_bytes \u001b[39m=\u001b[39m os\u001b[39m.\u001b[39mfstat(file_obj\u001b[39m.\u001b[39mfileno())\u001b[39m.\u001b[39mst_size\n\u001b[1;32m-> 2684\u001b[0m     \u001b[39mself\u001b[39;49m\u001b[39m.\u001b[39;49mupload_from_file(\n\u001b[0;32m   2685\u001b[0m         file_obj,\n\u001b[0;32m   2686\u001b[0m         content_type\u001b[39m=\u001b[39;49mcontent_type,\n\u001b[0;32m   2687\u001b[0m         num_retries\u001b[39m=\u001b[39;49mnum_retries,\n\u001b[0;32m   2688\u001b[0m         client\u001b[39m=\u001b[39;49mclient,\n\u001b[0;32m   2689\u001b[0m         size\u001b[39m=\u001b[39;49mtotal_bytes,\n\u001b[0;32m   2690\u001b[0m         predefined_acl\u001b[39m=\u001b[39;49mpredefined_acl,\n\u001b[0;32m   2691\u001b[0m         if_generation_match\u001b[39m=\u001b[39;49mif_generation_match,\n\u001b[0;32m   2692\u001b[0m         if_generation_not_match\u001b[39m=\u001b[39;49mif_generation_not_match,\n\u001b[0;32m   2693\u001b[0m         if_metageneration_match\u001b[39m=\u001b[39;49mif_metageneration_match,\n\u001b[0;32m   2694\u001b[0m         if_metageneration_not_match\u001b[39m=\u001b[39;49mif_metageneration_not_match,\n\u001b[0;32m   2695\u001b[0m         timeout\u001b[39m=\u001b[39;49mtimeout,\n\u001b[0;32m   2696\u001b[0m         checksum\u001b[39m=\u001b[39;49mchecksum,\n\u001b[0;32m   2697\u001b[0m         retry\u001b[39m=\u001b[39;49mretry,\n\u001b[0;32m   2698\u001b[0m     )\n",
      "File \u001b[1;32mc:\\Users\\mrkel\\Documents\\git\\.venv\\lib\\site-packages\\google\\cloud\\storage\\blob.py:2540\u001b[0m, in \u001b[0;36mBlob.upload_from_file\u001b[1;34m(self, file_obj, rewind, size, content_type, num_retries, client, predefined_acl, if_generation_match, if_generation_not_match, if_metageneration_match, if_metageneration_not_match, timeout, checksum, retry)\u001b[0m\n\u001b[0;32m   2537\u001b[0m predefined_acl \u001b[39m=\u001b[39m ACL\u001b[39m.\u001b[39mvalidate_predefined(predefined_acl)\n\u001b[0;32m   2539\u001b[0m \u001b[39mtry\u001b[39;00m:\n\u001b[1;32m-> 2540\u001b[0m     created_json \u001b[39m=\u001b[39m \u001b[39mself\u001b[39;49m\u001b[39m.\u001b[39;49m_do_upload(\n\u001b[0;32m   2541\u001b[0m         client,\n\u001b[0;32m   2542\u001b[0m         file_obj,\n\u001b[0;32m   2543\u001b[0m         content_type,\n\u001b[0;32m   2544\u001b[0m         size,\n\u001b[0;32m   2545\u001b[0m         num_retries,\n\u001b[0;32m   2546\u001b[0m         predefined_acl,\n\u001b[0;32m   2547\u001b[0m         if_generation_match,\n\u001b[0;32m   2548\u001b[0m         if_generation_not_match,\n\u001b[0;32m   2549\u001b[0m         if_metageneration_match,\n\u001b[0;32m   2550\u001b[0m         if_metageneration_not_match,\n\u001b[0;32m   2551\u001b[0m         timeout\u001b[39m=\u001b[39;49mtimeout,\n\u001b[0;32m   2552\u001b[0m         checksum\u001b[39m=\u001b[39;49mchecksum,\n\u001b[0;32m   2553\u001b[0m         retry\u001b[39m=\u001b[39;49mretry,\n\u001b[0;32m   2554\u001b[0m     )\n\u001b[0;32m   2555\u001b[0m     \u001b[39mself\u001b[39m\u001b[39m.\u001b[39m_set_properties(created_json)\n\u001b[0;32m   2556\u001b[0m \u001b[39mexcept\u001b[39;00m resumable_media\u001b[39m.\u001b[39mInvalidResponse \u001b[39mas\u001b[39;00m exc:\n",
      "File \u001b[1;32mc:\\Users\\mrkel\\Documents\\git\\.venv\\lib\\site-packages\\google\\cloud\\storage\\blob.py:2371\u001b[0m, in \u001b[0;36mBlob._do_upload\u001b[1;34m(self, client, stream, content_type, size, num_retries, predefined_acl, if_generation_match, if_generation_not_match, if_metageneration_match, if_metageneration_not_match, timeout, checksum, retry)\u001b[0m\n\u001b[0;32m   2355\u001b[0m     response \u001b[39m=\u001b[39m \u001b[39mself\u001b[39m\u001b[39m.\u001b[39m_do_multipart_upload(\n\u001b[0;32m   2356\u001b[0m         client,\n\u001b[0;32m   2357\u001b[0m         stream,\n\u001b[1;32m   (...)\u001b[0m\n\u001b[0;32m   2368\u001b[0m         retry\u001b[39m=\u001b[39mretry,\n\u001b[0;32m   2369\u001b[0m     )\n\u001b[0;32m   2370\u001b[0m \u001b[39melse\u001b[39;00m:\n\u001b[1;32m-> 2371\u001b[0m     response \u001b[39m=\u001b[39m \u001b[39mself\u001b[39;49m\u001b[39m.\u001b[39;49m_do_resumable_upload(\n\u001b[0;32m   2372\u001b[0m         client,\n\u001b[0;32m   2373\u001b[0m         stream,\n\u001b[0;32m   2374\u001b[0m         content_type,\n\u001b[0;32m   2375\u001b[0m         size,\n\u001b[0;32m   2376\u001b[0m         num_retries,\n\u001b[0;32m   2377\u001b[0m         predefined_acl,\n\u001b[0;32m   2378\u001b[0m         if_generation_match,\n\u001b[0;32m   2379\u001b[0m         if_generation_not_match,\n\u001b[0;32m   2380\u001b[0m         if_metageneration_match,\n\u001b[0;32m   2381\u001b[0m         if_metageneration_not_match,\n\u001b[0;32m   2382\u001b[0m         timeout\u001b[39m=\u001b[39;49mtimeout,\n\u001b[0;32m   2383\u001b[0m         checksum\u001b[39m=\u001b[39;49mchecksum,\n\u001b[0;32m   2384\u001b[0m         retry\u001b[39m=\u001b[39;49mretry,\n\u001b[0;32m   2385\u001b[0m     )\n\u001b[0;32m   2387\u001b[0m \u001b[39mreturn\u001b[39;00m response\u001b[39m.\u001b[39mjson()\n",
      "File \u001b[1;32mc:\\Users\\mrkel\\Documents\\git\\.venv\\lib\\site-packages\\google\\cloud\\storage\\blob.py:2215\u001b[0m, in \u001b[0;36mBlob._do_resumable_upload\u001b[1;34m(self, client, stream, content_type, size, num_retries, predefined_acl, if_generation_match, if_generation_not_match, if_metageneration_match, if_metageneration_not_match, timeout, checksum, retry)\u001b[0m\n\u001b[0;32m   2213\u001b[0m \u001b[39mwhile\u001b[39;00m \u001b[39mnot\u001b[39;00m upload\u001b[39m.\u001b[39mfinished:\n\u001b[0;32m   2214\u001b[0m     \u001b[39mtry\u001b[39;00m:\n\u001b[1;32m-> 2215\u001b[0m         response \u001b[39m=\u001b[39m upload\u001b[39m.\u001b[39;49mtransmit_next_chunk(transport, timeout\u001b[39m=\u001b[39;49mtimeout)\n\u001b[0;32m   2216\u001b[0m     \u001b[39mexcept\u001b[39;00m resumable_media\u001b[39m.\u001b[39mDataCorruption:\n\u001b[0;32m   2217\u001b[0m         \u001b[39m# Attempt to delete the corrupted object.\u001b[39;00m\n\u001b[0;32m   2218\u001b[0m         \u001b[39mself\u001b[39m\u001b[39m.\u001b[39mdelete()\n",
      "File \u001b[1;32mc:\\Users\\mrkel\\Documents\\git\\.venv\\lib\\site-packages\\google\\resumable_media\\requests\\upload.py:515\u001b[0m, in \u001b[0;36mResumableUpload.transmit_next_chunk\u001b[1;34m(self, transport, timeout)\u001b[0m\n\u001b[0;32m    511\u001b[0m     \u001b[39mself\u001b[39m\u001b[39m.\u001b[39m_process_resumable_response(result, \u001b[39mlen\u001b[39m(payload))\n\u001b[0;32m    513\u001b[0m     \u001b[39mreturn\u001b[39;00m result\n\u001b[1;32m--> 515\u001b[0m \u001b[39mreturn\u001b[39;00m _request_helpers\u001b[39m.\u001b[39;49mwait_and_retry(\n\u001b[0;32m    516\u001b[0m     retriable_request, \u001b[39mself\u001b[39;49m\u001b[39m.\u001b[39;49m_get_status_code, \u001b[39mself\u001b[39;49m\u001b[39m.\u001b[39;49m_retry_strategy\n\u001b[0;32m    517\u001b[0m )\n",
      "File \u001b[1;32mc:\\Users\\mrkel\\Documents\\git\\.venv\\lib\\site-packages\\google\\resumable_media\\requests\\_request_helpers.py:178\u001b[0m, in \u001b[0;36mwait_and_retry\u001b[1;34m(func, get_status_code, retry_strategy)\u001b[0m\n\u001b[0;32m    175\u001b[0m \u001b[39m# Check if (another) retry is allowed. If retries are exhausted and\u001b[39;00m\n\u001b[0;32m    176\u001b[0m \u001b[39m# no acceptable response was received, raise the retriable error.\u001b[39;00m\n\u001b[0;32m    177\u001b[0m \u001b[39mif\u001b[39;00m \u001b[39mnot\u001b[39;00m retry_strategy\u001b[39m.\u001b[39mretry_allowed(total_sleep, num_retries):\n\u001b[1;32m--> 178\u001b[0m     \u001b[39mraise\u001b[39;00m error\n\u001b[0;32m    180\u001b[0m time\u001b[39m.\u001b[39msleep(wait_time)\n",
      "File \u001b[1;32mc:\\Users\\mrkel\\Documents\\git\\.venv\\lib\\site-packages\\google\\resumable_media\\requests\\_request_helpers.py:155\u001b[0m, in \u001b[0;36mwait_and_retry\u001b[1;34m(func, get_status_code, retry_strategy)\u001b[0m\n\u001b[0;32m    153\u001b[0m error \u001b[39m=\u001b[39m \u001b[39mNone\u001b[39;00m\n\u001b[0;32m    154\u001b[0m \u001b[39mtry\u001b[39;00m:\n\u001b[1;32m--> 155\u001b[0m     response \u001b[39m=\u001b[39m func()\n\u001b[0;32m    156\u001b[0m \u001b[39mexcept\u001b[39;00m _CONNECTION_ERROR_CLASSES \u001b[39mas\u001b[39;00m e:\n\u001b[0;32m    157\u001b[0m     error \u001b[39m=\u001b[39m e  \u001b[39m# Fall through to retry, if there are retries left.\u001b[39;00m\n",
      "File \u001b[1;32mc:\\Users\\mrkel\\Documents\\git\\.venv\\lib\\site-packages\\google\\resumable_media\\requests\\upload.py:507\u001b[0m, in \u001b[0;36mResumableUpload.transmit_next_chunk.<locals>.retriable_request\u001b[1;34m()\u001b[0m\n\u001b[0;32m    506\u001b[0m \u001b[39mdef\u001b[39;00m \u001b[39mretriable_request\u001b[39m():\n\u001b[1;32m--> 507\u001b[0m     result \u001b[39m=\u001b[39m transport\u001b[39m.\u001b[39;49mrequest(\n\u001b[0;32m    508\u001b[0m         method, url, data\u001b[39m=\u001b[39;49mpayload, headers\u001b[39m=\u001b[39;49mheaders, timeout\u001b[39m=\u001b[39;49mtimeout\n\u001b[0;32m    509\u001b[0m     )\n\u001b[0;32m    511\u001b[0m     \u001b[39mself\u001b[39m\u001b[39m.\u001b[39m_process_resumable_response(result, \u001b[39mlen\u001b[39m(payload))\n\u001b[0;32m    513\u001b[0m     \u001b[39mreturn\u001b[39;00m result\n",
      "File \u001b[1;32mc:\\Users\\mrkel\\Documents\\git\\.venv\\lib\\site-packages\\google\\auth\\transport\\requests.py:549\u001b[0m, in \u001b[0;36mAuthorizedSession.request\u001b[1;34m(self, method, url, data, headers, max_allowed_time, timeout, **kwargs)\u001b[0m\n\u001b[0;32m    546\u001b[0m remaining_time \u001b[39m=\u001b[39m guard\u001b[39m.\u001b[39mremaining_timeout\n\u001b[0;32m    548\u001b[0m \u001b[39mwith\u001b[39;00m TimeoutGuard(remaining_time) \u001b[39mas\u001b[39;00m guard:\n\u001b[1;32m--> 549\u001b[0m     response \u001b[39m=\u001b[39m \u001b[39msuper\u001b[39m(AuthorizedSession, \u001b[39mself\u001b[39m)\u001b[39m.\u001b[39mrequest(\n\u001b[0;32m    550\u001b[0m         method,\n\u001b[0;32m    551\u001b[0m         url,\n\u001b[0;32m    552\u001b[0m         data\u001b[39m=\u001b[39mdata,\n\u001b[0;32m    553\u001b[0m         headers\u001b[39m=\u001b[39mrequest_headers,\n\u001b[0;32m    554\u001b[0m         timeout\u001b[39m=\u001b[39mtimeout,\n\u001b[0;32m    555\u001b[0m         \u001b[39m*\u001b[39m\u001b[39m*\u001b[39mkwargs\n\u001b[0;32m    556\u001b[0m     )\n\u001b[0;32m    557\u001b[0m remaining_time \u001b[39m=\u001b[39m guard\u001b[39m.\u001b[39mremaining_timeout\n\u001b[0;32m    559\u001b[0m \u001b[39m# If the response indicated that the credentials needed to be\u001b[39;00m\n\u001b[0;32m    560\u001b[0m \u001b[39m# refreshed, then refresh the credentials and re-attempt the\u001b[39;00m\n\u001b[0;32m    561\u001b[0m \u001b[39m# request.\u001b[39;00m\n\u001b[0;32m    562\u001b[0m \u001b[39m# A stored token may expire between the time it is retrieved and\u001b[39;00m\n\u001b[0;32m    563\u001b[0m \u001b[39m# the time the request is made, so we may need to try twice.\u001b[39;00m\n",
      "File \u001b[1;32mc:\\Users\\mrkel\\Documents\\git\\.venv\\lib\\site-packages\\requests\\sessions.py:587\u001b[0m, in \u001b[0;36mSession.request\u001b[1;34m(self, method, url, params, data, headers, cookies, files, auth, timeout, allow_redirects, proxies, hooks, stream, verify, cert, json)\u001b[0m\n\u001b[0;32m    582\u001b[0m send_kwargs \u001b[39m=\u001b[39m {\n\u001b[0;32m    583\u001b[0m     \u001b[39m\"\u001b[39m\u001b[39mtimeout\u001b[39m\u001b[39m\"\u001b[39m: timeout,\n\u001b[0;32m    584\u001b[0m     \u001b[39m\"\u001b[39m\u001b[39mallow_redirects\u001b[39m\u001b[39m\"\u001b[39m: allow_redirects,\n\u001b[0;32m    585\u001b[0m }\n\u001b[0;32m    586\u001b[0m send_kwargs\u001b[39m.\u001b[39mupdate(settings)\n\u001b[1;32m--> 587\u001b[0m resp \u001b[39m=\u001b[39m \u001b[39mself\u001b[39m\u001b[39m.\u001b[39msend(prep, \u001b[39m*\u001b[39m\u001b[39m*\u001b[39msend_kwargs)\n\u001b[0;32m    589\u001b[0m \u001b[39mreturn\u001b[39;00m resp\n",
      "File \u001b[1;32mc:\\Users\\mrkel\\Documents\\git\\.venv\\lib\\site-packages\\requests\\sessions.py:701\u001b[0m, in \u001b[0;36mSession.send\u001b[1;34m(self, request, **kwargs)\u001b[0m\n\u001b[0;32m    698\u001b[0m start \u001b[39m=\u001b[39m preferred_clock()\n\u001b[0;32m    700\u001b[0m \u001b[39m# Send the request\u001b[39;00m\n\u001b[1;32m--> 701\u001b[0m r \u001b[39m=\u001b[39m adapter\u001b[39m.\u001b[39msend(request, \u001b[39m*\u001b[39m\u001b[39m*\u001b[39mkwargs)\n\u001b[0;32m    703\u001b[0m \u001b[39m# Total elapsed time of the request (approximately)\u001b[39;00m\n\u001b[0;32m    704\u001b[0m elapsed \u001b[39m=\u001b[39m preferred_clock() \u001b[39m-\u001b[39m start\n",
      "File \u001b[1;32mc:\\Users\\mrkel\\Documents\\git\\.venv\\lib\\site-packages\\requests\\adapters.py:517\u001b[0m, in \u001b[0;36mHTTPAdapter.send\u001b[1;34m(self, request, stream, timeout, verify, cert, proxies)\u001b[0m\n\u001b[0;32m    513\u001b[0m         \u001b[39mraise\u001b[39;00m ProxyError(e, request\u001b[39m=\u001b[39mrequest)\n\u001b[0;32m    515\u001b[0m     \u001b[39mif\u001b[39;00m \u001b[39misinstance\u001b[39m(e\u001b[39m.\u001b[39mreason, _SSLError):\n\u001b[0;32m    516\u001b[0m         \u001b[39m# This branch is for urllib3 v1.22 and later.\u001b[39;00m\n\u001b[1;32m--> 517\u001b[0m         \u001b[39mraise\u001b[39;00m SSLError(e, request\u001b[39m=\u001b[39mrequest)\n\u001b[0;32m    519\u001b[0m     \u001b[39mraise\u001b[39;00m \u001b[39mConnectionError\u001b[39;00m(e, request\u001b[39m=\u001b[39mrequest)\n\u001b[0;32m    521\u001b[0m \u001b[39mexcept\u001b[39;00m ClosedPoolError \u001b[39mas\u001b[39;00m e:\n",
      "\u001b[1;31mSSLError\u001b[0m: HTTPSConnectionPool(host='storage.googleapis.com', port=443): Max retries exceeded with url: /upload/storage/v1/b/kels_sparta/o?uploadType=resumable&upload_id=ADPycds2ZBvwhgIJ8U_dJSvRS6h8YuBIX6v19Tjfz-260wXhgc50_9ta7fhezFsBswYpM0e3CEaxMTjjI6aV85xQ76OvFA (Caused by SSLError(SSLWantWriteError(3, 'The operation did not complete (write) (_ssl.c:2426)')))"
     ]
    }
   ],
   "source": [
    "# upload direct from api\n",
    "\n",
    "def upload_blob_from_api(bucket_name, destination_blob_name, content):\n",
    "    bucket = storage_client.bucket(bucket_name)\n",
    "    blob = bucket.blob(destination_blob_name)\n",
    "    \n",
    "    blob.upload_from_filename(content)\n",
    "\n",
    "    return\n",
    "\n",
    "upload_blob_from_api(bucket_name, \"nashville.csv.zip\", \"yg821jf8611_tn_nashville_2020_04_01.csv.zip\", )\n"
   ]
  },
  {
   "cell_type": "code",
   "execution_count": null,
   "metadata": {},
   "outputs": [],
   "source": []
  },
  {
   "cell_type": "code",
   "execution_count": null,
   "metadata": {},
   "outputs": [],
   "source": []
  },
  {
   "cell_type": "code",
   "execution_count": null,
   "metadata": {},
   "outputs": [],
   "source": []
  },
  {
   "cell_type": "code",
   "execution_count": null,
   "metadata": {},
   "outputs": [],
   "source": []
  },
  {
   "cell_type": "code",
   "execution_count": null,
   "metadata": {},
   "outputs": [],
   "source": []
  },
  {
   "cell_type": "code",
   "execution_count": null,
   "metadata": {},
   "outputs": [],
   "source": [
    "\n",
    "\n",
    "\n"
   ]
  },
  {
   "cell_type": "code",
   "execution_count": null,
   "metadata": {},
   "outputs": [],
   "source": [
    "\n",
    "\n",
    "\n",
    "\n"
   ]
  },
  {
   "cell_type": "code",
   "execution_count": null,
   "metadata": {},
   "outputs": [],
   "source": []
  },
  {
   "cell_type": "code",
   "execution_count": null,
   "metadata": {},
   "outputs": [],
   "source": []
  },
  {
   "cell_type": "code",
   "execution_count": null,
   "metadata": {},
   "outputs": [],
   "source": []
  }
 ],
 "metadata": {
  "kernelspec": {
   "display_name": ".venv",
   "language": "python",
   "name": "python3"
  },
  "language_info": {
   "codemirror_mode": {
    "name": "ipython",
    "version": 3
   },
   "file_extension": ".py",
   "mimetype": "text/x-python",
   "name": "python",
   "nbconvert_exporter": "python",
   "pygments_lexer": "ipython3",
   "version": "3.10.11"
  },
  "orig_nbformat": 4
 },
 "nbformat": 4,
 "nbformat_minor": 2
}
