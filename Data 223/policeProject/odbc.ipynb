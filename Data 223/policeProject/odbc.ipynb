{
 "cells": [
  {
   "cell_type": "code",
   "execution_count": 2,
   "metadata": {},
   "outputs": [
    {
     "name": "stdout",
     "output_type": "stream",
     "text": [
      "SQL Server\n"
     ]
    }
   ],
   "source": [
    "\n",
    "# install pyodbc on python 3.10.11\n",
    "# https://stackoverflow.com/questions/67660014/pyodbc-installation-error-on-python-3-10-0\n",
    "\n",
    "# !pip install pandas\n",
    "# !pip install numpy\n",
    "# !pip install matplotlib\n",
    "# !pip install seaborn\n",
    "# !pip install json\n",
    "# !pip install pyodbc\n",
    "\n",
    "import pandas as pd\n",
    "import pyodbc\n",
    "\n",
    "drivers=pyodbc.drivers()\n",
    "\n",
    "for i in drivers:\n",
    "    print(i)\n",
    "\n",
    "\n",
    "\n",
    "\n",
    "\n"
   ]
  },
  {
   "cell_type": "code",
   "execution_count": 6,
   "metadata": {},
   "outputs": [
    {
     "name": "stdout",
     "output_type": "stream",
     "text": [
      "('Microsoft Azure SQL Edge Developer (RTM) - 15.0.2000.1574 (X64) \\n\\tJan 25 2023 11:33:34 \\n\\tCopyright (C) 2019 Microsoft Corporation\\n\\tLinux (Ubuntu 18.04.6 LTS) <X64>',)\n"
     ]
    }
   ],
   "source": [
    "# connect to the SQL server creating a database with the following credentials\n",
    "\n",
    "server = 'localhost,1433'\n",
    "\n",
    "database = 'New'\n",
    "\n",
    "username = 'sa'\n",
    "\n",
    "password = 'yourStrong(!)Password'\n",
    "\n",
    "docker_New = pyodbc.connect('DRIVER={ODBC Driver 17 for SQL Server};SERVER='+server+';DATABASE='+database+';UID='+username+';PWD='+ password)\n",
    "\n",
    "cursor = docker_New.cursor()\n",
    "\n",
    "cursor.execute(\"SELECT @@version;\") \n",
    "\n",
    "row = cursor.fetchone()\n",
    "\n",
    "print(row)"
   ]
  },
  {
   "cell_type": "code",
   "execution_count": 20,
   "metadata": {},
   "outputs": [
    {
     "name": "stdout",
     "output_type": "stream",
     "text": [
      "                                                    0\n",
      "0   [ALFKI, Alfreds Futterkiste, Maria Anders, Sal...\n",
      "1   [ANATR, Ana Trujillo Emparedados y helados, An...\n",
      "2   [ANTON, Antonio Moreno Taquería, Antonio Moren...\n",
      "3   [AROUT, Around the Horn, Thomas Hardy, Sales R...\n",
      "4   [BERGS, Berglunds snabbköp, Christina Berglund...\n",
      "..                                                ...\n",
      "86  [WARTH, Wartian Herkku, Pirkko Koskitalo, Acco...\n",
      "87  [WELLI, Wellington Importadora, Paula Parente,...\n",
      "88  [WHITC, White Clover Markets, Karl Jablonski, ...\n",
      "89  [WILMK, Wilman Kala, Matti Karttunen, Owner/Ma...\n",
      "90  [WOLZA, Wolski  Zajazd, Zbyszek Piestrzeniewic...\n",
      "\n",
      "[91 rows x 1 columns]\n"
     ]
    }
   ],
   "source": [
    "\n",
    "my_cursor = pd.DataFrame(cursor.execute(\"SELECT * FROM Customers;\"))\n",
    "# for i in my_cursor.iterrows():\n",
    "#     print(i)\n",
    "\n",
    "# print(type(my_cursor))\n",
    "print(my_cursor)"
   ]
  },
  {
   "cell_type": "code",
   "execution_count": 22,
   "metadata": {},
   "outputs": [
    {
     "name": "stdout",
     "output_type": "stream",
     "text": [
      "   TABLE_CATALOG TABLE_SCHEMA TABLE_NAME   COLUMN_NAME  ORDINAL_POSITION   \n",
      "0      Northwind          dbo  Customers    CustomerID                 1  \\\n",
      "1      Northwind          dbo  Customers   CompanyName                 2   \n",
      "2      Northwind          dbo  Customers   ContactName                 3   \n",
      "3      Northwind          dbo  Customers  ContactTitle                 4   \n",
      "4      Northwind          dbo  Customers       Address                 5   \n",
      "5      Northwind          dbo  Customers          City                 6   \n",
      "6      Northwind          dbo  Customers        Region                 7   \n",
      "7      Northwind          dbo  Customers    PostalCode                 8   \n",
      "8      Northwind          dbo  Customers       Country                 9   \n",
      "9      Northwind          dbo  Customers         Phone                10   \n",
      "10     Northwind          dbo  Customers           Fax                11   \n",
      "\n",
      "   COLUMN_DEFAULT IS_NULLABLE DATA_TYPE  CHARACTER_MAXIMUM_LENGTH   \n",
      "0            None          NO     nchar                         5  \\\n",
      "1            None          NO  nvarchar                        40   \n",
      "2            None         YES  nvarchar                        30   \n",
      "3            None         YES  nvarchar                        30   \n",
      "4            None         YES  nvarchar                        60   \n",
      "5            None         YES  nvarchar                        15   \n",
      "6            None         YES  nvarchar                        15   \n",
      "7            None         YES  nvarchar                        10   \n",
      "8            None         YES  nvarchar                        15   \n",
      "9            None         YES  nvarchar                        24   \n",
      "10           None         YES  nvarchar                        24   \n",
      "\n",
      "    CHARACTER_OCTET_LENGTH  ... DATETIME_PRECISION CHARACTER_SET_CATALOG   \n",
      "0                       10  ...               None                  None  \\\n",
      "1                       80  ...               None                  None   \n",
      "2                       60  ...               None                  None   \n",
      "3                       60  ...               None                  None   \n",
      "4                      120  ...               None                  None   \n",
      "5                       30  ...               None                  None   \n",
      "6                       30  ...               None                  None   \n",
      "7                       20  ...               None                  None   \n",
      "8                       30  ...               None                  None   \n",
      "9                       48  ...               None                  None   \n",
      "10                      48  ...               None                  None   \n",
      "\n",
      "   CHARACTER_SET_SCHEMA CHARACTER_SET_NAME COLLATION_CATALOG COLLATION_SCHEMA   \n",
      "0                  None            UNICODE              None             None  \\\n",
      "1                  None            UNICODE              None             None   \n",
      "2                  None            UNICODE              None             None   \n",
      "3                  None            UNICODE              None             None   \n",
      "4                  None            UNICODE              None             None   \n",
      "5                  None            UNICODE              None             None   \n",
      "6                  None            UNICODE              None             None   \n",
      "7                  None            UNICODE              None             None   \n",
      "8                  None            UNICODE              None             None   \n",
      "9                  None            UNICODE              None             None   \n",
      "10                 None            UNICODE              None             None   \n",
      "\n",
      "                  COLLATION_NAME DOMAIN_CATALOG DOMAIN_SCHEMA DOMAIN_NAME  \n",
      "0   SQL_Latin1_General_CP1_CI_AS           None          None        None  \n",
      "1   SQL_Latin1_General_CP1_CI_AS           None          None        None  \n",
      "2   SQL_Latin1_General_CP1_CI_AS           None          None        None  \n",
      "3   SQL_Latin1_General_CP1_CI_AS           None          None        None  \n",
      "4   SQL_Latin1_General_CP1_CI_AS           None          None        None  \n",
      "5   SQL_Latin1_General_CP1_CI_AS           None          None        None  \n",
      "6   SQL_Latin1_General_CP1_CI_AS           None          None        None  \n",
      "7   SQL_Latin1_General_CP1_CI_AS           None          None        None  \n",
      "8   SQL_Latin1_General_CP1_CI_AS           None          None        None  \n",
      "9   SQL_Latin1_General_CP1_CI_AS           None          None        None  \n",
      "10  SQL_Latin1_General_CP1_CI_AS           None          None        None  \n",
      "\n",
      "[11 rows x 23 columns]\n"
     ]
    }
   ],
   "source": [
    "# another style\n",
    "\n",
    "cursor.execute(\"SELECT * FROM INFORMATION_SCHEMA.COLUMNS WHERE TABLE_NAME= N'Customers';\")\n",
    "\n",
    "rows=cursor.fetchall()\n",
    "\n",
    "df = pd.DataFrame([tuple(row) for row in rows], columns=[column[0] for column in cursor.description])\n",
    "print(df)"
   ]
  },
  {
   "cell_type": "code",
   "execution_count": 5,
   "metadata": {},
   "outputs": [
    {
     "name": "stdout",
     "output_type": "stream",
     "text": [
      "('Northwind', 'dbo', 'Customers', 'CustomerID', 1, None, 'NO', 'nchar', 5, 10, None, None, None, None, None, None, 'UNICODE', None, None, 'SQL_Latin1_General_CP1_CI_AS', None, None, None)\n",
      "('Northwind', 'dbo', 'Customers', 'CompanyName', 2, None, 'NO', 'nvarchar', 40, 80, None, None, None, None, None, None, 'UNICODE', None, None, 'SQL_Latin1_General_CP1_CI_AS', None, None, None)\n",
      "('Northwind', 'dbo', 'Customers', 'ContactName', 3, None, 'YES', 'nvarchar', 30, 60, None, None, None, None, None, None, 'UNICODE', None, None, 'SQL_Latin1_General_CP1_CI_AS', None, None, None)\n",
      "('Northwind', 'dbo', 'Customers', 'ContactTitle', 4, None, 'YES', 'nvarchar', 30, 60, None, None, None, None, None, None, 'UNICODE', None, None, 'SQL_Latin1_General_CP1_CI_AS', None, None, None)\n",
      "('Northwind', 'dbo', 'Customers', 'Address', 5, None, 'YES', 'nvarchar', 60, 120, None, None, None, None, None, None, 'UNICODE', None, None, 'SQL_Latin1_General_CP1_CI_AS', None, None, None)\n",
      "('Northwind', 'dbo', 'Customers', 'City', 6, None, 'YES', 'nvarchar', 15, 30, None, None, None, None, None, None, 'UNICODE', None, None, 'SQL_Latin1_General_CP1_CI_AS', None, None, None)\n",
      "('Northwind', 'dbo', 'Customers', 'Region', 7, None, 'YES', 'nvarchar', 15, 30, None, None, None, None, None, None, 'UNICODE', None, None, 'SQL_Latin1_General_CP1_CI_AS', None, None, None)\n",
      "('Northwind', 'dbo', 'Customers', 'PostalCode', 8, None, 'YES', 'nvarchar', 10, 20, None, None, None, None, None, None, 'UNICODE', None, None, 'SQL_Latin1_General_CP1_CI_AS', None, None, None)\n",
      "('Northwind', 'dbo', 'Customers', 'Country', 9, None, 'YES', 'nvarchar', 15, 30, None, None, None, None, None, None, 'UNICODE', None, None, 'SQL_Latin1_General_CP1_CI_AS', None, None, None)\n",
      "('Northwind', 'dbo', 'Customers', 'Phone', 10, None, 'YES', 'nvarchar', 24, 48, None, None, None, None, None, None, 'UNICODE', None, None, 'SQL_Latin1_General_CP1_CI_AS', None, None, None)\n",
      "('Northwind', 'dbo', 'Customers', 'Fax', 11, None, 'YES', 'nvarchar', 24, 48, None, None, None, None, None, None, 'UNICODE', None, None, 'SQL_Latin1_General_CP1_CI_AS', None, None, None)\n"
     ]
    }
   ],
   "source": [
    "cursor.execute(\"SELECT * FROM INFORMATION_SCHEMA.COLUMNS WHERE TABLE_NAME= N'Customers';\")\n",
    "\n",
    "rows=cursor.fetchall()\n",
    "\n",
    "for row in rows:\n",
    "\n",
    "    print(row)"
   ]
  },
  {
   "cell_type": "code",
   "execution_count": 19,
   "metadata": {},
   "outputs": [
    {
     "name": "stderr",
     "output_type": "stream",
     "text": [
      "C:\\Users\\mrkel\\AppData\\Local\\Temp\\ipykernel_12948\\1258928602.py:3: UserWarning: pandas only supports SQLAlchemy connectable (engine/connection) or database string URI or sqlite3 DBAPI2 connection. Other DBAPI2 objects are not tested. Please consider using SQLAlchemy.\n",
      "  df_cust = pd.read_sql_query(\"SELECT * FROM Customers;\", docker_Northwind)\n"
     ]
    }
   ],
   "source": [
    "# read a tab;e as a pandas dataframe\n",
    "\n",
    "df_cust = pd.read_sql_query(\"SELECT * FROM Customers;\", docker_Northwind)"
   ]
  },
  {
   "cell_type": "code",
   "execution_count": null,
   "metadata": {},
   "outputs": [],
   "source": [
    "# write a dataframe to a table in our sql server\n",
    "\n",
    "df_cust.to_sql(\"Test_from_Python\", docker_Northwind, if_exists='replace', index=False)"
   ]
  },
  {
   "cell_type": "code",
   "execution_count": null,
   "metadata": {},
   "outputs": [],
   "source": []
  },
  {
   "cell_type": "code",
   "execution_count": null,
   "metadata": {},
   "outputs": [],
   "source": []
  },
  {
   "cell_type": "code",
   "execution_count": null,
   "metadata": {},
   "outputs": [],
   "source": []
  },
  {
   "cell_type": "code",
   "execution_count": null,
   "metadata": {},
   "outputs": [],
   "source": []
  }
 ],
 "metadata": {
  "kernelspec": {
   "display_name": "Python 3",
   "language": "python",
   "name": "python3"
  },
  "language_info": {
   "codemirror_mode": {
    "name": "ipython",
    "version": 3
   },
   "file_extension": ".py",
   "mimetype": "text/x-python",
   "name": "python",
   "nbconvert_exporter": "python",
   "pygments_lexer": "ipython3",
   "version": "3.10.0"
  },
  "orig_nbformat": 4
 },
 "nbformat": 4,
 "nbformat_minor": 2
}
