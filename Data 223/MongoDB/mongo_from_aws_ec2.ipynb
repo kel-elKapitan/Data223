client = MongoClient('localhost', 27017)

# look at the collections in the database
print(client.list_database_names())