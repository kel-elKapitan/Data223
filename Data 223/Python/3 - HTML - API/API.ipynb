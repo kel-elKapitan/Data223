{
 "cells": [
  {
   "cell_type": "code",
   "execution_count": 2,
   "metadata": {},
   "outputs": [],
   "source": [
    "# Making a API request in python\n",
    "\n",
    "# Requesst to postcodes.io API\n",
    "\n",
    "import requests\n",
    "import json\n",
    "\n",
    "\n",
    "# GET REQUEST\n",
    "\n",
    "# API request     \n",
    "response = requests.get(\"https://api.postcodes.io/postcodes/TF43NW\")\n"
   ]
  },
  {
   "cell_type": "code",
   "execution_count": 3,
   "metadata": {},
   "outputs": [
    {
     "data": {
      "text/plain": [
       "200"
      ]
     },
     "execution_count": 3,
     "metadata": {},
     "output_type": "execute_result"
    }
   ],
   "source": [
    "response.status_code"
   ]
  },
  {
   "cell_type": "code",
   "execution_count": 5,
   "metadata": {},
   "outputs": [
    {
     "data": {
      "text/plain": [
       "requests.models.Response"
      ]
     },
     "execution_count": 5,
     "metadata": {},
     "output_type": "execute_result"
    }
   ],
   "source": [
    "type(response)"
   ]
  },
  {
   "cell_type": "code",
   "execution_count": 7,
   "metadata": {},
   "outputs": [],
   "source": [
    "\n",
    "response_dict = response.json()"
   ]
  },
  {
   "cell_type": "code",
   "execution_count": 8,
   "metadata": {},
   "outputs": [
    {
     "data": {
      "text/plain": [
       "{'status': 200,\n",
       " 'result': {'postcode': 'TF4 3NW',\n",
       "  'quality': 1,\n",
       "  'eastings': 368915,\n",
       "  'northings': 306951,\n",
       "  'country': 'England',\n",
       "  'nhs_ha': 'West Midlands',\n",
       "  'longitude': -2.461007,\n",
       "  'latitude': 52.659382,\n",
       "  'european_electoral_region': 'West Midlands',\n",
       "  'primary_care_trust': 'Telford and Wrekin',\n",
       "  'region': 'West Midlands',\n",
       "  'lsoa': 'Telford and Wrekin 019A',\n",
       "  'msoa': 'Telford and Wrekin 019',\n",
       "  'incode': '3NW',\n",
       "  'outcode': 'TF4',\n",
       "  'parliamentary_constituency': 'Telford',\n",
       "  'admin_district': 'Telford and Wrekin',\n",
       "  'parish': 'Great Dawley',\n",
       "  'admin_county': None,\n",
       "  'date_of_introduction': '198001',\n",
       "  'admin_ward': 'Dawley & Aqueduct',\n",
       "  'ced': None,\n",
       "  'ccg': 'NHS Shropshire, Telford and Wrekin',\n",
       "  'nuts': 'Telford and Wrekin',\n",
       "  'pfa': 'West Mercia',\n",
       "  'codes': {'admin_district': 'E06000020',\n",
       "   'admin_county': 'E99999999',\n",
       "   'admin_ward': 'E05009972',\n",
       "   'parish': 'E04000929',\n",
       "   'parliamentary_constituency': 'E14000989',\n",
       "   'ccg': 'E38000257',\n",
       "   'ccg_id': 'M2L0M',\n",
       "   'ced': 'E99999999',\n",
       "   'nuts': 'TLG21',\n",
       "   'lsoa': 'E01014119',\n",
       "   'msoa': 'E02002946',\n",
       "   'lau2': 'E06000020',\n",
       "   'pfa': 'E23000016'}}}"
      ]
     },
     "execution_count": 8,
     "metadata": {},
     "output_type": "execute_result"
    }
   ],
   "source": [
    "response_dict"
   ]
  },
  {
   "cell_type": "code",
   "execution_count": 10,
   "metadata": {},
   "outputs": [
    {
     "data": {
      "text/plain": [
       "dict_values([200, {'postcode': 'TF4 3NW', 'quality': 1, 'eastings': 368915, 'northings': 306951, 'country': 'England', 'nhs_ha': 'West Midlands', 'longitude': -2.461007, 'latitude': 52.659382, 'european_electoral_region': 'West Midlands', 'primary_care_trust': 'Telford and Wrekin', 'region': 'West Midlands', 'lsoa': 'Telford and Wrekin 019A', 'msoa': 'Telford and Wrekin 019', 'incode': '3NW', 'outcode': 'TF4', 'parliamentary_constituency': 'Telford', 'admin_district': 'Telford and Wrekin', 'parish': 'Great Dawley', 'admin_county': None, 'date_of_introduction': '198001', 'admin_ward': 'Dawley & Aqueduct', 'ced': None, 'ccg': 'NHS Shropshire, Telford and Wrekin', 'nuts': 'Telford and Wrekin', 'pfa': 'West Mercia', 'codes': {'admin_district': 'E06000020', 'admin_county': 'E99999999', 'admin_ward': 'E05009972', 'parish': 'E04000929', 'parliamentary_constituency': 'E14000989', 'ccg': 'E38000257', 'ccg_id': 'M2L0M', 'ced': 'E99999999', 'nuts': 'TLG21', 'lsoa': 'E01014119', 'msoa': 'E02002946', 'lau2': 'E06000020', 'pfa': 'E23000016'}}])"
      ]
     },
     "execution_count": 10,
     "metadata": {},
     "output_type": "execute_result"
    }
   ],
   "source": [
    "response_dict.values()"
   ]
  },
  {
   "cell_type": "code",
   "execution_count": 11,
   "metadata": {},
   "outputs": [
    {
     "data": {
      "text/plain": [
       "{'postcode': 'TF4 3NW',\n",
       " 'quality': 1,\n",
       " 'eastings': 368915,\n",
       " 'northings': 306951,\n",
       " 'country': 'England',\n",
       " 'nhs_ha': 'West Midlands',\n",
       " 'longitude': -2.461007,\n",
       " 'latitude': 52.659382,\n",
       " 'european_electoral_region': 'West Midlands',\n",
       " 'primary_care_trust': 'Telford and Wrekin',\n",
       " 'region': 'West Midlands',\n",
       " 'lsoa': 'Telford and Wrekin 019A',\n",
       " 'msoa': 'Telford and Wrekin 019',\n",
       " 'incode': '3NW',\n",
       " 'outcode': 'TF4',\n",
       " 'parliamentary_constituency': 'Telford',\n",
       " 'admin_district': 'Telford and Wrekin',\n",
       " 'parish': 'Great Dawley',\n",
       " 'admin_county': None,\n",
       " 'date_of_introduction': '198001',\n",
       " 'admin_ward': 'Dawley & Aqueduct',\n",
       " 'ced': None,\n",
       " 'ccg': 'NHS Shropshire, Telford and Wrekin',\n",
       " 'nuts': 'Telford and Wrekin',\n",
       " 'pfa': 'West Mercia',\n",
       " 'codes': {'admin_district': 'E06000020',\n",
       "  'admin_county': 'E99999999',\n",
       "  'admin_ward': 'E05009972',\n",
       "  'parish': 'E04000929',\n",
       "  'parliamentary_constituency': 'E14000989',\n",
       "  'ccg': 'E38000257',\n",
       "  'ccg_id': 'M2L0M',\n",
       "  'ced': 'E99999999',\n",
       "  'nuts': 'TLG21',\n",
       "  'lsoa': 'E01014119',\n",
       "  'msoa': 'E02002946',\n",
       "  'lau2': 'E06000020',\n",
       "  'pfa': 'E23000016'}}"
      ]
     },
     "execution_count": 11,
     "metadata": {},
     "output_type": "execute_result"
    }
   ],
   "source": [
    "response_dict['result']"
   ]
  },
  {
   "cell_type": "code",
   "execution_count": 19,
   "metadata": {},
   "outputs": [
    {
     "name": "stdout",
     "output_type": "stream",
     "text": [
      "<class 'dict'>\n",
      "<class 'str'>\n",
      "200\n"
     ]
    },
    {
     "data": {
      "text/plain": [
       "{'status': 200,\n",
       " 'result': [{'query': 'OX49 5NU',\n",
       "   'result': {'postcode': 'OX49 5NU',\n",
       "    'quality': 1,\n",
       "    'eastings': 464447,\n",
       "    'northings': 195647,\n",
       "    'country': 'England',\n",
       "    'nhs_ha': 'South Central',\n",
       "    'longitude': -1.069752,\n",
       "    'latitude': 51.655929,\n",
       "    'european_electoral_region': 'South East',\n",
       "    'primary_care_trust': 'Oxfordshire',\n",
       "    'region': 'South East',\n",
       "    'lsoa': 'South Oxfordshire 011B',\n",
       "    'msoa': 'South Oxfordshire 011',\n",
       "    'incode': '5NU',\n",
       "    'outcode': 'OX49',\n",
       "    'parliamentary_constituency': 'Henley',\n",
       "    'admin_district': 'South Oxfordshire',\n",
       "    'parish': 'Brightwell Baldwin',\n",
       "    'admin_county': 'Oxfordshire',\n",
       "    'date_of_introduction': '200010',\n",
       "    'admin_ward': 'Chalgrove',\n",
       "    'ced': 'Chalgrove and Watlington',\n",
       "    'ccg': 'NHS Buckinghamshire, Oxfordshire and Berkshire West',\n",
       "    'nuts': 'Oxfordshire CC',\n",
       "    'pfa': 'Thames Valley',\n",
       "    'codes': {'admin_district': 'E07000179',\n",
       "     'admin_county': 'E10000025',\n",
       "     'admin_ward': 'E05009735',\n",
       "     'parish': 'E04008109',\n",
       "     'parliamentary_constituency': 'E14000742',\n",
       "     'ccg': 'E38000136',\n",
       "     'ccg_id': '10Q',\n",
       "     'ced': 'E58001732',\n",
       "     'nuts': 'TLJ14',\n",
       "     'lsoa': 'E01028601',\n",
       "     'msoa': 'E02005968',\n",
       "     'lau2': 'E07000179',\n",
       "     'pfa': 'E23000029'}}},\n",
       "  {'query': 'M32 0JG',\n",
       "   'result': {'postcode': 'M32 0JG',\n",
       "    'quality': 1,\n",
       "    'eastings': 379988,\n",
       "    'northings': 395476,\n",
       "    'country': 'England',\n",
       "    'nhs_ha': 'North West',\n",
       "    'longitude': -2.302836,\n",
       "    'latitude': 53.455654,\n",
       "    'european_electoral_region': 'North West',\n",
       "    'primary_care_trust': 'Trafford',\n",
       "    'region': 'North West',\n",
       "    'lsoa': 'Trafford 003C',\n",
       "    'msoa': 'Trafford 003',\n",
       "    'incode': '0JG',\n",
       "    'outcode': 'M32',\n",
       "    'parliamentary_constituency': 'Stretford and Urmston',\n",
       "    'admin_district': 'Trafford',\n",
       "    'parish': 'Trafford, unparished area',\n",
       "    'admin_county': None,\n",
       "    'date_of_introduction': '198001',\n",
       "    'admin_ward': 'Gorse Hill',\n",
       "    'ced': None,\n",
       "    'ccg': 'NHS Greater Manchester',\n",
       "    'nuts': 'Greater Manchester South West',\n",
       "    'pfa': 'Greater Manchester',\n",
       "    'codes': {'admin_district': 'E08000009',\n",
       "     'admin_county': 'E99999999',\n",
       "     'admin_ward': 'E05000829',\n",
       "     'parish': 'E43000163',\n",
       "     'parliamentary_constituency': 'E14000979',\n",
       "     'ccg': 'E38000187',\n",
       "     'ccg_id': '02A',\n",
       "     'ced': 'E99999999',\n",
       "     'nuts': 'TLD34',\n",
       "     'lsoa': 'E01006187',\n",
       "     'msoa': 'E02001261',\n",
       "     'lau2': 'E08000009',\n",
       "     'pfa': 'E23000005'}}},\n",
       "  {'query': 'NE30 1DP',\n",
       "   'result': {'postcode': 'NE30 1DP',\n",
       "    'quality': 1,\n",
       "    'eastings': 435958,\n",
       "    'northings': 568671,\n",
       "    'country': 'England',\n",
       "    'nhs_ha': 'North East',\n",
       "    'longitude': -1.439269,\n",
       "    'latitude': 55.011303,\n",
       "    'european_electoral_region': 'North East',\n",
       "    'primary_care_trust': 'North Tyneside',\n",
       "    'region': 'North East',\n",
       "    'lsoa': 'North Tyneside 016C',\n",
       "    'msoa': 'North Tyneside 016',\n",
       "    'incode': '1DP',\n",
       "    'outcode': 'NE30',\n",
       "    'parliamentary_constituency': 'Tynemouth',\n",
       "    'admin_district': 'North Tyneside',\n",
       "    'parish': 'North Tyneside, unparished area',\n",
       "    'admin_county': None,\n",
       "    'date_of_introduction': '201303',\n",
       "    'admin_ward': 'Tynemouth',\n",
       "    'ced': None,\n",
       "    'ccg': 'NHS North East and North Cumbria',\n",
       "    'nuts': 'Tyneside',\n",
       "    'pfa': 'Northumbria',\n",
       "    'codes': {'admin_district': 'E08000022',\n",
       "     'admin_county': 'E99999999',\n",
       "     'admin_ward': 'E05001130',\n",
       "     'parish': 'E43000176',\n",
       "     'parliamentary_constituency': 'E14001006',\n",
       "     'ccg': 'E38000127',\n",
       "     'ccg_id': '99C',\n",
       "     'ced': 'E99999999',\n",
       "     'nuts': 'TLC22',\n",
       "     'lsoa': 'E01008561',\n",
       "     'msoa': 'E02001753',\n",
       "     'lau2': 'E08000022',\n",
       "     'pfa': 'E23000007'}}}]}"
      ]
     },
     "execution_count": 19,
     "metadata": {},
     "output_type": "execute_result"
    }
   ],
   "source": [
    "# POST request usisng python\n",
    "\n",
    "post_request = {\"postcodes\" : [\"OX49 5NU\", \"M32 0JG\", \"NE30 1DP\"]}\n",
    "print(type(post_request))\n",
    "json_body= json.dumps(post_request)\n",
    "headers = {\"content-type\": 'application/json'}\n",
    "print(type(json_body))\n",
    "\n",
    "post_multi_ressponse = requests.post(\"https://api.postcodes.io/postcodes\", headers=headers, data=json_body)\n",
    "\n",
    "\n",
    "\n",
    "print(post_multi_ressponse.status_code)\n",
    "post_multi_ressponse.json()\n",
    "#\"https://api.postcodes.io/postcodes\"\n",
    "\n",
    "#{\"postcodes\" : [\"OX49 5NU\", \"M32 0JG\", \"NE30 1DP\"]}"
   ]
  },
  {
   "cell_type": "code",
   "execution_count": null,
   "metadata": {},
   "outputs": [],
   "source": []
  }
 ],
 "metadata": {
  "kernelspec": {
   "display_name": "Python 3",
   "language": "python",
   "name": "python3"
  },
  "language_info": {
   "codemirror_mode": {
    "name": "ipython",
    "version": 3
   },
   "file_extension": ".py",
   "mimetype": "text/x-python",
   "name": "python",
   "nbconvert_exporter": "python",
   "pygments_lexer": "ipython3",
   "version": "3.10.11"
  },
  "orig_nbformat": 4
 },
 "nbformat": 4,
 "nbformat_minor": 2
}
