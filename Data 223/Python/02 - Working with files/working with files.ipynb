{
 "cells": [
  {
   "cell_type": "code",
   "execution_count": 2,
   "metadata": {},
   "outputs": [
    {
     "name": "stdout",
     "output_type": "stream",
     "text": [
      "<class 'str'>\n"
     ]
    }
   ],
   "source": [
    "# reading and writing  flat files\n",
    "\n",
    "# READING FILES\n",
    "\n",
    "file_name='hamlet.txt'\n",
    "file = open(file_name, mode='r')\n",
    "text = file.read() # read the file\n",
    "\n",
    "print(type(text))\n"
   ]
  },
  {
   "cell_type": "code",
   "execution_count": 3,
   "metadata": {},
   "outputs": [
    {
     "name": "stdout",
     "output_type": "stream",
     "text": [
      "To be, or not to be: that is the question:\n",
      "Whether â€˜tis nobler in the mind to suffer\n",
      "The slings and arrows of outrageous fortune,\n",
      "Or to take arms against a sea of troubles,\n",
      "And by opposing end them? To die: to sleep;\n",
      "No more; and by a sleep to say we end\n",
      "The heart-ache and the thousand natural shocks\n",
      "That flesh is heir to, â€˜tis a consummation\n",
      "Devoutly to be wishâ€™d. To die, to sleep;\n",
      "To sleep: perchance to dream: ay, thereâ€™s the rub;\n",
      "For in that sleep of death what dreams may come\n",
      "When we have shuffled off this mortal coil,\n",
      "Must give us pause: thereâ€™s the respect\n",
      "That makes calamity of so long life;\n",
      "For who would bear the whips and scorns of time,\n",
      "The oppressorâ€™s wrong, the proud manâ€™s contumely,\n",
      "The pangs of despised love, the lawâ€™s delay,\n",
      "The insolence of office and the spurns\n",
      "That patient merit of the unworthy takes,\n",
      "When he himself might his quietus make\n",
      "With a bare bodkin? who would fardels bear,\n",
      "To grunt and sweat under a weary life,\n",
      "But that the dread of something after death,\n",
      "The undiscoverâ€™d country from whose bourn\n",
      "No traveller returns, puzzles the will\n",
      "And makes us rather bear those ills we have\n",
      "Than fly to others that we know not of?\n",
      "Thus conscience does make cowards of us all;\n",
      "And thus the native hue of resolution\n",
      "Is sicklied oâ€™er with the pale cast of thought,\n",
      "And enterprises of great pith and moment\n",
      "With this regard their currents turn awry,\n",
      "And lose the name of action.â€”Soft you now!\n",
      "The fair Ophelia! Nymph, in thy orisons\n",
      "Be all my sins rememberâ€™d.\n"
     ]
    }
   ],
   "source": [
    "print(text)"
   ]
  },
  {
   "cell_type": "code",
   "execution_count": 2,
   "metadata": {},
   "outputs": [
    {
     "data": {
      "text/plain": [
       "34"
      ]
     },
     "execution_count": 2,
     "metadata": {},
     "output_type": "execute_result"
    }
   ],
   "source": [
    "# Writing Files\n",
    "#THIS IS NOT APPENDING, THIS OVERWRITES EACH TIME IT IS RUN\n",
    "\n",
    "file = open('butterfly.txt' , 'w')\n",
    "file.write('Today I ssaw a beautiful butterfly')\n",
    "# add more file read and write operations\n",
    "file.close()"
   ]
  },
  {
   "cell_type": "code",
   "execution_count": 8,
   "metadata": {},
   "outputs": [
    {
     "data": {
      "text/plain": [
       "27"
      ]
     },
     "execution_count": 8,
     "metadata": {},
     "output_type": "execute_result"
    }
   ],
   "source": [
    "# Append a file\n",
    "\n",
    "file= open('butterfly.txt', 'a')\n",
    "file.write('\\n')\n",
    "file.write('Another beautiful butterfly')"
   ]
  },
  {
   "cell_type": "code",
   "execution_count": null,
   "metadata": {},
   "outputs": [],
   "source": [
    "# what is with open"
   ]
  },
  {
   "cell_type": "code",
   "execution_count": null,
   "metadata": {},
   "outputs": [],
   "source": [
    "# Add with open example here"
   ]
  },
  {
   "cell_type": "code",
   "execution_count": null,
   "metadata": {},
   "outputs": [],
   "source": []
  },
  {
   "cell_type": "code",
   "execution_count": 10,
   "metadata": {},
   "outputs": [],
   "source": [
    "# CSV module\n",
    "import csv"
   ]
  },
  {
   "cell_type": "code",
   "execution_count": null,
   "metadata": {},
   "outputs": [],
   "source": [
    "with open('user_details.csv') as file:\n",
    "    reader = csv.reader(file) # reader returns a generator object, can be iterated over\n",
    "\n",
    "    for row in reader:\n",
    "        print()\n",
    "        print(type(row[1,2,4]))\n",
    "\n",
    "\n",
    "print(file.closed)\n",
    "print(reader)\n"
   ]
  },
  {
   "cell_type": "code",
   "execution_count": 26,
   "metadata": {},
   "outputs": [
    {
     "name": "stdout",
     "output_type": "stream",
     "text": [
      "list['firstName', 'lastName', 'email']\n",
      "list['Alasdair', 'Beeckx', 'abeeckx0@un.org']\n",
      "list['Saunder', 'Murname', 'smurname1@ftc.gov']\n",
      "list['Julissa', 'Spriddle', 'jspriddle2@chicagotribune.com']\n",
      "list['Bernadene', 'Peak', 'bpeak3@fc2.com']\n",
      "list['Cass', 'Bernardeschi', 'cbernardeschi4@technorati.com']\n",
      "list['Aggi', 'Lipson', 'alipson5@ucoz.ru']\n",
      "list['Trescha', 'Damato', 'tdamato6@skyrock.com']\n",
      "list['Dav', 'Headon', 'dheadon7@ted.com']\n",
      "list['Nealson', 'Janeway', 'njaneway8@360.cn']\n",
      "list['Laney', 'Trobey', 'ltrobey9@eventbrite.com']\n"
     ]
    }
   ],
   "source": [
    "def name_email():\n",
    "    with open('user_details.csv') as file:\n",
    "        reader = csv.reader(file)\n",
    "\n",
    "        for row in reader:\n",
    "            print(list[row[1], row[2], row[4]])\n",
    "\n",
    "name_email()\n"
   ]
  },
  {
   "cell_type": "code",
   "execution_count": null,
   "metadata": {},
   "outputs": [],
   "source": []
  },
  {
   "cell_type": "code",
   "execution_count": null,
   "metadata": {},
   "outputs": [],
   "source": [
    "# To do\n",
    "# summarise the following\n",
    "# 1. read a json  \n",
    "# 2. convert json to dict\n",
    "# 3. convert a dict to json\n",
    "# 4. Save a json as a json file\n",
    "# 5. encode json\n",
    "# 6. decode json"
   ]
  },
  {
   "cell_type": "code",
   "execution_count": null,
   "metadata": {},
   "outputs": [],
   "source": []
  },
  {
   "cell_type": "code",
   "execution_count": null,
   "metadata": {},
   "outputs": [],
   "source": []
  },
  {
   "cell_type": "code",
   "execution_count": null,
   "metadata": {},
   "outputs": [],
   "source": []
  },
  {
   "cell_type": "code",
   "execution_count": null,
   "metadata": {},
   "outputs": [],
   "source": []
  },
  {
   "cell_type": "code",
   "execution_count": null,
   "metadata": {},
   "outputs": [],
   "source": []
  }
 ],
 "metadata": {
  "kernelspec": {
   "display_name": "Python 3 (ipykernel)",
   "language": "python",
   "name": "python3"
  },
  "language_info": {
   "codemirror_mode": {
    "name": "ipython",
    "version": 3
   },
   "file_extension": ".py",
   "mimetype": "text/x-python",
   "name": "python",
   "nbconvert_exporter": "python",
   "pygments_lexer": "ipython3",
   "version": "3.10.11"
  },
  "orig_nbformat": 4
 },
 "nbformat": 4,
 "nbformat_minor": 2
}
