{
 "cells": [
  {
   "cell_type": "code",
   "execution_count": 2,
   "metadata": {},
   "outputs": [
    {
     "name": "stdout",
     "output_type": "stream",
     "text": [
      "<class 'str'>\n"
     ]
    }
   ],
   "source": [
    "# reading and writing  flat files\n",
    "file_name='hamlet.txt'\n",
    "file = open(file_name, mode='r')\n",
    "text = file.read() # read the file\n",
    "\n",
    "print(type(text))\n"
   ]
  },
  {
   "cell_type": "code",
   "execution_count": 3,
   "metadata": {},
   "outputs": [
    {
     "name": "stdout",
     "output_type": "stream",
     "text": [
      "To be, or not to be: that is the question:\n",
      "Whether â€˜tis nobler in the mind to suffer\n",
      "The slings and arrows of outrageous fortune,\n",
      "Or to take arms against a sea of troubles,\n",
      "And by opposing end them? To die: to sleep;\n",
      "No more; and by a sleep to say we end\n",
      "The heart-ache and the thousand natural shocks\n",
      "That flesh is heir to, â€˜tis a consummation\n",
      "Devoutly to be wishâ€™d. To die, to sleep;\n",
      "To sleep: perchance to dream: ay, thereâ€™s the rub;\n",
      "For in that sleep of death what dreams may come\n",
      "When we have shuffled off this mortal coil,\n",
      "Must give us pause: thereâ€™s the respect\n",
      "That makes calamity of so long life;\n",
      "For who would bear the whips and scorns of time,\n",
      "The oppressorâ€™s wrong, the proud manâ€™s contumely,\n",
      "The pangs of despised love, the lawâ€™s delay,\n",
      "The insolence of office and the spurns\n",
      "That patient merit of the unworthy takes,\n",
      "When he himself might his quietus make\n",
      "With a bare bodkin? who would fardels bear,\n",
      "To grunt and sweat under a weary life,\n",
      "But that the dread of something after death,\n",
      "The undiscoverâ€™d country from whose bourn\n",
      "No traveller returns, puzzles the will\n",
      "And makes us rather bear those ills we have\n",
      "Than fly to others that we know not of?\n",
      "Thus conscience does make cowards of us all;\n",
      "And thus the native hue of resolution\n",
      "Is sicklied oâ€™er with the pale cast of thought,\n",
      "And enterprises of great pith and moment\n",
      "With this regard their currents turn awry,\n",
      "And lose the name of action.â€”Soft you now!\n",
      "The fair Ophelia! Nymph, in thy orisons\n",
      "Be all my sins rememberâ€™d.\n"
     ]
    }
   ],
   "source": [
    "print(text)"
   ]
  },
  {
   "cell_type": "code",
   "execution_count": 4,
   "metadata": {},
   "outputs": [],
   "source": [
    "# Reading files\n",
    "\n",
    "\n"
   ]
  },
  {
   "cell_type": "code",
   "execution_count": 5,
   "metadata": {},
   "outputs": [],
   "source": [
    "# Writing Files"
   ]
  },
  {
   "cell_type": "code",
   "execution_count": null,
   "metadata": {},
   "outputs": [],
   "source": []
  },
  {
   "cell_type": "code",
   "execution_count": null,
   "metadata": {},
   "outputs": [],
   "source": []
  },
  {
   "cell_type": "code",
   "execution_count": null,
   "metadata": {},
   "outputs": [],
   "source": []
  },
  {
   "cell_type": "code",
   "execution_count": null,
   "metadata": {},
   "outputs": [],
   "source": []
  },
  {
   "cell_type": "code",
   "execution_count": null,
   "metadata": {},
   "outputs": [],
   "source": []
  },
  {
   "cell_type": "code",
   "execution_count": null,
   "metadata": {},
   "outputs": [],
   "source": []
  },
  {
   "cell_type": "code",
   "execution_count": null,
   "metadata": {},
   "outputs": [],
   "source": []
  }
 ],
 "metadata": {
  "kernelspec": {
   "display_name": "Python 3",
   "language": "python",
   "name": "python3"
  },
  "language_info": {
   "codemirror_mode": {
    "name": "ipython",
    "version": 3
   },
   "file_extension": ".py",
   "mimetype": "text/x-python",
   "name": "python",
   "nbconvert_exporter": "python",
   "pygments_lexer": "ipython3",
   "version": "3.10.11"
  },
  "orig_nbformat": 4
 },
 "nbformat": 4,
 "nbformat_minor": 2
}
