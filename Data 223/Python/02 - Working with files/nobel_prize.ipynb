{
 "cells": [
  {
   "cell_type": "code",
   "execution_count": null,
   "metadata": {},
   "outputs": [],
   "source": [
    "# converting a json object into a pandas dataframe\n",
    "\n",
    "# import modules\n",
    "import pandas as pd\n",
    "import requests\n",
    "import json\n"
   ]
  },
  {
   "cell_type": "code",
   "execution_count": null,
   "metadata": {},
   "outputs": [],
   "source": []
  },
  {
   "cell_type": "code",
   "execution_count": null,
   "metadata": {},
   "outputs": [],
   "source": [
    "# request the data from the API and save it in a variable\n",
    "response = requests.get(\"http://api.nobelprize.org/2.1/nobelPrizes\")\n",
    "response2 = requests.get(\"http://api.nobelprize.org/2.1/laureates\")\n",
    "\n",
    "\n"
   ]
  },
  {
   "cell_type": "code",
   "execution_count": null,
   "metadata": {},
   "outputs": [],
   "source": [
    "# convert the json object into a dictionary\n",
    "response_dict = response.json()\n",
    "response_dict2 = response2.json()\n"
   ]
  },
  {
   "cell_type": "code",
   "execution_count": null,
   "metadata": {},
   "outputs": [],
   "source": [
    "# Save all data into a json file\n",
    "with open('nobel_prize.json', 'w') as f:\n",
    "    json.dump(response_dict, f)\n",
    "f.close()\n",
    "\n",
    "with open('laureates.json', 'w') as f:\n",
    "    # Write the dictionary to the file as JSON\n",
    "    json.dump(response_dict2, f)\n",
    "f.close()"
   ]
  },
  {
   "cell_type": "code",
   "execution_count": null,
   "metadata": {},
   "outputs": [],
   "source": [
    "print(response_dict)"
   ]
  },
  {
   "cell_type": "code",
   "execution_count": null,
   "metadata": {},
   "outputs": [],
   "source": [
    "# function to take away the top dictionary layer to the json object and the next list layer\n",
    "\n",
    "def top_2_layers(my_obj):\n",
    "\n",
    "    for key, value in my_obj.items():\n",
    "        if isinstance(value, list):\n",
    "            value = value[0]\n",
    "            my_obj = value        \n",
    "\n",
    "    return my_obj\n",
    "\n",
    "top_2_layers(resposne_dict)\n"
   ]
  },
  {
   "cell_type": "code",
   "execution_count": null,
   "metadata": {},
   "outputs": [],
   "source": [
    "# Save a copy of the dictionary features in lists to be compiled later into a dataframe\n",
    "\n",
    "awardYear = []\n",
    "category = []\n",
    "categoryFullName = []\n",
    "\n",
    "\n",
    "\n",
    "for i in response_dict['nobelPrizes']:\n",
    "    #print(i)\n",
    "    awardYear.append(i['awardYear'])\n",
    "    category.append(i['category'])\n",
    "    categoryFullName.append(i['categoryFullName'])\n",
    "    \n",
    "\n",
    "\n",
    "print(len(awardYear))\n",
    "print(awardYear)\n",
    "print(len(category))\n",
    "print(category)\n",
    "print(len(categoryFullName))\n",
    "print(categoryFullName)\n",
    "\n"
   ]
  },
  {
   "cell_type": "code",
   "execution_count": null,
   "metadata": {},
   "outputs": [],
   "source": [
    "# Save a copy of the string features in lists to be compiled later into a dataframe\n",
    "\n",
    "# dataAwarded, prizeAmount, prizeAmountAdjusted,links, laureates\n",
    "\n",
    "dataAwarded = []\n",
    "prizeAmount = []\n",
    "prizeAmountAdjusted = []\n",
    "links = []\n",
    "laureates = []\n",
    "\n",
    "\n",
    "for i in response_dict['nobelPrizes']:\n",
    "    print(i['dateAwarded'])\n",
    "    counter +=1\n",
    "\n",
    "print(response_dict)"
   ]
  },
  {
   "cell_type": "code",
   "execution_count": null,
   "metadata": {},
   "outputs": [],
   "source": []
  },
  {
   "cell_type": "code",
   "execution_count": null,
   "metadata": {},
   "outputs": [],
   "source": []
  },
  {
   "cell_type": "code",
   "execution_count": null,
   "metadata": {},
   "outputs": [],
   "source": []
  },
  {
   "cell_type": "code",
   "execution_count": null,
   "metadata": {},
   "outputs": [],
   "source": []
  },
  {
   "cell_type": "code",
   "execution_count": null,
   "metadata": {},
   "outputs": [],
   "source": []
  },
  {
   "cell_type": "code",
   "execution_count": null,
   "metadata": {},
   "outputs": [],
   "source": []
  },
  {
   "cell_type": "code",
   "execution_count": null,
   "metadata": {},
   "outputs": [],
   "source": []
  },
  {
   "cell_type": "code",
   "execution_count": null,
   "metadata": {},
   "outputs": [],
   "source": []
  },
  {
   "cell_type": "code",
   "execution_count": null,
   "metadata": {},
   "outputs": [],
   "source": []
  },
  {
   "cell_type": "code",
   "execution_count": null,
   "metadata": {},
   "outputs": [],
   "source": []
  },
  {
   "cell_type": "code",
   "execution_count": null,
   "metadata": {},
   "outputs": [],
   "source": []
  },
  {
   "cell_type": "code",
   "execution_count": null,
   "metadata": {},
   "outputs": [],
   "source": []
  },
  {
   "cell_type": "code",
   "execution_count": null,
   "metadata": {},
   "outputs": [],
   "source": []
  },
  {
   "cell_type": "code",
   "execution_count": null,
   "metadata": {},
   "outputs": [],
   "source": []
  },
  {
   "cell_type": "code",
   "execution_count": null,
   "metadata": {},
   "outputs": [],
   "source": []
  },
  {
   "cell_type": "code",
   "execution_count": null,
   "metadata": {},
   "outputs": [],
   "source": [
    "# driver code to strip 2 layers from the json object\n",
    "\n",
    "response_dict = top_2_layers(response_dict)\n",
    "response_dict2 = top_2_layers(response_dict2)\n"
   ]
  },
  {
   "cell_type": "code",
   "execution_count": null,
   "metadata": {},
   "outputs": [],
   "source": [
    "# Check the top two layers are now removed\n",
    "\n",
    "print(response_dict)\n",
    "print(response_dict2)"
   ]
  },
  {
   "cell_type": "code",
   "execution_count": null,
   "metadata": {},
   "outputs": [],
   "source": [
    "# Isolate one key and its corresponding value from the dictionary\n",
    "for i in response_dict:\n",
    "    print(i)\n",
    "    print(type(i))\n",
    "\n",
    "print(type(response_dict))\n",
    "nobelPrizes = response_dict.get('awardYear')\n",
    "print(nobelPrizes)"
   ]
  },
  {
   "cell_type": "code",
   "execution_count": null,
   "metadata": {},
   "outputs": [],
   "source": [
    "print(response_dict[0]['nobelPrizes'])"
   ]
  },
  {
   "cell_type": "code",
   "execution_count": null,
   "metadata": {},
   "outputs": [],
   "source": []
  },
  {
   "cell_type": "code",
   "execution_count": null,
   "metadata": {},
   "outputs": [],
   "source": []
  }
 ],
 "metadata": {
  "kernelspec": {
   "display_name": "Python 3",
   "language": "python",
   "name": "python3"
  },
  "language_info": {
   "codemirror_mode": {
    "name": "ipython",
    "version": 3
   },
   "file_extension": ".py",
   "mimetype": "text/x-python",
   "name": "python",
   "nbconvert_exporter": "python",
   "pygments_lexer": "ipython3",
   "version": "3.10.11"
  },
  "orig_nbformat": 4
 },
 "nbformat": 4,
 "nbformat_minor": 2
}
