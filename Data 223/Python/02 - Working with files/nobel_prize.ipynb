{
 "cells": [
  {
   "cell_type": "code",
   "execution_count": 2,
   "metadata": {},
   "outputs": [],
   "source": [
    "# converting a json object into a pandas dataframe\n",
    "\n",
    "# import modules\n",
    "import pandas as pd\n",
    "import requests\n",
    "import json\n"
   ]
  },
  {
   "cell_type": "code",
   "execution_count": null,
   "metadata": {},
   "outputs": [],
   "source": []
  },
  {
   "cell_type": "code",
   "execution_count": 15,
   "metadata": {},
   "outputs": [],
   "source": [
    "# request the data from the API and save it in a variable\n",
    "response = requests.get(\"http://api.nobelprize.org/2.1/nobelPrizes\", params={\"limit\": \"1000\"})\n",
    "response2 = requests.get(\"http://api.nobelprize.org/2.1/laureates\", params={\"limit\": \"1000\"})\n",
    "\n",
    "\n"
   ]
  },
  {
   "cell_type": "code",
   "execution_count": null,
   "metadata": {},
   "outputs": [],
   "source": []
  },
  {
   "cell_type": "code",
   "execution_count": 4,
   "metadata": {},
   "outputs": [],
   "source": [
    "# convert the json object into a dictionary\n",
    "response_dict = response.json()\n",
    "response_dict2 = response2.json()\n"
   ]
  },
  {
   "cell_type": "code",
   "execution_count": 5,
   "metadata": {},
   "outputs": [],
   "source": [
    "# Save all data into a json file\n",
    "with open('nobel_prize.json', 'w') as f:\n",
    "    json.dump(response_dict, f)\n",
    "f.close()\n",
    "\n",
    "with open('laureates.json', 'w') as f:\n",
    "    # Write the dictionary to the file as JSON\n",
    "    json.dump(response_dict2, f)\n",
    "f.close()"
   ]
  },
  {
   "cell_type": "code",
   "execution_count": 8,
   "metadata": {},
   "outputs": [
    {
     "name": "stdout",
     "output_type": "stream",
     "text": [
      "{'nobelPrizes': [{'awardYear': '1901', 'category': {'en': 'Chemistry', 'no': 'Kjemi', 'se': 'Kemi'}, 'categoryFullName': {'en': 'The Nobel Prize in Chemistry', 'no': 'Nobelprisen i kjemi', 'se': 'Nobelpriset i kemi'}, 'dateAwarded': '1901-11-12', 'prizeAmount': 150782, 'prizeAmountAdjusted': 8722510, 'links': [{'rel': 'nobelPrize', 'href': 'https://api.nobelprize.org/2/nobelPrize/che/1901', 'action': 'GET', 'types': 'application/json'}], 'laureates': [{'id': '160', 'knownName': {'en': \"Jacobus H. van 't Hoff\"}, 'fullName': {'en': \"Jacobus Henricus van 't Hoff\"}, 'portion': '1', 'sortOrder': '1', 'motivation': {'en': 'in recognition of the extraordinary services he has rendered by the discovery of the laws of chemical dynamics and osmotic pressure in solutions', 'se': 'såsom ett erkännande av den utomordentliga förtjänst han inlagt genom upptäckten av lagarna för den kemiska dynamiken och för det osmotiska trycket i lösningar'}, 'links': [{'rel': 'laureate', 'href': 'https://api.nobelprize.org/2/laureate/160', 'action': 'GET', 'types': 'application/json'}]}]}, {'awardYear': '1901', 'category': {'en': 'Literature', 'no': 'Litteratur', 'se': 'Litteratur'}, 'categoryFullName': {'en': 'The Nobel Prize in Literature', 'no': 'Nobelprisen i litteratur', 'se': 'Nobelpriset i litteratur'}, 'dateAwarded': '1901-11-14', 'prizeAmount': 150782, 'prizeAmountAdjusted': 8722510, 'links': [{'rel': 'nobelPrize', 'href': 'https://api.nobelprize.org/2/nobelPrize/lit/1901', 'action': 'GET', 'types': 'application/json'}], 'laureates': [{'id': '569', 'knownName': {'en': 'Sully Prudhomme'}, 'fullName': {'en': 'Sully Prudhomme'}, 'portion': '1', 'sortOrder': '1', 'motivation': {'en': 'in special recognition of his poetic composition, which gives evidence of lofty idealism, artistic perfection and a rare combination of the qualities of both heart and intellect', 'se': 'såsom ett erkännande av hans utmärkta, jämväl under senare år ådagalagda förtjänster som författare och särskilt av hans om hög idealitet, konstnärlig fulländning samt sällspord förening av hjärtats och snillets egenskaper vittnande diktning'}, 'links': [{'rel': 'laureate', 'href': 'https://api.nobelprize.org/2/laureate/569', 'action': 'GET', 'types': 'application/json'}]}]}, {'awardYear': '1901', 'category': {'en': 'Peace', 'no': 'Fred', 'se': 'Fred'}, 'categoryFullName': {'en': 'The Nobel Peace Prize', 'no': 'Nobels fredspris', 'se': 'Nobels fredspris'}, 'dateAwarded': '1901-12-10', 'prizeAmount': 150782, 'prizeAmountAdjusted': 8722510, 'links': [{'rel': 'nobelPrize', 'href': 'https://api.nobelprize.org/2/nobelPrize/pea/1901', 'action': 'GET', 'types': 'application/json'}], 'laureates': [{'id': '462', 'knownName': {'en': 'Henry Dunant'}, 'fullName': {'en': 'Jean Henry Dunant'}, 'portion': '1/2', 'sortOrder': '1', 'motivation': {'en': 'for his humanitarian efforts to help wounded soldiers and create international understanding', 'no': 'for sin humanitære innsats for å hjelpe sårede soldater og skape internasjonal forståelse'}, 'links': [{'rel': 'laureate', 'href': 'https://api.nobelprize.org/2/laureate/462', 'action': 'GET', 'types': 'application/json'}]}, {'id': '463', 'knownName': {'en': 'Frédéric Passy'}, 'fullName': {'en': 'Frédéric Passy'}, 'portion': '1/2', 'sortOrder': '2', 'motivation': {'en': 'for his lifelong work for international peace conferences, diplomacy and arbitration', 'no': 'for sin  livslange innsats for internasjonale fredskonferanser, diplomati og voldgift'}, 'links': [{'rel': 'laureate', 'href': 'https://api.nobelprize.org/2/laureate/463', 'action': 'GET', 'types': 'application/json'}]}]}, {'awardYear': '1901', 'category': {'en': 'Physics', 'no': 'Fysikk', 'se': 'Fysik'}, 'categoryFullName': {'en': 'The Nobel Prize in Physics', 'no': 'Nobelprisen i fysikk', 'se': 'Nobelpriset i fysik'}, 'dateAwarded': '1901-11-12', 'prizeAmount': 150782, 'prizeAmountAdjusted': 8722510, 'links': [{'rel': 'nobelPrize', 'href': 'https://api.nobelprize.org/2/nobelPrize/phy/1901', 'action': 'GET', 'types': 'application/json'}], 'laureates': [{'id': '1', 'knownName': {'en': 'Wilhelm Conrad Röntgen'}, 'fullName': {'en': 'Wilhelm Conrad Röntgen'}, 'portion': '1', 'sortOrder': '1', 'motivation': {'en': 'in recognition of the extraordinary services he has rendered by the discovery of the remarkable rays subsequently named after him', 'se': 'såsom ett erkännande av den utomordentliga förtjänst han inlagt genom upptäckten av de egendomliga strålar, som sedermera uppkallats efter honom'}, 'links': [{'rel': 'laureate', 'href': 'https://api.nobelprize.org/2/laureate/1', 'action': 'GET', 'types': 'application/json'}]}]}, {'awardYear': '1901', 'category': {'en': 'Physiology or Medicine', 'no': 'Fysiologi eller medisin', 'se': 'Fysiologi eller medicin'}, 'categoryFullName': {'en': 'The Nobel Prize in Physiology or Medicine', 'no': 'Nobelprisen i fysiologi eller medisin', 'se': 'Nobelpriset i fysiologi eller medicin'}, 'dateAwarded': '1901-10-30', 'prizeAmount': 150782, 'prizeAmountAdjusted': 8722510, 'links': [{'rel': 'nobelPrize', 'href': 'https://api.nobelprize.org/2/nobelPrize/med/1901', 'action': 'GET', 'types': 'application/json'}], 'laureates': [{'id': '293', 'knownName': {'en': 'Emil von Behring'}, 'fullName': {'en': 'Emil Adolf von Behring'}, 'portion': '1', 'sortOrder': '1', 'motivation': {'en': 'for his work on serum therapy, especially its application against diphtheria, by which he has opened a new road in the domain of medical science and thereby placed in the hands of the physician a victorious weapon against illness and deaths', 'se': 'för hans arbete rörande serumterapien och särskilt dess användning mot difteri, varigenom han brutit en ny väg inom den medicinska vetenskapens område och givit läkaren ett segerrikt vapen i kampen mot sjukdom och död'}, 'links': [{'rel': 'laureate', 'href': 'https://api.nobelprize.org/2/laureate/293', 'action': 'GET', 'types': 'application/json'}]}]}, {'awardYear': '1902', 'category': {'en': 'Chemistry', 'no': 'Kjemi', 'se': 'Kemi'}, 'categoryFullName': {'en': 'The Nobel Prize in Chemistry', 'no': 'Nobelprisen i kjemi', 'se': 'Nobelpriset i kemi'}, 'dateAwarded': '1902-11-11', 'prizeAmount': 141847, 'prizeAmountAdjusted': 8205634, 'links': [{'rel': 'nobelPrize', 'href': 'https://api.nobelprize.org/2/nobelPrize/che/1902', 'action': 'GET', 'types': 'application/json'}], 'laureates': [{'id': '161', 'knownName': {'en': 'Emil Fischer'}, 'fullName': {'en': 'Hermann Emil Fischer'}, 'portion': '1', 'sortOrder': '1', 'motivation': {'en': 'in recognition of the extraordinary services he has rendered by his work on sugar and purine syntheses', 'se': 'såsom ett erkännande av den utomordentliga förtjänst han inlagt genom sina syntetiska arbeten inom socker - och purin-grupperna'}, 'links': [{'rel': 'laureate', 'href': 'https://api.nobelprize.org/2/laureate/161', 'action': 'GET', 'types': 'application/json'}]}]}, {'awardYear': '1902', 'category': {'en': 'Literature', 'no': 'Litteratur', 'se': 'Litteratur'}, 'categoryFullName': {'en': 'The Nobel Prize in Literature', 'no': 'Nobelprisen i litteratur', 'se': 'Nobelpriset i litteratur'}, 'dateAwarded': '1902-11-13', 'prizeAmount': 141847, 'prizeAmountAdjusted': 8205634, 'links': [{'rel': 'nobelPrize', 'href': 'https://api.nobelprize.org/2/nobelPrize/lit/1902', 'action': 'GET', 'types': 'application/json'}], 'laureates': [{'id': '571', 'knownName': {'en': 'Theodor Mommsen'}, 'fullName': {'en': 'Christian Matthias Theodor Mommsen'}, 'portion': '1', 'sortOrder': '1', 'motivation': {'en': 'the greatest living master of the art of historical writing, with special reference to his monumental work, <I>A history of Rome</I>', 'se': 'nutidens störste levande mästare i den historiska framställningens konst, med särskilt fäst avseende å hans monumentala verk Römische Geschichte'}, 'links': [{'rel': 'laureate', 'href': 'https://api.nobelprize.org/2/laureate/571', 'action': 'GET', 'types': 'application/json'}]}]}, {'awardYear': '1902', 'category': {'en': 'Peace', 'no': 'Fred', 'se': 'Fred'}, 'categoryFullName': {'en': 'The Nobel Peace Prize', 'no': 'Nobels fredspris', 'se': 'Nobels fredspris'}, 'dateAwarded': '1902-12-10', 'prizeAmount': 141847, 'prizeAmountAdjusted': 8205634, 'links': [{'rel': 'nobelPrize', 'href': 'https://api.nobelprize.org/2/nobelPrize/pea/1902', 'action': 'GET', 'types': 'application/json'}], 'laureates': [{'id': '464', 'knownName': {'en': 'Élie Ducommun'}, 'fullName': {'en': 'Élie Ducommun'}, 'portion': '1/2', 'sortOrder': '1', 'motivation': {'en': 'for his untiring and skilful directorship of the Bern Peace Bureau', 'no': 'for sin utrettelige og dyktige ledelse av Det internasjonale fredsbyrået i Bern'}, 'links': [{'rel': 'laureate', 'href': 'https://api.nobelprize.org/2/laureate/464', 'action': 'GET', 'types': 'application/json'}]}, {'id': '465', 'knownName': {'en': 'Albert Gobat'}, 'fullName': {'en': 'Charles Albert Gobat'}, 'portion': '1/2', 'sortOrder': '2', 'motivation': {'en': 'for his eminently practical administration of the Inter-Parliamentary Union', 'no': 'for sin fremragende praktiske administrering av Den interparlamentariske union'}, 'links': [{'rel': 'laureate', 'href': 'https://api.nobelprize.org/2/laureate/465', 'action': 'GET', 'types': 'application/json'}]}]}, {'awardYear': '1902', 'category': {'en': 'Physics', 'no': 'Fysikk', 'se': 'Fysik'}, 'categoryFullName': {'en': 'The Nobel Prize in Physics', 'no': 'Nobelprisen i fysikk', 'se': 'Nobelpriset i fysik'}, 'dateAwarded': '1902-11-11', 'prizeAmount': 141847, 'prizeAmountAdjusted': 8205634, 'links': [{'rel': 'nobelPrize', 'href': 'https://api.nobelprize.org/2/nobelPrize/phy/1902', 'action': 'GET', 'types': 'application/json'}], 'laureates': [{'id': '2', 'knownName': {'en': 'Hendrik A. Lorentz'}, 'fullName': {'en': 'Hendrik Antoon Lorentz'}, 'portion': '1/2', 'sortOrder': '1', 'motivation': {'en': 'in recognition of the extraordinary service they rendered by their researches into the influence of magnetism upon radiation phenomena', 'se': 'såsom ett erkännande av den utomordentliga förtjänst de inlagt genom sina undersökningar över magnetismens inflytande på strålningsfenomenen'}, 'links': [{'rel': 'laureate', 'href': 'https://api.nobelprize.org/2/laureate/2', 'action': 'GET', 'types': 'application/json'}]}, {'id': '3', 'knownName': {'en': 'Pieter Zeeman'}, 'fullName': {'en': 'Pieter Zeeman'}, 'portion': '1/2', 'sortOrder': '2', 'motivation': {'en': 'in recognition of the extraordinary service they rendered by their researches into the influence of magnetism upon radiation phenomena', 'se': 'såsom ett erkännande av den utomordentliga förtjänst de inlagt genom sina undersökningar över magnetismens inflytande på strålningsfenomenen'}, 'links': [{'rel': 'laureate', 'href': 'https://api.nobelprize.org/2/laureate/3', 'action': 'GET', 'types': 'application/json'}]}]}, {'awardYear': '1902', 'category': {'en': 'Physiology or Medicine', 'no': 'Fysiologi eller medisin', 'se': 'Fysiologi eller medicin'}, 'categoryFullName': {'en': 'The Nobel Prize in Physiology or Medicine', 'no': 'Nobelprisen i fysiologi eller medisin', 'se': 'Nobelpriset i fysiologi eller medicin'}, 'dateAwarded': '1902-10-30', 'prizeAmount': 141847, 'prizeAmountAdjusted': 8205634, 'links': [{'rel': 'nobelPrize', 'href': 'https://api.nobelprize.org/2/nobelPrize/med/1902', 'action': 'GET', 'types': 'application/json'}], 'laureates': [{'id': '294', 'knownName': {'en': 'Ronald Ross'}, 'fullName': {'en': 'Ronald Ross'}, 'portion': '1', 'sortOrder': '1', 'motivation': {'en': 'for his work on malaria, by which he has shown how it enters the organism and thereby has laid the foundation for successful research on this disease and methods of combating it', 'se': 'för hans arbete rörande malarian, varigenom han uppdagat det sätt, varpå densamma vinner insteg i organismen, och därmed lagt grunden för betydelsefulla forskningar angående denna sjukdom och dess bekämpande'}, 'links': [{'rel': 'laureate', 'href': 'https://api.nobelprize.org/2/laureate/294', 'action': 'GET', 'types': 'application/json'}]}]}, {'awardYear': '1903', 'category': {'en': 'Chemistry', 'no': 'Kjemi', 'se': 'Kemi'}, 'categoryFullName': {'en': 'The Nobel Prize in Chemistry', 'no': 'Nobelprisen i kjemi', 'se': 'Nobelpriset i kemi'}, 'dateAwarded': '1903-11-12', 'prizeAmount': 141358, 'prizeAmountAdjusted': 7936836, 'links': [{'rel': 'nobelPrize', 'href': 'https://api.nobelprize.org/2/nobelPrize/che/1903', 'action': 'GET', 'types': 'application/json'}], 'laureates': [{'id': '162', 'knownName': {'en': 'Svante Arrhenius'}, 'fullName': {'en': 'Svante August Arrhenius'}, 'portion': '1', 'sortOrder': '1', 'motivation': {'en': 'in recognition of the extraordinary services he has rendered to the advancement of chemistry by his electrolytic theory of dissociation', 'se': 'såsom ett erkännande för den utomordentliga förtjänst han genom sin elektrolytiska dissociations-teori inlagt om kemiens utveckling'}, 'links': [{'rel': 'laureate', 'href': 'https://api.nobelprize.org/2/laureate/162', 'action': 'GET', 'types': 'application/json'}]}]}, {'awardYear': '1903', 'category': {'en': 'Literature', 'no': 'Litteratur', 'se': 'Litteratur'}, 'categoryFullName': {'en': 'The Nobel Prize in Literature', 'no': 'Nobelprisen i litteratur', 'se': 'Nobelpriset i litteratur'}, 'dateAwarded': '1903-11-19', 'prizeAmount': 141358, 'prizeAmountAdjusted': 7936836, 'links': [{'rel': 'nobelPrize', 'href': 'https://api.nobelprize.org/2/nobelPrize/lit/1903', 'action': 'GET', 'types': 'application/json'}], 'laureates': [{'id': '572', 'knownName': {'en': 'Bjørnstjerne Bjørnson'}, 'fullName': {'en': 'Bjørnstjerne Martinus Bjørnson'}, 'portion': '1', 'sortOrder': '1', 'motivation': {'en': 'as a tribute to his noble, magnificent and versatile poetry, which has always been distinguished by both the freshness of its inspiration and the rare purity of its spirit', 'se': 'såsom en gärd av erkännande åt hans ädla, storartade och mångsidiga skaldeverksamhet, som alltid varit utmärkt på en gång av ingivelsens friskhet och av en sällsynt själsrenhet'}, 'links': [{'rel': 'laureate', 'href': 'https://api.nobelprize.org/2/laureate/572', 'action': 'GET', 'types': 'application/json'}]}]}, {'awardYear': '1903', 'category': {'en': 'Peace', 'no': 'Fred', 'se': 'Fred'}, 'categoryFullName': {'en': 'The Nobel Peace Prize', 'no': 'Nobels fredspris', 'se': 'Nobels fredspris'}, 'dateAwarded': '1903-12-10', 'prizeAmount': 141358, 'prizeAmountAdjusted': 7936836, 'links': [{'rel': 'nobelPrize', 'href': 'https://api.nobelprize.org/2/nobelPrize/pea/1903', 'action': 'GET', 'types': 'application/json'}], 'laureates': [{'id': '466', 'knownName': {'en': 'Randal Cremer'}, 'fullName': {'en': 'William Randal Cremer'}, 'portion': '1', 'sortOrder': '1', 'motivation': {'en': 'for his longstanding and devoted effort in favour of the ideas of peace and arbitration', 'no': 'for sin lange og oppofrende innsats for å fremme ideen om fred og voldgift'}, 'links': [{'rel': 'laureate', 'href': 'https://api.nobelprize.org/2/laureate/466', 'action': 'GET', 'types': 'application/json'}]}]}, {'awardYear': '1903', 'category': {'en': 'Physics', 'no': 'Fysikk', 'se': 'Fysik'}, 'categoryFullName': {'en': 'The Nobel Prize in Physics', 'no': 'Nobelprisen i fysikk', 'se': 'Nobelpriset i fysik'}, 'dateAwarded': '1903-11-12', 'prizeAmount': 141358, 'prizeAmountAdjusted': 7936836, 'links': [{'rel': 'nobelPrize', 'href': 'https://api.nobelprize.org/2/nobelPrize/phy/1903', 'action': 'GET', 'types': 'application/json'}], 'laureates': [{'id': '4', 'knownName': {'en': 'Henri Becquerel'}, 'fullName': {'en': 'Antoine Henri Becquerel'}, 'portion': '1/2', 'sortOrder': '1', 'motivation': {'en': 'in recognition of the extraordinary services he has rendered by his discovery of spontaneous radioactivity', 'se': 'såsom ett erkännande av den utomordentliga förtjänst han inlagt genom upptäckten av den spontana radioaktiviteten'}, 'links': [{'rel': 'laureate', 'href': 'https://api.nobelprize.org/2/laureate/4', 'action': 'GET', 'types': 'application/json'}]}, {'id': '5', 'knownName': {'en': 'Pierre Curie'}, 'fullName': {'en': 'Pierre Curie'}, 'portion': '1/4', 'sortOrder': '2', 'motivation': {'en': 'in recognition of the extraordinary services they have rendered by their joint researches on the radiation phenomena discovered by Professor Henri Becquerel', 'se': 'såsom ett erkännande av den utomordentliga förtjänst de inlagt genom sina gemensamt utförda arbeten rörande de av Professor Henri Becquerel upptäckta strålningsfenomenen'}, 'links': [{'rel': 'laureate', 'href': 'https://api.nobelprize.org/2/laureate/5', 'action': 'GET', 'types': 'application/json'}]}, {'id': '6', 'knownName': {'en': 'Marie Curie'}, 'fullName': {'en': 'Marie Curie, née Sklodowska'}, 'portion': '1/4', 'sortOrder': '3', 'motivation': {'en': 'in recognition of the extraordinary services they have rendered by their joint researches on the radiation phenomena discovered by Professor Henri Becquerel', 'se': 'såsom ett erkännande av den utomordentliga förtjänst de inlagt genom sina gemensamt utförda arbeten rörande de av Professor Henri Becquerel upptäckta strålningsfenomenen'}, 'links': [{'rel': 'laureate', 'href': 'https://api.nobelprize.org/2/laureate/6', 'action': 'GET', 'types': 'application/json'}]}]}, {'awardYear': '1903', 'category': {'en': 'Physiology or Medicine', 'no': 'Fysiologi eller medisin', 'se': 'Fysiologi eller medicin'}, 'categoryFullName': {'en': 'The Nobel Prize in Physiology or Medicine', 'no': 'Nobelprisen i fysiologi eller medisin', 'se': 'Nobelpriset i fysiologi eller medicin'}, 'dateAwarded': '1903-10-15', 'prizeAmount': 141358, 'prizeAmountAdjusted': 7936836, 'links': [{'rel': 'nobelPrize', 'href': 'https://api.nobelprize.org/2/nobelPrize/med/1903', 'action': 'GET', 'types': 'application/json'}], 'laureates': [{'id': '295', 'knownName': {'en': 'Niels Ryberg Finsen'}, 'fullName': {'en': 'Niels Ryberg Finsen'}, 'portion': '1', 'sortOrder': '1', 'motivation': {'en': 'in recognition of his contribution to the treatment of diseases, especially lupus vulgaris, with concentrated light radiation, whereby he has opened a new avenue for medical science', 'se': 'såsom ett erkännande åt hans arbete för behandling av sjukdomar och särskilt lupus vulgaris med koncentrerade ljusstrålar, varigenom han öppnat en ny väg för läkekonsten'}, 'links': [{'rel': 'laureate', 'href': 'https://api.nobelprize.org/2/laureate/295', 'action': 'GET', 'types': 'application/json'}]}]}, {'awardYear': '1904', 'category': {'en': 'Chemistry', 'no': 'Kjemi', 'se': 'Kemi'}, 'categoryFullName': {'en': 'The Nobel Prize in Chemistry', 'no': 'Nobelprisen i kjemi', 'se': 'Nobelpriset i kemi'}, 'dateAwarded': '1904-11-08', 'prizeAmount': 140859, 'prizeAmountAdjusted': 7908819, 'links': [{'rel': 'nobelPrize', 'href': 'https://api.nobelprize.org/2/nobelPrize/che/1904', 'action': 'GET', 'types': 'application/json'}], 'laureates': [{'id': '163', 'knownName': {'en': 'Sir William Ramsay'}, 'fullName': {'en': 'Sir William Ramsay'}, 'portion': '1', 'sortOrder': '1', 'motivation': {'en': 'in recognition of his services in the discovery of the inert gaseous elements in air, and his determination of their place in the periodic system', 'se': 'såsom ett erkännande av den förtjänst han inlagt genom upptäckten av de indifferenta gasformiga grundämnenena i luften och bestämmandet av deras plats i det periodiska systemet'}, 'links': [{'rel': 'laureate', 'href': 'https://api.nobelprize.org/2/laureate/163', 'action': 'GET', 'types': 'application/json'}]}]}, {'awardYear': '1904', 'category': {'en': 'Literature', 'no': 'Litteratur', 'se': 'Litteratur'}, 'categoryFullName': {'en': 'The Nobel Prize in Literature', 'no': 'Nobelprisen i litteratur', 'se': 'Nobelpriset i litteratur'}, 'dateAwarded': '1904-11-17', 'prizeAmount': 140859, 'prizeAmountAdjusted': 7908819, 'links': [{'rel': 'nobelPrize', 'href': 'https://api.nobelprize.org/2/nobelPrize/lit/1904', 'action': 'GET', 'types': 'application/json'}], 'laureates': [{'id': '573', 'knownName': {'en': 'Frédéric Mistral'}, 'fullName': {'en': 'Frédéric Mistral'}, 'portion': '1/2', 'sortOrder': '1', 'motivation': {'en': 'in recognition of the fresh originality and true inspiration of his poetic production, which faithfully reflects the natural scenery and native spirit of his people, and, in addition, his significant work as a Proven&ccedil;al philologist', 'se': 'med avseende fäst å det ursprungsfriska, snillrika och sant konstnärliga i hans diktning, som troget avspeglar hans hembygds natur och folkliv, samt å hans betydelsefulla verksamhet som provençalsk filolog'}, 'links': [{'rel': 'laureate', 'href': 'https://api.nobelprize.org/2/laureate/573', 'action': 'GET', 'types': 'application/json'}]}, {'id': '574', 'knownName': {'en': 'José Echegaray'}, 'fullName': {'en': 'José Echegaray y Eizaguirre'}, 'portion': '1/2', 'sortOrder': '2', 'motivation': {'en': 'in recognition of the numerous and brilliant compositions which, in an individual and original manner, have revived the great traditions of the Spanish drama', 'se': 'med avseende fäst å hans omfattande och snillrika författarskap, som på självständigt och orginellt sätt återupplivat det spanska skådespelets stora traditioner'}, 'links': [{'rel': 'laureate', 'href': 'https://api.nobelprize.org/2/laureate/574', 'action': 'GET', 'types': 'application/json'}]}]}, {'awardYear': '1904', 'category': {'en': 'Peace', 'no': 'Fred', 'se': 'Fred'}, 'categoryFullName': {'en': 'The Nobel Peace Prize', 'no': 'Nobels fredspris', 'se': 'Nobels fredspris'}, 'dateAwarded': '1904-12-10', 'prizeAmount': 140859, 'prizeAmountAdjusted': 7908819, 'links': [{'rel': 'nobelPrize', 'href': 'https://api.nobelprize.org/2/nobelPrize/pea/1904', 'action': 'GET', 'types': 'application/json'}], 'laureates': [{'id': '467', 'orgName': {'en': 'Institute of International Law', 'no': 'Folkerettsinstituttet'}, 'nativeName': 'Institut de droit international', 'portion': '1', 'sortOrder': '1', 'motivation': {'en': 'for its striving in public law to develop peaceful ties between nations and to make the laws of war more humane', 'no': 'for arbeidet med å skape fredelige forbindelser mellom nasjoner og gjøre krigens lover mer humane gjennom folkeretten'}, 'links': [{'rel': 'laureate', 'href': 'https://api.nobelprize.org/2/laureate/467', 'action': 'GET', 'types': 'application/json'}]}]}, {'awardYear': '1904', 'category': {'en': 'Physics', 'no': 'Fysikk', 'se': 'Fysik'}, 'categoryFullName': {'en': 'The Nobel Prize in Physics', 'no': 'Nobelprisen i fysikk', 'se': 'Nobelpriset i fysik'}, 'dateAwarded': '1904-11-08', 'prizeAmount': 140859, 'prizeAmountAdjusted': 7908819, 'links': [{'rel': 'nobelPrize', 'href': 'https://api.nobelprize.org/2/nobelPrize/phy/1904', 'action': 'GET', 'types': 'application/json'}], 'laureates': [{'id': '8', 'knownName': {'en': 'Lord Rayleigh'}, 'fullName': {'en': 'Lord Rayleigh (John William Strutt)'}, 'portion': '1', 'sortOrder': '1', 'motivation': {'en': 'for his investigations of the densities of the most important gases and for his discovery of argon in connection with these studies', 'se': 'för hans undersökningar rörande de viktigaste gasernas täthet samt hans i sammanhang med dessa undersökningar gjorda upptäckt av argon'}, 'links': [{'rel': 'laureate', 'href': 'https://api.nobelprize.org/2/laureate/8', 'action': 'GET', 'types': 'application/json'}]}]}, {'awardYear': '1904', 'category': {'en': 'Physiology or Medicine', 'no': 'Fysiologi eller medisin', 'se': 'Fysiologi eller medicin'}, 'categoryFullName': {'en': 'The Nobel Prize in Physiology or Medicine', 'no': 'Nobelprisen i fysiologi eller medisin', 'se': 'Nobelpriset i fysiologi eller medicin'}, 'dateAwarded': '1904-10-20', 'prizeAmount': 140859, 'prizeAmountAdjusted': 7908819, 'links': [{'rel': 'nobelPrize', 'href': 'https://api.nobelprize.org/2/nobelPrize/med/1904', 'action': 'GET', 'types': 'application/json'}], 'laureates': [{'id': '296', 'knownName': {'en': 'Ivan Pavlov'}, 'fullName': {'en': 'Ivan Petrovich Pavlov'}, 'portion': '1', 'sortOrder': '1', 'motivation': {'en': 'in recognition of his work on the physiology of digestion, through which knowledge on vital aspects of the subject has been transformed and enlarged', 'se': 'såsom ett erkännande av hans arbete rörande digestionens fysiologi, varigenom han i väsentliga delar omdanat och vidgat kunskapen på detta område'}, 'links': [{'rel': 'laureate', 'href': 'https://api.nobelprize.org/2/laureate/296', 'action': 'GET', 'types': 'application/json'}]}]}, {'awardYear': '1905', 'category': {'en': 'Chemistry', 'no': 'Kjemi', 'se': 'Kemi'}, 'categoryFullName': {'en': 'The Nobel Prize in Chemistry', 'no': 'Nobelprisen i kjemi', 'se': 'Nobelpriset i kemi'}, 'prizeAmount': 138089, 'prizeAmountAdjusted': 7753291, 'links': [{'rel': 'nobelPrize', 'href': 'https://api.nobelprize.org/2/nobelPrize/che/1905', 'action': 'GET', 'types': 'application/json'}], 'laureates': [{'id': '164', 'knownName': {'en': 'Adolf von Baeyer'}, 'fullName': {'en': 'Johann Friedrich Wilhelm Adolf von Baeyer'}, 'portion': '1', 'sortOrder': '1', 'motivation': {'en': 'in recognition of his services in the advancement of organic chemistry and the chemical industry, through his work on organic dyes and hydroaromatic compounds', 'se': 'såsom ett erkännande av den förtjänst han inlagt om den organiska kemiens och den kemiska industriens utveckling genom sina arbeten rörande organiska färgämnen och hydroaromatiska föreningar'}, 'links': [{'rel': 'laureate', 'href': 'https://api.nobelprize.org/2/laureate/164', 'action': 'GET', 'types': 'application/json'}]}]}, {'awardYear': '1905', 'category': {'en': 'Literature', 'no': 'Litteratur', 'se': 'Litteratur'}, 'categoryFullName': {'en': 'The Nobel Prize in Literature', 'no': 'Nobelprisen i litteratur', 'se': 'Nobelpriset i litteratur'}, 'prizeAmount': 138089, 'prizeAmountAdjusted': 7753291, 'links': [{'rel': 'nobelPrize', 'href': 'https://api.nobelprize.org/2/nobelPrize/lit/1905', 'action': 'GET', 'types': 'application/json'}], 'laureates': [{'id': '575', 'knownName': {'en': 'Henryk Sienkiewicz'}, 'fullName': {'en': 'Henryk Sienkiewicz'}, 'portion': '1', 'sortOrder': '1', 'motivation': {'en': 'because of his outstanding merits as an epic writer', 'se': 'på grund av hans storartade förtjänster som episk författare'}, 'links': [{'rel': 'laureate', 'href': 'https://api.nobelprize.org/2/laureate/575', 'action': 'GET', 'types': 'application/json'}]}]}, {'awardYear': '1905', 'category': {'en': 'Peace', 'no': 'Fred', 'se': 'Fred'}, 'categoryFullName': {'en': 'The Nobel Peace Prize', 'no': 'Nobels fredspris', 'se': 'Nobels fredspris'}, 'dateAwarded': '1905-12-10', 'prizeAmount': 138089, 'prizeAmountAdjusted': 7753291, 'links': [{'rel': 'nobelPrize', 'href': 'https://api.nobelprize.org/2/nobelPrize/pea/1905', 'action': 'GET', 'types': 'application/json'}], 'laureates': [{'id': '468', 'knownName': {'en': 'Bertha von Suttner'}, 'fullName': {'en': 'Baroness Bertha Sophie Felicita von Suttner, née Countess Kinsky von Chinic und Tettau'}, 'portion': '1', 'sortOrder': '1', 'motivation': {'en': 'for her audacity to oppose the horrors of war', 'no': 'for sin modige kamp mot krigens grusomheter'}, 'links': [{'rel': 'laureate', 'href': 'https://api.nobelprize.org/2/laureate/468', 'action': 'GET', 'types': 'application/json'}]}]}, {'awardYear': '1905', 'category': {'en': 'Physics', 'no': 'Fysikk', 'se': 'Fysik'}, 'categoryFullName': {'en': 'The Nobel Prize in Physics', 'no': 'Nobelprisen i fysikk', 'se': 'Nobelpriset i fysik'}, 'prizeAmount': 138089, 'prizeAmountAdjusted': 7753291, 'links': [{'rel': 'nobelPrize', 'href': 'https://api.nobelprize.org/2/nobelPrize/phy/1905', 'action': 'GET', 'types': 'application/json'}], 'laureates': [{'id': '9', 'knownName': {'en': 'Philipp Lenard'}, 'fullName': {'en': 'Philipp Eduard Anton von Lenard'}, 'portion': '1', 'sortOrder': '1', 'motivation': {'en': 'for his work on cathode rays', 'se': 'för hans arbeten över katodstrålarna'}, 'links': [{'rel': 'laureate', 'href': 'https://api.nobelprize.org/2/laureate/9', 'action': 'GET', 'types': 'application/json'}]}]}, {'awardYear': '1905', 'category': {'en': 'Physiology or Medicine', 'no': 'Fysiologi eller medisin', 'se': 'Fysiologi eller medicin'}, 'categoryFullName': {'en': 'The Nobel Prize in Physiology or Medicine', 'no': 'Nobelprisen i fysiologi eller medisin', 'se': 'Nobelpriset i fysiologi eller medicin'}, 'prizeAmount': 138089, 'prizeAmountAdjusted': 7753291, 'links': [{'rel': 'nobelPrize', 'href': 'https://api.nobelprize.org/2/nobelPrize/med/1905', 'action': 'GET', 'types': 'application/json'}], 'laureates': [{'id': '297', 'knownName': {'en': 'Robert Koch'}, 'fullName': {'en': 'Robert Koch'}, 'portion': '1', 'sortOrder': '1', 'motivation': {'en': 'for his investigations and discoveries in relation to tuberculosis', 'se': 'för hans undersökningar och upptäckter rörande tuberkulos'}, 'links': [{'rel': 'laureate', 'href': 'https://api.nobelprize.org/2/laureate/297', 'action': 'GET', 'types': 'application/json'}]}]}], 'meta': {'offset': 0, 'limit': 25, 'count': 664, 'terms': 'https://www.nobelprize.org/about/terms-of-use-for-api-nobelprize-org-and-data-nobelprize-org/', 'license': 'https://www.nobelprize.org/about/terms-of-use-for-api-nobelprize-org-and-data-nobelprize-org/#licence', 'disclaimer': 'https://www.nobelprize.org/about/terms-of-use-for-api-nobelprize-org-and-data-nobelprize-org/#disclaimer'}, 'links': {'first': 'https://masterdataapi.nobelprize.org/2.1/nobelPrizes?offset=0&limit=25', 'self': 'https://masterdataapi.nobelprize.org/2.1/nobelPrizes?offset=0&limit=25', 'next': 'https://masterdataapi.nobelprize.org/2.1/nobelPrizes?offset=25&limit=25', 'last': 'https://masterdataapi.nobelprize.org/2.1/nobelPrizes?offset=650&limit=25'}}\n"
     ]
    }
   ],
   "source": [
    "print(response_dict)"
   ]
  },
  {
   "cell_type": "code",
   "execution_count": 10,
   "metadata": {},
   "outputs": [
    {
     "data": {
      "text/plain": [
       "{'awardYear': '1901',\n",
       " 'category': {'en': 'Chemistry', 'no': 'Kjemi', 'se': 'Kemi'},\n",
       " 'categoryFullName': {'en': 'The Nobel Prize in Chemistry',\n",
       "  'no': 'Nobelprisen i kjemi',\n",
       "  'se': 'Nobelpriset i kemi'},\n",
       " 'dateAwarded': '1901-11-12',\n",
       " 'prizeAmount': 150782,\n",
       " 'prizeAmountAdjusted': 8722510,\n",
       " 'links': [{'rel': 'nobelPrize',\n",
       "   'href': 'https://api.nobelprize.org/2/nobelPrize/che/1901',\n",
       "   'action': 'GET',\n",
       "   'types': 'application/json'}],\n",
       " 'laureates': [{'id': '160',\n",
       "   'knownName': {'en': \"Jacobus H. van 't Hoff\"},\n",
       "   'fullName': {'en': \"Jacobus Henricus van 't Hoff\"},\n",
       "   'portion': '1',\n",
       "   'sortOrder': '1',\n",
       "   'motivation': {'en': 'in recognition of the extraordinary services he has rendered by the discovery of the laws of chemical dynamics and osmotic pressure in solutions',\n",
       "    'se': 'såsom ett erkännande av den utomordentliga förtjänst han inlagt genom upptäckten av lagarna för den kemiska dynamiken och för det osmotiska trycket i lösningar'},\n",
       "   'links': [{'rel': 'laureate',\n",
       "     'href': 'https://api.nobelprize.org/2/laureate/160',\n",
       "     'action': 'GET',\n",
       "     'types': 'application/json'}]}]}"
      ]
     },
     "execution_count": 10,
     "metadata": {},
     "output_type": "execute_result"
    }
   ],
   "source": [
    "# function to take away the top dictionary layer to the json object and the next list layer\n",
    "\n",
    "def top_2_layers(my_obj):\n",
    "\n",
    "    for key, value in my_obj.items():\n",
    "        if isinstance(value, list):\n",
    "            value = value[0]\n",
    "            my_obj = value        \n",
    "\n",
    "    return my_obj\n",
    "\n",
    "top_2_layers(response_dict)\n"
   ]
  },
  {
   "cell_type": "code",
   "execution_count": 11,
   "metadata": {},
   "outputs": [
    {
     "name": "stdout",
     "output_type": "stream",
     "text": [
      "25\n",
      "['1901', '1901', '1901', '1901', '1901', '1902', '1902', '1902', '1902', '1902', '1903', '1903', '1903', '1903', '1903', '1904', '1904', '1904', '1904', '1904', '1905', '1905', '1905', '1905', '1905']\n",
      "25\n",
      "[{'en': 'Chemistry', 'no': 'Kjemi', 'se': 'Kemi'}, {'en': 'Literature', 'no': 'Litteratur', 'se': 'Litteratur'}, {'en': 'Peace', 'no': 'Fred', 'se': 'Fred'}, {'en': 'Physics', 'no': 'Fysikk', 'se': 'Fysik'}, {'en': 'Physiology or Medicine', 'no': 'Fysiologi eller medisin', 'se': 'Fysiologi eller medicin'}, {'en': 'Chemistry', 'no': 'Kjemi', 'se': 'Kemi'}, {'en': 'Literature', 'no': 'Litteratur', 'se': 'Litteratur'}, {'en': 'Peace', 'no': 'Fred', 'se': 'Fred'}, {'en': 'Physics', 'no': 'Fysikk', 'se': 'Fysik'}, {'en': 'Physiology or Medicine', 'no': 'Fysiologi eller medisin', 'se': 'Fysiologi eller medicin'}, {'en': 'Chemistry', 'no': 'Kjemi', 'se': 'Kemi'}, {'en': 'Literature', 'no': 'Litteratur', 'se': 'Litteratur'}, {'en': 'Peace', 'no': 'Fred', 'se': 'Fred'}, {'en': 'Physics', 'no': 'Fysikk', 'se': 'Fysik'}, {'en': 'Physiology or Medicine', 'no': 'Fysiologi eller medisin', 'se': 'Fysiologi eller medicin'}, {'en': 'Chemistry', 'no': 'Kjemi', 'se': 'Kemi'}, {'en': 'Literature', 'no': 'Litteratur', 'se': 'Litteratur'}, {'en': 'Peace', 'no': 'Fred', 'se': 'Fred'}, {'en': 'Physics', 'no': 'Fysikk', 'se': 'Fysik'}, {'en': 'Physiology or Medicine', 'no': 'Fysiologi eller medisin', 'se': 'Fysiologi eller medicin'}, {'en': 'Chemistry', 'no': 'Kjemi', 'se': 'Kemi'}, {'en': 'Literature', 'no': 'Litteratur', 'se': 'Litteratur'}, {'en': 'Peace', 'no': 'Fred', 'se': 'Fred'}, {'en': 'Physics', 'no': 'Fysikk', 'se': 'Fysik'}, {'en': 'Physiology or Medicine', 'no': 'Fysiologi eller medisin', 'se': 'Fysiologi eller medicin'}]\n",
      "25\n",
      "[{'en': 'The Nobel Prize in Chemistry', 'no': 'Nobelprisen i kjemi', 'se': 'Nobelpriset i kemi'}, {'en': 'The Nobel Prize in Literature', 'no': 'Nobelprisen i litteratur', 'se': 'Nobelpriset i litteratur'}, {'en': 'The Nobel Peace Prize', 'no': 'Nobels fredspris', 'se': 'Nobels fredspris'}, {'en': 'The Nobel Prize in Physics', 'no': 'Nobelprisen i fysikk', 'se': 'Nobelpriset i fysik'}, {'en': 'The Nobel Prize in Physiology or Medicine', 'no': 'Nobelprisen i fysiologi eller medisin', 'se': 'Nobelpriset i fysiologi eller medicin'}, {'en': 'The Nobel Prize in Chemistry', 'no': 'Nobelprisen i kjemi', 'se': 'Nobelpriset i kemi'}, {'en': 'The Nobel Prize in Literature', 'no': 'Nobelprisen i litteratur', 'se': 'Nobelpriset i litteratur'}, {'en': 'The Nobel Peace Prize', 'no': 'Nobels fredspris', 'se': 'Nobels fredspris'}, {'en': 'The Nobel Prize in Physics', 'no': 'Nobelprisen i fysikk', 'se': 'Nobelpriset i fysik'}, {'en': 'The Nobel Prize in Physiology or Medicine', 'no': 'Nobelprisen i fysiologi eller medisin', 'se': 'Nobelpriset i fysiologi eller medicin'}, {'en': 'The Nobel Prize in Chemistry', 'no': 'Nobelprisen i kjemi', 'se': 'Nobelpriset i kemi'}, {'en': 'The Nobel Prize in Literature', 'no': 'Nobelprisen i litteratur', 'se': 'Nobelpriset i litteratur'}, {'en': 'The Nobel Peace Prize', 'no': 'Nobels fredspris', 'se': 'Nobels fredspris'}, {'en': 'The Nobel Prize in Physics', 'no': 'Nobelprisen i fysikk', 'se': 'Nobelpriset i fysik'}, {'en': 'The Nobel Prize in Physiology or Medicine', 'no': 'Nobelprisen i fysiologi eller medisin', 'se': 'Nobelpriset i fysiologi eller medicin'}, {'en': 'The Nobel Prize in Chemistry', 'no': 'Nobelprisen i kjemi', 'se': 'Nobelpriset i kemi'}, {'en': 'The Nobel Prize in Literature', 'no': 'Nobelprisen i litteratur', 'se': 'Nobelpriset i litteratur'}, {'en': 'The Nobel Peace Prize', 'no': 'Nobels fredspris', 'se': 'Nobels fredspris'}, {'en': 'The Nobel Prize in Physics', 'no': 'Nobelprisen i fysikk', 'se': 'Nobelpriset i fysik'}, {'en': 'The Nobel Prize in Physiology or Medicine', 'no': 'Nobelprisen i fysiologi eller medisin', 'se': 'Nobelpriset i fysiologi eller medicin'}, {'en': 'The Nobel Prize in Chemistry', 'no': 'Nobelprisen i kjemi', 'se': 'Nobelpriset i kemi'}, {'en': 'The Nobel Prize in Literature', 'no': 'Nobelprisen i litteratur', 'se': 'Nobelpriset i litteratur'}, {'en': 'The Nobel Peace Prize', 'no': 'Nobels fredspris', 'se': 'Nobels fredspris'}, {'en': 'The Nobel Prize in Physics', 'no': 'Nobelprisen i fysikk', 'se': 'Nobelpriset i fysik'}, {'en': 'The Nobel Prize in Physiology or Medicine', 'no': 'Nobelprisen i fysiologi eller medisin', 'se': 'Nobelpriset i fysiologi eller medicin'}]\n"
     ]
    }
   ],
   "source": [
    "# Save a copy of the dictionary features in lists to be compiled later into a dataframe\n",
    "\n",
    "awardYear = []\n",
    "category = []\n",
    "categoryFullName = []\n",
    "\n",
    "\n",
    "\n",
    "for i in response_dict['nobelPrizes']:\n",
    "    #print(i)\n",
    "    awardYear.append(i['awardYear'])\n",
    "    category.append(i['category'])\n",
    "    categoryFullName.append(i['categoryFullName'])\n",
    "    \n",
    "\n",
    "\n",
    "print(len(awardYear))\n",
    "print(awardYear)\n",
    "print(len(category))\n",
    "print(category)\n",
    "print(len(categoryFullName))\n",
    "print(categoryFullName)\n",
    "\n"
   ]
  },
  {
   "cell_type": "code",
   "execution_count": 14,
   "metadata": {},
   "outputs": [
    {
     "name": "stdout",
     "output_type": "stream",
     "text": [
      "1901-11-12\n",
      "1\n",
      "1901-11-14\n",
      "2\n",
      "1901-12-10\n",
      "3\n",
      "1901-11-12\n",
      "4\n",
      "1901-10-30\n",
      "5\n",
      "1902-11-11\n",
      "6\n",
      "1902-11-13\n",
      "7\n",
      "1902-12-10\n",
      "8\n",
      "1902-11-11\n",
      "9\n",
      "1902-10-30\n",
      "10\n",
      "1903-11-12\n",
      "11\n",
      "1903-11-19\n",
      "12\n",
      "1903-12-10\n",
      "13\n",
      "1903-11-12\n",
      "14\n",
      "1903-10-15\n",
      "15\n",
      "1904-11-08\n",
      "16\n",
      "1904-11-17\n",
      "17\n",
      "1904-12-10\n",
      "18\n",
      "1904-11-08\n",
      "19\n",
      "1904-10-20\n",
      "20\n"
     ]
    },
    {
     "ename": "KeyError",
     "evalue": "'dateAwarded'",
     "output_type": "error",
     "traceback": [
      "\u001b[1;31m---------------------------------------------------------------------------\u001b[0m",
      "\u001b[1;31mKeyError\u001b[0m                                  Traceback (most recent call last)",
      "Cell \u001b[1;32mIn[14], line 13\u001b[0m\n\u001b[0;32m     10\u001b[0m counter \u001b[39m=\u001b[39m \u001b[39m0\u001b[39m\n\u001b[0;32m     12\u001b[0m \u001b[39mfor\u001b[39;00m i \u001b[39min\u001b[39;00m response_dict[\u001b[39m'\u001b[39m\u001b[39mnobelPrizes\u001b[39m\u001b[39m'\u001b[39m]:\n\u001b[1;32m---> 13\u001b[0m     \u001b[39mprint\u001b[39m(i[\u001b[39m'\u001b[39;49m\u001b[39mdateAwarded\u001b[39;49m\u001b[39m'\u001b[39;49m])\n\u001b[0;32m     14\u001b[0m     counter \u001b[39m+\u001b[39m\u001b[39m=\u001b[39m\u001b[39m1\u001b[39m\n\u001b[0;32m     15\u001b[0m     \u001b[39mprint\u001b[39m(counter)\n",
      "\u001b[1;31mKeyError\u001b[0m: 'dateAwarded'"
     ]
    }
   ],
   "source": [
    "# Save a copy of the string features in lists to be compiled later into a dataframe\n",
    "\n",
    "# dataAwarded, prizeAmount, prizeAmountAdjusted,links, laureates\n",
    "\n",
    "dataAwarded = []\n",
    "prizeAmount = []\n",
    "prizeAmountAdjusted = []\n",
    "links = []\n",
    "laureates = []\n",
    "counter = 0\n",
    "\n",
    "for i in response_dict['nobelPrizes']:\n",
    "    print(i['dateAwarded'])\n",
    "    counter +=1\n",
    "    print(counter)\n",
    "\n",
    "print(response_dict)"
   ]
  },
  {
   "cell_type": "code",
   "execution_count": null,
   "metadata": {},
   "outputs": [],
   "source": []
  },
  {
   "cell_type": "code",
   "execution_count": null,
   "metadata": {},
   "outputs": [],
   "source": []
  },
  {
   "cell_type": "code",
   "execution_count": null,
   "metadata": {},
   "outputs": [],
   "source": []
  },
  {
   "cell_type": "code",
   "execution_count": null,
   "metadata": {},
   "outputs": [],
   "source": []
  },
  {
   "cell_type": "code",
   "execution_count": null,
   "metadata": {},
   "outputs": [],
   "source": []
  },
  {
   "cell_type": "code",
   "execution_count": null,
   "metadata": {},
   "outputs": [],
   "source": []
  },
  {
   "cell_type": "code",
   "execution_count": null,
   "metadata": {},
   "outputs": [],
   "source": []
  },
  {
   "cell_type": "code",
   "execution_count": null,
   "metadata": {},
   "outputs": [],
   "source": []
  },
  {
   "cell_type": "code",
   "execution_count": null,
   "metadata": {},
   "outputs": [],
   "source": []
  },
  {
   "cell_type": "code",
   "execution_count": null,
   "metadata": {},
   "outputs": [],
   "source": []
  },
  {
   "cell_type": "code",
   "execution_count": null,
   "metadata": {},
   "outputs": [],
   "source": []
  },
  {
   "cell_type": "code",
   "execution_count": null,
   "metadata": {},
   "outputs": [],
   "source": []
  },
  {
   "cell_type": "code",
   "execution_count": null,
   "metadata": {},
   "outputs": [],
   "source": []
  },
  {
   "cell_type": "code",
   "execution_count": null,
   "metadata": {},
   "outputs": [],
   "source": []
  },
  {
   "cell_type": "code",
   "execution_count": null,
   "metadata": {},
   "outputs": [],
   "source": []
  },
  {
   "cell_type": "code",
   "execution_count": null,
   "metadata": {},
   "outputs": [],
   "source": [
    "# driver code to strip 2 layers from the json object\n",
    "\n",
    "response_dict = top_2_layers(response_dict)\n",
    "response_dict2 = top_2_layers(response_dict2)\n"
   ]
  },
  {
   "cell_type": "code",
   "execution_count": null,
   "metadata": {},
   "outputs": [],
   "source": [
    "# Check the top two layers are now removed\n",
    "\n",
    "print(response_dict)\n",
    "print(response_dict2)"
   ]
  },
  {
   "cell_type": "code",
   "execution_count": null,
   "metadata": {},
   "outputs": [],
   "source": [
    "# Isolate one key and its corresponding value from the dictionary\n",
    "for i in response_dict:\n",
    "    print(i)\n",
    "    print(type(i))\n",
    "\n",
    "print(type(response_dict))\n",
    "nobelPrizes = response_dict.get('awardYear')\n",
    "print(nobelPrizes)"
   ]
  },
  {
   "cell_type": "code",
   "execution_count": null,
   "metadata": {},
   "outputs": [],
   "source": [
    "print(response_dict[0]['nobelPrizes'])"
   ]
  },
  {
   "cell_type": "code",
   "execution_count": null,
   "metadata": {},
   "outputs": [],
   "source": []
  },
  {
   "cell_type": "code",
   "execution_count": null,
   "metadata": {},
   "outputs": [],
   "source": []
  }
 ],
 "metadata": {
  "kernelspec": {
   "display_name": "Python 3",
   "language": "python",
   "name": "python3"
  },
  "language_info": {
   "codemirror_mode": {
    "name": "ipython",
    "version": 3
   },
   "file_extension": ".py",
   "mimetype": "text/x-python",
   "name": "python",
   "nbconvert_exporter": "python",
   "pygments_lexer": "ipython3",
   "version": "3.10.11"
  },
  "orig_nbformat": 4
 },
 "nbformat": 4,
 "nbformat_minor": 2
}
