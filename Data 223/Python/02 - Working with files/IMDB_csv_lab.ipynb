{
 "cells": [
  {
   "cell_type": "code",
   "execution_count": 1,
   "metadata": {},
   "outputs": [],
   "source": [
    "# Return a csv file with the following completed:\n",
    "\n",
    "# Only films from 2010 onwards to be included\n",
    "# Movies should be the only title type\n",
    "# Only the primary title should be used\n",
    "# Remove the end date and issadult fields\n",
    "\n",
    "\n",
    "# Import Modules\n",
    "\n",
    "import pandas as pd"
   ]
  },
  {
   "cell_type": "code",
   "execution_count": null,
   "metadata": {},
   "outputs": [],
   "source": []
  },
  {
   "cell_type": "code",
   "execution_count": 44,
   "metadata": {},
   "outputs": [
    {
     "name": "stdout",
     "output_type": "stream",
     "text": [
      "2010 onwards\n",
      "                    primaryTitle  startYear\n",
      "0               Na Boca da Noite       2016\n",
      "2     The Other Side of the Wind       2018\n",
      "3                     Chief Zabu       2016\n",
      "4       The Wandering Soap Opera       2017\n",
      "5                        Bigfoot       2017\n",
      "..                           ...        ...\n",
      "834               The Dark Party       2013\n",
      "837                 Dark Shadows       2012\n",
      "842                  Hauntsville       2016\n",
      "844  The Girl from the Naked Eye       2012\n",
      "845              Beautiful Noise       2014\n",
      "\n",
      "[416 rows x 2 columns]\n"
     ]
    }
   ],
   "source": [
    "# function to clean the IMDB csv file located in the same directory as this notebook\n",
    "\n",
    "def clean_imdb():\n",
    "\n",
    "    # Open and read the file contents into python\n",
    "    raw = pd.read_csv('imdbtitles.csv')\n",
    "    #print(raw)\n",
    "\n",
    "\n",
    "    raw = raw.drop(columns=['originalTitle', 'isAdult', 'endYear',  'runtimeMinutes', 'genres'], axis=0)\n",
    "    print('2010 onwards')\n",
    "    stage1 = raw[raw['startYear'] > 2010] \n",
    "    stage2 = stage1[stage1['titleType'] == \"movie\"]\n",
    "    \n",
    "    stage2 = stage2.drop(columns=['titleType'])\n",
    "    print(stage2)\n",
    "    stage2.to_csv('IMDB_cleaned.csv')\n",
    "    # just for info\n",
    "    #raw_cols = raw.columns\n",
    "    #print(raw_cols)\n",
    "    #print(raw)\n",
    "\n",
    "\n",
    "    return\n",
    "\n",
    "clean_imdb()"
   ]
  },
  {
   "cell_type": "code",
   "execution_count": null,
   "metadata": {},
   "outputs": [],
   "source": []
  },
  {
   "cell_type": "code",
   "execution_count": null,
   "metadata": {},
   "outputs": [],
   "source": []
  },
  {
   "cell_type": "code",
   "execution_count": null,
   "metadata": {},
   "outputs": [],
   "source": []
  },
  {
   "cell_type": "code",
   "execution_count": null,
   "metadata": {},
   "outputs": [],
   "source": []
  }
 ],
 "metadata": {
  "kernelspec": {
   "display_name": "Python 3 (ipykernel)",
   "language": "python",
   "name": "python3"
  },
  "language_info": {
   "codemirror_mode": {
    "name": "ipython",
    "version": 3
   },
   "file_extension": ".py",
   "mimetype": "text/x-python",
   "name": "python",
   "nbconvert_exporter": "python",
   "pygments_lexer": "ipython3",
   "version": "3.10.11"
  },
  "orig_nbformat": 4
 },
 "nbformat": 4,
 "nbformat_minor": 2
}
