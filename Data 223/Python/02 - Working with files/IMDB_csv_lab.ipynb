{
 "cells": [
  {
   "cell_type": "code",
   "execution_count": 1,
   "metadata": {},
   "outputs": [],
   "source": [
    "# Return a csv file with the following completed:\n",
    "\n",
    "# Only films from 2010 onwards to be included\n",
    "# Movies should be the only title type\n",
    "# Only the primary title should be used\n",
    "# Remove the end date and issadult fields\n",
    "\n",
    "\n",
    "# Import Modules\n",
    "\n",
    "import pandas as pd"
   ]
  },
  {
   "cell_type": "code",
   "execution_count": 47,
   "metadata": {},
   "outputs": [
    {
     "name": "stdout",
     "output_type": "stream",
     "text": [
      "2010 onwards\n",
      "    titleType                 primaryTitle  startYear runtimeMinutes   \n",
      "0       movie             Na Boca da Noite       2016             68  \\\n",
      "2       movie   The Other Side of the Wind       2018            122   \n",
      "3       movie                   Chief Zabu       2016             74   \n",
      "4       movie     The Wandering Soap Opera       2017             80   \n",
      "5       movie                      Bigfoot       2017             \\N   \n",
      "..        ...                          ...        ...            ...   \n",
      "834     movie               The Dark Party       2013             95   \n",
      "837     movie                 Dark Shadows       2012            113   \n",
      "842     movie                  Hauntsville       2016             \\N   \n",
      "844     movie  The Girl from the Naked Eye       2012             84   \n",
      "845     movie              Beautiful Noise       2014             87   \n",
      "\n",
      "                    genres  \n",
      "0                    Drama  \n",
      "2             Comedy,Drama  \n",
      "3                   Comedy  \n",
      "4     Comedy,Drama,Fantasy  \n",
      "5          Horror,Thriller  \n",
      "..                     ...  \n",
      "834          Drama,Romance  \n",
      "837  Comedy,Fantasy,Horror  \n",
      "842        Horror,Thriller  \n",
      "844   Action,Crime,Mystery  \n",
      "845      Documentary,Music  \n",
      "\n",
      "[416 rows x 5 columns]\n"
     ]
    }
   ],
   "source": [
    "# function to clean the IMDB csv file located in the same directory as this notebook\n",
    "\n",
    "def clean_imdb():\n",
    "\n",
    "    # Open and read the file contents into python\n",
    "    raw = pd.read_csv('imdbtitles.csv')\n",
    "    # Get all ressults with startYear is after 2010\n",
    "    stage1 = raw[raw['startYear'] >= 2010] \n",
    "    # Get all results with titleType is 'movie'\n",
    "    stage2 = stage1[stage1['titleType'] == \"movie\"]\n",
    "    # Drop the columns not needed anymore  \n",
    "    stage2 = stage2.drop(columns=['endYear', 'isAdult', 'originalTitle'])\n",
    "    # Save to CSV file\n",
    "    stage2.to_csv('IMDB_cleaned.csv')\n",
    "    \n",
    "    return\n",
    "\n",
    "clean_imdb()"
   ]
  },
  {
   "cell_type": "code",
   "execution_count": null,
   "metadata": {},
   "outputs": [],
   "source": []
  },
  {
   "cell_type": "code",
   "execution_count": null,
   "metadata": {},
   "outputs": [],
   "source": []
  },
  {
   "cell_type": "code",
   "execution_count": null,
   "metadata": {},
   "outputs": [],
   "source": []
  },
  {
   "cell_type": "code",
   "execution_count": null,
   "metadata": {},
   "outputs": [],
   "source": []
  }
 ],
 "metadata": {
  "kernelspec": {
   "display_name": "Python 3 (ipykernel)",
   "language": "python",
   "name": "python3"
  },
  "language_info": {
   "codemirror_mode": {
    "name": "ipython",
    "version": 3
   },
   "file_extension": ".py",
   "mimetype": "text/x-python",
   "name": "python",
   "nbconvert_exporter": "python",
   "pygments_lexer": "ipython3",
   "version": "3.10.11"
  },
  "orig_nbformat": 4
 },
 "nbformat": 4,
 "nbformat_minor": 2
}
