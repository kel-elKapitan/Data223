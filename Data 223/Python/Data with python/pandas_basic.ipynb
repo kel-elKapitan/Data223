{
 "cells": [
  {
   "cell_type": "code",
   "execution_count": 1,
   "metadata": {},
   "outputs": [
    {
     "name": "stdout",
     "output_type": "stream",
     "text": [
      "<class 'numpy.ndarray'>\n",
      "<class 'numpy.ndarray'>\n",
      "[ 7  9 11 13 15]\n"
     ]
    }
   ],
   "source": [
    "# Intro to Numpy\n",
    "import numpy as np\n",
    "\n",
    "\n",
    "my_list = [1,2,3,4,5]\n",
    "\n",
    "my_other_list = [6,7,8,9,10]\n",
    "\n",
    "\n",
    "# concatenate lists\n",
    "my_list + my_other_list # this is not what we want, we want to add the element of the lists together\n",
    "\n",
    "# for i in range(len(my_list)):\n",
    "#     print(my_list[i] + my_other_list[i])\n",
    "\n",
    "# convert lists to numpy arrays\n",
    "my_array = np.array(my_list)\n",
    "my_other_array = np.array(my_other_list)\n",
    "\n",
    "print(type(my_array))\n",
    "print(type(my_other_array))\n",
    "\n",
    "print(my_array + my_other_array)\n",
    "\n",
    "\n",
    "\n"
   ]
  },
  {
   "cell_type": "code",
   "execution_count": 2,
   "metadata": {},
   "outputs": [
    {
     "name": "stdout",
     "output_type": "stream",
     "text": [
      "<class 'pandas.core.series.Series'>\n",
      "<class 'pandas.core.series.Series'>\n"
     ]
    }
   ],
   "source": [
    "\n",
    "# Introduction to Pandas\n",
    "\n",
    "# has 2 datatypes: Series and DataFrames\n",
    "\n",
    "import pandas as pd\n",
    "\n",
    "# Series are 1D arrays with labels(indexes)\n",
    "my_series = pd.Series(my_list)\n",
    "my_series2 = pd.Series(my_other_list)\n",
    "print(type(my_series))\n",
    "print(type(my_series2))\n",
    "\n",
    "\n",
    "\n",
    "\n"
   ]
  },
  {
   "cell_type": "code",
   "execution_count": 3,
   "metadata": {},
   "outputs": [
    {
     "data": {
      "text/plain": [
       "RangeIndex(start=0, stop=5, step=1)"
      ]
     },
     "execution_count": 3,
     "metadata": {},
     "output_type": "execute_result"
    }
   ],
   "source": [
    "my_series.index"
   ]
  },
  {
   "cell_type": "code",
   "execution_count": 4,
   "metadata": {},
   "outputs": [
    {
     "data": {
      "text/plain": [
       "alan       1\n",
       "bob        2\n",
       "charlie    3\n",
       "david      4\n",
       "edward     5\n",
       "dtype: int64"
      ]
     },
     "execution_count": 4,
     "metadata": {},
     "output_type": "execute_result"
    }
   ],
   "source": [
    "my_series.index = ['alan', 'bob', 'charlie', 'david', 'edward']\n",
    "\n",
    "my_series"
   ]
  },
  {
   "cell_type": "code",
   "execution_count": 5,
   "metadata": {},
   "outputs": [
    {
     "name": "stdout",
     "output_type": "stream",
     "text": [
      "1\n"
     ]
    }
   ],
   "source": [
    "print(my_series['alan'])"
   ]
  },
  {
   "cell_type": "code",
   "execution_count": 6,
   "metadata": {},
   "outputs": [
    {
     "data": {
      "text/plain": [
       "array([1, 2, 3, 4, 5], dtype=int64)"
      ]
     },
     "execution_count": 6,
     "metadata": {},
     "output_type": "execute_result"
    }
   ],
   "source": [
    "# create a series from a list\n",
    "\n",
    "my_series3 = pd.Series([1,2,3,4,5], index = ['alan', 'bob', 'charlie', 'david', 'edward'])\n",
    "\n",
    "my_series3.values"
   ]
  },
  {
   "cell_type": "code",
   "execution_count": 7,
   "metadata": {},
   "outputs": [
    {
     "name": "stdout",
     "output_type": "stream",
     "text": [
      "david     4\n",
      "edward    5\n",
      "dtype: int64\n"
     ]
    }
   ],
   "source": [
    "print(my_series3[my_series3 > 3])"
   ]
  },
  {
   "cell_type": "code",
   "execution_count": 8,
   "metadata": {},
   "outputs": [
    {
     "name": "stdout",
     "output_type": "stream",
     "text": [
      "1\n"
     ]
    }
   ],
   "source": [
    "print(my_series3[0])"
   ]
  },
  {
   "cell_type": "code",
   "execution_count": 9,
   "metadata": {},
   "outputs": [
    {
     "data": {
      "text/plain": [
       "alan       False\n",
       "bob        False\n",
       "charlie    False\n",
       "david       True\n",
       "edward      True\n",
       "dtype: bool"
      ]
     },
     "execution_count": 9,
     "metadata": {},
     "output_type": "execute_result"
    }
   ],
   "source": [
    "my_series3>3"
   ]
  },
  {
   "cell_type": "code",
   "execution_count": 10,
   "metadata": {},
   "outputs": [
    {
     "data": {
      "text/plain": [
       "david     4\n",
       "edward    5\n",
       "dtype: int64"
      ]
     },
     "execution_count": 10,
     "metadata": {},
     "output_type": "execute_result"
    }
   ],
   "source": [
    "my_series3[my_series3>3]"
   ]
  },
  {
   "cell_type": "code",
   "execution_count": 11,
   "metadata": {},
   "outputs": [
    {
     "name": "stdout",
     "output_type": "stream",
     "text": [
      "The Zen of Python, by Tim Peters\n",
      "\n",
      "Beautiful is better than ugly.\n",
      "Explicit is better than implicit.\n",
      "Simple is better than complex.\n",
      "Complex is better than complicated.\n",
      "Flat is better than nested.\n",
      "Sparse is better than dense.\n",
      "Readability counts.\n",
      "Special cases aren't special enough to break the rules.\n",
      "Although practicality beats purity.\n",
      "Errors should never pass silently.\n",
      "Unless explicitly silenced.\n",
      "In the face of ambiguity, refuse the temptation to guess.\n",
      "There should be one-- and preferably only one --obvious way to do it.\n",
      "Although that way may not be obvious at first unless you're Dutch.\n",
      "Now is better than never.\n",
      "Although never is often better than *right* now.\n",
      "If the implementation is hard to explain, it's a bad idea.\n",
      "If the implementation is easy to explain, it may be a good idea.\n",
      "Namespaces are one honking great idea -- let's do more of those!\n"
     ]
    }
   ],
   "source": [
    "import this"
   ]
  },
  {
   "cell_type": "code",
   "execution_count": null,
   "metadata": {},
   "outputs": [],
   "source": []
  },
  {
   "cell_type": "code",
   "execution_count": 12,
   "metadata": {},
   "outputs": [],
   "source": [
    "import pandas as pd\n",
    "\n",
    "my_series3 = pd.Series([10,20,30,40,50], index = ['Alan', 'Bob', 'Charlie', 'David', 'Edward'])"
   ]
  },
  {
   "cell_type": "code",
   "execution_count": 13,
   "metadata": {},
   "outputs": [
    {
     "data": {
      "text/plain": [
       "{'Alan': 10, 'Bob': 20, 'Charlie': 30, 'David': 40, 'Edward': 50}"
      ]
     },
     "execution_count": 13,
     "metadata": {},
     "output_type": "execute_result"
    }
   ],
   "source": [
    "Sales_dict = my_series3.to_dict()\n",
    "Sales_dict"
   ]
  },
  {
   "cell_type": "code",
   "execution_count": 14,
   "metadata": {},
   "outputs": [
    {
     "data": {
      "text/plain": [
       "Alan       10.0\n",
       "Bob        20.0\n",
       "Charlie    30.0\n",
       "David      40.0\n",
       "Edward     50.0\n",
       "Frank       NaN\n",
       "George      NaN\n",
       "dtype: float64"
      ]
     },
     "execution_count": 14,
     "metadata": {},
     "output_type": "execute_result"
    }
   ],
   "source": [
    "new_sales = pd.Series(my_series3, index=['Alan', 'Bob', 'Charlie', 'David', 'Edward', 'Frank', 'George'])\n",
    "new_sales\n",
    "# Case Sensitive indexes"
   ]
  },
  {
   "cell_type": "code",
   "execution_count": 15,
   "metadata": {},
   "outputs": [
    {
     "data": {
      "text/plain": [
       "Alan       False\n",
       "Bob        False\n",
       "Charlie    False\n",
       "David      False\n",
       "Edward     False\n",
       "Frank       True\n",
       "George      True\n",
       "dtype: bool"
      ]
     },
     "execution_count": 15,
     "metadata": {},
     "output_type": "execute_result"
    }
   ],
   "source": [
    "# Find missing values\n",
    "\n",
    "np.isnan(new_sales)"
   ]
  },
  {
   "cell_type": "code",
   "execution_count": 16,
   "metadata": {},
   "outputs": [
    {
     "data": {
      "text/plain": [
       "Frank    NaN\n",
       "George   NaN\n",
       "dtype: float64"
      ]
     },
     "execution_count": 16,
     "metadata": {},
     "output_type": "execute_result"
    }
   ],
   "source": [
    "# which data is missing for each salesperson\n",
    "new_sales[np.isnan(new_sales)]\n"
   ]
  },
  {
   "cell_type": "code",
   "execution_count": 17,
   "metadata": {},
   "outputs": [
    {
     "data": {
      "text/plain": [
       "Alan       10.0\n",
       "Bob        20.0\n",
       "Charlie    30.0\n",
       "David      40.0\n",
       "Edward     50.0\n",
       "dtype: float64"
      ]
     },
     "execution_count": 17,
     "metadata": {},
     "output_type": "execute_result"
    }
   ],
   "source": [
    "# which data that is complete for each salesperson\n",
    "new_sales[~np.isnan(new_sales)]"
   ]
  },
  {
   "cell_type": "code",
   "execution_count": 18,
   "metadata": {},
   "outputs": [
    {
     "data": {
      "text/plain": [
       "Alan       False\n",
       "Bob        False\n",
       "Charlie    False\n",
       "David      False\n",
       "Edward     False\n",
       "Frank       True\n",
       "George      True\n",
       "dtype: bool"
      ]
     },
     "execution_count": 18,
     "metadata": {},
     "output_type": "execute_result"
    }
   ],
   "source": [
    "# Prefered method to find missing values\n",
    "pd.isna(new_sales)\n"
   ]
  },
  {
   "cell_type": "code",
   "execution_count": 19,
   "metadata": {},
   "outputs": [
    {
     "data": {
      "text/plain": [
       "Alan       False\n",
       "Bob        False\n",
       "Charlie    False\n",
       "David      False\n",
       "Edward     False\n",
       "Frank       True\n",
       "George      True\n",
       "dtype: bool"
      ]
     },
     "execution_count": 19,
     "metadata": {},
     "output_type": "execute_result"
    }
   ],
   "source": [
    "# will be deprecated\n",
    "pd.isnull(new_sales)"
   ]
  },
  {
   "cell_type": "code",
   "execution_count": 20,
   "metadata": {},
   "outputs": [
    {
     "data": {
      "text/plain": [
       "Frank    NaN\n",
       "George   NaN\n",
       "dtype: float64"
      ]
     },
     "execution_count": 20,
     "metadata": {},
     "output_type": "execute_result"
    }
   ],
   "source": [
    "new_sales[pd.isna(new_sales)]\n"
   ]
  },
  {
   "cell_type": "code",
   "execution_count": 21,
   "metadata": {},
   "outputs": [
    {
     "data": {
      "text/plain": [
       "Alan       10.0\n",
       "Bob        20.0\n",
       "Charlie    30.0\n",
       "David      40.0\n",
       "Edward     50.0\n",
       "dtype: float64"
      ]
     },
     "execution_count": 21,
     "metadata": {},
     "output_type": "execute_result"
    }
   ],
   "source": [
    "new_sales[pd.notna(new_sales)]\n"
   ]
  },
  {
   "cell_type": "code",
   "execution_count": 22,
   "metadata": {},
   "outputs": [
    {
     "data": {
      "text/html": [
       "<div>\n",
       "<style scoped>\n",
       "    .dataframe tbody tr th:only-of-type {\n",
       "        vertical-align: middle;\n",
       "    }\n",
       "\n",
       "    .dataframe tbody tr th {\n",
       "        vertical-align: top;\n",
       "    }\n",
       "\n",
       "    .dataframe thead th {\n",
       "        text-align: right;\n",
       "    }\n",
       "</style>\n",
       "<table border=\"1\" class=\"dataframe\">\n",
       "  <thead>\n",
       "    <tr style=\"text-align: right;\">\n",
       "      <th></th>\n",
       "      <th>Name</th>\n",
       "      <th>Sales</th>\n",
       "      <th>Date</th>\n",
       "    </tr>\n",
       "  </thead>\n",
       "  <tbody>\n",
       "    <tr>\n",
       "      <th>0</th>\n",
       "      <td>Tom</td>\n",
       "      <td>250</td>\n",
       "      <td>2022</td>\n",
       "    </tr>\n",
       "    <tr>\n",
       "      <th>1</th>\n",
       "      <td>Jane</td>\n",
       "      <td>500</td>\n",
       "      <td>2020</td>\n",
       "    </tr>\n",
       "    <tr>\n",
       "      <th>2</th>\n",
       "      <td>Steve</td>\n",
       "      <td>350</td>\n",
       "      <td>2021</td>\n",
       "    </tr>\n",
       "    <tr>\n",
       "      <th>3</th>\n",
       "      <td>Lucy</td>\n",
       "      <td>400</td>\n",
       "      <td>2022</td>\n",
       "    </tr>\n",
       "  </tbody>\n",
       "</table>\n",
       "</div>"
      ],
      "text/plain": [
       "    Name  Sales  Date\n",
       "0    Tom    250  2022\n",
       "1   Jane    500  2020\n",
       "2  Steve    350  2021\n",
       "3   Lucy    400  2022"
      ]
     },
     "execution_count": 22,
     "metadata": {},
     "output_type": "execute_result"
    }
   ],
   "source": [
    "# Creating a dataframe\n",
    "\n",
    "new_dict = {'Name':['Tom','Jane','Steve','Lucy'],\n",
    "        'Sales':[250,500,350,400],\n",
    "        'Date': [2022,2020,2021,2022]}\n",
    "\n",
    "df = pd.DataFrame(new_dict)\n",
    "df"
   ]
  },
  {
   "cell_type": "code",
   "execution_count": 23,
   "metadata": {},
   "outputs": [
    {
     "name": "stdout",
     "output_type": "stream",
     "text": [
      "<class 'numpy.ndarray'>\n"
     ]
    }
   ],
   "source": [
    "print(type(df.values))"
   ]
  },
  {
   "cell_type": "code",
   "execution_count": 24,
   "metadata": {},
   "outputs": [
    {
     "name": "stdout",
     "output_type": "stream",
     "text": [
      "<class 'pandas.core.indexes.range.RangeIndex'>\n"
     ]
    }
   ],
   "source": [
    "print(type(df.index))"
   ]
  },
  {
   "cell_type": "code",
   "execution_count": 25,
   "metadata": {},
   "outputs": [
    {
     "name": "stdout",
     "output_type": "stream",
     "text": [
      "<class 'pandas.core.frame.DataFrame'>\n"
     ]
    }
   ],
   "source": [
    "print(type(df))"
   ]
  },
  {
   "cell_type": "code",
   "execution_count": 26,
   "metadata": {},
   "outputs": [
    {
     "name": "stdout",
     "output_type": "stream",
     "text": [
      "<class 'pandas.core.series.Series'>\n"
     ]
    }
   ],
   "source": [
    "print(type(df['Name']))"
   ]
  },
  {
   "cell_type": "code",
   "execution_count": 27,
   "metadata": {},
   "outputs": [
    {
     "name": "stdout",
     "output_type": "stream",
     "text": [
      "<class 'str'>\n"
     ]
    }
   ],
   "source": [
    "print(type(df['Name'][0]))"
   ]
  },
  {
   "cell_type": "code",
   "execution_count": 28,
   "metadata": {},
   "outputs": [],
   "source": [
    "df_index = pd.DataFrame(df, index=['rank 1','Rank 2','Rank 3','Rank 4' ,'Rank 5'])"
   ]
  },
  {
   "cell_type": "code",
   "execution_count": 29,
   "metadata": {},
   "outputs": [],
   "source": [
    "df_index.index.name='Rank'"
   ]
  },
  {
   "cell_type": "code",
   "execution_count": 30,
   "metadata": {},
   "outputs": [
    {
     "data": {
      "text/html": [
       "<div>\n",
       "<style scoped>\n",
       "    .dataframe tbody tr th:only-of-type {\n",
       "        vertical-align: middle;\n",
       "    }\n",
       "\n",
       "    .dataframe tbody tr th {\n",
       "        vertical-align: top;\n",
       "    }\n",
       "\n",
       "    .dataframe thead th {\n",
       "        text-align: right;\n",
       "    }\n",
       "</style>\n",
       "<table border=\"1\" class=\"dataframe\">\n",
       "  <thead>\n",
       "    <tr style=\"text-align: right;\">\n",
       "      <th></th>\n",
       "      <th>Name</th>\n",
       "      <th>Sales</th>\n",
       "      <th>Date</th>\n",
       "    </tr>\n",
       "    <tr>\n",
       "      <th>Rank</th>\n",
       "      <th></th>\n",
       "      <th></th>\n",
       "      <th></th>\n",
       "    </tr>\n",
       "  </thead>\n",
       "  <tbody>\n",
       "    <tr>\n",
       "      <th>rank 1</th>\n",
       "      <td>NaN</td>\n",
       "      <td>NaN</td>\n",
       "      <td>NaN</td>\n",
       "    </tr>\n",
       "    <tr>\n",
       "      <th>Rank 2</th>\n",
       "      <td>NaN</td>\n",
       "      <td>NaN</td>\n",
       "      <td>NaN</td>\n",
       "    </tr>\n",
       "    <tr>\n",
       "      <th>Rank 3</th>\n",
       "      <td>NaN</td>\n",
       "      <td>NaN</td>\n",
       "      <td>NaN</td>\n",
       "    </tr>\n",
       "    <tr>\n",
       "      <th>Rank 4</th>\n",
       "      <td>NaN</td>\n",
       "      <td>NaN</td>\n",
       "      <td>NaN</td>\n",
       "    </tr>\n",
       "    <tr>\n",
       "      <th>Rank 5</th>\n",
       "      <td>NaN</td>\n",
       "      <td>NaN</td>\n",
       "      <td>NaN</td>\n",
       "    </tr>\n",
       "  </tbody>\n",
       "</table>\n",
       "</div>"
      ],
      "text/plain": [
       "       Name  Sales  Date\n",
       "Rank                    \n",
       "rank 1  NaN    NaN   NaN\n",
       "Rank 2  NaN    NaN   NaN\n",
       "Rank 3  NaN    NaN   NaN\n",
       "Rank 4  NaN    NaN   NaN\n",
       "Rank 5  NaN    NaN   NaN"
      ]
     },
     "execution_count": 30,
     "metadata": {},
     "output_type": "execute_result"
    }
   ],
   "source": [
    "df_index"
   ]
  },
  {
   "cell_type": "code",
   "execution_count": 31,
   "metadata": {},
   "outputs": [
    {
     "data": {
      "text/plain": [
       "Index(['Name', 'Sales', 'Date'], dtype='object')"
      ]
     },
     "execution_count": 31,
     "metadata": {},
     "output_type": "execute_result"
    }
   ],
   "source": [
    "df_index.columns\n"
   ]
  },
  {
   "cell_type": "code",
   "execution_count": 32,
   "metadata": {},
   "outputs": [
    {
     "data": {
      "text/plain": [
       "Index(['rank 1', 'Rank 2', 'Rank 3', 'Rank 4', 'Rank 5'], dtype='object', name='Rank')"
      ]
     },
     "execution_count": 32,
     "metadata": {},
     "output_type": "execute_result"
    }
   ],
   "source": [
    "df_index.index"
   ]
  },
  {
   "cell_type": "code",
   "execution_count": 33,
   "metadata": {},
   "outputs": [
    {
     "data": {
      "text/plain": [
       "array([['Tom', 250, 2022],\n",
       "       ['Jane', 500, 2020],\n",
       "       ['Steve', 350, 2021],\n",
       "       ['Lucy', 400, 2022]], dtype=object)"
      ]
     },
     "execution_count": 33,
     "metadata": {},
     "output_type": "execute_result"
    }
   ],
   "source": [
    "df.values"
   ]
  },
  {
   "cell_type": "code",
   "execution_count": 34,
   "metadata": {},
   "outputs": [
    {
     "data": {
      "text/html": [
       "<div>\n",
       "<style scoped>\n",
       "    .dataframe tbody tr th:only-of-type {\n",
       "        vertical-align: middle;\n",
       "    }\n",
       "\n",
       "    .dataframe tbody tr th {\n",
       "        vertical-align: top;\n",
       "    }\n",
       "\n",
       "    .dataframe thead th {\n",
       "        text-align: right;\n",
       "    }\n",
       "</style>\n",
       "<table border=\"1\" class=\"dataframe\">\n",
       "  <thead>\n",
       "    <tr style=\"text-align: right;\">\n",
       "      <th></th>\n",
       "      <th>Name</th>\n",
       "      <th>Sales</th>\n",
       "      <th>Date</th>\n",
       "      <th>Expenses</th>\n",
       "      <th>Rank</th>\n",
       "    </tr>\n",
       "  </thead>\n",
       "  <tbody>\n",
       "    <tr>\n",
       "      <th>0</th>\n",
       "      <td>Tom</td>\n",
       "      <td>250</td>\n",
       "      <td>2022</td>\n",
       "      <td>100</td>\n",
       "      <td>Rank 1</td>\n",
       "    </tr>\n",
       "    <tr>\n",
       "      <th>1</th>\n",
       "      <td>Jane</td>\n",
       "      <td>500</td>\n",
       "      <td>2020</td>\n",
       "      <td>200</td>\n",
       "      <td>Rank 2</td>\n",
       "    </tr>\n",
       "    <tr>\n",
       "      <th>2</th>\n",
       "      <td>Steve</td>\n",
       "      <td>350</td>\n",
       "      <td>2021</td>\n",
       "      <td>150</td>\n",
       "      <td>Rank 2</td>\n",
       "    </tr>\n",
       "    <tr>\n",
       "      <th>3</th>\n",
       "      <td>Lucy</td>\n",
       "      <td>400</td>\n",
       "      <td>2022</td>\n",
       "      <td>200</td>\n",
       "      <td>Rank 4</td>\n",
       "    </tr>\n",
       "  </tbody>\n",
       "</table>\n",
       "</div>"
      ],
      "text/plain": [
       "    Name  Sales  Date  Expenses    Rank\n",
       "0    Tom    250  2022       100  Rank 1\n",
       "1   Jane    500  2020       200  Rank 2\n",
       "2  Steve    350  2021       150  Rank 2\n",
       "3   Lucy    400  2022       200  Rank 4"
      ]
     },
     "execution_count": 34,
     "metadata": {},
     "output_type": "execute_result"
    }
   ],
   "source": [
    "new_dict_v2 = {'Name':['Tom','Jane','Steve','Lucy'],\n",
    "        'Sales':[250,500,350,400],\n",
    "        'Date': [2022,2020,2021,2022],\n",
    "        'Expenses': [100,200,150,200],\n",
    "        'Rank': ['Rank 1','Rank 2','Rank 2','Rank 4']}\n",
    "\n",
    "df_v2 = pd.DataFrame(new_dict_v2)\n",
    "\n",
    "df_v2\n"
   ]
  },
  {
   "cell_type": "code",
   "execution_count": 35,
   "metadata": {},
   "outputs": [],
   "source": [
    "\n",
    "# Choose column to become index and save it\n",
    "df_v2.set_index('Rank', inplace = True)   \n",
    "\n"
   ]
  },
  {
   "cell_type": "code",
   "execution_count": null,
   "metadata": {},
   "outputs": [],
   "source": []
  },
  {
   "cell_type": "code",
   "execution_count": 36,
   "metadata": {},
   "outputs": [
    {
     "data": {
      "text/html": [
       "<div>\n",
       "<style scoped>\n",
       "    .dataframe tbody tr th:only-of-type {\n",
       "        vertical-align: middle;\n",
       "    }\n",
       "\n",
       "    .dataframe tbody tr th {\n",
       "        vertical-align: top;\n",
       "    }\n",
       "\n",
       "    .dataframe thead th {\n",
       "        text-align: right;\n",
       "    }\n",
       "</style>\n",
       "<table border=\"1\" class=\"dataframe\">\n",
       "  <thead>\n",
       "    <tr style=\"text-align: right;\">\n",
       "      <th></th>\n",
       "      <th>Rank</th>\n",
       "      <th>Name</th>\n",
       "      <th>Sales</th>\n",
       "      <th>Date</th>\n",
       "      <th>Expenses</th>\n",
       "    </tr>\n",
       "  </thead>\n",
       "  <tbody>\n",
       "    <tr>\n",
       "      <th>0</th>\n",
       "      <td>Rank 1</td>\n",
       "      <td>Tom</td>\n",
       "      <td>250</td>\n",
       "      <td>2022</td>\n",
       "      <td>100</td>\n",
       "    </tr>\n",
       "    <tr>\n",
       "      <th>1</th>\n",
       "      <td>Rank 2</td>\n",
       "      <td>Jane</td>\n",
       "      <td>500</td>\n",
       "      <td>2020</td>\n",
       "      <td>200</td>\n",
       "    </tr>\n",
       "    <tr>\n",
       "      <th>2</th>\n",
       "      <td>Rank 2</td>\n",
       "      <td>Steve</td>\n",
       "      <td>350</td>\n",
       "      <td>2021</td>\n",
       "      <td>150</td>\n",
       "    </tr>\n",
       "    <tr>\n",
       "      <th>3</th>\n",
       "      <td>Rank 4</td>\n",
       "      <td>Lucy</td>\n",
       "      <td>400</td>\n",
       "      <td>2022</td>\n",
       "      <td>200</td>\n",
       "    </tr>\n",
       "  </tbody>\n",
       "</table>\n",
       "</div>"
      ],
      "text/plain": [
       "     Rank   Name  Sales  Date  Expenses\n",
       "0  Rank 1    Tom    250  2022       100\n",
       "1  Rank 2   Jane    500  2020       200\n",
       "2  Rank 2  Steve    350  2021       150\n",
       "3  Rank 4   Lucy    400  2022       200"
      ]
     },
     "execution_count": 36,
     "metadata": {},
     "output_type": "execute_result"
    }
   ],
   "source": [
    "# Reset all indexes\n",
    "df_v2.reset_index(inplace=True)\n",
    "\n",
    "df_v2"
   ]
  },
  {
   "cell_type": "code",
   "execution_count": 37,
   "metadata": {},
   "outputs": [],
   "source": [
    "df_v2.set_index('Rank', inplace=True)\n"
   ]
  },
  {
   "cell_type": "code",
   "execution_count": 38,
   "metadata": {},
   "outputs": [
    {
     "data": {
      "text/html": [
       "<div>\n",
       "<style scoped>\n",
       "    .dataframe tbody tr th:only-of-type {\n",
       "        vertical-align: middle;\n",
       "    }\n",
       "\n",
       "    .dataframe tbody tr th {\n",
       "        vertical-align: top;\n",
       "    }\n",
       "\n",
       "    .dataframe thead th {\n",
       "        text-align: right;\n",
       "    }\n",
       "</style>\n",
       "<table border=\"1\" class=\"dataframe\">\n",
       "  <thead>\n",
       "    <tr style=\"text-align: right;\">\n",
       "      <th></th>\n",
       "      <th>Name</th>\n",
       "      <th>Sales</th>\n",
       "      <th>Date</th>\n",
       "      <th>Expenses</th>\n",
       "    </tr>\n",
       "    <tr>\n",
       "      <th>Rank</th>\n",
       "      <th></th>\n",
       "      <th></th>\n",
       "      <th></th>\n",
       "      <th></th>\n",
       "    </tr>\n",
       "  </thead>\n",
       "  <tbody>\n",
       "    <tr>\n",
       "      <th>Rank 1</th>\n",
       "      <td>Tom</td>\n",
       "      <td>250</td>\n",
       "      <td>2022</td>\n",
       "      <td>100</td>\n",
       "    </tr>\n",
       "    <tr>\n",
       "      <th>Rank 2</th>\n",
       "      <td>Jane</td>\n",
       "      <td>500</td>\n",
       "      <td>2020</td>\n",
       "      <td>200</td>\n",
       "    </tr>\n",
       "    <tr>\n",
       "      <th>Rank 2</th>\n",
       "      <td>Steve</td>\n",
       "      <td>350</td>\n",
       "      <td>2021</td>\n",
       "      <td>150</td>\n",
       "    </tr>\n",
       "    <tr>\n",
       "      <th>Rank 4</th>\n",
       "      <td>Lucy</td>\n",
       "      <td>400</td>\n",
       "      <td>2022</td>\n",
       "      <td>200</td>\n",
       "    </tr>\n",
       "  </tbody>\n",
       "</table>\n",
       "</div>"
      ],
      "text/plain": [
       "         Name  Sales  Date  Expenses\n",
       "Rank                                \n",
       "Rank 1    Tom    250  2022       100\n",
       "Rank 2   Jane    500  2020       200\n",
       "Rank 2  Steve    350  2021       150\n",
       "Rank 4   Lucy    400  2022       200"
      ]
     },
     "execution_count": 38,
     "metadata": {},
     "output_type": "execute_result"
    }
   ],
   "source": [
    "df_v2"
   ]
  },
  {
   "cell_type": "code",
   "execution_count": null,
   "metadata": {},
   "outputs": [],
   "source": [
    "\n",
    "\n"
   ]
  },
  {
   "cell_type": "code",
   "execution_count": 40,
   "metadata": {},
   "outputs": [
    {
     "data": {
      "text/plain": [
       "Rank\n",
       "Rank 1      Tom\n",
       "Rank 2     Jane\n",
       "Rank 2    Steve\n",
       "Rank 4     Lucy\n",
       "Name: Name, dtype: object"
      ]
     },
     "execution_count": 40,
     "metadata": {},
     "output_type": "execute_result"
    }
   ],
   "source": [
    "# square brackets\n",
    "# outputs a pandas series\n",
    "df_v2['Name']\n"
   ]
  },
  {
   "cell_type": "code",
   "execution_count": 41,
   "metadata": {},
   "outputs": [
    {
     "data": {
      "text/html": [
       "<div>\n",
       "<style scoped>\n",
       "    .dataframe tbody tr th:only-of-type {\n",
       "        vertical-align: middle;\n",
       "    }\n",
       "\n",
       "    .dataframe tbody tr th {\n",
       "        vertical-align: top;\n",
       "    }\n",
       "\n",
       "    .dataframe thead th {\n",
       "        text-align: right;\n",
       "    }\n",
       "</style>\n",
       "<table border=\"1\" class=\"dataframe\">\n",
       "  <thead>\n",
       "    <tr style=\"text-align: right;\">\n",
       "      <th></th>\n",
       "      <th>Name</th>\n",
       "    </tr>\n",
       "    <tr>\n",
       "      <th>Rank</th>\n",
       "      <th></th>\n",
       "    </tr>\n",
       "  </thead>\n",
       "  <tbody>\n",
       "    <tr>\n",
       "      <th>Rank 1</th>\n",
       "      <td>Tom</td>\n",
       "    </tr>\n",
       "    <tr>\n",
       "      <th>Rank 2</th>\n",
       "      <td>Jane</td>\n",
       "    </tr>\n",
       "    <tr>\n",
       "      <th>Rank 2</th>\n",
       "      <td>Steve</td>\n",
       "    </tr>\n",
       "    <tr>\n",
       "      <th>Rank 4</th>\n",
       "      <td>Lucy</td>\n",
       "    </tr>\n",
       "  </tbody>\n",
       "</table>\n",
       "</div>"
      ],
      "text/plain": [
       "         Name\n",
       "Rank         \n",
       "Rank 1    Tom\n",
       "Rank 2   Jane\n",
       "Rank 2  Steve\n",
       "Rank 4   Lucy"
      ]
     },
     "execution_count": 41,
     "metadata": {},
     "output_type": "execute_result"
    }
   ],
   "source": [
    "# outputs as a pandas datafram\n",
    "df_v2[['Name']]\n"
   ]
  },
  {
   "cell_type": "code",
   "execution_count": 50,
   "metadata": {},
   "outputs": [
    {
     "data": {
      "text/html": [
       "<div>\n",
       "<style scoped>\n",
       "    .dataframe tbody tr th:only-of-type {\n",
       "        vertical-align: middle;\n",
       "    }\n",
       "\n",
       "    .dataframe tbody tr th {\n",
       "        vertical-align: top;\n",
       "    }\n",
       "\n",
       "    .dataframe thead th {\n",
       "        text-align: right;\n",
       "    }\n",
       "</style>\n",
       "<table border=\"1\" class=\"dataframe\">\n",
       "  <thead>\n",
       "    <tr style=\"text-align: right;\">\n",
       "      <th></th>\n",
       "      <th>Name</th>\n",
       "      <th>Sales</th>\n",
       "      <th>Date</th>\n",
       "    </tr>\n",
       "    <tr>\n",
       "      <th>Rank</th>\n",
       "      <th></th>\n",
       "      <th></th>\n",
       "      <th></th>\n",
       "    </tr>\n",
       "  </thead>\n",
       "  <tbody>\n",
       "    <tr>\n",
       "      <th>Rank 1</th>\n",
       "      <td>Tom</td>\n",
       "      <td>250</td>\n",
       "      <td>2022</td>\n",
       "    </tr>\n",
       "    <tr>\n",
       "      <th>Rank 2</th>\n",
       "      <td>Jane</td>\n",
       "      <td>500</td>\n",
       "      <td>2020</td>\n",
       "    </tr>\n",
       "    <tr>\n",
       "      <th>Rank 2</th>\n",
       "      <td>Steve</td>\n",
       "      <td>350</td>\n",
       "      <td>2021</td>\n",
       "    </tr>\n",
       "    <tr>\n",
       "      <th>Rank 4</th>\n",
       "      <td>Lucy</td>\n",
       "      <td>400</td>\n",
       "      <td>2022</td>\n",
       "    </tr>\n",
       "  </tbody>\n",
       "</table>\n",
       "</div>"
      ],
      "text/plain": [
       "         Name  Sales  Date\n",
       "Rank                      \n",
       "Rank 1    Tom    250  2022\n",
       "Rank 2   Jane    500  2020\n",
       "Rank 2  Steve    350  2021\n",
       "Rank 4   Lucy    400  2022"
      ]
     },
     "execution_count": 50,
     "metadata": {},
     "output_type": "execute_result"
    }
   ],
   "source": [
    "df_v2 = df_v2[['Name', 'Sales', 'Date']]\n",
    "df_v2"
   ]
  },
  {
   "cell_type": "code",
   "execution_count": 52,
   "metadata": {},
   "outputs": [
    {
     "data": {
      "text/html": [
       "<div>\n",
       "<style scoped>\n",
       "    .dataframe tbody tr th:only-of-type {\n",
       "        vertical-align: middle;\n",
       "    }\n",
       "\n",
       "    .dataframe tbody tr th {\n",
       "        vertical-align: top;\n",
       "    }\n",
       "\n",
       "    .dataframe thead th {\n",
       "        text-align: right;\n",
       "    }\n",
       "</style>\n",
       "<table border=\"1\" class=\"dataframe\">\n",
       "  <thead>\n",
       "    <tr style=\"text-align: right;\">\n",
       "      <th></th>\n",
       "      <th>Name</th>\n",
       "      <th>Sales</th>\n",
       "      <th>Date</th>\n",
       "    </tr>\n",
       "    <tr>\n",
       "      <th>Rank</th>\n",
       "      <th></th>\n",
       "      <th></th>\n",
       "      <th></th>\n",
       "    </tr>\n",
       "  </thead>\n",
       "  <tbody>\n",
       "    <tr>\n",
       "      <th>Rank 2</th>\n",
       "      <td>Jane</td>\n",
       "      <td>500</td>\n",
       "      <td>2020</td>\n",
       "    </tr>\n",
       "    <tr>\n",
       "      <th>Rank 2</th>\n",
       "      <td>Steve</td>\n",
       "      <td>350</td>\n",
       "      <td>2021</td>\n",
       "    </tr>\n",
       "  </tbody>\n",
       "</table>\n",
       "</div>"
      ],
      "text/plain": [
       "         Name  Sales  Date\n",
       "Rank                      \n",
       "Rank 2   Jane    500  2020\n",
       "Rank 2  Steve    350  2021"
      ]
     },
     "execution_count": 52,
     "metadata": {},
     "output_type": "execute_result"
    }
   ],
   "source": [
    "# slicing example, [<begin>:<end>] ----- end not included, starting from zero\n",
    "df_v2[1:3]\n"
   ]
  },
  {
   "cell_type": "code",
   "execution_count": 53,
   "metadata": {},
   "outputs": [
    {
     "data": {
      "text/html": [
       "<div>\n",
       "<style scoped>\n",
       "    .dataframe tbody tr th:only-of-type {\n",
       "        vertical-align: middle;\n",
       "    }\n",
       "\n",
       "    .dataframe tbody tr th {\n",
       "        vertical-align: top;\n",
       "    }\n",
       "\n",
       "    .dataframe thead th {\n",
       "        text-align: right;\n",
       "    }\n",
       "</style>\n",
       "<table border=\"1\" class=\"dataframe\">\n",
       "  <thead>\n",
       "    <tr style=\"text-align: right;\">\n",
       "      <th></th>\n",
       "      <th>Name</th>\n",
       "      <th>Sales</th>\n",
       "      <th>Date</th>\n",
       "    </tr>\n",
       "    <tr>\n",
       "      <th>Rank</th>\n",
       "      <th></th>\n",
       "      <th></th>\n",
       "      <th></th>\n",
       "    </tr>\n",
       "  </thead>\n",
       "  <tbody>\n",
       "    <tr>\n",
       "      <th>Rank 1</th>\n",
       "      <td>Tom</td>\n",
       "      <td>250</td>\n",
       "      <td>2022</td>\n",
       "    </tr>\n",
       "    <tr>\n",
       "      <th>Rank 2</th>\n",
       "      <td>Steve</td>\n",
       "      <td>350</td>\n",
       "      <td>2021</td>\n",
       "    </tr>\n",
       "    <tr>\n",
       "      <th>Rank 4</th>\n",
       "      <td>Lucy</td>\n",
       "      <td>400</td>\n",
       "      <td>2022</td>\n",
       "    </tr>\n",
       "  </tbody>\n",
       "</table>\n",
       "</div>"
      ],
      "text/plain": [
       "         Name  Sales  Date\n",
       "Rank                      \n",
       "Rank 1    Tom    250  2022\n",
       "Rank 2  Steve    350  2021\n",
       "Rank 4   Lucy    400  2022"
      ]
     },
     "execution_count": 53,
     "metadata": {},
     "output_type": "execute_result"
    }
   ],
   "source": [
    "# query df_v2 for Date > 2020\n",
    "df_v2[df_v2['Date'] > 2020]\n"
   ]
  },
  {
   "cell_type": "code",
   "execution_count": 54,
   "metadata": {},
   "outputs": [
    {
     "data": {
      "text/html": [
       "<div>\n",
       "<style scoped>\n",
       "    .dataframe tbody tr th:only-of-type {\n",
       "        vertical-align: middle;\n",
       "    }\n",
       "\n",
       "    .dataframe tbody tr th {\n",
       "        vertical-align: top;\n",
       "    }\n",
       "\n",
       "    .dataframe thead th {\n",
       "        text-align: right;\n",
       "    }\n",
       "</style>\n",
       "<table border=\"1\" class=\"dataframe\">\n",
       "  <thead>\n",
       "    <tr style=\"text-align: right;\">\n",
       "      <th></th>\n",
       "      <th>Name</th>\n",
       "      <th>Sales</th>\n",
       "      <th>Date</th>\n",
       "    </tr>\n",
       "    <tr>\n",
       "      <th>Rank</th>\n",
       "      <th></th>\n",
       "      <th></th>\n",
       "      <th></th>\n",
       "    </tr>\n",
       "  </thead>\n",
       "  <tbody>\n",
       "  </tbody>\n",
       "</table>\n",
       "</div>"
      ],
      "text/plain": [
       "Empty DataFrame\n",
       "Columns: [Name, Sales, Date]\n",
       "Index: []"
      ]
     },
     "execution_count": 54,
     "metadata": {},
     "output_type": "execute_result"
    }
   ],
   "source": [
    "# query df_v2 for Date > 2020\n",
    "df_v2[~df_v2['Date'] > 2020]"
   ]
  },
  {
   "cell_type": "code",
   "execution_count": 55,
   "metadata": {},
   "outputs": [
    {
     "data": {
      "text/html": [
       "<div>\n",
       "<style scoped>\n",
       "    .dataframe tbody tr th:only-of-type {\n",
       "        vertical-align: middle;\n",
       "    }\n",
       "\n",
       "    .dataframe tbody tr th {\n",
       "        vertical-align: top;\n",
       "    }\n",
       "\n",
       "    .dataframe thead th {\n",
       "        text-align: right;\n",
       "    }\n",
       "</style>\n",
       "<table border=\"1\" class=\"dataframe\">\n",
       "  <thead>\n",
       "    <tr style=\"text-align: right;\">\n",
       "      <th></th>\n",
       "      <th>Name</th>\n",
       "      <th>Sales</th>\n",
       "      <th>Date</th>\n",
       "    </tr>\n",
       "    <tr>\n",
       "      <th>Rank</th>\n",
       "      <th></th>\n",
       "      <th></th>\n",
       "      <th></th>\n",
       "    </tr>\n",
       "  </thead>\n",
       "  <tbody>\n",
       "    <tr>\n",
       "      <th>Rank 1</th>\n",
       "      <td>Tom</td>\n",
       "      <td>250</td>\n",
       "      <td>2022</td>\n",
       "    </tr>\n",
       "    <tr>\n",
       "      <th>Rank 2</th>\n",
       "      <td>Jane</td>\n",
       "      <td>500</td>\n",
       "      <td>2020</td>\n",
       "    </tr>\n",
       "    <tr>\n",
       "      <th>Rank 2</th>\n",
       "      <td>Steve</td>\n",
       "      <td>350</td>\n",
       "      <td>2021</td>\n",
       "    </tr>\n",
       "    <tr>\n",
       "      <th>Rank 4</th>\n",
       "      <td>Lucy</td>\n",
       "      <td>400</td>\n",
       "      <td>2022</td>\n",
       "    </tr>\n",
       "  </tbody>\n",
       "</table>\n",
       "</div>"
      ],
      "text/plain": [
       "         Name  Sales  Date\n",
       "Rank                      \n",
       "Rank 1    Tom    250  2022\n",
       "Rank 2   Jane    500  2020\n",
       "Rank 2  Steve    350  2021\n",
       "Rank 4   Lucy    400  2022"
      ]
     },
     "execution_count": 55,
     "metadata": {},
     "output_type": "execute_result"
    }
   ],
   "source": [
    "df_v2"
   ]
  },
  {
   "cell_type": "code",
   "execution_count": 61,
   "metadata": {},
   "outputs": [
    {
     "data": {
      "text/html": [
       "<div>\n",
       "<style scoped>\n",
       "    .dataframe tbody tr th:only-of-type {\n",
       "        vertical-align: middle;\n",
       "    }\n",
       "\n",
       "    .dataframe tbody tr th {\n",
       "        vertical-align: top;\n",
       "    }\n",
       "\n",
       "    .dataframe thead th {\n",
       "        text-align: right;\n",
       "    }\n",
       "</style>\n",
       "<table border=\"1\" class=\"dataframe\">\n",
       "  <thead>\n",
       "    <tr style=\"text-align: right;\">\n",
       "      <th></th>\n",
       "      <th>Name</th>\n",
       "      <th>Sales</th>\n",
       "      <th>Date</th>\n",
       "    </tr>\n",
       "    <tr>\n",
       "      <th>Rank</th>\n",
       "      <th></th>\n",
       "      <th></th>\n",
       "      <th></th>\n",
       "    </tr>\n",
       "  </thead>\n",
       "  <tbody>\n",
       "    <tr>\n",
       "      <th>Rank 2</th>\n",
       "      <td>Steve</td>\n",
       "      <td>350</td>\n",
       "      <td>2021</td>\n",
       "    </tr>\n",
       "    <tr>\n",
       "      <th>Rank 4</th>\n",
       "      <td>Lucy</td>\n",
       "      <td>400</td>\n",
       "      <td>2022</td>\n",
       "    </tr>\n",
       "  </tbody>\n",
       "</table>\n",
       "</div>"
      ],
      "text/plain": [
       "         Name  Sales  Date\n",
       "Rank                      \n",
       "Rank 2  Steve    350  2021\n",
       "Rank 4   Lucy    400  2022"
      ]
     },
     "execution_count": 61,
     "metadata": {},
     "output_type": "execute_result"
    }
   ],
   "source": [
    "# show sales greater than 200 and Sales greater than 300\n",
    "df_v2[(df_v2['Date'] > 2020) & (df_v2['Sales'] > 300)] "
   ]
  },
  {
   "cell_type": "code",
   "execution_count": 62,
   "metadata": {},
   "outputs": [
    {
     "data": {
      "text/html": [
       "<div>\n",
       "<style scoped>\n",
       "    .dataframe tbody tr th:only-of-type {\n",
       "        vertical-align: middle;\n",
       "    }\n",
       "\n",
       "    .dataframe tbody tr th {\n",
       "        vertical-align: top;\n",
       "    }\n",
       "\n",
       "    .dataframe thead th {\n",
       "        text-align: right;\n",
       "    }\n",
       "</style>\n",
       "<table border=\"1\" class=\"dataframe\">\n",
       "  <thead>\n",
       "    <tr style=\"text-align: right;\">\n",
       "      <th></th>\n",
       "      <th>Name</th>\n",
       "      <th>Sales</th>\n",
       "      <th>Date</th>\n",
       "    </tr>\n",
       "    <tr>\n",
       "      <th>Rank</th>\n",
       "      <th></th>\n",
       "      <th></th>\n",
       "      <th></th>\n",
       "    </tr>\n",
       "  </thead>\n",
       "  <tbody>\n",
       "    <tr>\n",
       "      <th>Rank 1</th>\n",
       "      <td>Tom</td>\n",
       "      <td>250</td>\n",
       "      <td>2022</td>\n",
       "    </tr>\n",
       "    <tr>\n",
       "      <th>Rank 2</th>\n",
       "      <td>Steve</td>\n",
       "      <td>350</td>\n",
       "      <td>2021</td>\n",
       "    </tr>\n",
       "  </tbody>\n",
       "</table>\n",
       "</div>"
      ],
      "text/plain": [
       "         Name  Sales  Date\n",
       "Rank                      \n",
       "Rank 1    Tom    250  2022\n",
       "Rank 2  Steve    350  2021"
      ]
     },
     "execution_count": 62,
     "metadata": {},
     "output_type": "execute_result"
    }
   ],
   "source": [
    "# pandas isin function\n",
    "# Return records where name is Tom or Steve\n",
    "df_v2[df_v2['Name'].isin(['Tom', 'Steve'])]\n"
   ]
  },
  {
   "cell_type": "code",
   "execution_count": 63,
   "metadata": {},
   "outputs": [
    {
     "data": {
      "text/html": [
       "<div>\n",
       "<style scoped>\n",
       "    .dataframe tbody tr th:only-of-type {\n",
       "        vertical-align: middle;\n",
       "    }\n",
       "\n",
       "    .dataframe tbody tr th {\n",
       "        vertical-align: top;\n",
       "    }\n",
       "\n",
       "    .dataframe thead th {\n",
       "        text-align: right;\n",
       "    }\n",
       "</style>\n",
       "<table border=\"1\" class=\"dataframe\">\n",
       "  <thead>\n",
       "    <tr style=\"text-align: right;\">\n",
       "      <th></th>\n",
       "      <th>Name</th>\n",
       "      <th>Sales</th>\n",
       "      <th>Date</th>\n",
       "    </tr>\n",
       "    <tr>\n",
       "      <th>Rank</th>\n",
       "      <th></th>\n",
       "      <th></th>\n",
       "      <th></th>\n",
       "    </tr>\n",
       "  </thead>\n",
       "  <tbody>\n",
       "    <tr>\n",
       "      <th>Rank 1</th>\n",
       "      <td>Tom</td>\n",
       "      <td>250</td>\n",
       "      <td>2022</td>\n",
       "    </tr>\n",
       "    <tr>\n",
       "      <th>Rank 2</th>\n",
       "      <td>Jane</td>\n",
       "      <td>500</td>\n",
       "      <td>2020</td>\n",
       "    </tr>\n",
       "    <tr>\n",
       "      <th>Rank 4</th>\n",
       "      <td>Lucy</td>\n",
       "      <td>400</td>\n",
       "      <td>2022</td>\n",
       "    </tr>\n",
       "  </tbody>\n",
       "</table>\n",
       "</div>"
      ],
      "text/plain": [
       "        Name  Sales  Date\n",
       "Rank                     \n",
       "Rank 1   Tom    250  2022\n",
       "Rank 2  Jane    500  2020\n",
       "Rank 4  Lucy    400  2022"
      ]
     },
     "execution_count": 63,
     "metadata": {},
     "output_type": "execute_result"
    }
   ],
   "source": [
    "# show records for the date 2020 and 2022 RECOOMENDED\n",
    "df_v2[df_v2['Date'].isin([2020, 2022])]\n"
   ]
  },
  {
   "cell_type": "code",
   "execution_count": 68,
   "metadata": {},
   "outputs": [
    {
     "data": {
      "text/html": [
       "<div>\n",
       "<style scoped>\n",
       "    .dataframe tbody tr th:only-of-type {\n",
       "        vertical-align: middle;\n",
       "    }\n",
       "\n",
       "    .dataframe tbody tr th {\n",
       "        vertical-align: top;\n",
       "    }\n",
       "\n",
       "    .dataframe thead th {\n",
       "        text-align: right;\n",
       "    }\n",
       "</style>\n",
       "<table border=\"1\" class=\"dataframe\">\n",
       "  <thead>\n",
       "    <tr style=\"text-align: right;\">\n",
       "      <th></th>\n",
       "      <th>Name</th>\n",
       "      <th>Sales</th>\n",
       "      <th>Date</th>\n",
       "    </tr>\n",
       "    <tr>\n",
       "      <th>Rank</th>\n",
       "      <th></th>\n",
       "      <th></th>\n",
       "      <th></th>\n",
       "    </tr>\n",
       "  </thead>\n",
       "  <tbody>\n",
       "    <tr>\n",
       "      <th>Rank 1</th>\n",
       "      <td>Tom</td>\n",
       "      <td>250</td>\n",
       "      <td>2022</td>\n",
       "    </tr>\n",
       "    <tr>\n",
       "      <th>Rank 2</th>\n",
       "      <td>Jane</td>\n",
       "      <td>500</td>\n",
       "      <td>2020</td>\n",
       "    </tr>\n",
       "    <tr>\n",
       "      <th>Rank 4</th>\n",
       "      <td>Lucy</td>\n",
       "      <td>400</td>\n",
       "      <td>2022</td>\n",
       "    </tr>\n",
       "  </tbody>\n",
       "</table>\n",
       "</div>"
      ],
      "text/plain": [
       "        Name  Sales  Date\n",
       "Rank                     \n",
       "Rank 1   Tom    250  2022\n",
       "Rank 2  Jane    500  2020\n",
       "Rank 4  Lucy    400  2022"
      ]
     },
     "execution_count": 68,
     "metadata": {},
     "output_type": "execute_result"
    }
   ],
   "source": [
    "# Alternate way NOT RECOMMENDED\n",
    "# Return all records for 2020 and 2022\n",
    "df_v2[(df_v2['Date'] == 2020 )| (df_v2['Date'] == 2022)]"
   ]
  },
  {
   "cell_type": "code",
   "execution_count": null,
   "metadata": {},
   "outputs": [],
   "source": [
    "# loc and iloc\n",
    "\n",
    "# loc is used to access a group of rows and columns by label(s) or a boolean array\n",
    "# iloc is used to access a group of rows and columns by integer location(s)\n"
   ]
  },
  {
   "cell_type": "code",
   "execution_count": 74,
   "metadata": {},
   "outputs": [
    {
     "data": {
      "text/html": [
       "<div>\n",
       "<style scoped>\n",
       "    .dataframe tbody tr th:only-of-type {\n",
       "        vertical-align: middle;\n",
       "    }\n",
       "\n",
       "    .dataframe tbody tr th {\n",
       "        vertical-align: top;\n",
       "    }\n",
       "\n",
       "    .dataframe thead th {\n",
       "        text-align: right;\n",
       "    }\n",
       "</style>\n",
       "<table border=\"1\" class=\"dataframe\">\n",
       "  <thead>\n",
       "    <tr style=\"text-align: right;\">\n",
       "      <th></th>\n",
       "      <th>Name</th>\n",
       "      <th>Sales</th>\n",
       "    </tr>\n",
       "    <tr>\n",
       "      <th>Rank</th>\n",
       "      <th></th>\n",
       "      <th></th>\n",
       "    </tr>\n",
       "  </thead>\n",
       "  <tbody>\n",
       "    <tr>\n",
       "      <th>Rank 1</th>\n",
       "      <td>Tom</td>\n",
       "      <td>250</td>\n",
       "    </tr>\n",
       "    <tr>\n",
       "      <th>Rank 2</th>\n",
       "      <td>Jane</td>\n",
       "      <td>500</td>\n",
       "    </tr>\n",
       "    <tr>\n",
       "      <th>Rank 2</th>\n",
       "      <td>Steve</td>\n",
       "      <td>350</td>\n",
       "    </tr>\n",
       "  </tbody>\n",
       "</table>\n",
       "</div>"
      ],
      "text/plain": [
       "         Name  Sales\n",
       "Rank                \n",
       "Rank 1    Tom    250\n",
       "Rank 2   Jane    500\n",
       "Rank 2  Steve    350"
      ]
     },
     "execution_count": 74,
     "metadata": {},
     "output_type": "execute_result"
    }
   ],
   "source": [
    "# loc example\n",
    "# Return only name and sales for rank 1 to rank 3 with 3 not included\n",
    "df_v2.loc['Rank 1':'Rank 3',[ 'Name', 'Sales']]\n",
    "\n"
   ]
  },
  {
   "cell_type": "code",
   "execution_count": 77,
   "metadata": {},
   "outputs": [
    {
     "data": {
      "text/html": [
       "<div>\n",
       "<style scoped>\n",
       "    .dataframe tbody tr th:only-of-type {\n",
       "        vertical-align: middle;\n",
       "    }\n",
       "\n",
       "    .dataframe tbody tr th {\n",
       "        vertical-align: top;\n",
       "    }\n",
       "\n",
       "    .dataframe thead th {\n",
       "        text-align: right;\n",
       "    }\n",
       "</style>\n",
       "<table border=\"1\" class=\"dataframe\">\n",
       "  <thead>\n",
       "    <tr style=\"text-align: right;\">\n",
       "      <th></th>\n",
       "      <th>Name</th>\n",
       "      <th>Sales</th>\n",
       "    </tr>\n",
       "    <tr>\n",
       "      <th>Rank</th>\n",
       "      <th></th>\n",
       "      <th></th>\n",
       "    </tr>\n",
       "  </thead>\n",
       "  <tbody>\n",
       "    <tr>\n",
       "      <th>Rank 1</th>\n",
       "      <td>Tom</td>\n",
       "      <td>250</td>\n",
       "    </tr>\n",
       "    <tr>\n",
       "      <th>Rank 2</th>\n",
       "      <td>Jane</td>\n",
       "      <td>500</td>\n",
       "    </tr>\n",
       "    <tr>\n",
       "      <th>Rank 4</th>\n",
       "      <td>Lucy</td>\n",
       "      <td>400</td>\n",
       "    </tr>\n",
       "  </tbody>\n",
       "</table>\n",
       "</div>"
      ],
      "text/plain": [
       "        Name  Sales\n",
       "Rank               \n",
       "Rank 1   Tom    250\n",
       "Rank 2  Jane    500\n",
       "Rank 4  Lucy    400"
      ]
     },
     "execution_count": 77,
     "metadata": {},
     "output_type": "execute_result"
    }
   ],
   "source": [
    "# loc example number 2\n",
    "# return only the name and sales for the records with date 2020 and 2022\n",
    "df_v2.loc[df_v2['Date'].isin([2020, 2022]), ['Name', 'Sales']]"
   ]
  },
  {
   "cell_type": "code",
   "execution_count": 78,
   "metadata": {},
   "outputs": [
    {
     "data": {
      "text/html": [
       "<div>\n",
       "<style scoped>\n",
       "    .dataframe tbody tr th:only-of-type {\n",
       "        vertical-align: middle;\n",
       "    }\n",
       "\n",
       "    .dataframe tbody tr th {\n",
       "        vertical-align: top;\n",
       "    }\n",
       "\n",
       "    .dataframe thead th {\n",
       "        text-align: right;\n",
       "    }\n",
       "</style>\n",
       "<table border=\"1\" class=\"dataframe\">\n",
       "  <thead>\n",
       "    <tr style=\"text-align: right;\">\n",
       "      <th></th>\n",
       "      <th>Name</th>\n",
       "      <th>Sales</th>\n",
       "    </tr>\n",
       "    <tr>\n",
       "      <th>Rank</th>\n",
       "      <th></th>\n",
       "      <th></th>\n",
       "    </tr>\n",
       "  </thead>\n",
       "  <tbody>\n",
       "    <tr>\n",
       "      <th>Rank 1</th>\n",
       "      <td>Tom</td>\n",
       "      <td>250</td>\n",
       "    </tr>\n",
       "    <tr>\n",
       "      <th>Rank 4</th>\n",
       "      <td>Lucy</td>\n",
       "      <td>400</td>\n",
       "    </tr>\n",
       "  </tbody>\n",
       "</table>\n",
       "</div>"
      ],
      "text/plain": [
       "        Name  Sales\n",
       "Rank               \n",
       "Rank 1   Tom    250\n",
       "Rank 4  Lucy    400"
      ]
     },
     "execution_count": 78,
     "metadata": {},
     "output_type": "execute_result"
    }
   ],
   "source": [
    "# iloc example\n",
    "# return only the name and sales for the records with date 2020 and 2022\n",
    "df_v2.iloc[[0,3], [0,1]]\n"
   ]
  },
  {
   "cell_type": "code",
   "execution_count": 79,
   "metadata": {},
   "outputs": [
    {
     "data": {
      "text/html": [
       "<div>\n",
       "<style scoped>\n",
       "    .dataframe tbody tr th:only-of-type {\n",
       "        vertical-align: middle;\n",
       "    }\n",
       "\n",
       "    .dataframe tbody tr th {\n",
       "        vertical-align: top;\n",
       "    }\n",
       "\n",
       "    .dataframe thead th {\n",
       "        text-align: right;\n",
       "    }\n",
       "</style>\n",
       "<table border=\"1\" class=\"dataframe\">\n",
       "  <thead>\n",
       "    <tr style=\"text-align: right;\">\n",
       "      <th></th>\n",
       "      <th>Name</th>\n",
       "      <th>Sales</th>\n",
       "      <th>Date</th>\n",
       "    </tr>\n",
       "    <tr>\n",
       "      <th>Rank</th>\n",
       "      <th></th>\n",
       "      <th></th>\n",
       "      <th></th>\n",
       "    </tr>\n",
       "  </thead>\n",
       "  <tbody>\n",
       "    <tr>\n",
       "      <th>Rank 1</th>\n",
       "      <td>Tom</td>\n",
       "      <td>250</td>\n",
       "      <td>2022</td>\n",
       "    </tr>\n",
       "    <tr>\n",
       "      <th>Rank 2</th>\n",
       "      <td>Jane</td>\n",
       "      <td>500</td>\n",
       "      <td>2020</td>\n",
       "    </tr>\n",
       "    <tr>\n",
       "      <th>Rank 2</th>\n",
       "      <td>Steve</td>\n",
       "      <td>350</td>\n",
       "      <td>2021</td>\n",
       "    </tr>\n",
       "    <tr>\n",
       "      <th>Rank 4</th>\n",
       "      <td>Lucy</td>\n",
       "      <td>400</td>\n",
       "      <td>2022</td>\n",
       "    </tr>\n",
       "  </tbody>\n",
       "</table>\n",
       "</div>"
      ],
      "text/plain": [
       "         Name  Sales  Date\n",
       "Rank                      \n",
       "Rank 1    Tom    250  2022\n",
       "Rank 2   Jane    500  2020\n",
       "Rank 2  Steve    350  2021\n",
       "Rank 4   Lucy    400  2022"
      ]
     },
     "execution_count": 79,
     "metadata": {},
     "output_type": "execute_result"
    }
   ],
   "source": [
    "df_v2"
   ]
  },
  {
   "cell_type": "code",
   "execution_count": 82,
   "metadata": {},
   "outputs": [
    {
     "data": {
      "text/html": [
       "<div>\n",
       "<style scoped>\n",
       "    .dataframe tbody tr th:only-of-type {\n",
       "        vertical-align: middle;\n",
       "    }\n",
       "\n",
       "    .dataframe tbody tr th {\n",
       "        vertical-align: top;\n",
       "    }\n",
       "\n",
       "    .dataframe thead th {\n",
       "        text-align: right;\n",
       "    }\n",
       "</style>\n",
       "<table border=\"1\" class=\"dataframe\">\n",
       "  <thead>\n",
       "    <tr style=\"text-align: right;\">\n",
       "      <th></th>\n",
       "      <th>Name</th>\n",
       "      <th>Sales</th>\n",
       "      <th>Date</th>\n",
       "    </tr>\n",
       "    <tr>\n",
       "      <th>Rank</th>\n",
       "      <th></th>\n",
       "      <th></th>\n",
       "      <th></th>\n",
       "    </tr>\n",
       "  </thead>\n",
       "  <tbody>\n",
       "    <tr>\n",
       "      <th>Rank 1</th>\n",
       "      <td>Tom</td>\n",
       "      <td>250</td>\n",
       "      <td>2022</td>\n",
       "    </tr>\n",
       "    <tr>\n",
       "      <th>Rank 2</th>\n",
       "      <td>Jane</td>\n",
       "      <td>500</td>\n",
       "      <td>2020</td>\n",
       "    </tr>\n",
       "    <tr>\n",
       "      <th>Rank 2</th>\n",
       "      <td>Steve</td>\n",
       "      <td>350</td>\n",
       "      <td>2021</td>\n",
       "    </tr>\n",
       "  </tbody>\n",
       "</table>\n",
       "</div>"
      ],
      "text/plain": [
       "         Name  Sales  Date\n",
       "Rank                      \n",
       "Rank 1    Tom    250  2022\n",
       "Rank 2   Jane    500  2020\n",
       "Rank 2  Steve    350  2021"
      ]
     },
     "execution_count": 82,
     "metadata": {},
     "output_type": "execute_result"
    }
   ],
   "source": [
    "# return a slice in the rows\n",
    "df_v2.iloc[0:3]\n",
    "\n",
    "# df_v2.iloc[:3] # returns from the beginning to the 3 record not including 3\n",
    "\n",
    "# df_v2.iloc[3:] # returns from the 3 record to the end\n",
    "\n",
    "df_v2.iloc[0:3]\n",
    "\n"
   ]
  },
  {
   "cell_type": "code",
   "execution_count": 84,
   "metadata": {},
   "outputs": [
    {
     "name": "stdout",
     "output_type": "stream",
     "text": [
      "{'a': 1, 'b': 2, 'c': 3}\n"
     ]
    }
   ],
   "source": [
    "# creating dictionaries\n",
    "keys = ['a', 'b', 'c']\n",
    "values = [1, 2, 3]\n",
    "dictionary = dict(zip(keys, values))\n",
    "print(dictionary) # {'a': 1, 'b': 2, 'c': 3}"
   ]
  },
  {
   "cell_type": "code",
   "execution_count": null,
   "metadata": {},
   "outputs": [],
   "source": []
  },
  {
   "cell_type": "code",
   "execution_count": 89,
   "metadata": {},
   "outputs": [],
   "source": [
    "df = pd.read_csv(\"gapminder.csv\")"
   ]
  },
  {
   "cell_type": "code",
   "execution_count": 92,
   "metadata": {},
   "outputs": [
    {
     "data": {
      "text/html": [
       "<div>\n",
       "<style scoped>\n",
       "    .dataframe tbody tr th:only-of-type {\n",
       "        vertical-align: middle;\n",
       "    }\n",
       "\n",
       "    .dataframe tbody tr th {\n",
       "        vertical-align: top;\n",
       "    }\n",
       "\n",
       "    .dataframe thead th {\n",
       "        text-align: right;\n",
       "    }\n",
       "</style>\n",
       "<table border=\"1\" class=\"dataframe\">\n",
       "  <thead>\n",
       "    <tr style=\"text-align: right;\">\n",
       "      <th></th>\n",
       "      <th>Unnamed: 0</th>\n",
       "      <th>country</th>\n",
       "      <th>year</th>\n",
       "      <th>population</th>\n",
       "      <th>cont</th>\n",
       "      <th>life_exp</th>\n",
       "      <th>gdp_cap</th>\n",
       "    </tr>\n",
       "  </thead>\n",
       "  <tbody>\n",
       "    <tr>\n",
       "      <th>0</th>\n",
       "      <td>11</td>\n",
       "      <td>Afghanistan</td>\n",
       "      <td>2007</td>\n",
       "      <td>31889923.0</td>\n",
       "      <td>Asia</td>\n",
       "      <td>43.828</td>\n",
       "      <td>974.580338</td>\n",
       "    </tr>\n",
       "    <tr>\n",
       "      <th>1</th>\n",
       "      <td>23</td>\n",
       "      <td>Albania</td>\n",
       "      <td>2007</td>\n",
       "      <td>3600523.0</td>\n",
       "      <td>Europe</td>\n",
       "      <td>76.423</td>\n",
       "      <td>5937.029526</td>\n",
       "    </tr>\n",
       "    <tr>\n",
       "      <th>2</th>\n",
       "      <td>35</td>\n",
       "      <td>Algeria</td>\n",
       "      <td>2007</td>\n",
       "      <td>33333216.0</td>\n",
       "      <td>Africa</td>\n",
       "      <td>72.301</td>\n",
       "      <td>6223.367465</td>\n",
       "    </tr>\n",
       "    <tr>\n",
       "      <th>3</th>\n",
       "      <td>47</td>\n",
       "      <td>Angola</td>\n",
       "      <td>2007</td>\n",
       "      <td>12420476.0</td>\n",
       "      <td>Africa</td>\n",
       "      <td>42.731</td>\n",
       "      <td>4797.231267</td>\n",
       "    </tr>\n",
       "    <tr>\n",
       "      <th>4</th>\n",
       "      <td>59</td>\n",
       "      <td>Argentina</td>\n",
       "      <td>2007</td>\n",
       "      <td>40301927.0</td>\n",
       "      <td>Americas</td>\n",
       "      <td>75.320</td>\n",
       "      <td>12779.379640</td>\n",
       "    </tr>\n",
       "  </tbody>\n",
       "</table>\n",
       "</div>"
      ],
      "text/plain": [
       "   Unnamed: 0      country  year  population      cont  life_exp       gdp_cap\n",
       "0          11  Afghanistan  2007  31889923.0      Asia    43.828    974.580338\n",
       "1          23      Albania  2007   3600523.0    Europe    76.423   5937.029526\n",
       "2          35      Algeria  2007  33333216.0    Africa    72.301   6223.367465\n",
       "3          47       Angola  2007  12420476.0    Africa    42.731   4797.231267\n",
       "4          59    Argentina  2007  40301927.0  Americas    75.320  12779.379640"
      ]
     },
     "execution_count": 92,
     "metadata": {},
     "output_type": "execute_result"
    }
   ],
   "source": [
    "df.head()"
   ]
  },
  {
   "cell_type": "code",
   "execution_count": 93,
   "metadata": {},
   "outputs": [
    {
     "data": {
      "text/html": [
       "<div>\n",
       "<style scoped>\n",
       "    .dataframe tbody tr th:only-of-type {\n",
       "        vertical-align: middle;\n",
       "    }\n",
       "\n",
       "    .dataframe tbody tr th {\n",
       "        vertical-align: top;\n",
       "    }\n",
       "\n",
       "    .dataframe thead th {\n",
       "        text-align: right;\n",
       "    }\n",
       "</style>\n",
       "<table border=\"1\" class=\"dataframe\">\n",
       "  <thead>\n",
       "    <tr style=\"text-align: right;\">\n",
       "      <th></th>\n",
       "      <th>Unnamed: 0</th>\n",
       "      <th>country</th>\n",
       "      <th>year</th>\n",
       "      <th>population</th>\n",
       "      <th>cont</th>\n",
       "      <th>life_exp</th>\n",
       "      <th>gdp_cap</th>\n",
       "    </tr>\n",
       "  </thead>\n",
       "  <tbody>\n",
       "    <tr>\n",
       "      <th>137</th>\n",
       "      <td>1655</td>\n",
       "      <td>Vietnam</td>\n",
       "      <td>2007</td>\n",
       "      <td>85262356.0</td>\n",
       "      <td>Asia</td>\n",
       "      <td>74.249</td>\n",
       "      <td>2441.576404</td>\n",
       "    </tr>\n",
       "    <tr>\n",
       "      <th>138</th>\n",
       "      <td>1667</td>\n",
       "      <td>West Bank and Gaza</td>\n",
       "      <td>2007</td>\n",
       "      <td>4018332.0</td>\n",
       "      <td>Asia</td>\n",
       "      <td>73.422</td>\n",
       "      <td>3025.349798</td>\n",
       "    </tr>\n",
       "    <tr>\n",
       "      <th>139</th>\n",
       "      <td>1679</td>\n",
       "      <td>Yemen, Rep.</td>\n",
       "      <td>2007</td>\n",
       "      <td>22211743.0</td>\n",
       "      <td>Asia</td>\n",
       "      <td>62.698</td>\n",
       "      <td>2280.769906</td>\n",
       "    </tr>\n",
       "    <tr>\n",
       "      <th>140</th>\n",
       "      <td>1691</td>\n",
       "      <td>Zambia</td>\n",
       "      <td>2007</td>\n",
       "      <td>11746035.0</td>\n",
       "      <td>Africa</td>\n",
       "      <td>42.384</td>\n",
       "      <td>1271.211593</td>\n",
       "    </tr>\n",
       "    <tr>\n",
       "      <th>141</th>\n",
       "      <td>1703</td>\n",
       "      <td>Zimbabwe</td>\n",
       "      <td>2007</td>\n",
       "      <td>12311143.0</td>\n",
       "      <td>Africa</td>\n",
       "      <td>43.487</td>\n",
       "      <td>469.709298</td>\n",
       "    </tr>\n",
       "  </tbody>\n",
       "</table>\n",
       "</div>"
      ],
      "text/plain": [
       "     Unnamed: 0             country  year  population    cont  life_exp   \n",
       "137        1655             Vietnam  2007  85262356.0    Asia    74.249  \\\n",
       "138        1667  West Bank and Gaza  2007   4018332.0    Asia    73.422   \n",
       "139        1679         Yemen, Rep.  2007  22211743.0    Asia    62.698   \n",
       "140        1691              Zambia  2007  11746035.0  Africa    42.384   \n",
       "141        1703            Zimbabwe  2007  12311143.0  Africa    43.487   \n",
       "\n",
       "         gdp_cap  \n",
       "137  2441.576404  \n",
       "138  3025.349798  \n",
       "139  2280.769906  \n",
       "140  1271.211593  \n",
       "141   469.709298  "
      ]
     },
     "execution_count": 93,
     "metadata": {},
     "output_type": "execute_result"
    }
   ],
   "source": [
    "df.tail()"
   ]
  },
  {
   "cell_type": "code",
   "execution_count": 90,
   "metadata": {},
   "outputs": [
    {
     "name": "stdout",
     "output_type": "stream",
     "text": [
      "<bound method DataFrame.info of      Unnamed: 0             country  year  population      cont  life_exp   \n",
      "0            11         Afghanistan  2007  31889923.0      Asia    43.828  \\\n",
      "1            23             Albania  2007   3600523.0    Europe    76.423   \n",
      "2            35             Algeria  2007  33333216.0    Africa    72.301   \n",
      "3            47              Angola  2007  12420476.0    Africa    42.731   \n",
      "4            59           Argentina  2007  40301927.0  Americas    75.320   \n",
      "..          ...                 ...   ...         ...       ...       ...   \n",
      "137        1655             Vietnam  2007  85262356.0      Asia    74.249   \n",
      "138        1667  West Bank and Gaza  2007   4018332.0      Asia    73.422   \n",
      "139        1679         Yemen, Rep.  2007  22211743.0      Asia    62.698   \n",
      "140        1691              Zambia  2007  11746035.0    Africa    42.384   \n",
      "141        1703            Zimbabwe  2007  12311143.0    Africa    43.487   \n",
      "\n",
      "          gdp_cap  \n",
      "0      974.580338  \n",
      "1     5937.029526  \n",
      "2     6223.367465  \n",
      "3     4797.231267  \n",
      "4    12779.379640  \n",
      "..            ...  \n",
      "137   2441.576404  \n",
      "138   3025.349798  \n",
      "139   2280.769906  \n",
      "140   1271.211593  \n",
      "141    469.709298  \n",
      "\n",
      "[142 rows x 7 columns]>\n"
     ]
    }
   ],
   "source": [
    "print(df.info)"
   ]
  },
  {
   "cell_type": "code",
   "execution_count": 91,
   "metadata": {},
   "outputs": [
    {
     "data": {
      "text/html": [
       "<div>\n",
       "<style scoped>\n",
       "    .dataframe tbody tr th:only-of-type {\n",
       "        vertical-align: middle;\n",
       "    }\n",
       "\n",
       "    .dataframe tbody tr th {\n",
       "        vertical-align: top;\n",
       "    }\n",
       "\n",
       "    .dataframe thead th {\n",
       "        text-align: right;\n",
       "    }\n",
       "</style>\n",
       "<table border=\"1\" class=\"dataframe\">\n",
       "  <thead>\n",
       "    <tr style=\"text-align: right;\">\n",
       "      <th></th>\n",
       "      <th>Unnamed: 0</th>\n",
       "      <th>year</th>\n",
       "      <th>population</th>\n",
       "      <th>life_exp</th>\n",
       "      <th>gdp_cap</th>\n",
       "    </tr>\n",
       "  </thead>\n",
       "  <tbody>\n",
       "    <tr>\n",
       "      <th>count</th>\n",
       "      <td>142.000000</td>\n",
       "      <td>142.0</td>\n",
       "      <td>1.420000e+02</td>\n",
       "      <td>142.000000</td>\n",
       "      <td>142.000000</td>\n",
       "    </tr>\n",
       "    <tr>\n",
       "      <th>mean</th>\n",
       "      <td>857.000000</td>\n",
       "      <td>2007.0</td>\n",
       "      <td>4.402122e+07</td>\n",
       "      <td>67.007423</td>\n",
       "      <td>11680.071820</td>\n",
       "    </tr>\n",
       "    <tr>\n",
       "      <th>std</th>\n",
       "      <td>493.631441</td>\n",
       "      <td>0.0</td>\n",
       "      <td>1.476214e+08</td>\n",
       "      <td>12.073021</td>\n",
       "      <td>12859.937337</td>\n",
       "    </tr>\n",
       "    <tr>\n",
       "      <th>min</th>\n",
       "      <td>11.000000</td>\n",
       "      <td>2007.0</td>\n",
       "      <td>1.995790e+05</td>\n",
       "      <td>39.613000</td>\n",
       "      <td>277.551859</td>\n",
       "    </tr>\n",
       "    <tr>\n",
       "      <th>25%</th>\n",
       "      <td>434.000000</td>\n",
       "      <td>2007.0</td>\n",
       "      <td>4.508034e+06</td>\n",
       "      <td>57.160250</td>\n",
       "      <td>1624.842248</td>\n",
       "    </tr>\n",
       "    <tr>\n",
       "      <th>50%</th>\n",
       "      <td>857.000000</td>\n",
       "      <td>2007.0</td>\n",
       "      <td>1.051753e+07</td>\n",
       "      <td>71.935500</td>\n",
       "      <td>6124.371108</td>\n",
       "    </tr>\n",
       "    <tr>\n",
       "      <th>75%</th>\n",
       "      <td>1280.000000</td>\n",
       "      <td>2007.0</td>\n",
       "      <td>3.121004e+07</td>\n",
       "      <td>76.413250</td>\n",
       "      <td>18008.835640</td>\n",
       "    </tr>\n",
       "    <tr>\n",
       "      <th>max</th>\n",
       "      <td>1703.000000</td>\n",
       "      <td>2007.0</td>\n",
       "      <td>1.318683e+09</td>\n",
       "      <td>82.603000</td>\n",
       "      <td>49357.190170</td>\n",
       "    </tr>\n",
       "  </tbody>\n",
       "</table>\n",
       "</div>"
      ],
      "text/plain": [
       "        Unnamed: 0    year    population    life_exp       gdp_cap\n",
       "count   142.000000   142.0  1.420000e+02  142.000000    142.000000\n",
       "mean    857.000000  2007.0  4.402122e+07   67.007423  11680.071820\n",
       "std     493.631441     0.0  1.476214e+08   12.073021  12859.937337\n",
       "min      11.000000  2007.0  1.995790e+05   39.613000    277.551859\n",
       "25%     434.000000  2007.0  4.508034e+06   57.160250   1624.842248\n",
       "50%     857.000000  2007.0  1.051753e+07   71.935500   6124.371108\n",
       "75%    1280.000000  2007.0  3.121004e+07   76.413250  18008.835640\n",
       "max    1703.000000  2007.0  1.318683e+09   82.603000  49357.190170"
      ]
     },
     "execution_count": 91,
     "metadata": {},
     "output_type": "execute_result"
    }
   ],
   "source": [
    "df.describe()"
   ]
  },
  {
   "cell_type": "code",
   "execution_count": 94,
   "metadata": {},
   "outputs": [
    {
     "data": {
      "text/html": [
       "<div>\n",
       "<style scoped>\n",
       "    .dataframe tbody tr th:only-of-type {\n",
       "        vertical-align: middle;\n",
       "    }\n",
       "\n",
       "    .dataframe tbody tr th {\n",
       "        vertical-align: top;\n",
       "    }\n",
       "\n",
       "    .dataframe thead th {\n",
       "        text-align: right;\n",
       "    }\n",
       "</style>\n",
       "<table border=\"1\" class=\"dataframe\">\n",
       "  <thead>\n",
       "    <tr style=\"text-align: right;\">\n",
       "      <th></th>\n",
       "      <th>Unnamed: 0</th>\n",
       "      <th>country</th>\n",
       "      <th>year</th>\n",
       "      <th>population</th>\n",
       "      <th>cont</th>\n",
       "      <th>life_exp</th>\n",
       "      <th>gdp_cap</th>\n",
       "    </tr>\n",
       "  </thead>\n",
       "  <tbody>\n",
       "    <tr>\n",
       "      <th>0</th>\n",
       "      <td>11</td>\n",
       "      <td>Afghanistan</td>\n",
       "      <td>2007</td>\n",
       "      <td>31889923.0</td>\n",
       "      <td>Asia</td>\n",
       "      <td>43.828</td>\n",
       "      <td>974.580338</td>\n",
       "    </tr>\n",
       "    <tr>\n",
       "      <th>1</th>\n",
       "      <td>23</td>\n",
       "      <td>Albania</td>\n",
       "      <td>2007</td>\n",
       "      <td>3600523.0</td>\n",
       "      <td>Europe</td>\n",
       "      <td>76.423</td>\n",
       "      <td>5937.029526</td>\n",
       "    </tr>\n",
       "    <tr>\n",
       "      <th>2</th>\n",
       "      <td>35</td>\n",
       "      <td>Algeria</td>\n",
       "      <td>2007</td>\n",
       "      <td>33333216.0</td>\n",
       "      <td>Africa</td>\n",
       "      <td>72.301</td>\n",
       "      <td>6223.367465</td>\n",
       "    </tr>\n",
       "    <tr>\n",
       "      <th>3</th>\n",
       "      <td>47</td>\n",
       "      <td>Angola</td>\n",
       "      <td>2007</td>\n",
       "      <td>12420476.0</td>\n",
       "      <td>Africa</td>\n",
       "      <td>42.731</td>\n",
       "      <td>4797.231267</td>\n",
       "    </tr>\n",
       "    <tr>\n",
       "      <th>4</th>\n",
       "      <td>59</td>\n",
       "      <td>Argentina</td>\n",
       "      <td>2007</td>\n",
       "      <td>40301927.0</td>\n",
       "      <td>Americas</td>\n",
       "      <td>75.320</td>\n",
       "      <td>12779.379640</td>\n",
       "    </tr>\n",
       "    <tr>\n",
       "      <th>5</th>\n",
       "      <td>71</td>\n",
       "      <td>Australia</td>\n",
       "      <td>2007</td>\n",
       "      <td>20434176.0</td>\n",
       "      <td>Oceania</td>\n",
       "      <td>81.235</td>\n",
       "      <td>34435.367440</td>\n",
       "    </tr>\n",
       "    <tr>\n",
       "      <th>6</th>\n",
       "      <td>83</td>\n",
       "      <td>Austria</td>\n",
       "      <td>2007</td>\n",
       "      <td>8199783.0</td>\n",
       "      <td>Europe</td>\n",
       "      <td>79.829</td>\n",
       "      <td>36126.492700</td>\n",
       "    </tr>\n",
       "    <tr>\n",
       "      <th>7</th>\n",
       "      <td>95</td>\n",
       "      <td>Bahrain</td>\n",
       "      <td>2007</td>\n",
       "      <td>708573.0</td>\n",
       "      <td>Asia</td>\n",
       "      <td>75.635</td>\n",
       "      <td>29796.048340</td>\n",
       "    </tr>\n",
       "    <tr>\n",
       "      <th>8</th>\n",
       "      <td>107</td>\n",
       "      <td>Bangladesh</td>\n",
       "      <td>2007</td>\n",
       "      <td>150448339.0</td>\n",
       "      <td>Asia</td>\n",
       "      <td>64.062</td>\n",
       "      <td>1391.253792</td>\n",
       "    </tr>\n",
       "    <tr>\n",
       "      <th>9</th>\n",
       "      <td>119</td>\n",
       "      <td>Belgium</td>\n",
       "      <td>2007</td>\n",
       "      <td>10392226.0</td>\n",
       "      <td>Europe</td>\n",
       "      <td>79.441</td>\n",
       "      <td>33692.605080</td>\n",
       "    </tr>\n",
       "  </tbody>\n",
       "</table>\n",
       "</div>"
      ],
      "text/plain": [
       "   Unnamed: 0      country  year   population      cont  life_exp   \n",
       "0          11  Afghanistan  2007   31889923.0      Asia    43.828  \\\n",
       "1          23      Albania  2007    3600523.0    Europe    76.423   \n",
       "2          35      Algeria  2007   33333216.0    Africa    72.301   \n",
       "3          47       Angola  2007   12420476.0    Africa    42.731   \n",
       "4          59    Argentina  2007   40301927.0  Americas    75.320   \n",
       "5          71    Australia  2007   20434176.0   Oceania    81.235   \n",
       "6          83      Austria  2007    8199783.0    Europe    79.829   \n",
       "7          95      Bahrain  2007     708573.0      Asia    75.635   \n",
       "8         107   Bangladesh  2007  150448339.0      Asia    64.062   \n",
       "9         119      Belgium  2007   10392226.0    Europe    79.441   \n",
       "\n",
       "        gdp_cap  \n",
       "0    974.580338  \n",
       "1   5937.029526  \n",
       "2   6223.367465  \n",
       "3   4797.231267  \n",
       "4  12779.379640  \n",
       "5  34435.367440  \n",
       "6  36126.492700  \n",
       "7  29796.048340  \n",
       "8   1391.253792  \n",
       "9  33692.605080  "
      ]
     },
     "execution_count": 94,
     "metadata": {},
     "output_type": "execute_result"
    }
   ],
   "source": [
    "df.head(10)"
   ]
  },
  {
   "cell_type": "code",
   "execution_count": 97,
   "metadata": {},
   "outputs": [],
   "source": [
    "# grouby continentet \n",
    "# creates a groupby object that can be iterated over\n",
    "df_cont_wise = df.groupby('cont')\n"
   ]
  },
  {
   "cell_type": "code",
   "execution_count": 98,
   "metadata": {},
   "outputs": [
    {
     "name": "stdout",
     "output_type": "stream",
     "text": [
      "<pandas.core.groupby.generic.DataFrameGroupBy object at 0x000001FC19154430>\n"
     ]
    }
   ],
   "source": [
    "print(df_cont_wise)"
   ]
  },
  {
   "cell_type": "code",
   "execution_count": 99,
   "metadata": {},
   "outputs": [
    {
     "name": "stdout",
     "output_type": "stream",
     "text": [
      "('Africa',      Unnamed: 0                   country  year   population    cont   \n",
      "2            35                   Algeria  2007   33333216.0  Africa  \\\n",
      "3            47                    Angola  2007   12420476.0  Africa   \n",
      "10          131                     Benin  2007    8078314.0  Africa   \n",
      "13          167                  Botswana  2007    1639131.0  Africa   \n",
      "16          203              Burkina Faso  2007   14326203.0  Africa   \n",
      "17          215                   Burundi  2007    8390505.0  Africa   \n",
      "19          239                  Cameroon  2007   17696293.0  Africa   \n",
      "21          263  Central African Republic  2007    4369038.0  Africa   \n",
      "22          275                      Chad  2007   10238807.0  Africa   \n",
      "26          323                   Comoros  2007     710960.0  Africa   \n",
      "27          335          Congo, Dem. Rep.  2007   64606759.0  Africa   \n",
      "28          347               Congo, Rep.  2007    3800610.0  Africa   \n",
      "30          371             Cote d'Ivoire  2007   18013409.0  Africa   \n",
      "35          431                  Djibouti  2007     496374.0  Africa   \n",
      "38          467                     Egypt  2007   80264543.0  Africa   \n",
      "40          491         Equatorial Guinea  2007     551201.0  Africa   \n",
      "41          503                   Eritrea  2007    4906585.0  Africa   \n",
      "42          515                  Ethiopia  2007   76511887.0  Africa   \n",
      "45          551                     Gabon  2007    1454867.0  Africa   \n",
      "46          563                    Gambia  2007    1688359.0  Africa   \n",
      "48          587                     Ghana  2007   22873338.0  Africa   \n",
      "51          623                    Guinea  2007    9947814.0  Africa   \n",
      "52          635             Guinea-Bissau  2007    1472041.0  Africa   \n",
      "68          827                     Kenya  2007   35610177.0  Africa   \n",
      "73          887                   Lesotho  2007    2012649.0  Africa   \n",
      "74          899                   Liberia  2007    3193942.0  Africa   \n",
      "75          911                     Libya  2007    6036914.0  Africa   \n",
      "76          923                Madagascar  2007   19167654.0  Africa   \n",
      "77          935                    Malawi  2007   13327079.0  Africa   \n",
      "79          959                      Mali  2007   12031795.0  Africa   \n",
      "80          971                Mauritania  2007    3270065.0  Africa   \n",
      "81          983                 Mauritius  2007    1250882.0  Africa   \n",
      "85         1031                   Morocco  2007   33757175.0  Africa   \n",
      "86         1043                Mozambique  2007   19951656.0  Africa   \n",
      "88         1067                   Namibia  2007    2055080.0  Africa   \n",
      "93         1127                     Niger  2007   12894865.0  Africa   \n",
      "94         1139                   Nigeria  2007  135031164.0  Africa   \n",
      "105        1271                   Reunion  2007     798094.0  Africa   \n",
      "107        1295                    Rwanda  2007    8860588.0  Africa   \n",
      "108        1307     Sao Tome and Principe  2007     199579.0  Africa   \n",
      "110        1331                   Senegal  2007   12267493.0  Africa   \n",
      "112        1355              Sierra Leone  2007    6144562.0  Africa   \n",
      "116        1403                   Somalia  2007    9118773.0  Africa   \n",
      "117        1415              South Africa  2007   43997828.0  Africa   \n",
      "120        1451                     Sudan  2007   42292929.0  Africa   \n",
      "121        1463                 Swaziland  2007    1133066.0  Africa   \n",
      "126        1523                  Tanzania  2007   38139640.0  Africa   \n",
      "128        1547                      Togo  2007    5701579.0  Africa   \n",
      "130        1571                   Tunisia  2007   10276158.0  Africa   \n",
      "132        1595                    Uganda  2007   29170398.0  Africa   \n",
      "140        1691                    Zambia  2007   11746035.0  Africa   \n",
      "141        1703                  Zimbabwe  2007   12311143.0  Africa   \n",
      "\n",
      "     life_exp       gdp_cap  \n",
      "2      72.301   6223.367465  \n",
      "3      42.731   4797.231267  \n",
      "10     56.728   1441.284873  \n",
      "13     50.728  12569.851770  \n",
      "16     52.295   1217.032994  \n",
      "17     49.580    430.070692  \n",
      "19     50.430   2042.095240  \n",
      "21     44.741    706.016537  \n",
      "22     50.651   1704.063724  \n",
      "26     65.152    986.147879  \n",
      "27     46.462    277.551859  \n",
      "28     55.322   3632.557798  \n",
      "30     48.328   1544.750112  \n",
      "35     54.791   2082.481567  \n",
      "38     71.338   5581.180998  \n",
      "40     51.579  12154.089750  \n",
      "41     58.040    641.369524  \n",
      "42     52.947    690.805576  \n",
      "45     56.735  13206.484520  \n",
      "46     59.448    752.749726  \n",
      "48     60.022   1327.608910  \n",
      "51     56.007    942.654211  \n",
      "52     46.388    579.231743  \n",
      "68     54.110   1463.249282  \n",
      "73     42.592   1569.331442  \n",
      "74     45.678    414.507341  \n",
      "75     73.952  12057.499280  \n",
      "76     59.443   1044.770126  \n",
      "77     48.303    759.349910  \n",
      "79     54.467   1042.581557  \n",
      "80     64.164   1803.151496  \n",
      "81     72.801  10956.991120  \n",
      "85     71.164   3820.175230  \n",
      "86     42.082    823.685621  \n",
      "88     52.906   4811.060429  \n",
      "93     56.867    619.676892  \n",
      "94     46.859   2013.977305  \n",
      "105    76.442   7670.122558  \n",
      "107    46.242    863.088464  \n",
      "108    65.528   1598.435089  \n",
      "110    63.062   1712.472136  \n",
      "112    42.568    862.540756  \n",
      "116    48.159    926.141068  \n",
      "117    49.339   9269.657808  \n",
      "120    58.556   2602.394995  \n",
      "121    39.613   4513.480643  \n",
      "126    52.517   1107.482182  \n",
      "128    58.420    882.969944  \n",
      "130    73.923   7092.923025  \n",
      "132    51.542   1056.380121  \n",
      "140    42.384   1271.211593  \n",
      "141    43.487    469.709298  )\n",
      "('Americas',      Unnamed: 0              country  year   population      cont  life_exp   \n",
      "4            59            Argentina  2007   40301927.0  Americas    75.320  \\\n",
      "11          143              Bolivia  2007    9119152.0  Americas    65.554   \n",
      "14          179               Brazil  2007  190010647.0  Americas    72.390   \n",
      "20          251               Canada  2007   33390141.0  Americas    80.653   \n",
      "23          287                Chile  2007   16284741.0  Americas    78.553   \n",
      "25          311             Colombia  2007   44227550.0  Americas    72.889   \n",
      "29          359           Costa Rica  2007    4133884.0  Americas    78.782   \n",
      "32          395                 Cuba  2007   11416987.0  Americas    78.273   \n",
      "36          443   Dominican Republic  2007    9319622.0  Americas    72.235   \n",
      "37          455              Ecuador  2007   13755680.0  Americas    74.994   \n",
      "39          479          El Salvador  2007    6939688.0  Americas    71.878   \n",
      "50          611            Guatemala  2007   12572928.0  Americas    70.259   \n",
      "53          647                Haiti  2007    8502814.0  Americas    60.916   \n",
      "54          659             Honduras  2007    7483763.0  Americas    70.198   \n",
      "65          791              Jamaica  2007    2780132.0  Americas    72.567   \n",
      "82          995               Mexico  2007  108700891.0  Americas    76.195   \n",
      "92         1115            Nicaragua  2007    5675356.0  Americas    72.899   \n",
      "98         1187               Panama  2007    3242173.0  Americas    75.537   \n",
      "99         1199             Paraguay  2007    6667147.0  Americas    71.752   \n",
      "100        1211                 Peru  2007   28674757.0  Americas    71.421   \n",
      "104        1259          Puerto Rico  2007    3942491.0  Americas    78.746   \n",
      "129        1559  Trinidad and Tobago  2007    1056608.0  Americas    69.819   \n",
      "134        1619        United States  2007  301139947.0  Americas    78.242   \n",
      "135        1631              Uruguay  2007    3447496.0  Americas    76.384   \n",
      "136        1643            Venezuela  2007   26084662.0  Americas    73.747   \n",
      "\n",
      "          gdp_cap  \n",
      "4    12779.379640  \n",
      "11    3822.137084  \n",
      "14    9065.800825  \n",
      "20   36319.235010  \n",
      "23   13171.638850  \n",
      "25    7006.580419  \n",
      "29    9645.061420  \n",
      "32    8948.102923  \n",
      "36    6025.374752  \n",
      "37    6873.262326  \n",
      "39    5728.353514  \n",
      "50    5186.050003  \n",
      "53    1201.637154  \n",
      "54    3548.330846  \n",
      "65    7320.880262  \n",
      "82   11977.574960  \n",
      "92    2749.320965  \n",
      "98    9809.185636  \n",
      "99    4172.838464  \n",
      "100   7408.905561  \n",
      "104  19328.709010  \n",
      "129  18008.509240  \n",
      "134  42951.653090  \n",
      "135  10611.462990  \n",
      "136  11415.805690  )\n",
      "('Asia',      Unnamed: 0             country  year    population  cont  life_exp   \n",
      "0            11         Afghanistan  2007  3.188992e+07  Asia    43.828  \\\n",
      "7            95             Bahrain  2007  7.085730e+05  Asia    75.635   \n",
      "8           107          Bangladesh  2007  1.504483e+08  Asia    64.062   \n",
      "18          227            Cambodia  2007  1.413186e+07  Asia    59.723   \n",
      "24          299               China  2007  1.318683e+09  Asia    72.961   \n",
      "55          671    Hong Kong, China  2007  6.980412e+06  Asia    82.208   \n",
      "58          707               India  2007  1.110396e+09  Asia    64.698   \n",
      "59          719           Indonesia  2007  2.235470e+08  Asia    70.650   \n",
      "60          731                Iran  2007  6.945357e+07  Asia    70.964   \n",
      "61          743                Iraq  2007  2.749964e+07  Asia    59.545   \n",
      "63          767              Israel  2007  6.426679e+06  Asia    80.745   \n",
      "66          803               Japan  2007  1.274680e+08  Asia    82.603   \n",
      "67          815              Jordan  2007  6.053193e+06  Asia    72.535   \n",
      "69          839    Korea, Dem. Rep.  2007  2.330172e+07  Asia    67.297   \n",
      "70          851         Korea, Rep.  2007  4.904479e+07  Asia    78.623   \n",
      "71          863              Kuwait  2007  2.505559e+06  Asia    77.588   \n",
      "72          875             Lebanon  2007  3.921278e+06  Asia    71.993   \n",
      "78          947            Malaysia  2007  2.482129e+07  Asia    74.241   \n",
      "83         1007            Mongolia  2007  2.874127e+06  Asia    66.803   \n",
      "87         1055             Myanmar  2007  4.776198e+07  Asia    62.069   \n",
      "89         1079               Nepal  2007  2.890179e+07  Asia    63.785   \n",
      "96         1163                Oman  2007  3.204897e+06  Asia    75.640   \n",
      "97         1175            Pakistan  2007  1.692706e+08  Asia    65.483   \n",
      "101        1223         Philippines  2007  9.107729e+07  Asia    71.688   \n",
      "109        1319        Saudi Arabia  2007  2.760104e+07  Asia    72.777   \n",
      "113        1367           Singapore  2007  4.553009e+06  Asia    79.972   \n",
      "119        1439           Sri Lanka  2007  2.037824e+07  Asia    72.396   \n",
      "124        1499               Syria  2007  1.931475e+07  Asia    74.143   \n",
      "125        1511              Taiwan  2007  2.317429e+07  Asia    78.400   \n",
      "127        1535            Thailand  2007  6.506815e+07  Asia    70.616   \n",
      "137        1655             Vietnam  2007  8.526236e+07  Asia    74.249   \n",
      "138        1667  West Bank and Gaza  2007  4.018332e+06  Asia    73.422   \n",
      "139        1679         Yemen, Rep.  2007  2.221174e+07  Asia    62.698   \n",
      "\n",
      "          gdp_cap  \n",
      "0      974.580338  \n",
      "7    29796.048340  \n",
      "8     1391.253792  \n",
      "18    1713.778686  \n",
      "24    4959.114854  \n",
      "55   39724.978670  \n",
      "58    2452.210407  \n",
      "59    3540.651564  \n",
      "60   11605.714490  \n",
      "61    4471.061906  \n",
      "63   25523.277100  \n",
      "66   31656.068060  \n",
      "67    4519.461171  \n",
      "69    1593.065480  \n",
      "70   23348.139730  \n",
      "71   47306.989780  \n",
      "72   10461.058680  \n",
      "78   12451.655800  \n",
      "83    3095.772271  \n",
      "87     944.000000  \n",
      "89    1091.359778  \n",
      "96   22316.192870  \n",
      "97    2605.947580  \n",
      "101   3190.481016  \n",
      "109  21654.831940  \n",
      "113  47143.179640  \n",
      "119   3970.095407  \n",
      "124   4184.548089  \n",
      "125  28718.276840  \n",
      "127   7458.396327  \n",
      "137   2441.576404  \n",
      "138   3025.349798  \n",
      "139   2280.769906  )\n",
      "('Europe',      Unnamed: 0                 country  year  population    cont  life_exp   \n",
      "1            23                 Albania  2007   3600523.0  Europe    76.423  \\\n",
      "6            83                 Austria  2007   8199783.0  Europe    79.829   \n",
      "9           119                 Belgium  2007  10392226.0  Europe    79.441   \n",
      "12          155  Bosnia and Herzegovina  2007   4552198.0  Europe    74.852   \n",
      "15          191                Bulgaria  2007   7322858.0  Europe    73.005   \n",
      "31          383                 Croatia  2007   4493312.0  Europe    75.748   \n",
      "33          407          Czech Republic  2007  10228744.0  Europe    76.486   \n",
      "34          419                 Denmark  2007   5468120.0  Europe    78.332   \n",
      "43          527                 Finland  2007   5238460.0  Europe    79.313   \n",
      "44          539                  France  2007  61083916.0  Europe    80.657   \n",
      "47          575                 Germany  2007  82400996.0  Europe    79.406   \n",
      "49          599                  Greece  2007  10706290.0  Europe    79.483   \n",
      "56          683                 Hungary  2007   9956108.0  Europe    73.338   \n",
      "57          695                 Iceland  2007    301931.0  Europe    81.757   \n",
      "62          755                 Ireland  2007   4109086.0  Europe    78.885   \n",
      "64          779                   Italy  2007  58147733.0  Europe    80.546   \n",
      "84         1019              Montenegro  2007    684736.0  Europe    74.543   \n",
      "90         1091             Netherlands  2007  16570613.0  Europe    79.762   \n",
      "95         1151                  Norway  2007   4627926.0  Europe    80.196   \n",
      "102        1235                  Poland  2007  38518241.0  Europe    75.563   \n",
      "103        1247                Portugal  2007  10642836.0  Europe    78.098   \n",
      "106        1283                 Romania  2007  22276056.0  Europe    72.476   \n",
      "111        1343                  Serbia  2007  10150265.0  Europe    74.002   \n",
      "114        1379         Slovak Republic  2007   5447502.0  Europe    74.663   \n",
      "115        1391                Slovenia  2007   2009245.0  Europe    77.926   \n",
      "118        1427                   Spain  2007  40448191.0  Europe    80.941   \n",
      "122        1475                  Sweden  2007   9031088.0  Europe    80.884   \n",
      "123        1487             Switzerland  2007   7554661.0  Europe    81.701   \n",
      "131        1583                  Turkey  2007  71158647.0  Europe    71.777   \n",
      "133        1607          United Kingdom  2007  60776238.0  Europe    79.425   \n",
      "\n",
      "          gdp_cap  \n",
      "1     5937.029526  \n",
      "6    36126.492700  \n",
      "9    33692.605080  \n",
      "12    7446.298803  \n",
      "15   10680.792820  \n",
      "31   14619.222720  \n",
      "33   22833.308510  \n",
      "34   35278.418740  \n",
      "43   33207.084400  \n",
      "44   30470.016700  \n",
      "47   32170.374420  \n",
      "49   27538.411880  \n",
      "56   18008.944440  \n",
      "57   36180.789190  \n",
      "62   40675.996350  \n",
      "64   28569.719700  \n",
      "84    9253.896111  \n",
      "90   36797.933320  \n",
      "95   49357.190170  \n",
      "102  15389.924680  \n",
      "103  20509.647770  \n",
      "106  10808.475610  \n",
      "111   9786.534714  \n",
      "114  18678.314350  \n",
      "115  25768.257590  \n",
      "118  28821.063700  \n",
      "122  33859.748350  \n",
      "123  37506.419070  \n",
      "131   8458.276384  \n",
      "133  33203.261280  )\n",
      "('Oceania',     Unnamed: 0      country  year  population     cont  life_exp      gdp_cap\n",
      "5           71    Australia  2007  20434176.0  Oceania    81.235  34435.36744\n",
      "91        1103  New Zealand  2007   4115771.0  Oceania    80.204  25185.00911)\n"
     ]
    }
   ],
   "source": [
    "for i in df_cont_wise:\n",
    "    print(i)"
   ]
  },
  {
   "cell_type": "code",
   "execution_count": 101,
   "metadata": {},
   "outputs": [
    {
     "data": {
      "text/plain": [
       "cont\n",
       "Africa      54.806038\n",
       "Americas    73.608120\n",
       "Asia        70.728485\n",
       "Europe      77.648600\n",
       "Oceania     80.719500\n",
       "Name: life_exp, dtype: float64"
      ]
     },
     "execution_count": 101,
     "metadata": {},
     "output_type": "execute_result"
    }
   ],
   "source": [
    "# returns the mean of all the columns for each continent\n",
    "df_cont_wise['life_exp'].mean()"
   ]
  },
  {
   "cell_type": "code",
   "execution_count": 113,
   "metadata": {},
   "outputs": [
    {
     "data": {
      "text/html": [
       "<div>\n",
       "<style scoped>\n",
       "    .dataframe tbody tr th:only-of-type {\n",
       "        vertical-align: middle;\n",
       "    }\n",
       "\n",
       "    .dataframe tbody tr th {\n",
       "        vertical-align: top;\n",
       "    }\n",
       "\n",
       "    .dataframe thead th {\n",
       "        text-align: right;\n",
       "    }\n",
       "</style>\n",
       "<table border=\"1\" class=\"dataframe\">\n",
       "  <thead>\n",
       "    <tr style=\"text-align: right;\">\n",
       "      <th></th>\n",
       "      <th>Unnamed: 0</th>\n",
       "      <th>country</th>\n",
       "      <th>year</th>\n",
       "      <th>population</th>\n",
       "      <th>cont</th>\n",
       "      <th>life_exp</th>\n",
       "      <th>gdp_cap</th>\n",
       "    </tr>\n",
       "  </thead>\n",
       "  <tbody>\n",
       "    <tr>\n",
       "      <th>121</th>\n",
       "      <td>1463</td>\n",
       "      <td>Swaziland</td>\n",
       "      <td>2007</td>\n",
       "      <td>1133066.0</td>\n",
       "      <td>Africa</td>\n",
       "      <td>39.613</td>\n",
       "      <td>4513.480643</td>\n",
       "    </tr>\n",
       "    <tr>\n",
       "      <th>86</th>\n",
       "      <td>1043</td>\n",
       "      <td>Mozambique</td>\n",
       "      <td>2007</td>\n",
       "      <td>19951656.0</td>\n",
       "      <td>Africa</td>\n",
       "      <td>42.082</td>\n",
       "      <td>823.685621</td>\n",
       "    </tr>\n",
       "    <tr>\n",
       "      <th>140</th>\n",
       "      <td>1691</td>\n",
       "      <td>Zambia</td>\n",
       "      <td>2007</td>\n",
       "      <td>11746035.0</td>\n",
       "      <td>Africa</td>\n",
       "      <td>42.384</td>\n",
       "      <td>1271.211593</td>\n",
       "    </tr>\n",
       "    <tr>\n",
       "      <th>112</th>\n",
       "      <td>1355</td>\n",
       "      <td>Sierra Leone</td>\n",
       "      <td>2007</td>\n",
       "      <td>6144562.0</td>\n",
       "      <td>Africa</td>\n",
       "      <td>42.568</td>\n",
       "      <td>862.540756</td>\n",
       "    </tr>\n",
       "    <tr>\n",
       "      <th>73</th>\n",
       "      <td>887</td>\n",
       "      <td>Lesotho</td>\n",
       "      <td>2007</td>\n",
       "      <td>2012649.0</td>\n",
       "      <td>Africa</td>\n",
       "      <td>42.592</td>\n",
       "      <td>1569.331442</td>\n",
       "    </tr>\n",
       "    <tr>\n",
       "      <th>...</th>\n",
       "      <td>...</td>\n",
       "      <td>...</td>\n",
       "      <td>...</td>\n",
       "      <td>...</td>\n",
       "      <td>...</td>\n",
       "      <td>...</td>\n",
       "      <td>...</td>\n",
       "    </tr>\n",
       "    <tr>\n",
       "      <th>5</th>\n",
       "      <td>71</td>\n",
       "      <td>Australia</td>\n",
       "      <td>2007</td>\n",
       "      <td>20434176.0</td>\n",
       "      <td>Oceania</td>\n",
       "      <td>81.235</td>\n",
       "      <td>34435.367440</td>\n",
       "    </tr>\n",
       "    <tr>\n",
       "      <th>123</th>\n",
       "      <td>1487</td>\n",
       "      <td>Switzerland</td>\n",
       "      <td>2007</td>\n",
       "      <td>7554661.0</td>\n",
       "      <td>Europe</td>\n",
       "      <td>81.701</td>\n",
       "      <td>37506.419070</td>\n",
       "    </tr>\n",
       "    <tr>\n",
       "      <th>57</th>\n",
       "      <td>695</td>\n",
       "      <td>Iceland</td>\n",
       "      <td>2007</td>\n",
       "      <td>301931.0</td>\n",
       "      <td>Europe</td>\n",
       "      <td>81.757</td>\n",
       "      <td>36180.789190</td>\n",
       "    </tr>\n",
       "    <tr>\n",
       "      <th>55</th>\n",
       "      <td>671</td>\n",
       "      <td>Hong Kong, China</td>\n",
       "      <td>2007</td>\n",
       "      <td>6980412.0</td>\n",
       "      <td>Asia</td>\n",
       "      <td>82.208</td>\n",
       "      <td>39724.978670</td>\n",
       "    </tr>\n",
       "    <tr>\n",
       "      <th>66</th>\n",
       "      <td>803</td>\n",
       "      <td>Japan</td>\n",
       "      <td>2007</td>\n",
       "      <td>127467972.0</td>\n",
       "      <td>Asia</td>\n",
       "      <td>82.603</td>\n",
       "      <td>31656.068060</td>\n",
       "    </tr>\n",
       "  </tbody>\n",
       "</table>\n",
       "<p>142 rows × 7 columns</p>\n",
       "</div>"
      ],
      "text/plain": [
       "     Unnamed: 0           country  year   population     cont  life_exp   \n",
       "121        1463         Swaziland  2007    1133066.0   Africa    39.613  \\\n",
       "86         1043        Mozambique  2007   19951656.0   Africa    42.082   \n",
       "140        1691            Zambia  2007   11746035.0   Africa    42.384   \n",
       "112        1355      Sierra Leone  2007    6144562.0   Africa    42.568   \n",
       "73          887           Lesotho  2007    2012649.0   Africa    42.592   \n",
       "..          ...               ...   ...          ...      ...       ...   \n",
       "5            71         Australia  2007   20434176.0  Oceania    81.235   \n",
       "123        1487       Switzerland  2007    7554661.0   Europe    81.701   \n",
       "57          695           Iceland  2007     301931.0   Europe    81.757   \n",
       "55          671  Hong Kong, China  2007    6980412.0     Asia    82.208   \n",
       "66          803             Japan  2007  127467972.0     Asia    82.603   \n",
       "\n",
       "          gdp_cap  \n",
       "121   4513.480643  \n",
       "86     823.685621  \n",
       "140   1271.211593  \n",
       "112    862.540756  \n",
       "73    1569.331442  \n",
       "..            ...  \n",
       "5    34435.367440  \n",
       "123  37506.419070  \n",
       "57   36180.789190  \n",
       "55   39724.978670  \n",
       "66   31656.068060  \n",
       "\n",
       "[142 rows x 7 columns]"
      ]
     },
     "execution_count": 113,
     "metadata": {},
     "output_type": "execute_result"
    }
   ],
   "source": [
    "\n",
    "\n",
    "df_cont_wise[['life_exp','gdp_cap','population']].mean()"
   ]
  },
  {
   "cell_type": "code",
   "execution_count": null,
   "metadata": {},
   "outputs": [],
   "source": [
    "# AGGREGATION METHODS AGG()"
   ]
  },
  {
   "cell_type": "code",
   "execution_count": 112,
   "metadata": {},
   "outputs": [
    {
     "data": {
      "text/html": [
       "<div>\n",
       "<style scoped>\n",
       "    .dataframe tbody tr th:only-of-type {\n",
       "        vertical-align: middle;\n",
       "    }\n",
       "\n",
       "    .dataframe tbody tr th {\n",
       "        vertical-align: top;\n",
       "    }\n",
       "\n",
       "    .dataframe thead tr th {\n",
       "        text-align: left;\n",
       "    }\n",
       "\n",
       "    .dataframe thead tr:last-of-type th {\n",
       "        text-align: right;\n",
       "    }\n",
       "</style>\n",
       "<table border=\"1\" class=\"dataframe\">\n",
       "  <thead>\n",
       "    <tr>\n",
       "      <th></th>\n",
       "      <th colspan=\"6\" halign=\"left\">life_exp</th>\n",
       "      <th colspan=\"4\" halign=\"left\">population</th>\n",
       "    </tr>\n",
       "    <tr>\n",
       "      <th></th>\n",
       "      <th>mean</th>\n",
       "      <th>median</th>\n",
       "      <th>std</th>\n",
       "      <th>min</th>\n",
       "      <th>max</th>\n",
       "      <th>sum</th>\n",
       "      <th>mean</th>\n",
       "      <th>min</th>\n",
       "      <th>max</th>\n",
       "      <th>sum</th>\n",
       "    </tr>\n",
       "    <tr>\n",
       "      <th>cont</th>\n",
       "      <th></th>\n",
       "      <th></th>\n",
       "      <th></th>\n",
       "      <th></th>\n",
       "      <th></th>\n",
       "      <th></th>\n",
       "      <th></th>\n",
       "      <th></th>\n",
       "      <th></th>\n",
       "      <th></th>\n",
       "    </tr>\n",
       "  </thead>\n",
       "  <tbody>\n",
       "    <tr>\n",
       "      <th>Africa</th>\n",
       "      <td>54.806038</td>\n",
       "      <td>52.9265</td>\n",
       "      <td>9.630781</td>\n",
       "      <td>39.613</td>\n",
       "      <td>76.442</td>\n",
       "      <td>2849.914</td>\n",
       "      <td>1.787576e+07</td>\n",
       "      <td>199579.0</td>\n",
       "      <td>1.350312e+08</td>\n",
       "      <td>9.295397e+08</td>\n",
       "    </tr>\n",
       "    <tr>\n",
       "      <th>Americas</th>\n",
       "      <td>73.608120</td>\n",
       "      <td>72.8990</td>\n",
       "      <td>4.440948</td>\n",
       "      <td>60.916</td>\n",
       "      <td>80.653</td>\n",
       "      <td>1840.203</td>\n",
       "      <td>3.595485e+07</td>\n",
       "      <td>1056608.0</td>\n",
       "      <td>3.011399e+08</td>\n",
       "      <td>8.988712e+08</td>\n",
       "    </tr>\n",
       "    <tr>\n",
       "      <th>Asia</th>\n",
       "      <td>70.728485</td>\n",
       "      <td>72.3960</td>\n",
       "      <td>7.963724</td>\n",
       "      <td>43.828</td>\n",
       "      <td>82.603</td>\n",
       "      <td>2334.040</td>\n",
       "      <td>1.155138e+08</td>\n",
       "      <td>708573.0</td>\n",
       "      <td>1.318683e+09</td>\n",
       "      <td>3.811954e+09</td>\n",
       "    </tr>\n",
       "    <tr>\n",
       "      <th>Europe</th>\n",
       "      <td>77.648600</td>\n",
       "      <td>78.6085</td>\n",
       "      <td>2.979813</td>\n",
       "      <td>71.777</td>\n",
       "      <td>81.757</td>\n",
       "      <td>2329.458</td>\n",
       "      <td>1.953662e+07</td>\n",
       "      <td>301931.0</td>\n",
       "      <td>8.240100e+07</td>\n",
       "      <td>5.860985e+08</td>\n",
       "    </tr>\n",
       "    <tr>\n",
       "      <th>Oceania</th>\n",
       "      <td>80.719500</td>\n",
       "      <td>80.7195</td>\n",
       "      <td>0.729027</td>\n",
       "      <td>80.204</td>\n",
       "      <td>81.235</td>\n",
       "      <td>161.439</td>\n",
       "      <td>1.227497e+07</td>\n",
       "      <td>4115771.0</td>\n",
       "      <td>2.043418e+07</td>\n",
       "      <td>2.454995e+07</td>\n",
       "    </tr>\n",
       "  </tbody>\n",
       "</table>\n",
       "</div>"
      ],
      "text/plain": [
       "           life_exp                                                \n",
       "               mean   median       std     min     max       sum   \n",
       "cont                                                               \n",
       "Africa    54.806038  52.9265  9.630781  39.613  76.442  2849.914  \\\n",
       "Americas  73.608120  72.8990  4.440948  60.916  80.653  1840.203   \n",
       "Asia      70.728485  72.3960  7.963724  43.828  82.603  2334.040   \n",
       "Europe    77.648600  78.6085  2.979813  71.777  81.757  2329.458   \n",
       "Oceania   80.719500  80.7195  0.729027  80.204  81.235   161.439   \n",
       "\n",
       "            population                                         \n",
       "                  mean        min           max           sum  \n",
       "cont                                                           \n",
       "Africa    1.787576e+07   199579.0  1.350312e+08  9.295397e+08  \n",
       "Americas  3.595485e+07  1056608.0  3.011399e+08  8.988712e+08  \n",
       "Asia      1.155138e+08   708573.0  1.318683e+09  3.811954e+09  \n",
       "Europe    1.953662e+07   301931.0  8.240100e+07  5.860985e+08  \n",
       "Oceania   1.227497e+07  4115771.0  2.043418e+07  2.454995e+07  "
      ]
     },
     "execution_count": 112,
     "metadata": {},
     "output_type": "execute_result"
    }
   ],
   "source": [
    "df_cont_wise.agg({'life_exp':['mean','median','std','min','max','sum'], 'population':['mean','min','max','sum']})"
   ]
  },
  {
   "cell_type": "code",
   "execution_count": 106,
   "metadata": {},
   "outputs": [
    {
     "data": {
      "text/plain": [
       "cont\n",
       "Africa      9.295397e+08\n",
       "Americas    8.988712e+08\n",
       "Asia        3.811954e+09\n",
       "Europe      5.860985e+08\n",
       "Oceania     2.454995e+07\n",
       "Name: population, dtype: float64"
      ]
     },
     "execution_count": 106,
     "metadata": {},
     "output_type": "execute_result"
    }
   ],
   "source": [
    "df_cont_wise.agg('population').sum()"
   ]
  },
  {
   "cell_type": "code",
   "execution_count": 114,
   "metadata": {},
   "outputs": [
    {
     "data": {
      "text/html": [
       "<div>\n",
       "<style scoped>\n",
       "    .dataframe tbody tr th:only-of-type {\n",
       "        vertical-align: middle;\n",
       "    }\n",
       "\n",
       "    .dataframe tbody tr th {\n",
       "        vertical-align: top;\n",
       "    }\n",
       "\n",
       "    .dataframe thead th {\n",
       "        text-align: right;\n",
       "    }\n",
       "</style>\n",
       "<table border=\"1\" class=\"dataframe\">\n",
       "  <thead>\n",
       "    <tr style=\"text-align: right;\">\n",
       "      <th></th>\n",
       "      <th>Unnamed: 0</th>\n",
       "      <th>country</th>\n",
       "      <th>year</th>\n",
       "      <th>population</th>\n",
       "      <th>cont</th>\n",
       "      <th>life_exp</th>\n",
       "      <th>gdp_cap</th>\n",
       "    </tr>\n",
       "  </thead>\n",
       "  <tbody>\n",
       "    <tr>\n",
       "      <th>121</th>\n",
       "      <td>1463</td>\n",
       "      <td>Swaziland</td>\n",
       "      <td>2007</td>\n",
       "      <td>1133066.0</td>\n",
       "      <td>Africa</td>\n",
       "      <td>39.613</td>\n",
       "      <td>4513.480643</td>\n",
       "    </tr>\n",
       "    <tr>\n",
       "      <th>86</th>\n",
       "      <td>1043</td>\n",
       "      <td>Mozambique</td>\n",
       "      <td>2007</td>\n",
       "      <td>19951656.0</td>\n",
       "      <td>Africa</td>\n",
       "      <td>42.082</td>\n",
       "      <td>823.685621</td>\n",
       "    </tr>\n",
       "    <tr>\n",
       "      <th>140</th>\n",
       "      <td>1691</td>\n",
       "      <td>Zambia</td>\n",
       "      <td>2007</td>\n",
       "      <td>11746035.0</td>\n",
       "      <td>Africa</td>\n",
       "      <td>42.384</td>\n",
       "      <td>1271.211593</td>\n",
       "    </tr>\n",
       "    <tr>\n",
       "      <th>112</th>\n",
       "      <td>1355</td>\n",
       "      <td>Sierra Leone</td>\n",
       "      <td>2007</td>\n",
       "      <td>6144562.0</td>\n",
       "      <td>Africa</td>\n",
       "      <td>42.568</td>\n",
       "      <td>862.540756</td>\n",
       "    </tr>\n",
       "    <tr>\n",
       "      <th>73</th>\n",
       "      <td>887</td>\n",
       "      <td>Lesotho</td>\n",
       "      <td>2007</td>\n",
       "      <td>2012649.0</td>\n",
       "      <td>Africa</td>\n",
       "      <td>42.592</td>\n",
       "      <td>1569.331442</td>\n",
       "    </tr>\n",
       "    <tr>\n",
       "      <th>...</th>\n",
       "      <td>...</td>\n",
       "      <td>...</td>\n",
       "      <td>...</td>\n",
       "      <td>...</td>\n",
       "      <td>...</td>\n",
       "      <td>...</td>\n",
       "      <td>...</td>\n",
       "    </tr>\n",
       "    <tr>\n",
       "      <th>5</th>\n",
       "      <td>71</td>\n",
       "      <td>Australia</td>\n",
       "      <td>2007</td>\n",
       "      <td>20434176.0</td>\n",
       "      <td>Oceania</td>\n",
       "      <td>81.235</td>\n",
       "      <td>34435.367440</td>\n",
       "    </tr>\n",
       "    <tr>\n",
       "      <th>123</th>\n",
       "      <td>1487</td>\n",
       "      <td>Switzerland</td>\n",
       "      <td>2007</td>\n",
       "      <td>7554661.0</td>\n",
       "      <td>Europe</td>\n",
       "      <td>81.701</td>\n",
       "      <td>37506.419070</td>\n",
       "    </tr>\n",
       "    <tr>\n",
       "      <th>57</th>\n",
       "      <td>695</td>\n",
       "      <td>Iceland</td>\n",
       "      <td>2007</td>\n",
       "      <td>301931.0</td>\n",
       "      <td>Europe</td>\n",
       "      <td>81.757</td>\n",
       "      <td>36180.789190</td>\n",
       "    </tr>\n",
       "    <tr>\n",
       "      <th>55</th>\n",
       "      <td>671</td>\n",
       "      <td>Hong Kong, China</td>\n",
       "      <td>2007</td>\n",
       "      <td>6980412.0</td>\n",
       "      <td>Asia</td>\n",
       "      <td>82.208</td>\n",
       "      <td>39724.978670</td>\n",
       "    </tr>\n",
       "    <tr>\n",
       "      <th>66</th>\n",
       "      <td>803</td>\n",
       "      <td>Japan</td>\n",
       "      <td>2007</td>\n",
       "      <td>127467972.0</td>\n",
       "      <td>Asia</td>\n",
       "      <td>82.603</td>\n",
       "      <td>31656.068060</td>\n",
       "    </tr>\n",
       "  </tbody>\n",
       "</table>\n",
       "<p>142 rows × 7 columns</p>\n",
       "</div>"
      ],
      "text/plain": [
       "     Unnamed: 0           country  year   population     cont  life_exp   \n",
       "121        1463         Swaziland  2007    1133066.0   Africa    39.613  \\\n",
       "86         1043        Mozambique  2007   19951656.0   Africa    42.082   \n",
       "140        1691            Zambia  2007   11746035.0   Africa    42.384   \n",
       "112        1355      Sierra Leone  2007    6144562.0   Africa    42.568   \n",
       "73          887           Lesotho  2007    2012649.0   Africa    42.592   \n",
       "..          ...               ...   ...          ...      ...       ...   \n",
       "5            71         Australia  2007   20434176.0  Oceania    81.235   \n",
       "123        1487       Switzerland  2007    7554661.0   Europe    81.701   \n",
       "57          695           Iceland  2007     301931.0   Europe    81.757   \n",
       "55          671  Hong Kong, China  2007    6980412.0     Asia    82.208   \n",
       "66          803             Japan  2007  127467972.0     Asia    82.603   \n",
       "\n",
       "          gdp_cap  \n",
       "121   4513.480643  \n",
       "86     823.685621  \n",
       "140   1271.211593  \n",
       "112    862.540756  \n",
       "73    1569.331442  \n",
       "..            ...  \n",
       "5    34435.367440  \n",
       "123  37506.419070  \n",
       "57   36180.789190  \n",
       "55   39724.978670  \n",
       "66   31656.068060  \n",
       "\n",
       "[142 rows x 7 columns]"
      ]
     },
     "execution_count": 114,
     "metadata": {},
     "output_type": "execute_result"
    }
   ],
   "source": [
    "# Sorting values\n",
    "df.sort_values(by='life_exp', ascending=True)"
   ]
  },
  {
   "cell_type": "code",
   "execution_count": 116,
   "metadata": {},
   "outputs": [
    {
     "data": {
      "text/html": [
       "<div>\n",
       "<style scoped>\n",
       "    .dataframe tbody tr th:only-of-type {\n",
       "        vertical-align: middle;\n",
       "    }\n",
       "\n",
       "    .dataframe tbody tr th {\n",
       "        vertical-align: top;\n",
       "    }\n",
       "\n",
       "    .dataframe thead th {\n",
       "        text-align: right;\n",
       "    }\n",
       "</style>\n",
       "<table border=\"1\" class=\"dataframe\">\n",
       "  <thead>\n",
       "    <tr style=\"text-align: right;\">\n",
       "      <th></th>\n",
       "      <th>Unnamed: 0</th>\n",
       "      <th>country</th>\n",
       "      <th>year</th>\n",
       "      <th>population</th>\n",
       "      <th>cont</th>\n",
       "      <th>life_exp</th>\n",
       "      <th>gdp_cap</th>\n",
       "    </tr>\n",
       "  </thead>\n",
       "  <tbody>\n",
       "    <tr>\n",
       "      <th>94</th>\n",
       "      <td>1139</td>\n",
       "      <td>Nigeria</td>\n",
       "      <td>2007</td>\n",
       "      <td>135031164.0</td>\n",
       "      <td>Africa</td>\n",
       "      <td>46.859</td>\n",
       "      <td>2013.977305</td>\n",
       "    </tr>\n",
       "    <tr>\n",
       "      <th>38</th>\n",
       "      <td>467</td>\n",
       "      <td>Egypt</td>\n",
       "      <td>2007</td>\n",
       "      <td>80264543.0</td>\n",
       "      <td>Africa</td>\n",
       "      <td>71.338</td>\n",
       "      <td>5581.180998</td>\n",
       "    </tr>\n",
       "    <tr>\n",
       "      <th>42</th>\n",
       "      <td>515</td>\n",
       "      <td>Ethiopia</td>\n",
       "      <td>2007</td>\n",
       "      <td>76511887.0</td>\n",
       "      <td>Africa</td>\n",
       "      <td>52.947</td>\n",
       "      <td>690.805576</td>\n",
       "    </tr>\n",
       "    <tr>\n",
       "      <th>27</th>\n",
       "      <td>335</td>\n",
       "      <td>Congo, Dem. Rep.</td>\n",
       "      <td>2007</td>\n",
       "      <td>64606759.0</td>\n",
       "      <td>Africa</td>\n",
       "      <td>46.462</td>\n",
       "      <td>277.551859</td>\n",
       "    </tr>\n",
       "    <tr>\n",
       "      <th>117</th>\n",
       "      <td>1415</td>\n",
       "      <td>South Africa</td>\n",
       "      <td>2007</td>\n",
       "      <td>43997828.0</td>\n",
       "      <td>Africa</td>\n",
       "      <td>49.339</td>\n",
       "      <td>9269.657808</td>\n",
       "    </tr>\n",
       "    <tr>\n",
       "      <th>...</th>\n",
       "      <td>...</td>\n",
       "      <td>...</td>\n",
       "      <td>...</td>\n",
       "      <td>...</td>\n",
       "      <td>...</td>\n",
       "      <td>...</td>\n",
       "      <td>...</td>\n",
       "    </tr>\n",
       "    <tr>\n",
       "      <th>115</th>\n",
       "      <td>1391</td>\n",
       "      <td>Slovenia</td>\n",
       "      <td>2007</td>\n",
       "      <td>2009245.0</td>\n",
       "      <td>Europe</td>\n",
       "      <td>77.926</td>\n",
       "      <td>25768.257590</td>\n",
       "    </tr>\n",
       "    <tr>\n",
       "      <th>84</th>\n",
       "      <td>1019</td>\n",
       "      <td>Montenegro</td>\n",
       "      <td>2007</td>\n",
       "      <td>684736.0</td>\n",
       "      <td>Europe</td>\n",
       "      <td>74.543</td>\n",
       "      <td>9253.896111</td>\n",
       "    </tr>\n",
       "    <tr>\n",
       "      <th>57</th>\n",
       "      <td>695</td>\n",
       "      <td>Iceland</td>\n",
       "      <td>2007</td>\n",
       "      <td>301931.0</td>\n",
       "      <td>Europe</td>\n",
       "      <td>81.757</td>\n",
       "      <td>36180.789190</td>\n",
       "    </tr>\n",
       "    <tr>\n",
       "      <th>5</th>\n",
       "      <td>71</td>\n",
       "      <td>Australia</td>\n",
       "      <td>2007</td>\n",
       "      <td>20434176.0</td>\n",
       "      <td>Oceania</td>\n",
       "      <td>81.235</td>\n",
       "      <td>34435.367440</td>\n",
       "    </tr>\n",
       "    <tr>\n",
       "      <th>91</th>\n",
       "      <td>1103</td>\n",
       "      <td>New Zealand</td>\n",
       "      <td>2007</td>\n",
       "      <td>4115771.0</td>\n",
       "      <td>Oceania</td>\n",
       "      <td>80.204</td>\n",
       "      <td>25185.009110</td>\n",
       "    </tr>\n",
       "  </tbody>\n",
       "</table>\n",
       "<p>142 rows × 7 columns</p>\n",
       "</div>"
      ],
      "text/plain": [
       "     Unnamed: 0           country  year   population     cont  life_exp   \n",
       "94         1139           Nigeria  2007  135031164.0   Africa    46.859  \\\n",
       "38          467             Egypt  2007   80264543.0   Africa    71.338   \n",
       "42          515          Ethiopia  2007   76511887.0   Africa    52.947   \n",
       "27          335  Congo, Dem. Rep.  2007   64606759.0   Africa    46.462   \n",
       "117        1415      South Africa  2007   43997828.0   Africa    49.339   \n",
       "..          ...               ...   ...          ...      ...       ...   \n",
       "115        1391          Slovenia  2007    2009245.0   Europe    77.926   \n",
       "84         1019        Montenegro  2007     684736.0   Europe    74.543   \n",
       "57          695           Iceland  2007     301931.0   Europe    81.757   \n",
       "5            71         Australia  2007   20434176.0  Oceania    81.235   \n",
       "91         1103       New Zealand  2007    4115771.0  Oceania    80.204   \n",
       "\n",
       "          gdp_cap  \n",
       "94    2013.977305  \n",
       "38    5581.180998  \n",
       "42     690.805576  \n",
       "27     277.551859  \n",
       "117   9269.657808  \n",
       "..            ...  \n",
       "115  25768.257590  \n",
       "84    9253.896111  \n",
       "57   36180.789190  \n",
       "5    34435.367440  \n",
       "91   25185.009110  \n",
       "\n",
       "[142 rows x 7 columns]"
      ]
     },
     "execution_count": 116,
     "metadata": {},
     "output_type": "execute_result"
    }
   ],
   "source": [
    "# sort values by 2 columns\n",
    "df.sort_values(by=['cont', 'population'], ascending=[True, False])"
   ]
  },
  {
   "cell_type": "code",
   "execution_count": null,
   "metadata": {},
   "outputs": [],
   "source": []
  },
  {
   "cell_type": "code",
   "execution_count": null,
   "metadata": {},
   "outputs": [],
   "source": []
  },
  {
   "cell_type": "code",
   "execution_count": null,
   "metadata": {},
   "outputs": [],
   "source": []
  },
  {
   "cell_type": "code",
   "execution_count": null,
   "metadata": {},
   "outputs": [],
   "source": []
  },
  {
   "cell_type": "code",
   "execution_count": null,
   "metadata": {},
   "outputs": [],
   "source": []
  }
 ],
 "metadata": {
  "kernelspec": {
   "display_name": ".venv",
   "language": "python",
   "name": "python3"
  },
  "language_info": {
   "codemirror_mode": {
    "name": "ipython",
    "version": 3
   },
   "file_extension": ".py",
   "mimetype": "text/x-python",
   "name": "python",
   "nbconvert_exporter": "python",
   "pygments_lexer": "ipython3",
   "version": "3.10.11"
  },
  "orig_nbformat": 4
 },
 "nbformat": 4,
 "nbformat_minor": 2
}
