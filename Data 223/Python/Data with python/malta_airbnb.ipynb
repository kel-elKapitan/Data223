{
 "cells": [
  {
   "cell_type": "code",
   "execution_count": 1,
   "metadata": {},
   "outputs": [],
   "source": [
    "# Malta airbnb data"
   ]
  },
  {
   "cell_type": "code",
   "execution_count": 2,
   "metadata": {},
   "outputs": [],
   "source": [
    "import pandas as pd\n",
    "import seaborn as sns"
   ]
  },
  {
   "cell_type": "code",
   "execution_count": 3,
   "metadata": {},
   "outputs": [
    {
     "name": "stdout",
     "output_type": "stream",
     "text": [
      "The data set has 12525 rows and 18 columns\n"
     ]
    },
    {
     "data": {
      "text/html": [
       "<div>\n",
       "<style scoped>\n",
       "    .dataframe tbody tr th:only-of-type {\n",
       "        vertical-align: middle;\n",
       "    }\n",
       "\n",
       "    .dataframe tbody tr th {\n",
       "        vertical-align: top;\n",
       "    }\n",
       "\n",
       "    .dataframe thead th {\n",
       "        text-align: right;\n",
       "    }\n",
       "</style>\n",
       "<table border=\"1\" class=\"dataframe\">\n",
       "  <thead>\n",
       "    <tr style=\"text-align: right;\">\n",
       "      <th></th>\n",
       "      <th>id</th>\n",
       "      <th>host_id</th>\n",
       "      <th>neighbourhood_group</th>\n",
       "      <th>latitude</th>\n",
       "      <th>longitude</th>\n",
       "      <th>price</th>\n",
       "      <th>minimum_nights</th>\n",
       "      <th>number_of_reviews</th>\n",
       "      <th>reviews_per_month</th>\n",
       "      <th>calculated_host_listings_count</th>\n",
       "      <th>availability_365</th>\n",
       "      <th>number_of_reviews_ltm</th>\n",
       "      <th>license</th>\n",
       "    </tr>\n",
       "  </thead>\n",
       "  <tbody>\n",
       "    <tr>\n",
       "      <th>count</th>\n",
       "      <td>1.252500e+04</td>\n",
       "      <td>1.252500e+04</td>\n",
       "      <td>0.0</td>\n",
       "      <td>12525.000000</td>\n",
       "      <td>12525.000000</td>\n",
       "      <td>12525.000000</td>\n",
       "      <td>12525.000000</td>\n",
       "      <td>12525.000000</td>\n",
       "      <td>10355.000000</td>\n",
       "      <td>12525.000000</td>\n",
       "      <td>12525.000000</td>\n",
       "      <td>12525.000000</td>\n",
       "      <td>0.0</td>\n",
       "    </tr>\n",
       "    <tr>\n",
       "      <th>mean</th>\n",
       "      <td>2.173256e+17</td>\n",
       "      <td>1.621128e+08</td>\n",
       "      <td>NaN</td>\n",
       "      <td>48.204880</td>\n",
       "      <td>16.361477</td>\n",
       "      <td>95.643752</td>\n",
       "      <td>6.656687</td>\n",
       "      <td>36.981637</td>\n",
       "      <td>1.428120</td>\n",
       "      <td>16.597764</td>\n",
       "      <td>151.005669</td>\n",
       "      <td>11.129182</td>\n",
       "      <td>NaN</td>\n",
       "    </tr>\n",
       "    <tr>\n",
       "      <th>std</th>\n",
       "      <td>3.349190e+17</td>\n",
       "      <td>1.635826e+08</td>\n",
       "      <td>NaN</td>\n",
       "      <td>0.020879</td>\n",
       "      <td>0.034372</td>\n",
       "      <td>181.059639</td>\n",
       "      <td>29.413798</td>\n",
       "      <td>69.525961</td>\n",
       "      <td>1.758495</td>\n",
       "      <td>40.132955</td>\n",
       "      <td>134.700347</td>\n",
       "      <td>19.300898</td>\n",
       "      <td>NaN</td>\n",
       "    </tr>\n",
       "    <tr>\n",
       "      <th>min</th>\n",
       "      <td>3.876800e+04</td>\n",
       "      <td>5.783000e+03</td>\n",
       "      <td>NaN</td>\n",
       "      <td>48.125280</td>\n",
       "      <td>16.196650</td>\n",
       "      <td>0.000000</td>\n",
       "      <td>1.000000</td>\n",
       "      <td>0.000000</td>\n",
       "      <td>0.010000</td>\n",
       "      <td>1.000000</td>\n",
       "      <td>0.000000</td>\n",
       "      <td>0.000000</td>\n",
       "      <td>NaN</td>\n",
       "    </tr>\n",
       "    <tr>\n",
       "      <th>25%</th>\n",
       "      <td>2.017292e+07</td>\n",
       "      <td>2.147565e+07</td>\n",
       "      <td>NaN</td>\n",
       "      <td>48.190930</td>\n",
       "      <td>16.339120</td>\n",
       "      <td>49.000000</td>\n",
       "      <td>1.000000</td>\n",
       "      <td>1.000000</td>\n",
       "      <td>0.210000</td>\n",
       "      <td>1.000000</td>\n",
       "      <td>0.000000</td>\n",
       "      <td>0.000000</td>\n",
       "      <td>NaN</td>\n",
       "    </tr>\n",
       "    <tr>\n",
       "      <th>50%</th>\n",
       "      <td>4.002322e+07</td>\n",
       "      <td>9.597737e+07</td>\n",
       "      <td>NaN</td>\n",
       "      <td>48.204360</td>\n",
       "      <td>16.360370</td>\n",
       "      <td>70.000000</td>\n",
       "      <td>2.000000</td>\n",
       "      <td>9.000000</td>\n",
       "      <td>0.790000</td>\n",
       "      <td>2.000000</td>\n",
       "      <td>133.000000</td>\n",
       "      <td>2.000000</td>\n",
       "      <td>NaN</td>\n",
       "    </tr>\n",
       "    <tr>\n",
       "      <th>75%</th>\n",
       "      <td>6.309546e+17</td>\n",
       "      <td>2.857058e+08</td>\n",
       "      <td>NaN</td>\n",
       "      <td>48.218808</td>\n",
       "      <td>16.382294</td>\n",
       "      <td>100.000000</td>\n",
       "      <td>3.000000</td>\n",
       "      <td>40.000000</td>\n",
       "      <td>2.040000</td>\n",
       "      <td>12.000000</td>\n",
       "      <td>286.000000</td>\n",
       "      <td>14.000000</td>\n",
       "      <td>NaN</td>\n",
       "    </tr>\n",
       "    <tr>\n",
       "      <th>max</th>\n",
       "      <td>8.464696e+17</td>\n",
       "      <td>5.049978e+08</td>\n",
       "      <td>NaN</td>\n",
       "      <td>48.302928</td>\n",
       "      <td>16.543390</td>\n",
       "      <td>9270.000000</td>\n",
       "      <td>1125.000000</td>\n",
       "      <td>946.000000</td>\n",
       "      <td>40.200000</td>\n",
       "      <td>255.000000</td>\n",
       "      <td>365.000000</td>\n",
       "      <td>407.000000</td>\n",
       "      <td>NaN</td>\n",
       "    </tr>\n",
       "  </tbody>\n",
       "</table>\n",
       "</div>"
      ],
      "text/plain": [
       "                 id       host_id  neighbourhood_group      latitude   \n",
       "count  1.252500e+04  1.252500e+04                  0.0  12525.000000  \\\n",
       "mean   2.173256e+17  1.621128e+08                  NaN     48.204880   \n",
       "std    3.349190e+17  1.635826e+08                  NaN      0.020879   \n",
       "min    3.876800e+04  5.783000e+03                  NaN     48.125280   \n",
       "25%    2.017292e+07  2.147565e+07                  NaN     48.190930   \n",
       "50%    4.002322e+07  9.597737e+07                  NaN     48.204360   \n",
       "75%    6.309546e+17  2.857058e+08                  NaN     48.218808   \n",
       "max    8.464696e+17  5.049978e+08                  NaN     48.302928   \n",
       "\n",
       "          longitude         price  minimum_nights  number_of_reviews   \n",
       "count  12525.000000  12525.000000    12525.000000       12525.000000  \\\n",
       "mean      16.361477     95.643752        6.656687          36.981637   \n",
       "std        0.034372    181.059639       29.413798          69.525961   \n",
       "min       16.196650      0.000000        1.000000           0.000000   \n",
       "25%       16.339120     49.000000        1.000000           1.000000   \n",
       "50%       16.360370     70.000000        2.000000           9.000000   \n",
       "75%       16.382294    100.000000        3.000000          40.000000   \n",
       "max       16.543390   9270.000000     1125.000000         946.000000   \n",
       "\n",
       "       reviews_per_month  calculated_host_listings_count  availability_365   \n",
       "count       10355.000000                    12525.000000      12525.000000  \\\n",
       "mean            1.428120                       16.597764        151.005669   \n",
       "std             1.758495                       40.132955        134.700347   \n",
       "min             0.010000                        1.000000          0.000000   \n",
       "25%             0.210000                        1.000000          0.000000   \n",
       "50%             0.790000                        2.000000        133.000000   \n",
       "75%             2.040000                       12.000000        286.000000   \n",
       "max            40.200000                      255.000000        365.000000   \n",
       "\n",
       "       number_of_reviews_ltm  license  \n",
       "count           12525.000000      0.0  \n",
       "mean               11.129182      NaN  \n",
       "std                19.300898      NaN  \n",
       "min                 0.000000      NaN  \n",
       "25%                 0.000000      NaN  \n",
       "50%                 2.000000      NaN  \n",
       "75%                14.000000      NaN  \n",
       "max               407.000000      NaN  "
      ]
     },
     "metadata": {},
     "output_type": "display_data"
    },
    {
     "data": {
      "text/html": [
       "<div>\n",
       "<style scoped>\n",
       "    .dataframe tbody tr th:only-of-type {\n",
       "        vertical-align: middle;\n",
       "    }\n",
       "\n",
       "    .dataframe tbody tr th {\n",
       "        vertical-align: top;\n",
       "    }\n",
       "\n",
       "    .dataframe thead th {\n",
       "        text-align: right;\n",
       "    }\n",
       "</style>\n",
       "<table border=\"1\" class=\"dataframe\">\n",
       "  <thead>\n",
       "    <tr style=\"text-align: right;\">\n",
       "      <th></th>\n",
       "      <th>id</th>\n",
       "      <th>name</th>\n",
       "      <th>host_id</th>\n",
       "      <th>host_name</th>\n",
       "      <th>neighbourhood_group</th>\n",
       "      <th>neighbourhood</th>\n",
       "      <th>latitude</th>\n",
       "      <th>longitude</th>\n",
       "      <th>room_type</th>\n",
       "      <th>price</th>\n",
       "      <th>minimum_nights</th>\n",
       "      <th>number_of_reviews</th>\n",
       "      <th>last_review</th>\n",
       "      <th>reviews_per_month</th>\n",
       "      <th>calculated_host_listings_count</th>\n",
       "      <th>availability_365</th>\n",
       "      <th>number_of_reviews_ltm</th>\n",
       "      <th>license</th>\n",
       "    </tr>\n",
       "  </thead>\n",
       "  <tbody>\n",
       "    <tr>\n",
       "      <th>0</th>\n",
       "      <td>38768</td>\n",
       "      <td>central cityapartement- wifi- nice neighbourhood</td>\n",
       "      <td>166283</td>\n",
       "      <td>Hannes</td>\n",
       "      <td>NaN</td>\n",
       "      <td>Leopoldstadt</td>\n",
       "      <td>48.21924</td>\n",
       "      <td>16.37831</td>\n",
       "      <td>Entire home/apt</td>\n",
       "      <td>79</td>\n",
       "      <td>5</td>\n",
       "      <td>357</td>\n",
       "      <td>2022-11-20</td>\n",
       "      <td>2.45</td>\n",
       "      <td>3</td>\n",
       "      <td>42</td>\n",
       "      <td>17</td>\n",
       "      <td>NaN</td>\n",
       "    </tr>\n",
       "    <tr>\n",
       "      <th>1</th>\n",
       "      <td>197968</td>\n",
       "      <td>Central 2 bedroom flat</td>\n",
       "      <td>965759</td>\n",
       "      <td>Pierre</td>\n",
       "      <td>NaN</td>\n",
       "      <td>Alsergrund</td>\n",
       "      <td>48.21919</td>\n",
       "      <td>16.35505</td>\n",
       "      <td>Entire home/apt</td>\n",
       "      <td>123</td>\n",
       "      <td>1</td>\n",
       "      <td>78</td>\n",
       "      <td>2022-12-31</td>\n",
       "      <td>0.61</td>\n",
       "      <td>2</td>\n",
       "      <td>338</td>\n",
       "      <td>10</td>\n",
       "      <td>NaN</td>\n",
       "    </tr>\n",
       "    <tr>\n",
       "      <th>2</th>\n",
       "      <td>40625</td>\n",
       "      <td>Near Palace Schönbrunn, Apt. 1</td>\n",
       "      <td>175131</td>\n",
       "      <td>Ingela</td>\n",
       "      <td>NaN</td>\n",
       "      <td>Rudolfsheim-Fnfhaus</td>\n",
       "      <td>48.18434</td>\n",
       "      <td>16.32701</td>\n",
       "      <td>Entire home/apt</td>\n",
       "      <td>169</td>\n",
       "      <td>1</td>\n",
       "      <td>187</td>\n",
       "      <td>2023-01-02</td>\n",
       "      <td>1.22</td>\n",
       "      <td>15</td>\n",
       "      <td>324</td>\n",
       "      <td>25</td>\n",
       "      <td>NaN</td>\n",
       "    </tr>\n",
       "    <tr>\n",
       "      <th>3</th>\n",
       "      <td>51287</td>\n",
       "      <td>little studio- next to citycenter- wifi- nice ...</td>\n",
       "      <td>166283</td>\n",
       "      <td>Hannes</td>\n",
       "      <td>NaN</td>\n",
       "      <td>Leopoldstadt</td>\n",
       "      <td>48.21778</td>\n",
       "      <td>16.37847</td>\n",
       "      <td>Entire home/apt</td>\n",
       "      <td>71</td>\n",
       "      <td>5</td>\n",
       "      <td>360</td>\n",
       "      <td>2023-01-07</td>\n",
       "      <td>2.44</td>\n",
       "      <td>3</td>\n",
       "      <td>89</td>\n",
       "      <td>31</td>\n",
       "      <td>NaN</td>\n",
       "    </tr>\n",
       "    <tr>\n",
       "      <th>4</th>\n",
       "      <td>203691</td>\n",
       "      <td>At the City center room with shower, sink</td>\n",
       "      <td>518644</td>\n",
       "      <td>Michael</td>\n",
       "      <td>NaN</td>\n",
       "      <td>Margareten</td>\n",
       "      <td>48.19347</td>\n",
       "      <td>16.35900</td>\n",
       "      <td>Private room</td>\n",
       "      <td>41</td>\n",
       "      <td>1</td>\n",
       "      <td>63</td>\n",
       "      <td>2023-01-14</td>\n",
       "      <td>0.45</td>\n",
       "      <td>34</td>\n",
       "      <td>310</td>\n",
       "      <td>24</td>\n",
       "      <td>NaN</td>\n",
       "    </tr>\n",
       "  </tbody>\n",
       "</table>\n",
       "</div>"
      ],
      "text/plain": [
       "       id                                               name  host_id   \n",
       "0   38768   central cityapartement- wifi- nice neighbourhood   166283  \\\n",
       "1  197968                             Central 2 bedroom flat   965759   \n",
       "2   40625                     Near Palace Schönbrunn, Apt. 1   175131   \n",
       "3   51287  little studio- next to citycenter- wifi- nice ...   166283   \n",
       "4  203691          At the City center room with shower, sink   518644   \n",
       "\n",
       "  host_name  neighbourhood_group         neighbourhood  latitude  longitude   \n",
       "0    Hannes                  NaN          Leopoldstadt  48.21924   16.37831  \\\n",
       "1    Pierre                  NaN            Alsergrund  48.21919   16.35505   \n",
       "2    Ingela                  NaN  Rudolfsheim-Fnfhaus  48.18434   16.32701   \n",
       "3    Hannes                  NaN          Leopoldstadt  48.21778   16.37847   \n",
       "4   Michael                  NaN            Margareten  48.19347   16.35900   \n",
       "\n",
       "         room_type  price  minimum_nights  number_of_reviews last_review   \n",
       "0  Entire home/apt     79               5                357  2022-11-20  \\\n",
       "1  Entire home/apt    123               1                 78  2022-12-31   \n",
       "2  Entire home/apt    169               1                187  2023-01-02   \n",
       "3  Entire home/apt     71               5                360  2023-01-07   \n",
       "4     Private room     41               1                 63  2023-01-14   \n",
       "\n",
       "   reviews_per_month  calculated_host_listings_count  availability_365   \n",
       "0               2.45                               3                42  \\\n",
       "1               0.61                               2               338   \n",
       "2               1.22                              15               324   \n",
       "3               2.44                               3                89   \n",
       "4               0.45                              34               310   \n",
       "\n",
       "   number_of_reviews_ltm  license  \n",
       "0                     17      NaN  \n",
       "1                     10      NaN  \n",
       "2                     25      NaN  \n",
       "3                     31      NaN  \n",
       "4                     24      NaN  "
      ]
     },
     "metadata": {},
     "output_type": "display_data"
    },
    {
     "data": {
      "text/plain": [
       "int64      8\n",
       "object     5\n",
       "float64    5\n",
       "Name: count, dtype: int64"
      ]
     },
     "metadata": {},
     "output_type": "display_data"
    }
   ],
   "source": [
    "df = pd.read_csv('vienna_listings.csv')\n",
    "print(\"The data set has {} rows and {} columns\".format(df.shape[0], df.shape[1]))\n",
    "display(df.describe())\n",
    "display(df.head())\n",
    "display(df.dtypes.value_counts())\n"
   ]
  },
  {
   "cell_type": "code",
   "execution_count": 4,
   "metadata": {},
   "outputs": [
    {
     "data": {
      "text/plain": [
       "id                                False\n",
       "name                               True\n",
       "host_id                           False\n",
       "host_name                          True\n",
       "neighbourhood_group               False\n",
       "neighbourhood                      True\n",
       "latitude                          False\n",
       "longitude                         False\n",
       "room_type                          True\n",
       "price                             False\n",
       "minimum_nights                    False\n",
       "number_of_reviews                 False\n",
       "last_review                        True\n",
       "reviews_per_month                 False\n",
       "calculated_host_listings_count    False\n",
       "availability_365                  False\n",
       "number_of_reviews_ltm             False\n",
       "license                           False\n",
       "dtype: bool"
      ]
     },
     "execution_count": 4,
     "metadata": {},
     "output_type": "execute_result"
    }
   ],
   "source": [
    "# separate the numerical and categorical columns\n",
    "\n",
    "df.dtypes == 'object'"
   ]
  },
  {
   "cell_type": "code",
   "execution_count": 5,
   "metadata": {},
   "outputs": [
    {
     "name": "stdout",
     "output_type": "stream",
     "text": [
      "The numerical columns are: Index(['id', 'host_id', 'neighbourhood_group', 'latitude', 'longitude',\n",
      "       'price', 'minimum_nights', 'number_of_reviews', 'reviews_per_month',\n",
      "       'calculated_host_listings_count', 'availability_365',\n",
      "       'number_of_reviews_ltm', 'license'],\n",
      "      dtype='object')\n",
      "The categorical columns are: Index(['name', 'host_name', 'neighbourhood', 'room_type', 'last_review'], dtype='object')\n"
     ]
    }
   ],
   "source": [
    "num_vars = df.columns[df.dtypes != 'object']\n",
    "cat_vars = df.columns[df.dtypes == 'object']\n",
    "\n",
    "print(\"The numerical columns are: {}\".format(num_vars))\n",
    "print(\"The categorical columns are: {}\".format(cat_vars))"
   ]
  },
  {
   "cell_type": "code",
   "execution_count": 6,
   "metadata": {},
   "outputs": [
    {
     "name": "stdout",
     "output_type": "stream",
     "text": [
      "                       id    host_id  neighbourhood_group   latitude   \n",
      "0                   38768     166283                  NaN  48.219240  \\\n",
      "1                  197968     965759                  NaN  48.219190   \n",
      "2                   40625     175131                  NaN  48.184340   \n",
      "3                   51287     166283                  NaN  48.217780   \n",
      "4                  203691     518644                  NaN  48.193470   \n",
      "...                   ...        ...                  ...        ...   \n",
      "12520  845438708256110131  504997811                  NaN  48.164064   \n",
      "12521  845464298903354686  504997811                  NaN  48.164178   \n",
      "12522  845481082684554487  504997811                  NaN  48.164178   \n",
      "12523  845498752889866883  504997811                  NaN  48.164178   \n",
      "12524  845500545006914180  288328438                  NaN  48.223656   \n",
      "\n",
      "       longitude  price  minimum_nights  number_of_reviews  reviews_per_month   \n",
      "0      16.378310     79               5                357               2.45  \\\n",
      "1      16.355050    123               1                 78               0.61   \n",
      "2      16.327010    169               1                187               1.22   \n",
      "3      16.378470     71               5                360               2.44   \n",
      "4      16.359000     41               1                 63               0.45   \n",
      "...          ...    ...             ...                ...                ...   \n",
      "12520  16.315673     52               1                  0                NaN   \n",
      "12521  16.315545     52               1                  0                NaN   \n",
      "12522  16.315545     68               1                  0                NaN   \n",
      "12523  16.315545    100               1                  0                NaN   \n",
      "12524  16.401436    251               1                  0                NaN   \n",
      "\n",
      "       calculated_host_listings_count  availability_365   \n",
      "0                                   3                42  \\\n",
      "1                                   2               338   \n",
      "2                                  15               324   \n",
      "3                                   3                89   \n",
      "4                                  34               310   \n",
      "...                               ...               ...   \n",
      "12520                              30               357   \n",
      "12521                              30               363   \n",
      "12522                              30               358   \n",
      "12523                              30               353   \n",
      "12524                              10                 9   \n",
      "\n",
      "       number_of_reviews_ltm  license  \n",
      "0                         17      NaN  \n",
      "1                         10      NaN  \n",
      "2                         25      NaN  \n",
      "3                         31      NaN  \n",
      "4                         24      NaN  \n",
      "...                      ...      ...  \n",
      "12520                      0      NaN  \n",
      "12521                      0      NaN  \n",
      "12522                      0      NaN  \n",
      "12523                      0      NaN  \n",
      "12524                      0      NaN  \n",
      "\n",
      "[12525 rows x 13 columns]\n",
      "13\n"
     ]
    }
   ],
   "source": [
    "print(df[num_vars])\n",
    "\n",
    "print(len(df[num_vars].columns))"
   ]
  },
  {
   "cell_type": "code",
   "execution_count": 7,
   "metadata": {},
   "outputs": [
    {
     "data": {
      "text/html": [
       "<div>\n",
       "<style scoped>\n",
       "    .dataframe tbody tr th:only-of-type {\n",
       "        vertical-align: middle;\n",
       "    }\n",
       "\n",
       "    .dataframe tbody tr th {\n",
       "        vertical-align: top;\n",
       "    }\n",
       "\n",
       "    .dataframe thead th {\n",
       "        text-align: right;\n",
       "    }\n",
       "</style>\n",
       "<table border=\"1\" class=\"dataframe\">\n",
       "  <thead>\n",
       "    <tr style=\"text-align: right;\">\n",
       "      <th></th>\n",
       "      <th>id</th>\n",
       "      <th>host_id</th>\n",
       "      <th>neighbourhood_group</th>\n",
       "      <th>latitude</th>\n",
       "      <th>longitude</th>\n",
       "      <th>price</th>\n",
       "      <th>minimum_nights</th>\n",
       "      <th>number_of_reviews</th>\n",
       "      <th>reviews_per_month</th>\n",
       "      <th>calculated_host_listings_count</th>\n",
       "      <th>availability_365</th>\n",
       "      <th>number_of_reviews_ltm</th>\n",
       "      <th>license</th>\n",
       "    </tr>\n",
       "  </thead>\n",
       "  <tbody>\n",
       "    <tr>\n",
       "      <th>0</th>\n",
       "      <td>False</td>\n",
       "      <td>False</td>\n",
       "      <td>True</td>\n",
       "      <td>False</td>\n",
       "      <td>False</td>\n",
       "      <td>False</td>\n",
       "      <td>False</td>\n",
       "      <td>False</td>\n",
       "      <td>False</td>\n",
       "      <td>False</td>\n",
       "      <td>False</td>\n",
       "      <td>False</td>\n",
       "      <td>True</td>\n",
       "    </tr>\n",
       "    <tr>\n",
       "      <th>1</th>\n",
       "      <td>False</td>\n",
       "      <td>False</td>\n",
       "      <td>True</td>\n",
       "      <td>False</td>\n",
       "      <td>False</td>\n",
       "      <td>False</td>\n",
       "      <td>False</td>\n",
       "      <td>False</td>\n",
       "      <td>False</td>\n",
       "      <td>False</td>\n",
       "      <td>False</td>\n",
       "      <td>False</td>\n",
       "      <td>True</td>\n",
       "    </tr>\n",
       "    <tr>\n",
       "      <th>2</th>\n",
       "      <td>False</td>\n",
       "      <td>False</td>\n",
       "      <td>True</td>\n",
       "      <td>False</td>\n",
       "      <td>False</td>\n",
       "      <td>False</td>\n",
       "      <td>False</td>\n",
       "      <td>False</td>\n",
       "      <td>False</td>\n",
       "      <td>False</td>\n",
       "      <td>False</td>\n",
       "      <td>False</td>\n",
       "      <td>True</td>\n",
       "    </tr>\n",
       "    <tr>\n",
       "      <th>3</th>\n",
       "      <td>False</td>\n",
       "      <td>False</td>\n",
       "      <td>True</td>\n",
       "      <td>False</td>\n",
       "      <td>False</td>\n",
       "      <td>False</td>\n",
       "      <td>False</td>\n",
       "      <td>False</td>\n",
       "      <td>False</td>\n",
       "      <td>False</td>\n",
       "      <td>False</td>\n",
       "      <td>False</td>\n",
       "      <td>True</td>\n",
       "    </tr>\n",
       "    <tr>\n",
       "      <th>4</th>\n",
       "      <td>False</td>\n",
       "      <td>False</td>\n",
       "      <td>True</td>\n",
       "      <td>False</td>\n",
       "      <td>False</td>\n",
       "      <td>False</td>\n",
       "      <td>False</td>\n",
       "      <td>False</td>\n",
       "      <td>False</td>\n",
       "      <td>False</td>\n",
       "      <td>False</td>\n",
       "      <td>False</td>\n",
       "      <td>True</td>\n",
       "    </tr>\n",
       "    <tr>\n",
       "      <th>...</th>\n",
       "      <td>...</td>\n",
       "      <td>...</td>\n",
       "      <td>...</td>\n",
       "      <td>...</td>\n",
       "      <td>...</td>\n",
       "      <td>...</td>\n",
       "      <td>...</td>\n",
       "      <td>...</td>\n",
       "      <td>...</td>\n",
       "      <td>...</td>\n",
       "      <td>...</td>\n",
       "      <td>...</td>\n",
       "      <td>...</td>\n",
       "    </tr>\n",
       "    <tr>\n",
       "      <th>12520</th>\n",
       "      <td>False</td>\n",
       "      <td>False</td>\n",
       "      <td>True</td>\n",
       "      <td>False</td>\n",
       "      <td>False</td>\n",
       "      <td>False</td>\n",
       "      <td>False</td>\n",
       "      <td>False</td>\n",
       "      <td>True</td>\n",
       "      <td>False</td>\n",
       "      <td>False</td>\n",
       "      <td>False</td>\n",
       "      <td>True</td>\n",
       "    </tr>\n",
       "    <tr>\n",
       "      <th>12521</th>\n",
       "      <td>False</td>\n",
       "      <td>False</td>\n",
       "      <td>True</td>\n",
       "      <td>False</td>\n",
       "      <td>False</td>\n",
       "      <td>False</td>\n",
       "      <td>False</td>\n",
       "      <td>False</td>\n",
       "      <td>True</td>\n",
       "      <td>False</td>\n",
       "      <td>False</td>\n",
       "      <td>False</td>\n",
       "      <td>True</td>\n",
       "    </tr>\n",
       "    <tr>\n",
       "      <th>12522</th>\n",
       "      <td>False</td>\n",
       "      <td>False</td>\n",
       "      <td>True</td>\n",
       "      <td>False</td>\n",
       "      <td>False</td>\n",
       "      <td>False</td>\n",
       "      <td>False</td>\n",
       "      <td>False</td>\n",
       "      <td>True</td>\n",
       "      <td>False</td>\n",
       "      <td>False</td>\n",
       "      <td>False</td>\n",
       "      <td>True</td>\n",
       "    </tr>\n",
       "    <tr>\n",
       "      <th>12523</th>\n",
       "      <td>False</td>\n",
       "      <td>False</td>\n",
       "      <td>True</td>\n",
       "      <td>False</td>\n",
       "      <td>False</td>\n",
       "      <td>False</td>\n",
       "      <td>False</td>\n",
       "      <td>False</td>\n",
       "      <td>True</td>\n",
       "      <td>False</td>\n",
       "      <td>False</td>\n",
       "      <td>False</td>\n",
       "      <td>True</td>\n",
       "    </tr>\n",
       "    <tr>\n",
       "      <th>12524</th>\n",
       "      <td>False</td>\n",
       "      <td>False</td>\n",
       "      <td>True</td>\n",
       "      <td>False</td>\n",
       "      <td>False</td>\n",
       "      <td>False</td>\n",
       "      <td>False</td>\n",
       "      <td>False</td>\n",
       "      <td>True</td>\n",
       "      <td>False</td>\n",
       "      <td>False</td>\n",
       "      <td>False</td>\n",
       "      <td>True</td>\n",
       "    </tr>\n",
       "  </tbody>\n",
       "</table>\n",
       "<p>12525 rows × 13 columns</p>\n",
       "</div>"
      ],
      "text/plain": [
       "          id  host_id  neighbourhood_group  latitude  longitude  price   \n",
       "0      False    False                 True     False      False  False  \\\n",
       "1      False    False                 True     False      False  False   \n",
       "2      False    False                 True     False      False  False   \n",
       "3      False    False                 True     False      False  False   \n",
       "4      False    False                 True     False      False  False   \n",
       "...      ...      ...                  ...       ...        ...    ...   \n",
       "12520  False    False                 True     False      False  False   \n",
       "12521  False    False                 True     False      False  False   \n",
       "12522  False    False                 True     False      False  False   \n",
       "12523  False    False                 True     False      False  False   \n",
       "12524  False    False                 True     False      False  False   \n",
       "\n",
       "       minimum_nights  number_of_reviews  reviews_per_month   \n",
       "0               False              False              False  \\\n",
       "1               False              False              False   \n",
       "2               False              False              False   \n",
       "3               False              False              False   \n",
       "4               False              False              False   \n",
       "...               ...                ...                ...   \n",
       "12520           False              False               True   \n",
       "12521           False              False               True   \n",
       "12522           False              False               True   \n",
       "12523           False              False               True   \n",
       "12524           False              False               True   \n",
       "\n",
       "       calculated_host_listings_count  availability_365   \n",
       "0                               False             False  \\\n",
       "1                               False             False   \n",
       "2                               False             False   \n",
       "3                               False             False   \n",
       "4                               False             False   \n",
       "...                               ...               ...   \n",
       "12520                           False             False   \n",
       "12521                           False             False   \n",
       "12522                           False             False   \n",
       "12523                           False             False   \n",
       "12524                           False             False   \n",
       "\n",
       "       number_of_reviews_ltm  license  \n",
       "0                      False     True  \n",
       "1                      False     True  \n",
       "2                      False     True  \n",
       "3                      False     True  \n",
       "4                      False     True  \n",
       "...                      ...      ...  \n",
       "12520                  False     True  \n",
       "12521                  False     True  \n",
       "12522                  False     True  \n",
       "12523                  False     True  \n",
       "12524                  False     True  \n",
       "\n",
       "[12525 rows x 13 columns]"
      ]
     },
     "execution_count": 7,
     "metadata": {},
     "output_type": "execute_result"
    }
   ],
   "source": [
    "df[num_vars].isnull() "
   ]
  },
  {
   "cell_type": "code",
   "execution_count": 8,
   "metadata": {},
   "outputs": [
    {
     "data": {
      "text/plain": [
       "id                                    0\n",
       "host_id                               0\n",
       "neighbourhood_group               12525\n",
       "latitude                              0\n",
       "longitude                             0\n",
       "price                                 0\n",
       "minimum_nights                        0\n",
       "number_of_reviews                     0\n",
       "reviews_per_month                  2170\n",
       "calculated_host_listings_count        0\n",
       "availability_365                      0\n",
       "number_of_reviews_ltm                 0\n",
       "license                           12525\n",
       "dtype: int64"
      ]
     },
     "execution_count": 8,
     "metadata": {},
     "output_type": "execute_result"
    }
   ],
   "source": [
    "df[num_vars].isnull().sum()"
   ]
  },
  {
   "cell_type": "code",
   "execution_count": 9,
   "metadata": {},
   "outputs": [
    {
     "name": "stdout",
     "output_type": "stream",
     "text": [
      "neighbourhood_group               12525\n",
      "license                           12525\n",
      "reviews_per_month                  2170\n",
      "id                                    0\n",
      "host_id                               0\n",
      "latitude                              0\n",
      "longitude                             0\n",
      "price                                 0\n",
      "minimum_nights                        0\n",
      "number_of_reviews                     0\n",
      "calculated_host_listings_count        0\n",
      "availability_365                      0\n",
      "number_of_reviews_ltm                 0\n",
      "dtype: int64\n"
     ]
    }
   ],
   "source": [
    "missing = df[num_vars].isnull().sum().sort_values(ascending=False)\n",
    "print(missing)"
   ]
  },
  {
   "cell_type": "code",
   "execution_count": 10,
   "metadata": {},
   "outputs": [],
   "source": [
    "# impute the missing values with the mean from the reviews_per_month column\n",
    "df['reviews_per_month'] = df['reviews_per_month'].fillna('Missing Data')\n",
    "\n",
    "\n",
    "# drop the neighbourhood_group and license columns\n",
    "df.drop(['neighbourhood_group', 'license'], axis=1, inplace=True)\n",
    "\n",
    "# update the num_vars variable with current numerical columns\n",
    "num_vars = df.columns[df.dtypes != 'object']\n",
    "cat_vars = df.columns[df.dtypes == 'object']"
   ]
  },
  {
   "cell_type": "code",
   "execution_count": 11,
   "metadata": {},
   "outputs": [
    {
     "data": {
      "text/plain": [
       "id                                0.0\n",
       "host_id                           0.0\n",
       "latitude                          0.0\n",
       "longitude                         0.0\n",
       "price                             0.0\n",
       "minimum_nights                    0.0\n",
       "number_of_reviews                 0.0\n",
       "calculated_host_listings_count    0.0\n",
       "availability_365                  0.0\n",
       "number_of_reviews_ltm             0.0\n",
       "dtype: float64"
      ]
     },
     "execution_count": 11,
     "metadata": {},
     "output_type": "execute_result"
    }
   ],
   "source": [
    "df[num_vars].isnull().sum().sort_values(ascending=False)/len(df)"
   ]
  },
  {
   "cell_type": "code",
   "execution_count": 12,
   "metadata": {},
   "outputs": [],
   "source": [
    "# Removed 2 columns and imputed 17% of the values in \n",
    "# the number of reviews column to the mean so not to skew the data"
   ]
  },
  {
   "cell_type": "code",
   "execution_count": 13,
   "metadata": {},
   "outputs": [
    {
     "name": "stdout",
     "output_type": "stream",
     "text": [
      "13\n"
     ]
    }
   ],
   "source": [
    "oringinal_len = len(missing)\n",
    "print(oringinal_len)"
   ]
  },
  {
   "cell_type": "code",
   "execution_count": 14,
   "metadata": {},
   "outputs": [],
   "source": [
    "# We can conclude that the columns that have no values should be dropped\n",
    "\n",
    "# The column with around 17% missing data should be imputed with the mean of its column\n"
   ]
  },
  {
   "cell_type": "code",
   "execution_count": 15,
   "metadata": {},
   "outputs": [
    {
     "name": "stdout",
     "output_type": "stream",
     "text": [
      "The data set has 463195 rows and 2 columns\n"
     ]
    },
    {
     "data": {
      "text/html": [
       "<div>\n",
       "<style scoped>\n",
       "    .dataframe tbody tr th:only-of-type {\n",
       "        vertical-align: middle;\n",
       "    }\n",
       "\n",
       "    .dataframe tbody tr th {\n",
       "        vertical-align: top;\n",
       "    }\n",
       "\n",
       "    .dataframe thead th {\n",
       "        text-align: right;\n",
       "    }\n",
       "</style>\n",
       "<table border=\"1\" class=\"dataframe\">\n",
       "  <thead>\n",
       "    <tr style=\"text-align: right;\">\n",
       "      <th></th>\n",
       "      <th>listing_id</th>\n",
       "    </tr>\n",
       "  </thead>\n",
       "  <tbody>\n",
       "    <tr>\n",
       "      <th>count</th>\n",
       "      <td>4.631950e+05</td>\n",
       "    </tr>\n",
       "    <tr>\n",
       "      <th>mean</th>\n",
       "      <td>4.798029e+16</td>\n",
       "    </tr>\n",
       "    <tr>\n",
       "      <th>std</th>\n",
       "      <td>1.736548e+17</td>\n",
       "    </tr>\n",
       "    <tr>\n",
       "      <th>min</th>\n",
       "      <td>3.876800e+04</td>\n",
       "    </tr>\n",
       "    <tr>\n",
       "      <th>25%</th>\n",
       "      <td>9.359771e+06</td>\n",
       "    </tr>\n",
       "    <tr>\n",
       "      <th>50%</th>\n",
       "      <td>2.184257e+07</td>\n",
       "    </tr>\n",
       "    <tr>\n",
       "      <th>75%</th>\n",
       "      <td>3.866581e+07</td>\n",
       "    </tr>\n",
       "    <tr>\n",
       "      <th>max</th>\n",
       "      <td>8.428603e+17</td>\n",
       "    </tr>\n",
       "  </tbody>\n",
       "</table>\n",
       "</div>"
      ],
      "text/plain": [
       "         listing_id\n",
       "count  4.631950e+05\n",
       "mean   4.798029e+16\n",
       "std    1.736548e+17\n",
       "min    3.876800e+04\n",
       "25%    9.359771e+06\n",
       "50%    2.184257e+07\n",
       "75%    3.866581e+07\n",
       "max    8.428603e+17"
      ]
     },
     "metadata": {},
     "output_type": "display_data"
    },
    {
     "data": {
      "text/html": [
       "<div>\n",
       "<style scoped>\n",
       "    .dataframe tbody tr th:only-of-type {\n",
       "        vertical-align: middle;\n",
       "    }\n",
       "\n",
       "    .dataframe tbody tr th {\n",
       "        vertical-align: top;\n",
       "    }\n",
       "\n",
       "    .dataframe thead th {\n",
       "        text-align: right;\n",
       "    }\n",
       "</style>\n",
       "<table border=\"1\" class=\"dataframe\">\n",
       "  <thead>\n",
       "    <tr style=\"text-align: right;\">\n",
       "      <th></th>\n",
       "      <th>listing_id</th>\n",
       "      <th>date</th>\n",
       "    </tr>\n",
       "  </thead>\n",
       "  <tbody>\n",
       "    <tr>\n",
       "      <th>0</th>\n",
       "      <td>38768</td>\n",
       "      <td>2011-03-23</td>\n",
       "    </tr>\n",
       "    <tr>\n",
       "      <th>1</th>\n",
       "      <td>235772</td>\n",
       "      <td>2012-05-24</td>\n",
       "    </tr>\n",
       "    <tr>\n",
       "      <th>2</th>\n",
       "      <td>235772</td>\n",
       "      <td>2012-06-24</td>\n",
       "    </tr>\n",
       "    <tr>\n",
       "      <th>3</th>\n",
       "      <td>235772</td>\n",
       "      <td>2012-12-08</td>\n",
       "    </tr>\n",
       "    <tr>\n",
       "      <th>4</th>\n",
       "      <td>235772</td>\n",
       "      <td>2013-07-15</td>\n",
       "    </tr>\n",
       "  </tbody>\n",
       "</table>\n",
       "</div>"
      ],
      "text/plain": [
       "   listing_id        date\n",
       "0       38768  2011-03-23\n",
       "1      235772  2012-05-24\n",
       "2      235772  2012-06-24\n",
       "3      235772  2012-12-08\n",
       "4      235772  2013-07-15"
      ]
     },
     "metadata": {},
     "output_type": "display_data"
    },
    {
     "data": {
      "text/plain": [
       "int64     1\n",
       "object    1\n",
       "Name: count, dtype: int64"
      ]
     },
     "metadata": {},
     "output_type": "display_data"
    }
   ],
   "source": [
    "# read in the vienna_reviews.csv file\n",
    "df2 = pd.read_csv('vienna_reviews.csv')\n",
    "print(\"The data set has {} rows and {} columns\".format(df2.shape[0], df2.shape[1]))\n",
    "display(df2.describe())\n",
    "display(df2.head())\n",
    "display(df2.dtypes.value_counts())"
   ]
  },
  {
   "cell_type": "code",
   "execution_count": 16,
   "metadata": {},
   "outputs": [
    {
     "name": "stdout",
     "output_type": "stream",
     "text": [
      "Index(['id', 'name', 'host_id', 'host_name', 'neighbourhood', 'latitude',\n",
      "       'longitude', 'room_type', 'price', 'minimum_nights',\n",
      "       'number_of_reviews', 'last_review', 'reviews_per_month',\n",
      "       'calculated_host_listings_count', 'availability_365',\n",
      "       'number_of_reviews_ltm', 'listing_id', 'date'],\n",
      "      dtype='object')\n"
     ]
    }
   ],
   "source": [
    "# create a new dataframe from the date column in reviews data set\n",
    "df3 = df.join(df2, on='id', how='inner', lsuffix='_left', rsuffix='_right')\n",
    "\n",
    "print(df3.columns)"
   ]
  },
  {
   "cell_type": "code",
   "execution_count": 17,
   "metadata": {},
   "outputs": [],
   "source": [
    "# python pandas how to join a dataframe only if value matches another column value\n",
    "\n",
    "# https://stackoverflow.com/questions/40468069/python-pandas-how-to-join-a-dataframe-only-if-value-matches-another-column-valu"
   ]
  },
  {
   "cell_type": "code",
   "execution_count": null,
   "metadata": {},
   "outputs": [],
   "source": []
  },
  {
   "cell_type": "code",
   "execution_count": 18,
   "metadata": {},
   "outputs": [],
   "source": [
    "# plot a line graph of the price and the date \n",
    "\n",
    "\n"
   ]
  },
  {
   "cell_type": "code",
   "execution_count": null,
   "metadata": {},
   "outputs": [],
   "source": []
  },
  {
   "cell_type": "code",
   "execution_count": 19,
   "metadata": {},
   "outputs": [],
   "source": [
    "# delete rows with na in the host_name column\n",
    "df = df.dropna(subset=['host_name'], how='any', axis=0)\n",
    "\n",
    "# update the num_vars variable with current numerical columns\n",
    "num_vars = df.columns[df.dtypes != 'object']"
   ]
  },
  {
   "cell_type": "code",
   "execution_count": 20,
   "metadata": {},
   "outputs": [],
   "source": [
    "# delete rows with na in the name column\n",
    "df = df.dropna(subset=['name'], how='any', axis=0)\n",
    "\n",
    "# update the num_vars variable with current numerical columns\n",
    "num_vars = df.columns[df.dtypes != 'object']"
   ]
  },
  {
   "cell_type": "code",
   "execution_count": 21,
   "metadata": {},
   "outputs": [],
   "source": [
    "# imputing numerical values with mean\n",
    "fill_mean = lambda col: col.fillna(col.mean())\n",
    "\n",
    "# apply the function to the data frame with nmbnerical columns\n",
    "df[num_vars] = df[num_vars].apply(fill_mean)"
   ]
  },
  {
   "cell_type": "code",
   "execution_count": 22,
   "metadata": {},
   "outputs": [],
   "source": [
    "# imputation for categorical variables\n",
    "\n",
    "# fill missing values in the cat_vars with the 'Missing Data\n",
    "df[cat_vars] = df[cat_vars].fillna('Missing Data')"
   ]
  },
  {
   "cell_type": "code",
   "execution_count": 23,
   "metadata": {},
   "outputs": [
    {
     "data": {
      "text/plain": [
       "id                                0.0\n",
       "name                              0.0\n",
       "host_id                           0.0\n",
       "host_name                         0.0\n",
       "neighbourhood                     0.0\n",
       "latitude                          0.0\n",
       "longitude                         0.0\n",
       "room_type                         0.0\n",
       "price                             0.0\n",
       "minimum_nights                    0.0\n",
       "number_of_reviews                 0.0\n",
       "last_review                       0.0\n",
       "reviews_per_month                 0.0\n",
       "calculated_host_listings_count    0.0\n",
       "availability_365                  0.0\n",
       "number_of_reviews_ltm             0.0\n",
       "dtype: float64"
      ]
     },
     "execution_count": 23,
     "metadata": {},
     "output_type": "execute_result"
    }
   ],
   "source": [
    "# show the number of missing values in each column by percentage\n",
    "df.isnull().sum().sort_values(ascending=False)/len(df)"
   ]
  },
  {
   "cell_type": "code",
   "execution_count": 24,
   "metadata": {},
   "outputs": [
    {
     "name": "stdout",
     "output_type": "stream",
     "text": [
      "Index(['id', 'host_id', 'latitude', 'longitude', 'price', 'minimum_nights',\n",
      "       'number_of_reviews', 'calculated_host_listings_count',\n",
      "       'availability_365', 'number_of_reviews_ltm'],\n",
      "      dtype='object')\n",
      "Index(['name', 'host_name', 'neighbourhood', 'room_type', 'last_review',\n",
      "       'reviews_per_month'],\n",
      "      dtype='object')\n",
      "Index(['id', 'name', 'host_id', 'host_name', 'neighbourhood', 'latitude',\n",
      "       'longitude', 'room_type', 'price', 'minimum_nights',\n",
      "       'number_of_reviews', 'last_review', 'reviews_per_month',\n",
      "       'calculated_host_listings_count', 'availability_365',\n",
      "       'number_of_reviews_ltm'],\n",
      "      dtype='object')\n"
     ]
    }
   ],
   "source": [
    "# Now that we have removed all the missing values, we can now move on to the next step\n",
    "# and visualise the data\n",
    "print(num_vars)\n",
    "print(cat_vars)\n",
    "print(df.columns)"
   ]
  },
  {
   "cell_type": "code",
   "execution_count": null,
   "metadata": {},
   "outputs": [],
   "source": [
    "\n",
    "\n"
   ]
  },
  {
   "cell_type": "code",
   "execution_count": 25,
   "metadata": {},
   "outputs": [
    {
     "data": {
      "text/plain": [
       "<Axes: xlabel='date', ylabel='price'>"
      ]
     },
     "execution_count": 25,
     "metadata": {},
     "output_type": "execute_result"
    },
    {
     "data": {
      "image/png": "[encoded data removed]",
      "text/plain": [
       "<Figure size 640x480 with 1 Axes>"
      ]
     },
     "metadata": {},
     "output_type": "display_data"
    }
   ],
   "source": [
    "\n",
    "# plot a line graph of the price and the date\n",
    "sns.lineplot(x='date', y='price', data=df3)"
   ]
  },
  {
   "cell_type": "code",
   "execution_count": 26,
   "metadata": {},
   "outputs": [
    {
     "data": {
      "text/plain": [
       "<seaborn.axisgrid.FacetGrid at 0x24f3d733fa0>"
      ]
     },
     "execution_count": 26,
     "metadata": {},
     "output_type": "execute_result"
    },
    {
     "data": {
      "image/png": "[encoded data removed]",
      "text/plain": [
       "<Figure size 500x500 with 1 Axes>"
      ]
     },
     "metadata": {},
     "output_type": "display_data"
    }
   ],
   "source": [
    "# convert the date column to datetime\n",
    "df3['date'] = pd.to_datetime(df3['date'])\n",
    "\n",
    "# create a month column from the date column\n",
    "df3['month'] = df3['date'].dt.month\n",
    "\n",
    "\n",
    "# what month has the most recorded airbnb visitors?\n",
    "month_labels=['January', 'February', 'March', 'April', 'May', 'June', 'July', 'August', 'September', 'October',  'November', 'December']\n",
    "sns.catplot(x='month',y='price', kind='bar', data=df3)\n",
    "\n",
    "\n",
    "# what are the most expensive times of the year to visit vienna?\n",
    "# by how much do prices spike?\n",
    "# is there a general upward trend of both new airbnb listings and total airbnb visitors to vienna?\n",
    "\n",
    "\n"
   ]
  },
  {
   "cell_type": "code",
   "execution_count": 27,
   "metadata": {},
   "outputs": [],
   "source": [
    "# The most expensive times of the year to visit vienna are in the months of Feb, Mar, Oct"
   ]
  },
  {
   "cell_type": "code",
   "execution_count": 28,
   "metadata": {},
   "outputs": [
    {
     "name": "stdout",
     "output_type": "stream",
     "text": [
      "6.661737670849653\n"
     ]
    }
   ],
   "source": [
    "# what is the average minimum nights stay in Vienna\n",
    "print(df['minimum_nights'].mean())\n"
   ]
  },
  {
   "cell_type": "code",
   "execution_count": 29,
   "metadata": {},
   "outputs": [
    {
     "data": {
      "text/plain": [
       "<Axes: xlabel='month', ylabel='price'>"
      ]
     },
     "execution_count": 29,
     "metadata": {},
     "output_type": "execute_result"
    },
    {
     "data": {
      "image/png": "[encoded data removed]",
      "text/plain": [
       "<Figure size 640x480 with 1 Axes>"
      ]
     },
     "metadata": {},
     "output_type": "display_data"
    }
   ],
   "source": [
    "# make a line plot of price over date using seaborn\n",
    "sns.lineplot(x='month', y='price', data=df3)"
   ]
  },
  {
   "cell_type": "code",
   "execution_count": 30,
   "metadata": {},
   "outputs": [],
   "source": [
    " # see above the range of prices within each month"
   ]
  },
  {
   "cell_type": "code",
   "execution_count": 31,
   "metadata": {},
   "outputs": [
    {
     "data": {
      "text/plain": [
       "array([[<Axes: title={'center': 'id'}>,\n",
       "        <Axes: title={'center': 'host_id'}>,\n",
       "        <Axes: title={'center': 'latitude'}>],\n",
       "       [<Axes: title={'center': 'longitude'}>,\n",
       "        <Axes: title={'center': 'price'}>,\n",
       "        <Axes: title={'center': 'minimum_nights'}>],\n",
       "       [<Axes: title={'center': 'number_of_reviews'}>,\n",
       "        <Axes: title={'center': 'calculated_host_listings_count'}>,\n",
       "        <Axes: title={'center': 'availability_365'}>],\n",
       "       [<Axes: title={'center': 'number_of_reviews_ltm'}>, <Axes: >,\n",
       "        <Axes: >]], dtype=object)"
      ]
     },
     "execution_count": 31,
     "metadata": {},
     "output_type": "execute_result"
    },
    {
     "data": {
      "image/png": "[encoded data removed]",
      "text/plain": [
       "<Figure size 2000x2000 with 12 Axes>"
      ]
     },
     "metadata": {},
     "output_type": "display_data"
    }
   ],
   "source": [
    "# histogram of the all columns seperately\n",
    "df.hist(figsize=(20,20))"
   ]
  },
  {
   "cell_type": "code",
   "execution_count": 32,
   "metadata": {},
   "outputs": [],
   "source": [
    "# price minimum nights, number of reviews reviews per month, calculated host listings count, number of reviews per month,  \n",
    "# are not clear lets look at why this might be"
   ]
  },
  {
   "cell_type": "code",
   "execution_count": 33,
   "metadata": {},
   "outputs": [
    {
     "data": {
      "text/html": [
       "<div>\n",
       "<style scoped>\n",
       "    .dataframe tbody tr th:only-of-type {\n",
       "        vertical-align: middle;\n",
       "    }\n",
       "\n",
       "    .dataframe tbody tr th {\n",
       "        vertical-align: top;\n",
       "    }\n",
       "\n",
       "    .dataframe thead th {\n",
       "        text-align: right;\n",
       "    }\n",
       "</style>\n",
       "<table border=\"1\" class=\"dataframe\">\n",
       "  <thead>\n",
       "    <tr style=\"text-align: right;\">\n",
       "      <th></th>\n",
       "      <th>id</th>\n",
       "      <th>host_id</th>\n",
       "      <th>latitude</th>\n",
       "      <th>longitude</th>\n",
       "      <th>price</th>\n",
       "      <th>minimum_nights</th>\n",
       "      <th>number_of_reviews</th>\n",
       "      <th>calculated_host_listings_count</th>\n",
       "      <th>availability_365</th>\n",
       "      <th>number_of_reviews_ltm</th>\n",
       "      <th>listing_id</th>\n",
       "      <th>date</th>\n",
       "      <th>month</th>\n",
       "    </tr>\n",
       "  </thead>\n",
       "  <tbody>\n",
       "    <tr>\n",
       "      <th>count</th>\n",
       "      <td>103.000000</td>\n",
       "      <td>1.030000e+02</td>\n",
       "      <td>103.000000</td>\n",
       "      <td>103.000000</td>\n",
       "      <td>103.000000</td>\n",
       "      <td>103.000000</td>\n",
       "      <td>103.000000</td>\n",
       "      <td>103.000000</td>\n",
       "      <td>103.000000</td>\n",
       "      <td>103.000000</td>\n",
       "      <td>1.030000e+02</td>\n",
       "      <td>103</td>\n",
       "      <td>103.000000</td>\n",
       "    </tr>\n",
       "    <tr>\n",
       "      <th>mean</th>\n",
       "      <td>262242.300971</td>\n",
       "      <td>8.258024e+06</td>\n",
       "      <td>48.204992</td>\n",
       "      <td>16.355333</td>\n",
       "      <td>88.417476</td>\n",
       "      <td>6.893204</td>\n",
       "      <td>134.262136</td>\n",
       "      <td>11.262136</td>\n",
       "      <td>202.601942</td>\n",
       "      <td>14.854369</td>\n",
       "      <td>3.746684e+16</td>\n",
       "      <td>2020-03-12 05:35:32.038834944</td>\n",
       "      <td>7.456311</td>\n",
       "    </tr>\n",
       "    <tr>\n",
       "      <th>min</th>\n",
       "      <td>38768.000000</td>\n",
       "      <td>1.461960e+05</td>\n",
       "      <td>48.168000</td>\n",
       "      <td>16.245400</td>\n",
       "      <td>25.000000</td>\n",
       "      <td>1.000000</td>\n",
       "      <td>0.000000</td>\n",
       "      <td>1.000000</td>\n",
       "      <td>0.000000</td>\n",
       "      <td>0.000000</td>\n",
       "      <td>1.080082e+06</td>\n",
       "      <td>2014-05-19 00:00:00</td>\n",
       "      <td>1.000000</td>\n",
       "    </tr>\n",
       "    <tr>\n",
       "      <th>25%</th>\n",
       "      <td>197836.500000</td>\n",
       "      <td>5.186440e+05</td>\n",
       "      <td>48.193515</td>\n",
       "      <td>16.335775</td>\n",
       "      <td>56.000000</td>\n",
       "      <td>1.000000</td>\n",
       "      <td>24.500000</td>\n",
       "      <td>2.000000</td>\n",
       "      <td>113.000000</td>\n",
       "      <td>2.000000</td>\n",
       "      <td>1.821159e+07</td>\n",
       "      <td>2018-10-22 00:00:00</td>\n",
       "      <td>5.000000</td>\n",
       "    </tr>\n",
       "    <tr>\n",
       "      <th>50%</th>\n",
       "      <td>247879.000000</td>\n",
       "      <td>8.090770e+05</td>\n",
       "      <td>48.205410</td>\n",
       "      <td>16.359000</td>\n",
       "      <td>78.000000</td>\n",
       "      <td>2.000000</td>\n",
       "      <td>76.000000</td>\n",
       "      <td>4.000000</td>\n",
       "      <td>236.000000</td>\n",
       "      <td>7.000000</td>\n",
       "      <td>2.383893e+07</td>\n",
       "      <td>2019-09-23 00:00:00</td>\n",
       "      <td>8.000000</td>\n",
       "    </tr>\n",
       "    <tr>\n",
       "      <th>75%</th>\n",
       "      <td>349549.500000</td>\n",
       "      <td>1.600826e+06</td>\n",
       "      <td>48.218960</td>\n",
       "      <td>16.373840</td>\n",
       "      <td>109.000000</td>\n",
       "      <td>4.000000</td>\n",
       "      <td>178.500000</td>\n",
       "      <td>14.500000</td>\n",
       "      <td>298.500000</td>\n",
       "      <td>23.500000</td>\n",
       "      <td>3.883350e+07</td>\n",
       "      <td>2022-05-14 12:00:00</td>\n",
       "      <td>10.000000</td>\n",
       "    </tr>\n",
       "    <tr>\n",
       "      <th>max</th>\n",
       "      <td>461361.000000</td>\n",
       "      <td>2.467439e+08</td>\n",
       "      <td>48.234930</td>\n",
       "      <td>16.419550</td>\n",
       "      <td>234.000000</td>\n",
       "      <td>180.000000</td>\n",
       "      <td>702.000000</td>\n",
       "      <td>56.000000</td>\n",
       "      <td>365.000000</td>\n",
       "      <td>71.000000</td>\n",
       "      <td>7.887066e+17</td>\n",
       "      <td>2023-03-10 00:00:00</td>\n",
       "      <td>12.000000</td>\n",
       "    </tr>\n",
       "    <tr>\n",
       "      <th>std</th>\n",
       "      <td>105337.373753</td>\n",
       "      <td>3.750890e+07</td>\n",
       "      <td>0.014972</td>\n",
       "      <td>0.027514</td>\n",
       "      <td>45.354491</td>\n",
       "      <td>19.097743</td>\n",
       "      <td>163.464811</td>\n",
       "      <td>12.787065</td>\n",
       "      <td>120.182161</td>\n",
       "      <td>17.944581</td>\n",
       "      <td>1.527643e+17</td>\n",
       "      <td>NaN</td>\n",
       "      <td>3.295204</td>\n",
       "    </tr>\n",
       "  </tbody>\n",
       "</table>\n",
       "</div>"
      ],
      "text/plain": [
       "                  id       host_id    latitude   longitude       price   \n",
       "count     103.000000  1.030000e+02  103.000000  103.000000  103.000000  \\\n",
       "mean   262242.300971  8.258024e+06   48.204992   16.355333   88.417476   \n",
       "min     38768.000000  1.461960e+05   48.168000   16.245400   25.000000   \n",
       "25%    197836.500000  5.186440e+05   48.193515   16.335775   56.000000   \n",
       "50%    247879.000000  8.090770e+05   48.205410   16.359000   78.000000   \n",
       "75%    349549.500000  1.600826e+06   48.218960   16.373840  109.000000   \n",
       "max    461361.000000  2.467439e+08   48.234930   16.419550  234.000000   \n",
       "std    105337.373753  3.750890e+07    0.014972    0.027514   45.354491   \n",
       "\n",
       "       minimum_nights  number_of_reviews  calculated_host_listings_count   \n",
       "count      103.000000         103.000000                      103.000000  \\\n",
       "mean         6.893204         134.262136                       11.262136   \n",
       "min          1.000000           0.000000                        1.000000   \n",
       "25%          1.000000          24.500000                        2.000000   \n",
       "50%          2.000000          76.000000                        4.000000   \n",
       "75%          4.000000         178.500000                       14.500000   \n",
       "max        180.000000         702.000000                       56.000000   \n",
       "std         19.097743         163.464811                       12.787065   \n",
       "\n",
       "       availability_365  number_of_reviews_ltm    listing_id   \n",
       "count        103.000000             103.000000  1.030000e+02  \\\n",
       "mean         202.601942              14.854369  3.746684e+16   \n",
       "min            0.000000               0.000000  1.080082e+06   \n",
       "25%          113.000000               2.000000  1.821159e+07   \n",
       "50%          236.000000               7.000000  2.383893e+07   \n",
       "75%          298.500000              23.500000  3.883350e+07   \n",
       "max          365.000000              71.000000  7.887066e+17   \n",
       "std          120.182161              17.944581  1.527643e+17   \n",
       "\n",
       "                                date       month  \n",
       "count                            103  103.000000  \n",
       "mean   2020-03-12 05:35:32.038834944    7.456311  \n",
       "min              2014-05-19 00:00:00    1.000000  \n",
       "25%              2018-10-22 00:00:00    5.000000  \n",
       "50%              2019-09-23 00:00:00    8.000000  \n",
       "75%              2022-05-14 12:00:00   10.000000  \n",
       "max              2023-03-10 00:00:00   12.000000  \n",
       "std                              NaN    3.295204  "
      ]
     },
     "execution_count": 33,
     "metadata": {},
     "output_type": "execute_result"
    }
   ],
   "source": [
    "df3.describe()"
   ]
  },
  {
   "cell_type": "code",
   "execution_count": 35,
   "metadata": {},
   "outputs": [
    {
     "data": {
      "text/plain": [
       "<Axes: xlabel='price'>"
      ]
     },
     "execution_count": 35,
     "metadata": {},
     "output_type": "execute_result"
    },
    {
     "data": {
      "image/png": "[encoded data removed]",
      "text/plain": [
       "<Figure size 640x480 with 1 Axes>"
      ]
     },
     "metadata": {},
     "output_type": "display_data"
    }
   ],
   "source": [
    "# plot a boxplot fo the price column\n",
    "sns.boxplot(x='price', data=df3)"
   ]
  },
  {
   "cell_type": "code",
   "execution_count": 36,
   "metadata": {},
   "outputs": [
    {
     "data": {
      "text/plain": [
       "<Axes: xlabel='minimum_nights'>"
      ]
     },
     "execution_count": 36,
     "metadata": {},
     "output_type": "execute_result"
    },
    {
     "data": {
      "image/png": "[encoded data removed]",
      "text/plain": [
       "<Figure size 640x480 with 1 Axes>"
      ]
     },
     "metadata": {},
     "output_type": "display_data"
    }
   ],
   "source": [
    "# plot a boxplot fo the minimum_nights column\n",
    "sns.boxplot(x='minimum_nights', data=df3)"
   ]
  },
  {
   "cell_type": "code",
   "execution_count": 37,
   "metadata": {},
   "outputs": [
    {
     "data": {
      "text/plain": [
       "<Axes: xlabel='number_of_reviews'>"
      ]
     },
     "execution_count": 37,
     "metadata": {},
     "output_type": "execute_result"
    },
    {
     "data": {
      "image/png": "[encoded data removed]",
      "text/plain": [
       "<Figure size 640x480 with 1 Axes>"
      ]
     },
     "metadata": {},
     "output_type": "display_data"
    }
   ],
   "source": [
    "# plot a boxplot fo the number_of_reviews column\n",
    "sns.boxplot(x='number_of_reviews', data=df3)"
   ]
  },
  {
   "cell_type": "code",
   "execution_count": 41,
   "metadata": {},
   "outputs": [
    {
     "ename": "TypeError",
     "evalue": "Horizontal orientation requires numeric `x` variable.",
     "output_type": "error",
     "traceback": [
      "\u001b[1;31m---------------------------------------------------------------------------\u001b[0m",
      "\u001b[1;31mTypeError\u001b[0m                                 Traceback (most recent call last)",
      "Cell \u001b[1;32mIn[41], line 2\u001b[0m\n\u001b[0;32m      1\u001b[0m \u001b[39m# plot a boxplot fo the reviews_per_month column\u001b[39;00m\n\u001b[1;32m----> 2\u001b[0m sns\u001b[39m.\u001b[39;49mboxplot(x\u001b[39m=\u001b[39;49m\u001b[39m'\u001b[39;49m\u001b[39mreviews_per_month\u001b[39;49m\u001b[39m'\u001b[39;49m, data\u001b[39m=\u001b[39;49mdf3)\n",
      "File \u001b[1;32mc:\\Users\\mrkel\\Documents\\git\\.venv\\lib\\site-packages\\seaborn\\categorical.py:2231\u001b[0m, in \u001b[0;36mboxplot\u001b[1;34m(data, x, y, hue, order, hue_order, orient, color, palette, saturation, width, dodge, fliersize, linewidth, whis, ax, **kwargs)\u001b[0m\n\u001b[0;32m   2224\u001b[0m \u001b[39mdef\u001b[39;00m \u001b[39mboxplot\u001b[39m(\n\u001b[0;32m   2225\u001b[0m     data\u001b[39m=\u001b[39m\u001b[39mNone\u001b[39;00m, \u001b[39m*\u001b[39m, x\u001b[39m=\u001b[39m\u001b[39mNone\u001b[39;00m, y\u001b[39m=\u001b[39m\u001b[39mNone\u001b[39;00m, hue\u001b[39m=\u001b[39m\u001b[39mNone\u001b[39;00m, order\u001b[39m=\u001b[39m\u001b[39mNone\u001b[39;00m, hue_order\u001b[39m=\u001b[39m\u001b[39mNone\u001b[39;00m,\n\u001b[0;32m   2226\u001b[0m     orient\u001b[39m=\u001b[39m\u001b[39mNone\u001b[39;00m, color\u001b[39m=\u001b[39m\u001b[39mNone\u001b[39;00m, palette\u001b[39m=\u001b[39m\u001b[39mNone\u001b[39;00m, saturation\u001b[39m=\u001b[39m\u001b[39m.75\u001b[39m, width\u001b[39m=\u001b[39m\u001b[39m.8\u001b[39m,\n\u001b[0;32m   2227\u001b[0m     dodge\u001b[39m=\u001b[39m\u001b[39mTrue\u001b[39;00m, fliersize\u001b[39m=\u001b[39m\u001b[39m5\u001b[39m, linewidth\u001b[39m=\u001b[39m\u001b[39mNone\u001b[39;00m, whis\u001b[39m=\u001b[39m\u001b[39m1.5\u001b[39m, ax\u001b[39m=\u001b[39m\u001b[39mNone\u001b[39;00m,\n\u001b[0;32m   2228\u001b[0m     \u001b[39m*\u001b[39m\u001b[39m*\u001b[39mkwargs\n\u001b[0;32m   2229\u001b[0m ):\n\u001b[1;32m-> 2231\u001b[0m     plotter \u001b[39m=\u001b[39m _BoxPlotter(x, y, hue, data, order, hue_order,\n\u001b[0;32m   2232\u001b[0m                           orient, color, palette, saturation,\n\u001b[0;32m   2233\u001b[0m                           width, dodge, fliersize, linewidth)\n\u001b[0;32m   2235\u001b[0m     \u001b[39mif\u001b[39;00m ax \u001b[39mis\u001b[39;00m \u001b[39mNone\u001b[39;00m:\n\u001b[0;32m   2236\u001b[0m         ax \u001b[39m=\u001b[39m plt\u001b[39m.\u001b[39mgca()\n",
      "File \u001b[1;32mc:\\Users\\mrkel\\Documents\\git\\.venv\\lib\\site-packages\\seaborn\\categorical.py:785\u001b[0m, in \u001b[0;36m_BoxPlotter.__init__\u001b[1;34m(self, x, y, hue, data, order, hue_order, orient, color, palette, saturation, width, dodge, fliersize, linewidth)\u001b[0m\n\u001b[0;32m    781\u001b[0m \u001b[39mdef\u001b[39;00m \u001b[39m__init__\u001b[39m(\u001b[39mself\u001b[39m, x, y, hue, data, order, hue_order,\n\u001b[0;32m    782\u001b[0m              orient, color, palette, saturation,\n\u001b[0;32m    783\u001b[0m              width, dodge, fliersize, linewidth):\n\u001b[1;32m--> 785\u001b[0m     \u001b[39mself\u001b[39;49m\u001b[39m.\u001b[39;49mestablish_variables(x, y, hue, data, orient, order, hue_order)\n\u001b[0;32m    786\u001b[0m     \u001b[39mself\u001b[39m\u001b[39m.\u001b[39mestablish_colors(color, palette, saturation)\n\u001b[0;32m    788\u001b[0m     \u001b[39mself\u001b[39m\u001b[39m.\u001b[39mdodge \u001b[39m=\u001b[39m dodge\n",
      "File \u001b[1;32mc:\\Users\\mrkel\\Documents\\git\\.venv\\lib\\site-packages\\seaborn\\categorical.py:544\u001b[0m, in \u001b[0;36m_CategoricalPlotter.establish_variables\u001b[1;34m(self, x, y, hue, data, orient, order, hue_order, units)\u001b[0m\n\u001b[0;32m    541\u001b[0m         \u001b[39mraise\u001b[39;00m \u001b[39mValueError\u001b[39;00m(err)\n\u001b[0;32m    543\u001b[0m \u001b[39m# Figure out the plotting orientation\u001b[39;00m\n\u001b[1;32m--> 544\u001b[0m orient \u001b[39m=\u001b[39m infer_orient(\n\u001b[0;32m    545\u001b[0m     x, y, orient, require_numeric\u001b[39m=\u001b[39;49m\u001b[39mself\u001b[39;49m\u001b[39m.\u001b[39;49mrequire_numeric\n\u001b[0;32m    546\u001b[0m )\n\u001b[0;32m    548\u001b[0m \u001b[39m# Option 2a:\u001b[39;00m\n\u001b[0;32m    549\u001b[0m \u001b[39m# We are plotting a single set of data\u001b[39;00m\n\u001b[0;32m    550\u001b[0m \u001b[39m# ------------------------------------\u001b[39;00m\n\u001b[0;32m    551\u001b[0m \u001b[39mif\u001b[39;00m x \u001b[39mis\u001b[39;00m \u001b[39mNone\u001b[39;00m \u001b[39mor\u001b[39;00m y \u001b[39mis\u001b[39;00m \u001b[39mNone\u001b[39;00m:\n\u001b[0;32m    552\u001b[0m \n\u001b[0;32m    553\u001b[0m     \u001b[39m# Determine where the data are\u001b[39;00m\n",
      "File \u001b[1;32mc:\\Users\\mrkel\\Documents\\git\\.venv\\lib\\site-packages\\seaborn\\_oldcore.py:1601\u001b[0m, in \u001b[0;36minfer_orient\u001b[1;34m(x, y, orient, require_numeric)\u001b[0m\n\u001b[0;32m   1599\u001b[0m         warnings\u001b[39m.\u001b[39mwarn(single_var_warning\u001b[39m.\u001b[39mformat(\u001b[39m\"\u001b[39m\u001b[39mVertical\u001b[39m\u001b[39m\"\u001b[39m, \u001b[39m\"\u001b[39m\u001b[39mx\u001b[39m\u001b[39m\"\u001b[39m))\n\u001b[0;32m   1600\u001b[0m     \u001b[39mif\u001b[39;00m require_numeric \u001b[39mand\u001b[39;00m x_type \u001b[39m!=\u001b[39m \u001b[39m\"\u001b[39m\u001b[39mnumeric\u001b[39m\u001b[39m\"\u001b[39m:\n\u001b[1;32m-> 1601\u001b[0m         \u001b[39mraise\u001b[39;00m \u001b[39mTypeError\u001b[39;00m(nonnumeric_dv_error\u001b[39m.\u001b[39mformat(\u001b[39m\"\u001b[39m\u001b[39mHorizontal\u001b[39m\u001b[39m\"\u001b[39m, \u001b[39m\"\u001b[39m\u001b[39mx\u001b[39m\u001b[39m\"\u001b[39m))\n\u001b[0;32m   1602\u001b[0m     \u001b[39mreturn\u001b[39;00m \u001b[39m\"\u001b[39m\u001b[39mh\u001b[39m\u001b[39m\"\u001b[39m\n\u001b[0;32m   1604\u001b[0m \u001b[39melif\u001b[39;00m \u001b[39mstr\u001b[39m(orient)\u001b[39m.\u001b[39mstartswith(\u001b[39m\"\u001b[39m\u001b[39mv\u001b[39m\u001b[39m\"\u001b[39m):\n",
      "\u001b[1;31mTypeError\u001b[0m: Horizontal orientation requires numeric `x` variable."
     ]
    }
   ],
   "source": [
    "# plot a boxplot fo the reviews_per_month column\n",
    "sns.boxplot(x='reviews_per_month', data=df3)"
   ]
  },
  {
   "cell_type": "code",
   "execution_count": 42,
   "metadata": {},
   "outputs": [
    {
     "data": {
      "text/plain": [
       "<Axes: xlabel='calculated_host_listings_count'>"
      ]
     },
     "execution_count": 42,
     "metadata": {},
     "output_type": "execute_result"
    },
    {
     "data": {
      "image/png": "[encoded data removed]",
      "text/plain": [
       "<Figure size 640x480 with 1 Axes>"
      ]
     },
     "metadata": {},
     "output_type": "display_data"
    }
   ],
   "source": [
    "# plot a boxplot fo the calculated_host_listings_count column\n",
    "sns.boxplot(x='calculated_host_listings_count', data=df3)\n"
   ]
  },
  {
   "cell_type": "code",
   "execution_count": 43,
   "metadata": {},
   "outputs": [
    {
     "data": {
      "text/plain": [
       "<Axes: xlabel='number_of_reviews_ltm'>"
      ]
     },
     "execution_count": 43,
     "metadata": {},
     "output_type": "execute_result"
    },
    {
     "data": {
      "image/png": "[encoded data removed]",
      "text/plain": [
       "<Figure size 640x480 with 1 Axes>"
      ]
     },
     "metadata": {},
     "output_type": "display_data"
    }
   ],
   "source": [
    "# plot a boxplot fo the number_of_reviews_ltm column\n",
    "sns.boxplot(x='number_of_reviews_ltm', data=df3)"
   ]
  },
  {
   "cell_type": "code",
   "execution_count": null,
   "metadata": {},
   "outputs": [],
   "source": []
  },
  {
   "cell_type": "code",
   "execution_count": 34,
   "metadata": {},
   "outputs": [],
   "source": [
    "# What are the busiest times of the year to visit? Feb March and October. See the Line plot for price \n",
    "\n",
    "# By how much do prices spike? ##### See both line and bar plot for price over date\n",
    "\n",
    "# Is there a general upward trend of both new Airbnb listings and total Airbnb visitors?\n",
    "\n",
    "# Did you detect any outliers YES WE DID PLEASE SEE BOXPLOTS"
   ]
  }
 ],
 "metadata": {
  "kernelspec": {
   "display_name": ".venv",
   "language": "python",
   "name": "python3"
  },
  "language_info": {
   "codemirror_mode": {
    "name": "ipython",
    "version": 3
   },
   "file_extension": ".py",
   "mimetype": "text/x-python",
   "name": "python",
   "nbconvert_exporter": "python",
   "pygments_lexer": "ipython3",
   "version": "3.10.11"
  },
  "orig_nbformat": 4
 },
 "nbformat": 4,
 "nbformat_minor": 2
}
