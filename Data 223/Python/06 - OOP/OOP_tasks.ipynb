{
 "cells": [
  {
   "cell_type": "code",
   "execution_count": null,
   "metadata": {},
   "outputs": [],
   "source": [
    "# 3 problems\n"
   ]
  },
  {
   "cell_type": "code",
   "execution_count": 11,
   "metadata": {},
   "outputs": [],
   "source": [
    "# Problem 1 \n",
    "# phase 1: build a simple calculator class containing 4 methods: add, subtract, multiply, divide\n",
    "# phase 2: add a method to return true or false if the result of the last operation was successful\n",
    "# phase 3: add a method to calculate the area of a triangle\n",
    "# phase 4: add a method to convert inches to centimeters\n",
    "\n",
    "#phase1\n",
    "class Calculator:\n",
    "    def __init__(self, num1, num2):\n",
    "        self.num1 = num1\n",
    "        self.num2 = num2\n",
    "    \n",
    "    def add(self):\n",
    "        return self.num1 + self.num2\n",
    "    \n",
    "    def subtract(self):\n",
    "        return self.num1 - self.num2\n",
    "    \n",
    "    def multiply(self):\n",
    "        return self.num1 * self.num2\n",
    "    \n",
    "    def divide(self):\n",
    "        return self.num1 / self.num2\n",
    "    \n"
   ]
  },
  {
   "cell_type": "code",
   "execution_count": 12,
   "metadata": {},
   "outputs": [
    {
     "name": "stdout",
     "output_type": "stream",
     "text": [
      "15\n",
      "5\n",
      "50\n",
      "2.0\n"
     ]
    }
   ],
   "source": [
    "# create a class instance\n",
    "calc = Calculator(10, 5)\n",
    "print(calc.add())\n",
    "print(calc.subtract())\n",
    "print(calc.multiply())\n",
    "print(calc.divide())"
   ]
  },
  {
   "cell_type": "code",
   "execution_count": 14,
   "metadata": {},
   "outputs": [],
   "source": [
    "# phase 2\n",
    "class Calculator:\n",
    "    def __init__(self, num1, num2):\n",
    "        self.num1 = num1\n",
    "        self.num2 = num2\n",
    "        self.success = False\n",
    "    \n",
    "    def add(self):\n",
    "        self.success = True\n",
    "        return self.num1 + self.num2\n",
    "    \n",
    "    def subtract(self):\n",
    "        self.success = True\n",
    "        return self.num1 - self.num2\n",
    "    \n",
    "    def multiply(self):\n",
    "        self.success = True\n",
    "        return self.num1 * self.num2\n",
    "    \n",
    "    def divide(self):\n",
    "        self.success = True\n",
    "        return self.num1 / self.num2\n",
    "    \n",
    "    def is_success(self):\n",
    "        return self.success"
   ]
  },
  {
   "cell_type": "code",
   "execution_count": 16,
   "metadata": {},
   "outputs": [
    {
     "name": "stdout",
     "output_type": "stream",
     "text": [
      "15\n",
      "True\n"
     ]
    }
   ],
   "source": [
    "# create a class instance\n",
    "calc = Calculator(10, 5)\n",
    "print(calc.add())\n",
    "print(calc.is_success()) # run this after every calculation to find out if it was successful\n",
    "\n"
   ]
  },
  {
   "cell_type": "code",
   "execution_count": 17,
   "metadata": {},
   "outputs": [],
   "source": [
    "# phase 3\n",
    "class Calculator:\n",
    "    def __init__(self, num1, num2):\n",
    "        self.num1 = num1\n",
    "        self.num2 = num2\n",
    "        self.success = False\n",
    "    \n",
    "    def add(self):\n",
    "        self.success = True\n",
    "        return self.num1 + self.num2\n",
    "    \n",
    "    def subtract(self):\n",
    "        self.success = True\n",
    "        return self.num1 - self.num2\n",
    "    \n",
    "    def multiply(self):\n",
    "        self.success = True\n",
    "        return self.num1 * self.num2\n",
    "    \n",
    "    def divide(self):\n",
    "        self.success = True\n",
    "        return self.num1 / self.num2\n",
    "    \n",
    "    def is_success(self):\n",
    "        return self.success\n",
    "        \n",
    "    def area_of_triangle(self, base, height):\n",
    "        self.success = True\n",
    "        return (base * height) / 2"
   ]
  },
  {
   "cell_type": "code",
   "execution_count": 19,
   "metadata": {},
   "outputs": [
    {
     "name": "stdout",
     "output_type": "stream",
     "text": [
      "100.0\n"
     ]
    }
   ],
   "source": [
    "# create a class instance\n",
    "calc = Calculator(10, 5)\n",
    "print(calc.area_of_triangle(10, 20))"
   ]
  },
  {
   "cell_type": "code",
   "execution_count": 29,
   "metadata": {},
   "outputs": [],
   "source": [
    "# phase 4\n",
    "class Calculator:\n",
    "    def __init__(self):\n",
    "        \n",
    "        self.success = False\n",
    "    \n",
    "    def add(self, num1, num2):\n",
    "        self.success = True\n",
    "        return self.num1 + self.num2\n",
    "    \n",
    "    def subtract(self, num1, num2):\n",
    "        self.success = True\n",
    "        return self.num1 - self.num2\n",
    "    \n",
    "    def multiply(self, num1, num2):\n",
    "        self.success = True\n",
    "        return self.num1 * self.num2\n",
    "    \n",
    "    def divide(self, num1, num2):\n",
    "        self.success = True\n",
    "        return self.num1 / self.num2\n",
    "    \n",
    "    def is_success(self):\n",
    "        return self.success\n",
    "        \n",
    "    def area_of_triangle(self, base, height):\n",
    "        self.success = True\n",
    "        return (base * height) / 2\n",
    "    def inches_to_cms(self, inches):\n",
    "        self.success = True\n",
    "\n",
    "    def inches_to_centimeters(self, inches):\n",
    "        self.success = True\n",
    "        return inches * 2.54"
   ]
  },
  {
   "cell_type": "code",
   "execution_count": 30,
   "metadata": {},
   "outputs": [
    {
     "name": "stdout",
     "output_type": "stream",
     "text": [
      "25.4\n"
     ]
    }
   ],
   "source": [
    "# create a class instance\n",
    "calc = Calculator()\n",
    "print(calc.inches_to_centimeters(10))\n"
   ]
  },
  {
   "cell_type": "code",
   "execution_count": 27,
   "metadata": {},
   "outputs": [],
   "source": [
    "# Problem 2\n",
    "# get a sample dna string\n",
    "dna = \"ATGCGATACGCTTGA\"\n",
    "# create a class called DNA_count that contains 1 methods: count_nucleotides\n",
    "# count_nucleotides takes a string as an argument and returns 4 integers containing the count of each nucleotide\n",
    "# the order of the integers should be: A, C, G, T\n",
    "# the method should be case insensitive\n",
    "\n",
    "class DNA_count:\n",
    "    def __init__(self, dna):\n",
    "        self.dna = dna\n",
    "        self.a = 0\n",
    "        self.c = 0\n",
    "        self.g = 0\n",
    "        self.t = 0\n",
    "    \n",
    "    def count_them(self):\n",
    "        for i in self.dna:\n",
    "            if i == \"A\":\n",
    "                self.a += 1\n",
    "            elif i == \"C\":\n",
    "                self.c += 1\n",
    "            elif i == \"G\":\n",
    "                self.g += 1\n",
    "            elif i == \"T\":\n",
    "                self.t += 1\n",
    "        return self.a, self.c, self.g, self.t"
   ]
  },
  {
   "cell_type": "code",
   "execution_count": 28,
   "metadata": {},
   "outputs": [
    {
     "name": "stdout",
     "output_type": "stream",
     "text": [
      "(4, 3, 4, 4)\n"
     ]
    }
   ],
   "source": [
    "# create a class instance\n",
    "dna_count = DNA_count(dna)\n",
    "a, c, g, t = dna_count.count_them()\n",
    "print('a = ', a)"
   ]
  },
  {
   "cell_type": "code",
   "execution_count": null,
   "metadata": {},
   "outputs": [],
   "source": []
  },
  {
   "cell_type": "code",
   "execution_count": null,
   "metadata": {},
   "outputs": [],
   "source": [
    "# Problem 3\n",
    "# Write a program that prints the numbers from 1 to 100.\n",
    "# But for multiples of 3, print 'Fizz'instead of the number.\n",
    "#  For multiples of 5, print 'Buzz'.\n",
    "# and for multiples of 3 and 5, print 'FizzBuzz'\n",
    "\n",
    "# must be in class and method format\n"
   ]
  },
  {
   "cell_type": "code",
   "execution_count": 4,
   "metadata": {},
   "outputs": [],
   "source": [
    "# define a class Fizzbuzz\n",
    "\n",
    "class Fizzbuzz:\n",
    "    def __init__(self, my_number):\n",
    "        self.num = my_number\n",
    "\n",
    "    def fizzbuzz(self):\n",
    "        for i in range(1, self.num + 1):\n",
    "            if i % 3 == 0 and i % 5 == 0: \n",
    "# had to move this one part of the if statement to the beginning because \n",
    "# some of the values that should be in here were taken by the other 2 \n",
    "# elif statements that now lie below\n",
    "                print('FizzBuzz')\n",
    "            elif i % 3 == 0:\n",
    "                print('Fizz')\n",
    "            elif i % 5 == 0:\n",
    "                print('Buzz')\n",
    "# If all else fails, print the number\n",
    "            else:\n",
    "                print(i)"
   ]
  },
  {
   "cell_type": "code",
   "execution_count": 5,
   "metadata": {},
   "outputs": [],
   "source": [
    "# create an instance of the class\n",
    "my_fizzbuzz = Fizzbuzz(100)\n"
   ]
  },
  {
   "cell_type": "code",
   "execution_count": 9,
   "metadata": {},
   "outputs": [
    {
     "name": "stdout",
     "output_type": "stream",
     "text": [
      "1\n",
      "2\n",
      "Fizz\n",
      "4\n",
      "Buzz\n",
      "Fizz\n",
      "7\n",
      "8\n",
      "Fizz\n",
      "Buzz\n",
      "11\n",
      "Fizz\n",
      "13\n",
      "14\n",
      "FizzBuzz\n",
      "16\n",
      "17\n",
      "Fizz\n",
      "19\n",
      "Buzz\n",
      "Fizz\n",
      "22\n",
      "23\n",
      "Fizz\n",
      "Buzz\n",
      "26\n",
      "Fizz\n",
      "28\n",
      "29\n",
      "FizzBuzz\n",
      "31\n",
      "32\n",
      "Fizz\n",
      "34\n",
      "Buzz\n",
      "Fizz\n",
      "37\n",
      "38\n",
      "Fizz\n",
      "Buzz\n",
      "41\n",
      "Fizz\n",
      "43\n",
      "44\n",
      "FizzBuzz\n",
      "46\n",
      "47\n",
      "Fizz\n",
      "49\n",
      "Buzz\n",
      "Fizz\n",
      "52\n",
      "53\n",
      "Fizz\n",
      "Buzz\n",
      "56\n",
      "Fizz\n",
      "58\n",
      "59\n",
      "FizzBuzz\n",
      "61\n",
      "62\n",
      "Fizz\n",
      "64\n",
      "Buzz\n",
      "Fizz\n",
      "67\n",
      "68\n",
      "Fizz\n",
      "Buzz\n",
      "71\n",
      "Fizz\n",
      "73\n",
      "74\n",
      "FizzBuzz\n",
      "76\n",
      "77\n",
      "Fizz\n",
      "79\n",
      "Buzz\n",
      "Fizz\n",
      "82\n",
      "83\n",
      "Fizz\n",
      "Buzz\n",
      "86\n",
      "Fizz\n",
      "88\n",
      "89\n",
      "FizzBuzz\n",
      "91\n",
      "92\n",
      "Fizz\n",
      "94\n",
      "Buzz\n",
      "Fizz\n",
      "97\n",
      "98\n",
      "Fizz\n",
      "Buzz\n"
     ]
    }
   ],
   "source": [
    "my_fizzbuzz.fizzbuzz()"
   ]
  },
  {
   "cell_type": "code",
   "execution_count": null,
   "metadata": {},
   "outputs": [],
   "source": []
  },
  {
   "cell_type": "code",
   "execution_count": null,
   "metadata": {},
   "outputs": [],
   "source": []
  },
  {
   "cell_type": "code",
   "execution_count": null,
   "metadata": {},
   "outputs": [],
   "source": []
  },
  {
   "cell_type": "code",
   "execution_count": null,
   "metadata": {},
   "outputs": [],
   "source": []
  },
  {
   "cell_type": "code",
   "execution_count": null,
   "metadata": {},
   "outputs": [],
   "source": []
  },
  {
   "cell_type": "code",
   "execution_count": null,
   "metadata": {},
   "outputs": [],
   "source": []
  },
  {
   "cell_type": "code",
   "execution_count": null,
   "metadata": {},
   "outputs": [],
   "source": [
    "\n"
   ]
  }
 ],
 "metadata": {
  "kernelspec": {
   "display_name": ".venv",
   "language": "python",
   "name": "python3"
  },
  "language_info": {
   "codemirror_mode": {
    "name": "ipython",
    "version": 3
   },
   "file_extension": ".py",
   "mimetype": "text/x-python",
   "name": "python",
   "nbconvert_exporter": "python",
   "pygments_lexer": "ipython3",
   "version": "3.10.11"
  },
  "orig_nbformat": 4
 },
 "nbformat": 4,
 "nbformat_minor": 2
}
