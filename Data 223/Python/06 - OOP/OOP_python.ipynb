{
 "cells": [
  {
   "cell_type": "code",
   "execution_count": null,
   "metadata": {},
   "outputs": [],
   "source": [
    "# OOP programming in python\n"
   ]
  },
  {
   "cell_type": "code",
   "execution_count": 1,
   "metadata": {},
   "outputs": [
    {
     "name": "stdout",
     "output_type": "stream",
     "text": [
      "<__main__.Car object at 0x00000211153D3A00>\n"
     ]
    }
   ],
   "source": [
    "# create a class\n",
    "class Car:\n",
    "    pass\n",
    "\n",
    "my_car = Car() # create an instance of the class # my_car is an object # my_car is an instance of the class Car\n",
    "print(my_car) # print the object\n",
    "\n"
   ]
  },
  {
   "cell_type": "code",
   "execution_count": 17,
   "metadata": {},
   "outputs": [],
   "source": [
    "class Dog:\n",
    "    def __init__(self, name, age): # __init__ is a special method that is called when the object is created # a constructor method # self is a reference to the current instance of the class\n",
    "        self.dog_name = name\n",
    "        self.age = age\n",
    "        print((\"I'm a Dog!\"))\n",
    "        "
   ]
  },
  {
   "cell_type": "code",
   "execution_count": 18,
   "metadata": {},
   "outputs": [
    {
     "name": "stdout",
     "output_type": "stream",
     "text": [
      "I'm a Dog!\n"
     ]
    }
   ],
   "source": [
    "my_dog = Dog(\"Angelo\", 3)\n"
   ]
  },
  {
   "cell_type": "code",
   "execution_count": 19,
   "metadata": {},
   "outputs": [
    {
     "name": "stdout",
     "output_type": "stream",
     "text": [
      "Angelo\n",
      "3\n"
     ]
    }
   ],
   "source": [
    "print(my_dog.dog_name)\n",
    "print(my_dog.age)\n"
   ]
  },
  {
   "cell_type": "code",
   "execution_count": null,
   "metadata": {},
   "outputs": [],
   "source": [
    "# class attributes\n"
   ]
  },
  {
   "cell_type": "code",
   "execution_count": 21,
   "metadata": {},
   "outputs": [
    {
     "name": "stdout",
     "output_type": "stream",
     "text": [
      "mammal\n"
     ]
    }
   ],
   "source": [
    "# create a class attribute\n",
    "\n",
    "\n",
    "class Dog:\n",
    "    aminal_type = 'mammal'\n",
    "    aminal_kind = \"canine\"\n",
    "    def __init__(self, name, age): # __init__ is a special method that is called when the object is created # a constructor method # self is a reference to the current instance of the class\n",
    "        self.dog_name = name\n",
    "        self.age = age\n",
    "\n",
    "my_dog = Dog(\"Angelo\", 3)\n",
    "print(my_dog.aminal_type)"
   ]
  },
  {
   "cell_type": "code",
   "execution_count": 38,
   "metadata": {},
   "outputs": [
    {
     "name": "stdout",
     "output_type": "stream",
     "text": [
      "woof woof, hi from Koda! I'm 8 years old!\n"
     ]
    }
   ],
   "source": [
    "# class methods # a function that is defined inside a class\n",
    "class Dog:\n",
    "    aminal_type = 'mammal'\n",
    "    aminal_kind = \"canine\"\n",
    "    def __init__(self, name, age): # __init__ is a special method that is called when the object is created # a constructor method # self is a reference to the current instance of the class\n",
    "        self.dog_name = name\n",
    "        self.age = age\n",
    " \n",
    "\n",
    "    def bark(self, greeting):\n",
    "        print(\"woof woof\" +\", \" + greeting + \" from \" + self.dog_name + \"!\" + \" \" + \"I'm \" + str(self.age) + \" years old!\")\n",
    "\n",
    "\n",
    "alis_dog = Dog(\"Koda\", 8)\n",
    "alis_dog.bark(\"hi\")\n"
   ]
  },
  {
   "cell_type": "code",
   "execution_count": null,
   "metadata": {},
   "outputs": [],
   "source": []
  },
  {
   "cell_type": "code",
   "execution_count": 31,
   "metadata": {},
   "outputs": [
    {
     "name": "stdout",
     "output_type": "stream",
     "text": [
      "woof woof\n"
     ]
    },
    {
     "data": {
      "text/plain": [
       "'Angelo'"
      ]
     },
     "execution_count": 31,
     "metadata": {},
     "output_type": "execute_result"
    }
   ],
   "source": [
    "claudias_dog = Dog(\"Angelo\", 5)\n",
    "claudias_dog.dog_name"
   ]
  },
  {
   "cell_type": "code",
   "execution_count": 28,
   "metadata": {},
   "outputs": [
    {
     "name": "stdout",
     "output_type": "stream",
     "text": [
      "woof woof\n"
     ]
    }
   ],
   "source": [
    "\n",
    "claudias_dog.bark()"
   ]
  },
  {
   "cell_type": "code",
   "execution_count": null,
   "metadata": {},
   "outputs": [],
   "source": []
  },
  {
   "cell_type": "code",
   "execution_count": 70,
   "metadata": {},
   "outputs": [],
   "source": [
    "class Circle:\n",
    "    #self.radius = radius\n",
    "    pi=3.14\n",
    "    def __init__(self, radius):\n",
    "\n",
    "        \n",
    "        self.radius = radius\n",
    "        \n",
    "       \n",
    "\n",
    "    def area(self):\n",
    "        my_area = self.get_area = self.pi * self.radius ** 2\n",
    "\n",
    "        return  my_area\n",
    "    \n",
    "    def circumference(self):\n",
    "        my_circumference = self.get_circumference = 2 * (Circle.pi * self.radius)\n",
    "\n",
    "        return my_circumference\n"
   ]
  },
  {
   "cell_type": "code",
   "execution_count": 72,
   "metadata": {},
   "outputs": [],
   "source": [
    "my_circle = Circle(10)"
   ]
  },
  {
   "cell_type": "code",
   "execution_count": 75,
   "metadata": {},
   "outputs": [
    {
     "name": "stdout",
     "output_type": "stream",
     "text": [
      "62.800000000000004\n",
      "314.0\n",
      "10\n"
     ]
    }
   ],
   "source": [
    "print(my_circle.circumference())\n",
    "print(my_circle.area())\n",
    "print(my_circle.radius)"
   ]
  },
  {
   "cell_type": "code",
   "execution_count": null,
   "metadata": {},
   "outputs": [],
   "source": []
  },
  {
   "cell_type": "code",
   "execution_count": null,
   "metadata": {},
   "outputs": [],
   "source": [
    "# inheritance"
   ]
  },
  {
   "cell_type": "code",
   "execution_count": 2,
   "metadata": {},
   "outputs": [],
   "source": [
    " # define animal class\n",
    "class Animal:\n",
    "    def __init__(self):\n",
    "        self.alive = True\n",
    "        print(\"Animal is Created\")\n",
    "\n",
    "    def who_am_i(self):\n",
    "        print(\"I'm an animal\")\n",
    "\n",
    "    def eat(self):\n",
    "        print(\"I'm eating\")\n",
    "\n"
   ]
  },
  {
   "cell_type": "code",
   "execution_count": 12,
   "metadata": {},
   "outputs": [],
   "source": [
    "# Define a dog class that inhgerits from the animal class\n",
    "\n",
    "class Dog(Animal):\n",
    "    def __init__(self):\n",
    "        Animal.__init__(self) # Call the constructor of the parent class\n",
    "    \n",
    "        print(\"Dog is Created\")\n",
    "    def who_am_i(self, name):\n",
    "        print('I am a Dog! and my name is' + name)\n",
    "    def bark(self):\n",
    "        print(\"Woof!\")"
   ]
  },
  {
   "cell_type": "code",
   "execution_count": 13,
   "metadata": {},
   "outputs": [
    {
     "name": "stdout",
     "output_type": "stream",
     "text": [
      "Animal is Created\n",
      "Dog is Created\n",
      "Animal is Created\n"
     ]
    }
   ],
   "source": [
    "my_dog = Dog()\n",
    "my_animal = Animal()"
   ]
  },
  {
   "cell_type": "code",
   "execution_count": 15,
   "metadata": {},
   "outputs": [
    {
     "name": "stdout",
     "output_type": "stream",
     "text": [
      "I am a Dog! and my name isKoda\n",
      "I'm an animal\n"
     ]
    }
   ],
   "source": [
    "my_dog.who_am_i(name='Koda')\n",
    "my_animal.who_am_i()"
   ]
  },
  {
   "cell_type": "code",
   "execution_count": null,
   "metadata": {},
   "outputs": [],
   "source": []
  },
  {
   "cell_type": "code",
   "execution_count": 31,
   "metadata": {},
   "outputs": [],
   "source": [
    "class Dog():\n",
    "    def __init__(self, name):\n",
    "        self.name = name\n",
    "    \n",
    "        print(\"Dog is Created\")\n",
    "    def speak(self):\n",
    "       return self.name + \" Says Woof!\"\n",
    "        \n",
    "    def bark(self):\n",
    "        print(\"Woof!\")"
   ]
  },
  {
   "cell_type": "code",
   "execution_count": 32,
   "metadata": {},
   "outputs": [],
   "source": [
    "class Cat():\n",
    "    def __init__(self, name):\n",
    "        self.name = name\n",
    "    \n",
    "        \n",
    "    def speak(self):\n",
    "       return self.name + \" Says Meow!\"\n",
    "\n",
    "    def bark(self):\n",
    "        print(\"Woof!\")"
   ]
  },
  {
   "cell_type": "code",
   "execution_count": 33,
   "metadata": {},
   "outputs": [
    {
     "name": "stdout",
     "output_type": "stream",
     "text": [
      "Dog is Created\n"
     ]
    }
   ],
   "source": [
    "my_dog = Dog('Koda')\n",
    "my_cat = Cat('Vlad')\n",
    "\n",
    "\n"
   ]
  },
  {
   "cell_type": "code",
   "execution_count": 36,
   "metadata": {},
   "outputs": [
    {
     "name": "stdout",
     "output_type": "stream",
     "text": [
      "Koda Says Woof!\n",
      "Vlad Says Meow!\n"
     ]
    }
   ],
   "source": [
    "print(my_dog.speak())\n",
    "print(my_cat.speak())"
   ]
  },
  {
   "cell_type": "code",
   "execution_count": 38,
   "metadata": {},
   "outputs": [
    {
     "name": "stdout",
     "output_type": "stream",
     "text": [
      "<class '__main__.Dog'>\n",
      "Koda Says Woof!\n",
      "<class '__main__.Cat'>\n",
      "Vlad Says Meow!\n"
     ]
    }
   ],
   "source": [
    "for pet in [my_dog, my_cat]:\n",
    "    print(type(pet))\n",
    "    print(pet.speak())"
   ]
  },
  {
   "cell_type": "code",
   "execution_count": null,
   "metadata": {},
   "outputs": [],
   "source": []
  },
  {
   "cell_type": "code",
   "execution_count": null,
   "metadata": {},
   "outputs": [],
   "source": []
  },
  {
   "cell_type": "code",
   "execution_count": null,
   "metadata": {},
   "outputs": [],
   "source": []
  }
 ],
 "metadata": {
  "kernelspec": {
   "display_name": ".venv",
   "language": "python",
   "name": "python3"
  },
  "language_info": {
   "codemirror_mode": {
    "name": "ipython",
    "version": 3
   },
   "file_extension": ".py",
   "mimetype": "text/x-python",
   "name": "python",
   "nbconvert_exporter": "python",
   "pygments_lexer": "ipython3",
   "version": "3.10.11"
  },
  "orig_nbformat": 4
 },
 "nbformat": 4,
 "nbformat_minor": 2
}
