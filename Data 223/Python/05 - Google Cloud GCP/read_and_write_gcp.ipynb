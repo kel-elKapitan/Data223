{
 "cells": [
  {
   "attachments": {},
   "cell_type": "markdown",
   "metadata": {},
   "source": [
    "# GCP\n",
    "## Reading and writing to and from a vm in Google Cloud Platform\n",
    "\n",
    "### I have 2 files stored in a GCP bucket"
   ]
  },
  {
   "cell_type": "code",
   "execution_count": null,
   "metadata": {},
   "outputs": [],
   "source": [
    "\n",
    "# rookie version"
   ]
  },
  {
   "cell_type": "code",
   "execution_count": 4,
   "metadata": {},
   "outputs": [],
   "source": [
    "# import modules\n",
    "\n",
    "from google.cloud import storage\n",
    "import os\n"
   ]
  },
  {
   "cell_type": "code",
   "execution_count": 9,
   "metadata": {},
   "outputs": [
    {
     "name": "stdout",
     "output_type": "stream",
     "text": [
      "<Bucket: kels_sparta>\n",
      "<Blob: kels_sparta, 3dragons.jpg, 1683285341566996>\n",
      "<Blob: kels_sparta, image_desc.txt, 1683285418488590>\n"
     ]
    }
   ],
   "source": [
    "\n",
    "# Create a bucket on AWS or have one available\n",
    "# create a key file on GCP and download it to your local machine\n",
    "\n",
    "\n",
    "# create credentials object using th key file\n",
    "os.environ[\"GOOGLE_APPLICATION_CREDENTIALS\"] = \"sparta-kel-f6854b3d717d.json\"\n",
    "\n",
    "\n",
    "# name of the bucket in GCP\n",
    "bucket_name = \"kels_sparta\"\n",
    "\n",
    "\n",
    "# create a client object to access the storage\n",
    "storage_client = storage.Client()\n",
    "\n",
    "\n",
    "# List all buckets\n",
    "for bucket in storage_client.list_buckets():\n",
    "    print(bucket)\n",
    "\n",
    "\n",
    "# list all blobs/files in the bucket\n",
    "blobs = storage_client.list_blobs(bucket_name)\n",
    "for blob in blobs:\n",
    "    print(blob)\n"
   ]
  },
  {
   "cell_type": "code",
   "execution_count": null,
   "metadata": {},
   "outputs": [],
   "source": []
  },
  {
   "cell_type": "code",
   "execution_count": null,
   "metadata": {},
   "outputs": [],
   "source": [
    "#creds = Credentials.from_service_account_file('sparta-kel-f6854b3d717d.json')"
   ]
  },
  {
   "cell_type": "code",
   "execution_count": null,
   "metadata": {},
   "outputs": [],
   "source": []
  },
  {
   "cell_type": "code",
   "execution_count": null,
   "metadata": {},
   "outputs": [],
   "source": []
  },
  {
   "cell_type": "code",
   "execution_count": null,
   "metadata": {},
   "outputs": [],
   "source": [
    "# professional version"
   ]
  },
  {
   "cell_type": "code",
   "execution_count": null,
   "metadata": {},
   "outputs": [],
   "source": []
  },
  {
   "cell_type": "code",
   "execution_count": null,
   "metadata": {},
   "outputs": [],
   "source": []
  }
 ],
 "metadata": {
  "kernelspec": {
   "display_name": "Python 3",
   "language": "python",
   "name": "python3"
  },
  "language_info": {
   "codemirror_mode": {
    "name": "ipython",
    "version": 3
   },
   "file_extension": ".py",
   "mimetype": "text/x-python",
   "name": "python",
   "nbconvert_exporter": "python",
   "pygments_lexer": "ipython3",
   "version": "3.10.11"
  },
  "orig_nbformat": 4
 },
 "nbformat": 4,
 "nbformat_minor": 2
}
