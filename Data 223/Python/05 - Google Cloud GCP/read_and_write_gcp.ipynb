{
 "cells": [
  {
   "attachments": {},
   "cell_type": "markdown",
   "metadata": {},
   "source": [
    "# GCP\n",
    "## Reading and writing to and from a vm in Google Cloud Platform\n",
    "\n",
    "### I have 2 files stored in a GCP bucket"
   ]
  },
  {
   "cell_type": "code",
   "execution_count": 1,
   "metadata": {},
   "outputs": [],
   "source": [
    "\n",
    "# rookie version"
   ]
  },
  {
   "cell_type": "code",
   "execution_count": 2,
   "metadata": {},
   "outputs": [],
   "source": [
    "# import modules\n",
    "\n",
    "from google.cloud import storage\n",
    "import os\n"
   ]
  },
  {
   "cell_type": "code",
   "execution_count": null,
   "metadata": {},
   "outputs": [],
   "source": []
  },
  {
   "cell_type": "code",
   "execution_count": 3,
   "metadata": {},
   "outputs": [
    {
     "name": "stdout",
     "output_type": "stream",
     "text": [
      "kels_sparta\n",
      "3dragons.jpg\n",
      "500_dragons.jpg\n",
      "image_desc.txt\n"
     ]
    }
   ],
   "source": [
    "\n",
    "# Create a bucket on AWS or have one available\n",
    "# create a key file on GCP and download it to your local machine\n",
    "\n",
    "\n",
    "# create credentials object using th key file\n",
    "os.environ[\"GOOGLE_APPLICATION_CREDENTIALS\"] = \"sparta-kel-f6854b3d717d.json\"\n",
    "# name of the bucket in GCP\n",
    "bucket_name = \"kels_sparta\"\n",
    "# create a client object to access the storage\n",
    "storage_client = storage.Client()\n",
    "\n",
    "\n",
    "# List all buckets\n",
    "for bucket in storage_client.list_buckets():\n",
    "    print(bucket.name)\n",
    "    \n",
    "\n",
    "\n",
    "# list all blobs/files in the bucket\n",
    "blobs = storage_client.list_blobs(bucket_name)\n",
    "for blob in blobs:\n",
    "    print(blob.name)\n"
   ]
  },
  {
   "cell_type": "code",
   "execution_count": null,
   "metadata": {},
   "outputs": [],
   "source": []
  },
  {
   "cell_type": "code",
   "execution_count": 4,
   "metadata": {},
   "outputs": [
    {
     "name": "stdout",
     "output_type": "stream",
     "text": [
      "found the item you are looking for...\n",
      "downloading...\n",
      "Completed\n"
     ]
    }
   ],
   "source": [
    "# Download a blob from the bucket\n",
    "def download_1_blob(bucket_name, source_blob_name, destination_file_name):\n",
    "    #my_blob = bucket_name(source_blob_name)\n",
    "    #my_blob.download_to_filename(destination_file_name)\n",
    "\n",
    "    blobs = storage_client.list_blobs(bucket_name)\n",
    "    for blob in blobs:\n",
    "        \n",
    "        if blob.name == source_blob_name:\n",
    "            print(\"found the item you are looking for...\")\n",
    "            print(\"downloading...\")\n",
    "            \n",
    "            blob.download_to_filename(destination_file_name)\n",
    "            print(\"Completed\")\n",
    "    return \n",
    "\n",
    "download_1_blob(bucket_name, \"image_desc.txt\", \"testing.txt\")"
   ]
  },
  {
   "cell_type": "code",
   "execution_count": 5,
   "metadata": {},
   "outputs": [
    {
     "name": "stdout",
     "output_type": "stream",
     "text": [
      "<Bucket: kels_sparta>\n",
      "<google.api_core.page_iterator.HTTPIterator object at 0x000001A48A363790>\n",
      "3dragons.jpg\n",
      "500_dragons.jpg\n",
      "image_desc.txt\n"
     ]
    }
   ],
   "source": [
    "# Function to download ALL blob in all buckets on an account NOT RECOMMENDED\n",
    "\n",
    "# List all buckets\n",
    "for bucket in storage_client.list_buckets():\n",
    "    print(bucket)\n",
    "    # Now list each item in all blobs/files in all buckets\n",
    "    blobs = storage_client.list_blobs(bucket)\n",
    "    \n",
    "    print(blobs)\n",
    "    for blob in blobs:\n",
    "        \n",
    "        print(blob.name)\n",
    "        # Now download each blob/file\n",
    "        blob.download_to_filename(blob.name)\n",
    "\n",
    "\n"
   ]
  },
  {
   "cell_type": "code",
   "execution_count": null,
   "metadata": {},
   "outputs": [],
   "source": []
  },
  {
   "cell_type": "code",
   "execution_count": 6,
   "metadata": {},
   "outputs": [
    {
     "name": "stdout",
     "output_type": "stream",
     "text": [
      "b'This is a test a real test of if I can send this text into a text file on GCP'\n"
     ]
    }
   ],
   "source": [
    "# PREFERED METHOD in data pipelineUse this method\n",
    "\n",
    "# download blob content\n",
    "def download_blob_as_string(bucket_name, source_blob_name):\n",
    "        bucket = storage_client.bucket(bucket_name)\n",
    "        blob = bucket.blob(source_blob_name)\n",
    "        \n",
    "        blob_content = blob.download_as_string()\n",
    "\n",
    "        return blob_content\n",
    "my_print = download_blob_as_string(bucket_name, \"image_desc.txt\")\n",
    "\n",
    "\n",
    "print(my_print)\n",
    "\n"
   ]
  },
  {
   "cell_type": "code",
   "execution_count": 7,
   "metadata": {},
   "outputs": [],
   "source": [
    "# upload a blob to the bucket\n",
    "def upload_blob(bucket_name, source_file_name, destination_blob_name):\n",
    "    bucket = storage_client.bucket(bucket_name)\n",
    "    blob = bucket.blob(destination_blob_name)\n",
    "    \n",
    "    blob.upload_from_filename(source_file_name)\n",
    "\n",
    "    return\n",
    "upload_blob(bucket_name, \"3_dragons.jpg\", \"500_dragons.jpg\")"
   ]
  },
  {
   "cell_type": "code",
   "execution_count": 8,
   "metadata": {},
   "outputs": [],
   "source": [
    "# upload content to a bucket blob\n",
    "def upload_blob_from_string(bucket_name, destination_blob_name, content):\n",
    "    bucket = storage_client.bucket(bucket_name)\n",
    "    blob = bucket.blob(destination_blob_name)\n",
    "    \n",
    "    blob.upload_from_string(content)\n",
    "\n",
    "    return\n",
    "\n",
    "upload_blob_from_string(bucket_name, \"image_desc.txt\", \"This is a test a real test of if I can send this text into a text file on GCP\")"
   ]
  },
  {
   "cell_type": "code",
   "execution_count": null,
   "metadata": {},
   "outputs": [],
   "source": []
  },
  {
   "cell_type": "code",
   "execution_count": null,
   "metadata": {},
   "outputs": [],
   "source": []
  },
  {
   "cell_type": "code",
   "execution_count": 9,
   "metadata": {},
   "outputs": [],
   "source": [
    "# professional version"
   ]
  },
  {
   "cell_type": "code",
   "execution_count": 10,
   "metadata": {},
   "outputs": [],
   "source": [
    "from google.cloud import storage\n",
    "from dotenv import load_dotenv\n",
    "import os\n",
    "load_dotenv()\n",
    "\n",
    "os.environ[\"GOOGLE_APPLICATIOM_CREDENTIALS\"] = os.getenv(\"GOOGLE_APPLICATIOM_CREDENTIALS\")\n",
    "client = storage.Client()\n"
   ]
  },
  {
   "cell_type": "code",
   "execution_count": null,
   "metadata": {},
   "outputs": [],
   "source": []
  }
 ],
 "metadata": {
  "kernelspec": {
   "display_name": "Python 3",
   "language": "python",
   "name": "python3"
  },
  "language_info": {
   "codemirror_mode": {
    "name": "ipython",
    "version": 3
   },
   "file_extension": ".py",
   "mimetype": "text/x-python",
   "name": "python",
   "nbconvert_exporter": "python",
   "pygments_lexer": "ipython3",
   "version": "3.10.11"
  },
  "orig_nbformat": 4
 },
 "nbformat": 4,
 "nbformat_minor": 2
}
